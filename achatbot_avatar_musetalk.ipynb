{
  "nbformat": 4,
  "nbformat_minor": 0,
  "metadata": {
    "colab": {
      "provenance": [],
      "machine_shape": "hm",
      "gpuType": "T4",
      "authorship_tag": "ABX9TyOmZdEqTJCwd623q/6TPkfh",
      "include_colab_link": true
    },
    "kernelspec": {
      "name": "python3",
      "display_name": "Python 3"
    },
    "language_info": {
      "name": "python"
    },
    "accelerator": "GPU"
  },
  "cells": [
    {
      "cell_type": "markdown",
      "metadata": {
        "id": "view-in-github",
        "colab_type": "text"
      },
      "source": [
        "<a href=\"https://colab.research.google.com/github/weedge/doraemon-nb/blob/main/achatbot_avatar_musetalk.ipynb\" target=\"_parent\"><img src=\"https://colab.research.google.com/assets/colab-badge.svg\" alt=\"Open In Colab\"/></a>"
      ]
    },
    {
      "cell_type": "markdown",
      "source": [
        "# install"
      ],
      "metadata": {
        "id": "8rFzOpMwPNSu"
      }
    },
    {
      "cell_type": "code",
      "execution_count": null,
      "metadata": {
        "id": "iBGEeSap28_v"
      },
      "outputs": [],
      "source": [
        "!cd /content && rm -rf achatbot && git clone --recursive https://github.com/ai-bot-pro/achatbot.git"
      ]
    },
    {
      "cell_type": "code",
      "source": [
        "%cd /content/achatbot"
      ],
      "metadata": {
        "id": "zZTN5bWg5wZP",
        "colab": {
          "base_uri": "https://localhost:8080/"
        },
        "outputId": "c4365142-014b-4ba0-fea4-59deb958e586"
      },
      "execution_count": 2,
      "outputs": [
        {
          "output_type": "stream",
          "name": "stdout",
          "text": [
            "/content/achatbot\n"
          ]
        }
      ]
    },
    {
      "cell_type": "code",
      "source": [
        "!bash scripts/pypi_achatbot.sh dev"
      ],
      "metadata": {
        "id": "OqPrkrdWMqoY"
      },
      "execution_count": null,
      "outputs": []
    },
    {
      "cell_type": "code",
      "source": [
        "!pip install -q \"dist/achatbot-0.0.18.post0-py3-none-any.whl[musetalk_avatar,daily]\""
      ],
      "metadata": {
        "id": "T5LIpJsgL2DZ"
      },
      "execution_count": 4,
      "outputs": []
    },
    {
      "cell_type": "code",
      "source": [
        "!cd /content && git clone https://github.com/open-mmlab/mmcv.git\n"
      ],
      "metadata": {
        "id": "m6JwL3FbNG6J",
        "colab": {
          "base_uri": "https://localhost:8080/"
        },
        "outputId": "3a64d53d-f96b-4258-f2f0-049c7742e64b"
      },
      "execution_count": 5,
      "outputs": [
        {
          "output_type": "stream",
          "name": "stdout",
          "text": [
            "fatal: destination path 'mmcv' already exists and is not an empty directory.\n"
          ]
        }
      ]
    },
    {
      "cell_type": "code",
      "source": [
        "!cd /content/mmcv && git checkout v2.1.0"
      ],
      "metadata": {
        "id": "lh2JvJP6R-Sg",
        "colab": {
          "base_uri": "https://localhost:8080/"
        },
        "outputId": "d31ccf6e-06b1-4945-d497-9fd5c03d8f88"
      },
      "execution_count": 6,
      "outputs": [
        {
          "output_type": "stream",
          "name": "stdout",
          "text": [
            "HEAD is now at 57c4e25e Bump version to 2.1.0 (#2959)\n"
          ]
        }
      ]
    },
    {
      "cell_type": "code",
      "source": [
        "!cd /content/mmcv && pip install -r requirements/optional.txt\n"
      ],
      "metadata": {
        "id": "NoV7akjFNMpE"
      },
      "execution_count": null,
      "outputs": []
    },
    {
      "cell_type": "code",
      "source": [
        "!cd /content/mmcv && pip install -e . -v"
      ],
      "metadata": {
        "id": "BAnl5u6oNb6z"
      },
      "execution_count": null,
      "outputs": []
    },
    {
      "cell_type": "code",
      "source": [
        "!pip install -q --no-cache-dir -U openmim\n",
        "!mim install mmengine\n",
        "!mim install \"mmdet==3.3.0\"\n",
        "!mim install \"mmpose==1.3.2\"\n"
      ],
      "metadata": {
        "id": "Ou5Dam3L6pvs"
      },
      "execution_count": null,
      "outputs": []
    },
    {
      "cell_type": "code",
      "source": [
        "!pip install torch==2.4.1 torchvision==0.19.1 torchaudio==2.4.1 numpy==1.23.5"
      ],
      "metadata": {
        "id": "NmhML0gQJBiu"
      },
      "execution_count": null,
      "outputs": []
    },
    {
      "cell_type": "code",
      "source": [
        "!pip list | grep -E \"accelerate|peft|torch|mmcv|mmdet|mmpose|numpy\""
      ],
      "metadata": {
        "id": "1swUIJE79tmG",
        "colab": {
          "base_uri": "https://localhost:8080/"
        },
        "outputId": "4bbcd763-4429-4ac1-a511-1e111f7723c3"
      },
      "execution_count": 11,
      "outputs": [
        {
          "output_type": "stream",
          "name": "stdout",
          "text": [
            "accelerate                            0.32.0\n",
            "mmcv                                  2.1.0               /content/mmcv\n",
            "mmdet                                 3.3.0\n",
            "mmpose                                1.3.2\n",
            "numpy                                 1.23.5\n",
            "peft                                  0.15.2\n",
            "torch                                 2.4.1\n",
            "torchao                               0.10.0\n",
            "torchaudio                            2.4.1\n",
            "torchdata                             0.11.0\n",
            "torchsummary                          1.5.1\n",
            "torchtune                             0.6.1\n",
            "torchvision                           0.19.1\n"
          ]
        }
      ]
    },
    {
      "cell_type": "markdown",
      "source": [
        "# download model weights"
      ],
      "metadata": {
        "id": "JI-rLyFKPfuS"
      }
    },
    {
      "cell_type": "code",
      "source": [
        "%cd /content/achatbot"
      ],
      "metadata": {
        "id": "zhvesghvRMl2"
      },
      "execution_count": null,
      "outputs": []
    },
    {
      "cell_type": "code",
      "source": [
        "!wget \"https://raw.githubusercontent.com/TMElyralab/MuseTalk/refs/heads/main/download_weights.sh\" -O download_weights.sh"
      ],
      "metadata": {
        "id": "9Pxr4jCRPiA7"
      },
      "execution_count": null,
      "outputs": []
    },
    {
      "cell_type": "code",
      "source": [
        "!bash download_weights.sh"
      ],
      "metadata": {
        "id": "XBIbM_J7ROoX"
      },
      "execution_count": null,
      "outputs": []
    },
    {
      "cell_type": "code",
      "source": [
        "from google.colab import userdata\n",
        "HF_TOKEN=userdata.get('HF_TOKEN')"
      ],
      "metadata": {
        "id": "q0A1yB9biN_c"
      },
      "execution_count": null,
      "outputs": []
    },
    {
      "cell_type": "code",
      "source": [
        "!HF_TOKEN=$HF_TOKEN huggingface-cli upload --repo-type model weege007/musetalk download_weights.sh"
      ],
      "metadata": {
        "id": "DjUJNR0uh5cK"
      },
      "execution_count": null,
      "outputs": []
    },
    {
      "cell_type": "code",
      "source": [
        "!huggingface-cli download weege007/musetalk --quiet --local-dir /content/models/weege007/musetalk"
      ],
      "metadata": {
        "id": "yF6fmoLVrhqR",
        "colab": {
          "base_uri": "https://localhost:8080/"
        },
        "outputId": "8e0c5435-016e-42e6-df22-afe4dce07197"
      },
      "execution_count": 12,
      "outputs": [
        {
          "output_type": "stream",
          "name": "stdout",
          "text": [
            "/content/models/weege007/musetalk\n"
          ]
        }
      ]
    },
    {
      "cell_type": "markdown",
      "source": [
        "# test"
      ],
      "metadata": {
        "id": "71Lecx0zRo-A"
      }
    },
    {
      "cell_type": "code",
      "source": [
        "%cd /content/achatbot"
      ],
      "metadata": {
        "id": "KFwVamhMRolE",
        "colab": {
          "base_uri": "https://localhost:8080/"
        },
        "outputId": "6c7d0e8a-9440-4041-f3e8-143d44ac0039"
      },
      "execution_count": 13,
      "outputs": [
        {
          "output_type": "stream",
          "name": "stdout",
          "text": [
            "/content/achatbot\n"
          ]
        }
      ]
    },
    {
      "cell_type": "code",
      "source": [
        "!python -m src.modules.avatar.musetalk --version v1 --model_dir /content/models/weege007/musetalk"
      ],
      "metadata": {
        "id": "wdAJSJKPgoVt"
      },
      "execution_count": null,
      "outputs": []
    },
    {
      "cell_type": "code",
      "source": [
        "!python -m src.modules.avatar.musetalk --model_dir /content/models/weege007/musetalk --batch_size 5"
      ],
      "metadata": {
        "id": "cT3nzS9GRriP"
      },
      "execution_count": null,
      "outputs": []
    },
    {
      "cell_type": "code",
      "source": [
        "!python -m src.modules.avatar.musetalk --model_dir /content/models/weege007/musetalk --batch_size 20"
      ],
      "metadata": {
        "id": "mGWbzNVeGSjr"
      },
      "execution_count": null,
      "outputs": []
    },
    {
      "cell_type": "markdown",
      "source": [
        "## test processor"
      ],
      "metadata": {
        "id": "Zu9AC7Qw6T4r"
      }
    },
    {
      "cell_type": "code",
      "source": [
        "%cd /content/achatbot"
      ],
      "metadata": {
        "id": "TFdEUkSs7UD8",
        "colab": {
          "base_uri": "https://localhost:8080/"
        },
        "outputId": "d2e3ad4c-18d0-453f-ef29-34560d93ea4d"
      },
      "execution_count": 16,
      "outputs": [
        {
          "output_type": "stream",
          "name": "stdout",
          "text": [
            "/content/achatbot\n"
          ]
        }
      ]
    },
    {
      "cell_type": "code",
      "source": [
        "# T4 FPS=15 BATCH_SIZE=40 GEN_BATCH_SIZE=5\n",
        "!DAILY_ROOM_URL=https://weedge.daily.co/jk5g4mFlZkPHvOyaEZe5 DEBUG=true \\\n",
        "    WEIGHT_DIR=/content/models/weege007/musetalk \\\n",
        "    RESULT_DIR=/content/result \\\n",
        "    MATERIAL_VIDEO_PATH=/content/achatbot/deps/MuseTalk/data/video/yongen.mp4 \\\n",
        "    FORCE_PREPARATION=false \\\n",
        "    FPS=15 BATCH_SIZE=40 GEN_BATCH_SIZE=5 \\\n",
        "    SLEEP_TO_END_TIME_S=30 \\\n",
        "    python -m unittest test.integration.processors.test_musetalk_avatar_processor.TestMusetalkProcessor.test_gen"
      ],
      "metadata": {
        "id": "p9sCsvLl6TEt"
      },
      "execution_count": null,
      "outputs": []
    },
    {
      "cell_type": "code",
      "source": [
        "# L4 FPS=25 BATCH_SIZE=50 GEN_BATCH_SIZE=10\n",
        "!DAILY_ROOM_URL=https://weedge.daily.co/jk5g4mFlZkPHvOyaEZe5 DEBUG=true \\\n",
        "    WEIGHT_DIR=/content/models/weege007/musetalk \\\n",
        "    RESULT_DIR=/content/result \\\n",
        "    MATERIAL_VIDEO_PATH=/content/achatbot/deps/MuseTalk/data/video/yongen.mp4 \\\n",
        "    FORCE_PREPARATION=false \\\n",
        "    FPS=25 BATCH_SIZE=50 GEN_BATCH_SIZE=10 \\\n",
        "    SLEEP_TO_END_TIME_S=30 \\\n",
        "    python -m unittest test.integration.processors.test_musetalk_avatar_processor.TestMusetalkProcessor.test_gen"
      ],
      "metadata": {
        "id": "gL8D7eLxMhl2"
      },
      "execution_count": null,
      "outputs": []
    }
  ]
}