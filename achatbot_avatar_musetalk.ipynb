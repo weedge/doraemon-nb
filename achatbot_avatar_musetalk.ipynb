{
  "nbformat": 4,
  "nbformat_minor": 0,
  "metadata": {
    "colab": {
      "provenance": [],
      "machine_shape": "hm",
      "gpuType": "T4",
      "authorship_tag": "ABX9TyMK3Bs/7W6AFGjzP6k9lekS",
      "include_colab_link": true
    },
    "kernelspec": {
      "name": "python3",
      "display_name": "Python 3"
    },
    "language_info": {
      "name": "python"
    },
    "accelerator": "GPU"
  },
  "cells": [
    {
      "cell_type": "markdown",
      "metadata": {
        "id": "view-in-github",
        "colab_type": "text"
      },
      "source": [
        "<a href=\"https://colab.research.google.com/github/weedge/doraemon-nb/blob/main/achatbot_avatar_musetalk.ipynb\" target=\"_parent\"><img src=\"https://colab.research.google.com/assets/colab-badge.svg\" alt=\"Open In Colab\"/></a>"
      ]
    },
    {
      "cell_type": "markdown",
      "source": [
        "# install"
      ],
      "metadata": {
        "id": "8rFzOpMwPNSu"
      }
    },
    {
      "cell_type": "code",
      "execution_count": null,
      "metadata": {
        "id": "iBGEeSap28_v"
      },
      "outputs": [],
      "source": [
        "!cd /content && rm -rf achatbot && git clone --recursive https://github.com/ai-bot-pro/achatbot.git -b feat/avatar"
      ]
    },
    {
      "cell_type": "code",
      "source": [
        "%cd /content/achatbot"
      ],
      "metadata": {
        "id": "zZTN5bWg5wZP"
      },
      "execution_count": null,
      "outputs": []
    },
    {
      "cell_type": "code",
      "source": [
        "!bash scripts/pypi_achatbot.sh dev"
      ],
      "metadata": {
        "id": "OqPrkrdWMqoY"
      },
      "execution_count": null,
      "outputs": []
    },
    {
      "cell_type": "code",
      "source": [
        "!pip install -q \"dist/achatbot-0.0.18-py3-none-any.whl[musetalk_avatar,daily]\""
      ],
      "metadata": {
        "id": "T5LIpJsgL2DZ"
      },
      "execution_count": null,
      "outputs": []
    },
    {
      "cell_type": "code",
      "source": [
        "!cd /content && git clone https://github.com/open-mmlab/mmcv.git\n"
      ],
      "metadata": {
        "id": "m6JwL3FbNG6J"
      },
      "execution_count": null,
      "outputs": []
    },
    {
      "cell_type": "code",
      "source": [
        "!cd /content/mmcv && git checkout v2.1.0"
      ],
      "metadata": {
        "id": "lh2JvJP6R-Sg"
      },
      "execution_count": null,
      "outputs": []
    },
    {
      "cell_type": "code",
      "source": [
        "!cd /content/mmcv && pip install -r requirements/optional.txt\n"
      ],
      "metadata": {
        "id": "NoV7akjFNMpE"
      },
      "execution_count": null,
      "outputs": []
    },
    {
      "cell_type": "code",
      "source": [
        "!cd /content/mmcv && pip install -e . -v"
      ],
      "metadata": {
        "id": "BAnl5u6oNb6z"
      },
      "execution_count": null,
      "outputs": []
    },
    {
      "cell_type": "code",
      "source": [
        "!pip install -q --no-cache-dir -U openmim\n",
        "!mim install mmengine\n",
        "!mim install \"mmdet==3.3.0\"\n",
        "!mim install \"mmpose==1.3.2\"\n"
      ],
      "metadata": {
        "id": "Ou5Dam3L6pvs"
      },
      "execution_count": null,
      "outputs": []
    },
    {
      "cell_type": "code",
      "source": [
        "!pip install torch==2.4.1 torchvision==0.19.1 torchaudio==2.4.1 numpy==1.23.5"
      ],
      "metadata": {
        "id": "NmhML0gQJBiu"
      },
      "execution_count": null,
      "outputs": []
    },
    {
      "cell_type": "code",
      "source": [
        "!pip list | grep -E \"accelerate|peft|torch|mmcv|mmdet|mmpose|numpy\""
      ],
      "metadata": {
        "id": "1swUIJE79tmG"
      },
      "execution_count": null,
      "outputs": []
    },
    {
      "cell_type": "markdown",
      "source": [
        "# download model weights"
      ],
      "metadata": {
        "id": "JI-rLyFKPfuS"
      }
    },
    {
      "cell_type": "code",
      "source": [
        "%cd /content/achatbot"
      ],
      "metadata": {
        "id": "zhvesghvRMl2"
      },
      "execution_count": null,
      "outputs": []
    },
    {
      "cell_type": "code",
      "source": [
        "!wget \"https://raw.githubusercontent.com/TMElyralab/MuseTalk/refs/heads/main/download_weights.sh\" -O download_weights.sh"
      ],
      "metadata": {
        "id": "9Pxr4jCRPiA7"
      },
      "execution_count": null,
      "outputs": []
    },
    {
      "cell_type": "code",
      "source": [
        "!bash download_weights.sh"
      ],
      "metadata": {
        "id": "XBIbM_J7ROoX"
      },
      "execution_count": null,
      "outputs": []
    },
    {
      "cell_type": "code",
      "source": [
        "from google.colab import userdata\n",
        "HF_TOKEN=userdata.get('HF_TOKEN')"
      ],
      "metadata": {
        "id": "q0A1yB9biN_c"
      },
      "execution_count": null,
      "outputs": []
    },
    {
      "cell_type": "code",
      "source": [
        "!HF_TOKEN=$HF_TOKEN huggingface-cli upload --repo-type model weege007/musetalk download_weights.sh"
      ],
      "metadata": {
        "id": "DjUJNR0uh5cK"
      },
      "execution_count": null,
      "outputs": []
    },
    {
      "cell_type": "code",
      "source": [
        "!huggingface-cli download weege007/musetalk --quiet --local-dir /content/models/weege007/musetalk"
      ],
      "metadata": {
        "id": "yF6fmoLVrhqR"
      },
      "execution_count": null,
      "outputs": []
    },
    {
      "cell_type": "markdown",
      "source": [
        "# test"
      ],
      "metadata": {
        "id": "71Lecx0zRo-A"
      }
    },
    {
      "cell_type": "code",
      "source": [
        "%cd /content/achatbot"
      ],
      "metadata": {
        "id": "KFwVamhMRolE"
      },
      "execution_count": null,
      "outputs": []
    },
    {
      "cell_type": "code",
      "source": [
        "!python -m src.modules.avatar.musetalk --version v1 --model_dir /content/models/weege007/musetalk"
      ],
      "metadata": {
        "id": "wdAJSJKPgoVt"
      },
      "execution_count": null,
      "outputs": []
    },
    {
      "cell_type": "code",
      "source": [
        "!python -m src.modules.avatar.musetalk --model_dir /content/models/weege007/musetalk --batch_size 5"
      ],
      "metadata": {
        "id": "cT3nzS9GRriP"
      },
      "execution_count": null,
      "outputs": []
    },
    {
      "cell_type": "markdown",
      "source": [
        "## test processor"
      ],
      "metadata": {
        "id": "Zu9AC7Qw6T4r"
      }
    },
    {
      "cell_type": "code",
      "source": [
        "%cd /content/achatbot"
      ],
      "metadata": {
        "id": "TFdEUkSs7UD8"
      },
      "execution_count": null,
      "outputs": []
    },
    {
      "cell_type": "code",
      "source": [
        "!DAILY_ROOM_URL=https://weedge.daily.co/jk5g4mFlZkPHvOyaEZe5 DEBUG=true \\\n",
        "    WEIGHT_DIR=/content/models/weege007/musetalk \\\n",
        "    RESULT_DIR=/content/result \\\n",
        "    MATERIAL_VIDEO_PATH=/content/achatbot/deps/MuseTalk/data/video/yongen.mp4 \\\n",
        "    FORCE_PREPARATION=false \\\n",
        "    SLEEP_TO_END_TIME_S=30 \\\n",
        "    python -m unittest test.integration.processors.test_musetalk_avatar_processor.TestMusetalkProcessor.test_gen"
      ],
      "metadata": {
        "id": "p9sCsvLl6TEt"
      },
      "execution_count": null,
      "outputs": []
    }
  ]
}