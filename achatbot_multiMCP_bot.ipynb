{
  "nbformat": 4,
  "nbformat_minor": 0,
  "metadata": {
    "colab": {
      "provenance": [],
      "authorship_tag": "ABX9TyN/B0Tf31oPp1JOWNpWY4mY",
      "include_colab_link": true
    },
    "kernelspec": {
      "name": "python3",
      "display_name": "Python 3"
    },
    "language_info": {
      "name": "python"
    }
  },
  "cells": [
    {
      "cell_type": "markdown",
      "metadata": {
        "id": "view-in-github",
        "colab_type": "text"
      },
      "source": [
        "<a href=\"https://colab.research.google.com/github/weedge/doraemon-nb/blob/main/achatbot_multiMCP_bot.ipynb\" target=\"_parent\"><img src=\"https://colab.research.google.com/assets/colab-badge.svg\" alt=\"Open In Colab\"/></a>"
      ]
    },
    {
      "cell_type": "code",
      "execution_count": null,
      "metadata": {
        "id": "hTOZMjbnUZyM"
      },
      "outputs": [],
      "source": [
        "!cd /content && rm -rf achatbot && git clone --recursive https://github.com/ai-bot-pro/achatbot.git"
      ]
    },
    {
      "cell_type": "code",
      "source": [
        "%cd /content/achatbot"
      ],
      "metadata": {
        "id": "jj-NSzY1U_p7",
        "colab": {
          "base_uri": "https://localhost:8080/"
        },
        "outputId": "5597fd0c-7f73-4288-adf8-385cd333de25"
      },
      "execution_count": 15,
      "outputs": [
        {
          "output_type": "stream",
          "name": "stdout",
          "text": [
            "/content/achatbot\n"
          ]
        }
      ]
    },
    {
      "cell_type": "code",
      "source": [
        "!bash scripts/pypi_achatbot.sh dev"
      ],
      "metadata": {
        "id": "nesIRk-jVKsN"
      },
      "execution_count": null,
      "outputs": []
    },
    {
      "cell_type": "code",
      "source": [
        "%%bash\n",
        "# Download and install nvm:\n",
        "curl -o- https://raw.githubusercontent.com/nvm-sh/nvm/v0.40.3/install.sh | bash\n",
        "\n",
        "# in lieu of restarting the shell\n",
        "\\. \"$HOME/.nvm/nvm.sh\"\n",
        "\n",
        "# Download and install Node.js:\n",
        "nvm install 22\n",
        "\n",
        "# Verify the Node.js version:\n",
        "node -v # Should print \"v22.16.0\".\n",
        "nvm current # Should print \"v22.16.0\".\n",
        "\n",
        "# Verify npm version:\n",
        "npm -v # Should print \"10.9.2\".\n"
      ],
      "metadata": {
        "id": "1G078uNfvKaA"
      },
      "execution_count": null,
      "outputs": []
    },
    {
      "cell_type": "code",
      "source": [],
      "metadata": {
        "colab": {
          "base_uri": "https://localhost:8080/"
        },
        "id": "rXAPp65T27fO",
        "outputId": "1bf54f2a-f7bb-4747-f6df-184363f96d74"
      },
      "execution_count": 23,
      "outputs": [
        {
          "output_type": "stream",
          "name": "stdout",
          "text": [
            "10.8.2\n",
            "\u001b[1G\u001b[0K"
          ]
        }
      ]
    },
    {
      "cell_type": "markdown",
      "source": [
        "# Run webRTC Room AI Chat Bot with multi MCP server tools"
      ],
      "metadata": {
        "id": "LcE_1aBobZup"
      }
    },
    {
      "cell_type": "code",
      "source": [
        "# NOTE: #\"agora-realtime-ai-api@git+https://github.com/weedge/agora-realtime-ai-api\", # for python 3.10 in pyproject.toml open this\n",
        "!pip install -q \"dist/achatbot-0.0.15.post2-py3-none-any.whl[fastapi_bot_server,daily_transport,livekit_transport,agora_transport,silero_vad_analyzer,sense_voice_asr,openai_llm_processor,google_llm_processor,litellm_processor,mcp,tts_edge,queue]\""
      ],
      "metadata": {
        "id": "olcNdVBxbXKz"
      },
      "execution_count": 4,
      "outputs": []
    },
    {
      "cell_type": "code",
      "source": [
        "!pip install -q fastmcp"
      ],
      "metadata": {
        "id": "A6SWsi9CtyqK"
      },
      "execution_count": 12,
      "outputs": []
    },
    {
      "cell_type": "code",
      "execution_count": 6,
      "metadata": {
        "id": "i2U1dZCWDEHc",
        "colab": {
          "base_uri": "https://localhost:8080/"
        },
        "outputId": "ef595727-4c08-499a-8d7b-70a3e8aa5279"
      },
      "outputs": [
        {
          "output_type": "stream",
          "name": "stdout",
          "text": [
            "/content/achatbot/models/FunAudioLLM/SenseVoiceSmall\n"
          ]
        }
      ],
      "source": [
        "!huggingface-cli download FunAudioLLM/SenseVoiceSmall --quiet --local-dir ./models/FunAudioLLM/SenseVoiceSmall"
      ]
    },
    {
      "cell_type": "code",
      "source": [
        "from google.colab import userdata\n",
        "DAILY_API_KEY=userdata.get('DAILY_API_KEY')\n",
        "\n",
        "LIVEKIT_URL=userdata.get('LIVEKIT_URL')\n",
        "LIVEKIT_API_KEY=userdata.get('LIVEKIT_API_KEY')\n",
        "LIVEKIT_API_SECRET=userdata.get('LIVEKIT_API_SECRET')\n",
        "\n",
        "AGORA_APP_ID=userdata.get('AGORA_APP_ID')\n",
        "AGORA_APP_CERT=userdata.get('AGORA_APP_CERT')\n",
        "\n",
        "TOGETHER_API_KEY=userdata.get('TOGETHER_API_KEY')\n",
        "AMAP_MAPS_API_KEY=userdata.get('AMAP_MAPS_API_KEY')"
      ],
      "metadata": {
        "id": "uXIAi2IYUkcK"
      },
      "execution_count": 32,
      "outputs": []
    },
    {
      "cell_type": "markdown",
      "metadata": {
        "id": "DhPOa8RBb0dS"
      },
      "source": [
        "run bot task woker with bot.json, e.g.: dummy_bot.json\n",
        "\n",
        "- use daily/livekit room stream, u can click bot joined the room url, to start chat with bot with audio and camera stream,\n",
        "  - [daily](https://www.daily.co/) need DAILY_API_KEY\n",
        "  - [livekit](https://livekit.io/) need project url LIVEKIT_URL, LIVEKIT_API_KEY, LIVEKIT_API_SECRET\n",
        "  - [agora](https://agora.io/) need project url AGORA_APP_ID, AGORA_APP_CERT\n",
        "- use openai/groq/together.ai api llm model need api key\n",
        "  - [openai](https://openai.com/) OPENAI_API_KEY\n",
        "  - [groq](https://groq.com/) GROQ_API_KEY\n",
        "  - [together.ai](https://www.together.ai/) TOGETHER_API_KEY\n",
        "\n",
        "\n"
      ]
    },
    {
      "cell_type": "code",
      "source": [
        "!AMAP_MAPS_API_KEY=$AMAP_MAPS_API_KEY npx -y @amap/amap-maps-mcp-server"
      ],
      "metadata": {
        "colab": {
          "base_uri": "https://localhost:8080/"
        },
        "id": "tSK4uom23C-2",
        "outputId": "bf7f6416-57d7-404c-beef-4893ba73cdde"
      },
      "execution_count": 25,
      "outputs": [
        {
          "output_type": "stream",
          "name": "stdout",
          "text": [
            "\u001b[1G\u001b[0K⠙\u001b[1G\u001b[0K⠹\u001b[1G\u001b[0K⠸\u001b[1G\u001b[0K⠼\u001b[1G\u001b[0K⠴\u001b[1G\u001b[0K⠦\u001b[1G\u001b[0K⠧\u001b[1G\u001b[0KAmap Maps MCP Server running on stdio\n",
            "^C\n"
          ]
        }
      ]
    },
    {
      "cell_type": "markdown",
      "source": [
        "## daily audio bot"
      ],
      "metadata": {
        "id": "FZPUmzpI-t0t"
      }
    },
    {
      "cell_type": "code",
      "source": [
        "!cat /content/daily_multi_mcp_bot.json"
      ],
      "metadata": {
        "colab": {
          "base_uri": "https://localhost:8080/"
        },
        "id": "Ahs95OIO9AoD",
        "outputId": "6cef1b1b-8175-4906-cb5c-931e0dbae639"
      },
      "execution_count": 34,
      "outputs": [
        {
          "output_type": "stream",
          "name": "stdout",
          "text": [
            "{\n",
            "  \"chat_bot_name\": \"DailyMultiMCPBot\",\n",
            "  \"room_name\": \"chat-room\",\n",
            "  \"room_url\": \"\",\n",
            "  \"token\": \"\",\n",
            "  \"room_manager\": {\n",
            "    \"tag\": \"daily_room\",\n",
            "    \"args\": {\n",
            "      \"privacy\": \"public\"\n",
            "    }\n",
            "  },\n",
            "  \"services\": {\n",
            "    \"pipeline\": \"achatbot\",\n",
            "    \"vad\": \"silero_vad_analyzer\",\n",
            "    \"asr\": \"sense_voice_asr\",\n",
            "    \"mcp_servers\": \"simple,weather,search\",\n",
            "    \"llm\": \"qwen2.5\",\n",
            "    \"tts\": \"edge\"\n",
            "  },\n",
            "  \"config\": {\n",
            "    \"vad\": {\n",
            "      \"tag\": \"silero_vad_analyzer\",\n",
            "      \"args\": { \"stop_secs\": 0.7 }\n",
            "    },\n",
            "    \"asr\": {\n",
            "      \"tag\": \"sense_voice_asr\",\n",
            "      \"args\": {\n",
            "        \"language\": \"zn\",\n",
            "        \"model_name_or_path\": \"/content/achatbot/models/FunAudioLLM/SenseVoiceSmall\"\n",
            "      }\n",
            "    },\n",
            "    \"mcp_servers\": {\n",
            "      \"simple\": {\n",
            "        \"transport\": \"stdio\",\n",
            "        \"parameters\": {\n",
            "          \"command\": \"python\",\n",
            "          \"args\": [\"-m\", \"mcp_server.cmd.simple.lowlevel\"],\n",
            "          \"env\": {}\n",
            "        }\n",
            "      },\n",
            "      \"weather\": {\n",
            "        \"transport\": \"stdio\",\n",
            "        \"parameters\": {\n",
            "          \"command\": \"python\",\n",
            "          \"args\": [\"-m\", \"mcp_server.cmd.weather.lowlevel\"],\n",
            "          \"env\": {}\n",
            "        }\n",
            "      },\n",
            "      \"search\": {\n",
            "        \"transport\": \"stdio\",\n",
            "        \"parameters\": {\n",
            "          \"command\": \"python\",\n",
            "          \"args\": [\"-m\", \"mcp_server.cmd.search.lowlevel\"],\n",
            "          \"env\": {}\n",
            "        }\n",
            "      },\n",
            "      \"amap-maps\": {\n",
            "        \"transport\": \"stdio\",\n",
            "        \"parameters\": {\n",
            "          \"command\": \"npx\",\n",
            "          \"args\": [\"-y\", \"@amap/amap-maps-mcp-server\"],\n",
            "          \"env\": {}\n",
            "        }\n",
            "      }\n",
            "    },\n",
            "    \"llm\": {\n",
            "      \"tag\": \"openai_llm_processor\",\n",
            "      \"base_url\": \"https://api.together.xyz/v1\",\n",
            "      \"model\": \"Qwen/Qwen2.5-7B-Instruct-Turbo\",\n",
            "      \"language\": \"zh\",\n",
            "      \"messages\": []\n",
            "    },\n",
            "    \"tts\": {\n",
            "      \"tag\": \"tts_edge\",\n",
            "      \"args\": {\n",
            "        \"voice_name\": \"zh-CN-YunjianNeural\",\n",
            "        \"language\": \"zh\",\n",
            "        \"gender\": \"Male\"\n",
            "      }\n",
            "    }\n",
            "  },\n",
            "  \"config_list\": []\n",
            "}\n"
          ]
        }
      ]
    },
    {
      "cell_type": "code",
      "source": [
        "!DAILY_API_KEY=$DAILY_API_KEY TOGETHER_API_KEY=$TOGETHER_API_KEY AMAP_MAPS_API_KEY=$AMAP_MAPS_API_KEY \\\n",
        "  python -m src.cmd.bots.main -f /content/daily_multi_mcp_bot.json"
      ],
      "metadata": {
        "id": "FTLvETDrZoij"
      },
      "execution_count": null,
      "outputs": []
    },
    {
      "cell_type": "markdown",
      "source": [
        "## livekit audio bot"
      ],
      "metadata": {
        "id": "t_DsrdMi-ppi"
      }
    },
    {
      "cell_type": "code",
      "source": [
        "!cat /content/livekit_multi_mcp_bot.json"
      ],
      "metadata": {
        "colab": {
          "base_uri": "https://localhost:8080/"
        },
        "id": "Oioem0hL9Ddx",
        "outputId": "2a6def18-b9f1-41b4-bad2-00a225db4762"
      },
      "execution_count": 35,
      "outputs": [
        {
          "output_type": "stream",
          "name": "stdout",
          "text": [
            "{\n",
            "  \"chat_bot_name\": \"LivekitMultiMCPBot\",\n",
            "  \"room_name\": \"chat-room\",\n",
            "  \"room_url\": \"\",\n",
            "  \"token\": \"\",\n",
            "  \"room_manager\": {\n",
            "    \"tag\": \"livekit_room\",\n",
            "    \"args\": {\n",
            "      \"bot_name\": \"LivekitBot\",\n",
            "      \"is_common_session\": false\n",
            "    }\n",
            "  },\n",
            "  \"services\": {\n",
            "    \"pipeline\": \"achatbot\",\n",
            "    \"vad\": \"silero_vad_analyzer\",\n",
            "    \"asr\": \"sense_voice_asr\",\n",
            "    \"mcp_servers\": \"simple,weather,search\",\n",
            "    \"llm\": \"qwen2.5\",\n",
            "    \"tts\": \"edge\"\n",
            "  },\n",
            "  \"config\": {\n",
            "    \"vad\": {\n",
            "      \"tag\": \"silero_vad_analyzer\",\n",
            "      \"args\": { \"stop_secs\": 0.7 }\n",
            "    },\n",
            "    \"asr\": {\n",
            "      \"tag\": \"sense_voice_asr\",\n",
            "      \"args\": {\n",
            "        \"language\": \"zn\",\n",
            "        \"model_name_or_path\": \"/content/achatbot/models/FunAudioLLM/SenseVoiceSmall\"\n",
            "      }\n",
            "    },\n",
            "    \"mcp_servers\": {\n",
            "      \"simple\": {\n",
            "        \"transport\": \"stdio\",\n",
            "        \"parameters\": {\n",
            "          \"command\": \"python\",\n",
            "          \"args\": [\"-m\", \"mcp_server.cmd.simple.lowlevel\"],\n",
            "          \"env\": {}\n",
            "        }\n",
            "      },\n",
            "      \"weather\": {\n",
            "        \"transport\": \"stdio\",\n",
            "        \"parameters\": {\n",
            "          \"command\": \"python\",\n",
            "          \"args\": [\"-m\", \"mcp_server.cmd.weather.lowlevel\"],\n",
            "          \"env\": {}\n",
            "        }\n",
            "      },\n",
            "      \"search\": {\n",
            "        \"transport\": \"stdio\",\n",
            "        \"parameters\": {\n",
            "          \"command\": \"python\",\n",
            "          \"args\": [\"-m\", \"mcp_server.cmd.search.lowlevel\"],\n",
            "          \"env\": {}\n",
            "        }\n",
            "      },\n",
            "      \"amap-maps\": {\n",
            "        \"transport\": \"stdio\",\n",
            "        \"parameters\": {\n",
            "          \"command\": \"npx\",\n",
            "          \"args\": [\"-y\", \"@amap/amap-maps-mcp-server\"],\n",
            "          \"env\": {}\n",
            "        }\n",
            "      }\n",
            "    },\n",
            "    \"llm\": {\n",
            "      \"tag\": \"openai_llm_processor\",\n",
            "      \"base_url\": \"https://api.together.xyz/v1\",\n",
            "      \"model\": \"Qwen/Qwen2.5-7B-Instruct-Turbo\",\n",
            "      \"language\": \"zh\",\n",
            "      \"messages\": []\n",
            "    },\n",
            "    \"tts\": {\n",
            "      \"tag\": \"tts_edge\",\n",
            "      \"args\": {\n",
            "        \"voice_name\": \"zh-CN-YunjianNeural\",\n",
            "        \"language\": \"zh\",\n",
            "        \"gender\": \"Male\"\n",
            "      }\n",
            "    }\n",
            "  },\n",
            "  \"config_list\": []\n",
            "}\n"
          ]
        }
      ]
    },
    {
      "cell_type": "code",
      "execution_count": null,
      "metadata": {
        "id": "NKB146E-b9s_"
      },
      "outputs": [],
      "source": [
        "!LIVEKIT_URL=$LIVEKIT_URL LIVEKIT_API_KEY=$LIVEKIT_API_KEY LIVEKIT_API_SECRET=$LIVEKIT_API_SECRET TOGETHER_API_KEY=$TOGETHER_API_KEY \\\n",
        "  AMAP_MAPS_API_KEY=$AMAP_MAPS_API_KEY \\\n",
        "  python -m src.cmd.bots.main -f /content/livekit_multi_mcp_bot.json"
      ]
    },
    {
      "cell_type": "markdown",
      "source": [
        "## agora audio bot"
      ],
      "metadata": {
        "id": "M4kVLbGm-jyT"
      }
    },
    {
      "cell_type": "code",
      "source": [
        "!cat /content/agora_multi_mcp_bot.json"
      ],
      "metadata": {
        "colab": {
          "base_uri": "https://localhost:8080/"
        },
        "id": "Xmb_TBPb9HIP",
        "outputId": "467403fd-ada4-4cbb-d088-87f8bddae13f"
      },
      "execution_count": 36,
      "outputs": [
        {
          "output_type": "stream",
          "name": "stdout",
          "text": [
            "{\n",
            "  \"chat_bot_name\": \"AgoraMultiMCPBot\",\n",
            "  \"room_name\": \"chat-room\",\n",
            "  \"room_url\": \"\",\n",
            "  \"token\": \"\",\n",
            "  \"room_manager\": {\n",
            "    \"tag\": \"agora_rtc_channel\",\n",
            "    \"args\": {}\n",
            "  },\n",
            "  \"services\": {\n",
            "    \"pipeline\": \"achatbot\",\n",
            "    \"vad\": \"silero_vad_analyzer\",\n",
            "    \"asr\": \"sense_voice_asr\",\n",
            "    \"mcp_servers\": \"simple,weather,search,amap-maps\",\n",
            "    \"llm\": \"qwen2.5\",\n",
            "    \"tts\": \"edge\"\n",
            "  },\n",
            "  \"config\": {\n",
            "    \"vad\": {\n",
            "      \"tag\": \"silero_vad_analyzer\",\n",
            "      \"args\": { \"stop_secs\": 0.7 }\n",
            "    },\n",
            "    \"asr\": {\n",
            "      \"tag\": \"sense_voice_asr\",\n",
            "      \"args\": {\n",
            "        \"language\": \"zn\",\n",
            "        \"model_name_or_path\": \"/content/achatbot/models/FunAudioLLM/SenseVoiceSmall\"\n",
            "      }\n",
            "    },\n",
            "    \"mcp_servers\": {\n",
            "      \"simple\": {\n",
            "        \"transport\": \"stdio\",\n",
            "        \"parameters\": {\n",
            "          \"command\": \"python\",\n",
            "          \"args\": [\"-m\", \"mcp_server.cmd.simple.lowlevel\"],\n",
            "          \"env\": {}\n",
            "        }\n",
            "      },\n",
            "      \"weather\": {\n",
            "        \"transport\": \"stdio\",\n",
            "        \"parameters\": {\n",
            "          \"command\": \"python\",\n",
            "          \"args\": [\"-m\", \"mcp_server.cmd.weather.lowlevel\"],\n",
            "          \"env\": {}\n",
            "        }\n",
            "      },\n",
            "      \"search\": {\n",
            "        \"transport\": \"stdio\",\n",
            "        \"parameters\": {\n",
            "          \"command\": \"python\",\n",
            "          \"args\": [\"-m\", \"mcp_server.cmd.search.lowlevel\"],\n",
            "          \"env\": {}\n",
            "        }\n",
            "      },\n",
            "      \"amap-maps\": {\n",
            "        \"transport\": \"stdio\",\n",
            "        \"parameters\": {\n",
            "          \"command\": \"npx\",\n",
            "          \"args\": [\"-y\", \"@amap/amap-maps-mcp-server\"],\n",
            "          \"env\": {}\n",
            "        }\n",
            "      }\n",
            "    },\n",
            "    \"llm\": {\n",
            "      \"tag\": \"openai_llm_processor\",\n",
            "      \"base_url\": \"https://api.together.xyz/v1\",\n",
            "      \"model\": \"Qwen/Qwen2.5-7B-Instruct-Turbo\",\n",
            "      \"language\": \"zh\",\n",
            "      \"messages\": []\n",
            "    },\n",
            "    \"tts\": {\n",
            "      \"tag\": \"tts_edge\",\n",
            "      \"args\": {\n",
            "        \"voice_name\": \"zh-CN-YunjianNeural\",\n",
            "        \"language\": \"zh\",\n",
            "        \"gender\": \"Male\"\n",
            "      }\n",
            "    }\n",
            "  },\n",
            "  \"config_list\": []\n",
            "}\n"
          ]
        }
      ]
    },
    {
      "cell_type": "code",
      "source": [
        "!AGORA_APP_ID=$AGORA_APP_ID AGORA_APP_CERT=$AGORA_APP_CERT TOGETHER_API_KEY=$TOGETHER_API_KEY \\\n",
        "  AMAP_MAPS_API_KEY=$AMAP_MAPS_API_KEY \\\n",
        "  LOG_LEVEL=info python -m src.cmd.bots.main -f /content/agora_multi_mcp_bot.json"
      ],
      "metadata": {
        "id": "PyfY2Tjal6kp"
      },
      "execution_count": null,
      "outputs": []
    },
    {
      "cell_type": "markdown",
      "source": [
        "## redis queue bot"
      ],
      "metadata": {
        "id": "moW3Ti05-3HE"
      }
    },
    {
      "cell_type": "code",
      "execution_count": null,
      "metadata": {
        "id": "c6EiEKxtbqVT"
      },
      "outputs": [],
      "source": [
        "from google.colab import userdata\n",
        "REDIS_PASSWORD=userdata.get('REDIS_PASSWORD')"
      ]
    },
    {
      "cell_type": "code",
      "execution_count": null,
      "metadata": {
        "colab": {
          "background_save": true
        },
        "id": "FzqIIMQ9boPX"
      },
      "outputs": [],
      "source": [
        "#!LOG_LEVEL=debug REDIS_PASSWORD=$REDIS_PASSWORD python -m src.cmd.bots.main -f /content/task_bot.json"
      ]
    },
    {
      "cell_type": "markdown",
      "source": [
        "# tips\n",
        "- 后续会对模型的上下文历史记录通过mem0记录，如果超出模型上下文，可以选择支持长下文的模型比如gemini系列\n",
        "- 开源可以选在deepseek系列， 比如最新的 https://huggingface.co/deepseek-ai/DeepSeek-R1-0528-Qwen3-8B 蒸馏出的小模型，性价比高，满足日常任务\n",
        "- function call出现badcase, 可以修改system prompt引导模型，如果使用开源模型可以定制一些function call的数据集对模型进行微调，"
      ],
      "metadata": {
        "id": "0M-J3zw_78EG"
      }
    }
  ]
}