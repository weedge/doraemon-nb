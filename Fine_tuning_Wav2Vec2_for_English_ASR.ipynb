{
  "nbformat": 4,
  "nbformat_minor": 0,
  "metadata": {
    "colab": {
      "provenance": [],
      "machine_shape": "hm",
      "gpuType": "L4",
      "include_colab_link": true
    },
    "kernelspec": {
      "name": "python3",
      "display_name": "Python 3"
    },
    "accelerator": "GPU",
    "widgets": {
      "application/vnd.jupyter.widget-state+json": {
        "9d604040d2f24842933e6e7d8efbf2b7": {
          "model_module": "@jupyter-widgets/controls",
          "model_name": "HBoxModel",
          "model_module_version": "1.5.0",
          "state": {
            "_dom_classes": [],
            "_model_module": "@jupyter-widgets/controls",
            "_model_module_version": "1.5.0",
            "_model_name": "HBoxModel",
            "_view_count": null,
            "_view_module": "@jupyter-widgets/controls",
            "_view_module_version": "1.5.0",
            "_view_name": "HBoxView",
            "box_style": "",
            "children": [
              "IPY_MODEL_d077000272254f638ab85a8fe26d7bbb",
              "IPY_MODEL_41d9b8e825304beea4cc65f4312901bf",
              "IPY_MODEL_6b7f783b600045ec851ba9c9377e569a"
            ],
            "layout": "IPY_MODEL_0cfa2f4681af4f9f9d52a23f0b51e8bb"
          }
        },
        "d077000272254f638ab85a8fe26d7bbb": {
          "model_module": "@jupyter-widgets/controls",
          "model_name": "HTMLModel",
          "model_module_version": "1.5.0",
          "state": {
            "_dom_classes": [],
            "_model_module": "@jupyter-widgets/controls",
            "_model_module_version": "1.5.0",
            "_model_name": "HTMLModel",
            "_view_count": null,
            "_view_module": "@jupyter-widgets/controls",
            "_view_module_version": "1.5.0",
            "_view_name": "HTMLView",
            "description": "",
            "description_tooltip": null,
            "layout": "IPY_MODEL_cce6f6c131214b2cadc2a123277f1dcc",
            "placeholder": "​",
            "style": "IPY_MODEL_b6c8a91173fc4c9cbd7c246b2f0097df",
            "value": "100%"
          }
        },
        "41d9b8e825304beea4cc65f4312901bf": {
          "model_module": "@jupyter-widgets/controls",
          "model_name": "FloatProgressModel",
          "model_module_version": "1.5.0",
          "state": {
            "_dom_classes": [],
            "_model_module": "@jupyter-widgets/controls",
            "_model_module_version": "1.5.0",
            "_model_name": "FloatProgressModel",
            "_view_count": null,
            "_view_module": "@jupyter-widgets/controls",
            "_view_module_version": "1.5.0",
            "_view_name": "ProgressView",
            "bar_style": "success",
            "description": "",
            "description_tooltip": null,
            "layout": "IPY_MODEL_e9ae07bdb1454d41afd7ea538da0249c",
            "max": 2,
            "min": 0,
            "orientation": "horizontal",
            "style": "IPY_MODEL_fdd339c226794fc89a11a72db6eb5450",
            "value": 2
          }
        },
        "6b7f783b600045ec851ba9c9377e569a": {
          "model_module": "@jupyter-widgets/controls",
          "model_name": "HTMLModel",
          "model_module_version": "1.5.0",
          "state": {
            "_dom_classes": [],
            "_model_module": "@jupyter-widgets/controls",
            "_model_module_version": "1.5.0",
            "_model_name": "HTMLModel",
            "_view_count": null,
            "_view_module": "@jupyter-widgets/controls",
            "_view_module_version": "1.5.0",
            "_view_name": "HTMLView",
            "description": "",
            "description_tooltip": null,
            "layout": "IPY_MODEL_70c2d2ac7a5d40d28645ad1e88e97989",
            "placeholder": "​",
            "style": "IPY_MODEL_2400ddb40e294d93bc88a709d4417dc0",
            "value": " 2/2 [00:00&lt;00:00, 131.86it/s]"
          }
        },
        "0cfa2f4681af4f9f9d52a23f0b51e8bb": {
          "model_module": "@jupyter-widgets/base",
          "model_name": "LayoutModel",
          "model_module_version": "1.2.0",
          "state": {
            "_model_module": "@jupyter-widgets/base",
            "_model_module_version": "1.2.0",
            "_model_name": "LayoutModel",
            "_view_count": null,
            "_view_module": "@jupyter-widgets/base",
            "_view_module_version": "1.2.0",
            "_view_name": "LayoutView",
            "align_content": null,
            "align_items": null,
            "align_self": null,
            "border": null,
            "bottom": null,
            "display": null,
            "flex": null,
            "flex_flow": null,
            "grid_area": null,
            "grid_auto_columns": null,
            "grid_auto_flow": null,
            "grid_auto_rows": null,
            "grid_column": null,
            "grid_gap": null,
            "grid_row": null,
            "grid_template_areas": null,
            "grid_template_columns": null,
            "grid_template_rows": null,
            "height": null,
            "justify_content": null,
            "justify_items": null,
            "left": null,
            "margin": null,
            "max_height": null,
            "max_width": null,
            "min_height": null,
            "min_width": null,
            "object_fit": null,
            "object_position": null,
            "order": null,
            "overflow": null,
            "overflow_x": null,
            "overflow_y": null,
            "padding": null,
            "right": null,
            "top": null,
            "visibility": null,
            "width": null
          }
        },
        "cce6f6c131214b2cadc2a123277f1dcc": {
          "model_module": "@jupyter-widgets/base",
          "model_name": "LayoutModel",
          "model_module_version": "1.2.0",
          "state": {
            "_model_module": "@jupyter-widgets/base",
            "_model_module_version": "1.2.0",
            "_model_name": "LayoutModel",
            "_view_count": null,
            "_view_module": "@jupyter-widgets/base",
            "_view_module_version": "1.2.0",
            "_view_name": "LayoutView",
            "align_content": null,
            "align_items": null,
            "align_self": null,
            "border": null,
            "bottom": null,
            "display": null,
            "flex": null,
            "flex_flow": null,
            "grid_area": null,
            "grid_auto_columns": null,
            "grid_auto_flow": null,
            "grid_auto_rows": null,
            "grid_column": null,
            "grid_gap": null,
            "grid_row": null,
            "grid_template_areas": null,
            "grid_template_columns": null,
            "grid_template_rows": null,
            "height": null,
            "justify_content": null,
            "justify_items": null,
            "left": null,
            "margin": null,
            "max_height": null,
            "max_width": null,
            "min_height": null,
            "min_width": null,
            "object_fit": null,
            "object_position": null,
            "order": null,
            "overflow": null,
            "overflow_x": null,
            "overflow_y": null,
            "padding": null,
            "right": null,
            "top": null,
            "visibility": null,
            "width": null
          }
        },
        "b6c8a91173fc4c9cbd7c246b2f0097df": {
          "model_module": "@jupyter-widgets/controls",
          "model_name": "DescriptionStyleModel",
          "model_module_version": "1.5.0",
          "state": {
            "_model_module": "@jupyter-widgets/controls",
            "_model_module_version": "1.5.0",
            "_model_name": "DescriptionStyleModel",
            "_view_count": null,
            "_view_module": "@jupyter-widgets/base",
            "_view_module_version": "1.2.0",
            "_view_name": "StyleView",
            "description_width": ""
          }
        },
        "e9ae07bdb1454d41afd7ea538da0249c": {
          "model_module": "@jupyter-widgets/base",
          "model_name": "LayoutModel",
          "model_module_version": "1.2.0",
          "state": {
            "_model_module": "@jupyter-widgets/base",
            "_model_module_version": "1.2.0",
            "_model_name": "LayoutModel",
            "_view_count": null,
            "_view_module": "@jupyter-widgets/base",
            "_view_module_version": "1.2.0",
            "_view_name": "LayoutView",
            "align_content": null,
            "align_items": null,
            "align_self": null,
            "border": null,
            "bottom": null,
            "display": null,
            "flex": null,
            "flex_flow": null,
            "grid_area": null,
            "grid_auto_columns": null,
            "grid_auto_flow": null,
            "grid_auto_rows": null,
            "grid_column": null,
            "grid_gap": null,
            "grid_row": null,
            "grid_template_areas": null,
            "grid_template_columns": null,
            "grid_template_rows": null,
            "height": null,
            "justify_content": null,
            "justify_items": null,
            "left": null,
            "margin": null,
            "max_height": null,
            "max_width": null,
            "min_height": null,
            "min_width": null,
            "object_fit": null,
            "object_position": null,
            "order": null,
            "overflow": null,
            "overflow_x": null,
            "overflow_y": null,
            "padding": null,
            "right": null,
            "top": null,
            "visibility": null,
            "width": null
          }
        },
        "fdd339c226794fc89a11a72db6eb5450": {
          "model_module": "@jupyter-widgets/controls",
          "model_name": "ProgressStyleModel",
          "model_module_version": "1.5.0",
          "state": {
            "_model_module": "@jupyter-widgets/controls",
            "_model_module_version": "1.5.0",
            "_model_name": "ProgressStyleModel",
            "_view_count": null,
            "_view_module": "@jupyter-widgets/base",
            "_view_module_version": "1.2.0",
            "_view_name": "StyleView",
            "bar_color": null,
            "description_width": ""
          }
        },
        "70c2d2ac7a5d40d28645ad1e88e97989": {
          "model_module": "@jupyter-widgets/base",
          "model_name": "LayoutModel",
          "model_module_version": "1.2.0",
          "state": {
            "_model_module": "@jupyter-widgets/base",
            "_model_module_version": "1.2.0",
            "_model_name": "LayoutModel",
            "_view_count": null,
            "_view_module": "@jupyter-widgets/base",
            "_view_module_version": "1.2.0",
            "_view_name": "LayoutView",
            "align_content": null,
            "align_items": null,
            "align_self": null,
            "border": null,
            "bottom": null,
            "display": null,
            "flex": null,
            "flex_flow": null,
            "grid_area": null,
            "grid_auto_columns": null,
            "grid_auto_flow": null,
            "grid_auto_rows": null,
            "grid_column": null,
            "grid_gap": null,
            "grid_row": null,
            "grid_template_areas": null,
            "grid_template_columns": null,
            "grid_template_rows": null,
            "height": null,
            "justify_content": null,
            "justify_items": null,
            "left": null,
            "margin": null,
            "max_height": null,
            "max_width": null,
            "min_height": null,
            "min_width": null,
            "object_fit": null,
            "object_position": null,
            "order": null,
            "overflow": null,
            "overflow_x": null,
            "overflow_y": null,
            "padding": null,
            "right": null,
            "top": null,
            "visibility": null,
            "width": null
          }
        },
        "2400ddb40e294d93bc88a709d4417dc0": {
          "model_module": "@jupyter-widgets/controls",
          "model_name": "DescriptionStyleModel",
          "model_module_version": "1.5.0",
          "state": {
            "_model_module": "@jupyter-widgets/controls",
            "_model_module_version": "1.5.0",
            "_model_name": "DescriptionStyleModel",
            "_view_count": null,
            "_view_module": "@jupyter-widgets/base",
            "_view_module_version": "1.2.0",
            "_view_name": "StyleView",
            "description_width": ""
          }
        },
        "6b7e0029812641738df44bd600b65398": {
          "model_module": "@jupyter-widgets/controls",
          "model_name": "HBoxModel",
          "model_module_version": "1.5.0",
          "state": {
            "_dom_classes": [],
            "_model_module": "@jupyter-widgets/controls",
            "_model_module_version": "1.5.0",
            "_model_name": "HBoxModel",
            "_view_count": null,
            "_view_module": "@jupyter-widgets/controls",
            "_view_module_version": "1.5.0",
            "_view_name": "HBoxView",
            "box_style": "",
            "children": [
              "IPY_MODEL_82598dd9241741629c29b8d9365ca685",
              "IPY_MODEL_ff4de2db6ca44b40b4781a7c3bb1d8e9",
              "IPY_MODEL_475503df924a4afc89907daad4f452f8"
            ],
            "layout": "IPY_MODEL_696a507d32534354a6bba6e984e16616"
          }
        },
        "82598dd9241741629c29b8d9365ca685": {
          "model_module": "@jupyter-widgets/controls",
          "model_name": "HTMLModel",
          "model_module_version": "1.5.0",
          "state": {
            "_dom_classes": [],
            "_model_module": "@jupyter-widgets/controls",
            "_model_module_version": "1.5.0",
            "_model_name": "HTMLModel",
            "_view_count": null,
            "_view_module": "@jupyter-widgets/controls",
            "_view_module_version": "1.5.0",
            "_view_name": "HTMLView",
            "description": "",
            "description_tooltip": null,
            "layout": "IPY_MODEL_dccacb766c69433ea71e2a85c3102848",
            "placeholder": "​",
            "style": "IPY_MODEL_307d77026c6a4f5aaeb9e39cf91fc7f3",
            "value": "100%"
          }
        },
        "ff4de2db6ca44b40b4781a7c3bb1d8e9": {
          "model_module": "@jupyter-widgets/controls",
          "model_name": "FloatProgressModel",
          "model_module_version": "1.5.0",
          "state": {
            "_dom_classes": [],
            "_model_module": "@jupyter-widgets/controls",
            "_model_module_version": "1.5.0",
            "_model_name": "FloatProgressModel",
            "_view_count": null,
            "_view_module": "@jupyter-widgets/controls",
            "_view_module_version": "1.5.0",
            "_view_name": "ProgressView",
            "bar_style": "success",
            "description": "",
            "description_tooltip": null,
            "layout": "IPY_MODEL_d216f60dc130410c8354f0e4f74d2452",
            "max": 2,
            "min": 0,
            "orientation": "horizontal",
            "style": "IPY_MODEL_3be90fb9694947f89942cca04008df7e",
            "value": 2
          }
        },
        "475503df924a4afc89907daad4f452f8": {
          "model_module": "@jupyter-widgets/controls",
          "model_name": "HTMLModel",
          "model_module_version": "1.5.0",
          "state": {
            "_dom_classes": [],
            "_model_module": "@jupyter-widgets/controls",
            "_model_module_version": "1.5.0",
            "_model_name": "HTMLModel",
            "_view_count": null,
            "_view_module": "@jupyter-widgets/controls",
            "_view_module_version": "1.5.0",
            "_view_name": "HTMLView",
            "description": "",
            "description_tooltip": null,
            "layout": "IPY_MODEL_8217e29167984eadb82353a295617ae8",
            "placeholder": "​",
            "style": "IPY_MODEL_64ad1fc1443247db88360bef565f45c1",
            "value": " 2/2 [00:00&lt;00:00, 127.71it/s]"
          }
        },
        "696a507d32534354a6bba6e984e16616": {
          "model_module": "@jupyter-widgets/base",
          "model_name": "LayoutModel",
          "model_module_version": "1.2.0",
          "state": {
            "_model_module": "@jupyter-widgets/base",
            "_model_module_version": "1.2.0",
            "_model_name": "LayoutModel",
            "_view_count": null,
            "_view_module": "@jupyter-widgets/base",
            "_view_module_version": "1.2.0",
            "_view_name": "LayoutView",
            "align_content": null,
            "align_items": null,
            "align_self": null,
            "border": null,
            "bottom": null,
            "display": null,
            "flex": null,
            "flex_flow": null,
            "grid_area": null,
            "grid_auto_columns": null,
            "grid_auto_flow": null,
            "grid_auto_rows": null,
            "grid_column": null,
            "grid_gap": null,
            "grid_row": null,
            "grid_template_areas": null,
            "grid_template_columns": null,
            "grid_template_rows": null,
            "height": null,
            "justify_content": null,
            "justify_items": null,
            "left": null,
            "margin": null,
            "max_height": null,
            "max_width": null,
            "min_height": null,
            "min_width": null,
            "object_fit": null,
            "object_position": null,
            "order": null,
            "overflow": null,
            "overflow_x": null,
            "overflow_y": null,
            "padding": null,
            "right": null,
            "top": null,
            "visibility": null,
            "width": null
          }
        },
        "dccacb766c69433ea71e2a85c3102848": {
          "model_module": "@jupyter-widgets/base",
          "model_name": "LayoutModel",
          "model_module_version": "1.2.0",
          "state": {
            "_model_module": "@jupyter-widgets/base",
            "_model_module_version": "1.2.0",
            "_model_name": "LayoutModel",
            "_view_count": null,
            "_view_module": "@jupyter-widgets/base",
            "_view_module_version": "1.2.0",
            "_view_name": "LayoutView",
            "align_content": null,
            "align_items": null,
            "align_self": null,
            "border": null,
            "bottom": null,
            "display": null,
            "flex": null,
            "flex_flow": null,
            "grid_area": null,
            "grid_auto_columns": null,
            "grid_auto_flow": null,
            "grid_auto_rows": null,
            "grid_column": null,
            "grid_gap": null,
            "grid_row": null,
            "grid_template_areas": null,
            "grid_template_columns": null,
            "grid_template_rows": null,
            "height": null,
            "justify_content": null,
            "justify_items": null,
            "left": null,
            "margin": null,
            "max_height": null,
            "max_width": null,
            "min_height": null,
            "min_width": null,
            "object_fit": null,
            "object_position": null,
            "order": null,
            "overflow": null,
            "overflow_x": null,
            "overflow_y": null,
            "padding": null,
            "right": null,
            "top": null,
            "visibility": null,
            "width": null
          }
        },
        "307d77026c6a4f5aaeb9e39cf91fc7f3": {
          "model_module": "@jupyter-widgets/controls",
          "model_name": "DescriptionStyleModel",
          "model_module_version": "1.5.0",
          "state": {
            "_model_module": "@jupyter-widgets/controls",
            "_model_module_version": "1.5.0",
            "_model_name": "DescriptionStyleModel",
            "_view_count": null,
            "_view_module": "@jupyter-widgets/base",
            "_view_module_version": "1.2.0",
            "_view_name": "StyleView",
            "description_width": ""
          }
        },
        "d216f60dc130410c8354f0e4f74d2452": {
          "model_module": "@jupyter-widgets/base",
          "model_name": "LayoutModel",
          "model_module_version": "1.2.0",
          "state": {
            "_model_module": "@jupyter-widgets/base",
            "_model_module_version": "1.2.0",
            "_model_name": "LayoutModel",
            "_view_count": null,
            "_view_module": "@jupyter-widgets/base",
            "_view_module_version": "1.2.0",
            "_view_name": "LayoutView",
            "align_content": null,
            "align_items": null,
            "align_self": null,
            "border": null,
            "bottom": null,
            "display": null,
            "flex": null,
            "flex_flow": null,
            "grid_area": null,
            "grid_auto_columns": null,
            "grid_auto_flow": null,
            "grid_auto_rows": null,
            "grid_column": null,
            "grid_gap": null,
            "grid_row": null,
            "grid_template_areas": null,
            "grid_template_columns": null,
            "grid_template_rows": null,
            "height": null,
            "justify_content": null,
            "justify_items": null,
            "left": null,
            "margin": null,
            "max_height": null,
            "max_width": null,
            "min_height": null,
            "min_width": null,
            "object_fit": null,
            "object_position": null,
            "order": null,
            "overflow": null,
            "overflow_x": null,
            "overflow_y": null,
            "padding": null,
            "right": null,
            "top": null,
            "visibility": null,
            "width": null
          }
        },
        "3be90fb9694947f89942cca04008df7e": {
          "model_module": "@jupyter-widgets/controls",
          "model_name": "ProgressStyleModel",
          "model_module_version": "1.5.0",
          "state": {
            "_model_module": "@jupyter-widgets/controls",
            "_model_module_version": "1.5.0",
            "_model_name": "ProgressStyleModel",
            "_view_count": null,
            "_view_module": "@jupyter-widgets/base",
            "_view_module_version": "1.2.0",
            "_view_name": "StyleView",
            "bar_color": null,
            "description_width": ""
          }
        },
        "8217e29167984eadb82353a295617ae8": {
          "model_module": "@jupyter-widgets/base",
          "model_name": "LayoutModel",
          "model_module_version": "1.2.0",
          "state": {
            "_model_module": "@jupyter-widgets/base",
            "_model_module_version": "1.2.0",
            "_model_name": "LayoutModel",
            "_view_count": null,
            "_view_module": "@jupyter-widgets/base",
            "_view_module_version": "1.2.0",
            "_view_name": "LayoutView",
            "align_content": null,
            "align_items": null,
            "align_self": null,
            "border": null,
            "bottom": null,
            "display": null,
            "flex": null,
            "flex_flow": null,
            "grid_area": null,
            "grid_auto_columns": null,
            "grid_auto_flow": null,
            "grid_auto_rows": null,
            "grid_column": null,
            "grid_gap": null,
            "grid_row": null,
            "grid_template_areas": null,
            "grid_template_columns": null,
            "grid_template_rows": null,
            "height": null,
            "justify_content": null,
            "justify_items": null,
            "left": null,
            "margin": null,
            "max_height": null,
            "max_width": null,
            "min_height": null,
            "min_width": null,
            "object_fit": null,
            "object_position": null,
            "order": null,
            "overflow": null,
            "overflow_x": null,
            "overflow_y": null,
            "padding": null,
            "right": null,
            "top": null,
            "visibility": null,
            "width": null
          }
        },
        "64ad1fc1443247db88360bef565f45c1": {
          "model_module": "@jupyter-widgets/controls",
          "model_name": "DescriptionStyleModel",
          "model_module_version": "1.5.0",
          "state": {
            "_model_module": "@jupyter-widgets/controls",
            "_model_module_version": "1.5.0",
            "_model_name": "DescriptionStyleModel",
            "_view_count": null,
            "_view_module": "@jupyter-widgets/base",
            "_view_module_version": "1.2.0",
            "_view_name": "StyleView",
            "description_width": ""
          }
        },
        "0af72fd2c2af4375b9acfa4b274d3a7e": {
          "model_module": "@jupyter-widgets/controls",
          "model_name": "HBoxModel",
          "model_module_version": "1.5.0",
          "state": {
            "_dom_classes": [],
            "_model_module": "@jupyter-widgets/controls",
            "_model_module_version": "1.5.0",
            "_model_name": "HBoxModel",
            "_view_count": null,
            "_view_module": "@jupyter-widgets/controls",
            "_view_module_version": "1.5.0",
            "_view_name": "HBoxView",
            "box_style": "",
            "children": [
              "IPY_MODEL_521b59573ec94fcea8bed721ea97d810",
              "IPY_MODEL_aa1697b762dd4c879b1dc41a86eeecc5",
              "IPY_MODEL_e47fe91de4134c9593e18294666cd6d1"
            ],
            "layout": "IPY_MODEL_09e2488cf58a4e9f8909bfc5ffb375da"
          }
        },
        "521b59573ec94fcea8bed721ea97d810": {
          "model_module": "@jupyter-widgets/controls",
          "model_name": "HTMLModel",
          "model_module_version": "1.5.0",
          "state": {
            "_dom_classes": [],
            "_model_module": "@jupyter-widgets/controls",
            "_model_module_version": "1.5.0",
            "_model_name": "HTMLModel",
            "_view_count": null,
            "_view_module": "@jupyter-widgets/controls",
            "_view_module_version": "1.5.0",
            "_view_name": "HTMLView",
            "description": "",
            "description_tooltip": null,
            "layout": "IPY_MODEL_6919a676594a4a86afe2f878b7da6e9a",
            "placeholder": "​",
            "style": "IPY_MODEL_6d7c820b12b14070abd2e6f31f6f533a",
            "value": ""
          }
        },
        "aa1697b762dd4c879b1dc41a86eeecc5": {
          "model_module": "@jupyter-widgets/controls",
          "model_name": "FloatProgressModel",
          "model_module_version": "1.5.0",
          "state": {
            "_dom_classes": [],
            "_model_module": "@jupyter-widgets/controls",
            "_model_module_version": "1.5.0",
            "_model_name": "FloatProgressModel",
            "_view_count": null,
            "_view_module": "@jupyter-widgets/controls",
            "_view_module_version": "1.5.0",
            "_view_name": "ProgressView",
            "bar_style": "success",
            "description": "",
            "description_tooltip": null,
            "layout": "IPY_MODEL_82433eb631fe424f849fa33f2ca2c871",
            "max": 1,
            "min": 0,
            "orientation": "horizontal",
            "style": "IPY_MODEL_7d5108792dd94ba886629eba8b3715f8",
            "value": 1
          }
        },
        "e47fe91de4134c9593e18294666cd6d1": {
          "model_module": "@jupyter-widgets/controls",
          "model_name": "HTMLModel",
          "model_module_version": "1.5.0",
          "state": {
            "_dom_classes": [],
            "_model_module": "@jupyter-widgets/controls",
            "_model_module_version": "1.5.0",
            "_model_name": "HTMLModel",
            "_view_count": null,
            "_view_module": "@jupyter-widgets/controls",
            "_view_module_version": "1.5.0",
            "_view_name": "HTMLView",
            "description": "",
            "description_tooltip": null,
            "layout": "IPY_MODEL_422eaa200a74466c826799d3e1af9574",
            "placeholder": "​",
            "style": "IPY_MODEL_2483c89fb6484c65940f185abd48c786",
            "value": " 4620/? [00:00&lt;00:00, 13562.16ex/s]"
          }
        },
        "09e2488cf58a4e9f8909bfc5ffb375da": {
          "model_module": "@jupyter-widgets/base",
          "model_name": "LayoutModel",
          "model_module_version": "1.2.0",
          "state": {
            "_model_module": "@jupyter-widgets/base",
            "_model_module_version": "1.2.0",
            "_model_name": "LayoutModel",
            "_view_count": null,
            "_view_module": "@jupyter-widgets/base",
            "_view_module_version": "1.2.0",
            "_view_name": "LayoutView",
            "align_content": null,
            "align_items": null,
            "align_self": null,
            "border": null,
            "bottom": null,
            "display": null,
            "flex": null,
            "flex_flow": null,
            "grid_area": null,
            "grid_auto_columns": null,
            "grid_auto_flow": null,
            "grid_auto_rows": null,
            "grid_column": null,
            "grid_gap": null,
            "grid_row": null,
            "grid_template_areas": null,
            "grid_template_columns": null,
            "grid_template_rows": null,
            "height": null,
            "justify_content": null,
            "justify_items": null,
            "left": null,
            "margin": null,
            "max_height": null,
            "max_width": null,
            "min_height": null,
            "min_width": null,
            "object_fit": null,
            "object_position": null,
            "order": null,
            "overflow": null,
            "overflow_x": null,
            "overflow_y": null,
            "padding": null,
            "right": null,
            "top": null,
            "visibility": null,
            "width": null
          }
        },
        "6919a676594a4a86afe2f878b7da6e9a": {
          "model_module": "@jupyter-widgets/base",
          "model_name": "LayoutModel",
          "model_module_version": "1.2.0",
          "state": {
            "_model_module": "@jupyter-widgets/base",
            "_model_module_version": "1.2.0",
            "_model_name": "LayoutModel",
            "_view_count": null,
            "_view_module": "@jupyter-widgets/base",
            "_view_module_version": "1.2.0",
            "_view_name": "LayoutView",
            "align_content": null,
            "align_items": null,
            "align_self": null,
            "border": null,
            "bottom": null,
            "display": null,
            "flex": null,
            "flex_flow": null,
            "grid_area": null,
            "grid_auto_columns": null,
            "grid_auto_flow": null,
            "grid_auto_rows": null,
            "grid_column": null,
            "grid_gap": null,
            "grid_row": null,
            "grid_template_areas": null,
            "grid_template_columns": null,
            "grid_template_rows": null,
            "height": null,
            "justify_content": null,
            "justify_items": null,
            "left": null,
            "margin": null,
            "max_height": null,
            "max_width": null,
            "min_height": null,
            "min_width": null,
            "object_fit": null,
            "object_position": null,
            "order": null,
            "overflow": null,
            "overflow_x": null,
            "overflow_y": null,
            "padding": null,
            "right": null,
            "top": null,
            "visibility": null,
            "width": null
          }
        },
        "6d7c820b12b14070abd2e6f31f6f533a": {
          "model_module": "@jupyter-widgets/controls",
          "model_name": "DescriptionStyleModel",
          "model_module_version": "1.5.0",
          "state": {
            "_model_module": "@jupyter-widgets/controls",
            "_model_module_version": "1.5.0",
            "_model_name": "DescriptionStyleModel",
            "_view_count": null,
            "_view_module": "@jupyter-widgets/base",
            "_view_module_version": "1.2.0",
            "_view_name": "StyleView",
            "description_width": ""
          }
        },
        "82433eb631fe424f849fa33f2ca2c871": {
          "model_module": "@jupyter-widgets/base",
          "model_name": "LayoutModel",
          "model_module_version": "1.2.0",
          "state": {
            "_model_module": "@jupyter-widgets/base",
            "_model_module_version": "1.2.0",
            "_model_name": "LayoutModel",
            "_view_count": null,
            "_view_module": "@jupyter-widgets/base",
            "_view_module_version": "1.2.0",
            "_view_name": "LayoutView",
            "align_content": null,
            "align_items": null,
            "align_self": null,
            "border": null,
            "bottom": null,
            "display": null,
            "flex": null,
            "flex_flow": null,
            "grid_area": null,
            "grid_auto_columns": null,
            "grid_auto_flow": null,
            "grid_auto_rows": null,
            "grid_column": null,
            "grid_gap": null,
            "grid_row": null,
            "grid_template_areas": null,
            "grid_template_columns": null,
            "grid_template_rows": null,
            "height": null,
            "justify_content": null,
            "justify_items": null,
            "left": null,
            "margin": null,
            "max_height": null,
            "max_width": null,
            "min_height": null,
            "min_width": null,
            "object_fit": null,
            "object_position": null,
            "order": null,
            "overflow": null,
            "overflow_x": null,
            "overflow_y": null,
            "padding": null,
            "right": null,
            "top": null,
            "visibility": null,
            "width": "20px"
          }
        },
        "7d5108792dd94ba886629eba8b3715f8": {
          "model_module": "@jupyter-widgets/controls",
          "model_name": "ProgressStyleModel",
          "model_module_version": "1.5.0",
          "state": {
            "_model_module": "@jupyter-widgets/controls",
            "_model_module_version": "1.5.0",
            "_model_name": "ProgressStyleModel",
            "_view_count": null,
            "_view_module": "@jupyter-widgets/base",
            "_view_module_version": "1.2.0",
            "_view_name": "StyleView",
            "bar_color": null,
            "description_width": ""
          }
        },
        "422eaa200a74466c826799d3e1af9574": {
          "model_module": "@jupyter-widgets/base",
          "model_name": "LayoutModel",
          "model_module_version": "1.2.0",
          "state": {
            "_model_module": "@jupyter-widgets/base",
            "_model_module_version": "1.2.0",
            "_model_name": "LayoutModel",
            "_view_count": null,
            "_view_module": "@jupyter-widgets/base",
            "_view_module_version": "1.2.0",
            "_view_name": "LayoutView",
            "align_content": null,
            "align_items": null,
            "align_self": null,
            "border": null,
            "bottom": null,
            "display": null,
            "flex": null,
            "flex_flow": null,
            "grid_area": null,
            "grid_auto_columns": null,
            "grid_auto_flow": null,
            "grid_auto_rows": null,
            "grid_column": null,
            "grid_gap": null,
            "grid_row": null,
            "grid_template_areas": null,
            "grid_template_columns": null,
            "grid_template_rows": null,
            "height": null,
            "justify_content": null,
            "justify_items": null,
            "left": null,
            "margin": null,
            "max_height": null,
            "max_width": null,
            "min_height": null,
            "min_width": null,
            "object_fit": null,
            "object_position": null,
            "order": null,
            "overflow": null,
            "overflow_x": null,
            "overflow_y": null,
            "padding": null,
            "right": null,
            "top": null,
            "visibility": null,
            "width": null
          }
        },
        "2483c89fb6484c65940f185abd48c786": {
          "model_module": "@jupyter-widgets/controls",
          "model_name": "DescriptionStyleModel",
          "model_module_version": "1.5.0",
          "state": {
            "_model_module": "@jupyter-widgets/controls",
            "_model_module_version": "1.5.0",
            "_model_name": "DescriptionStyleModel",
            "_view_count": null,
            "_view_module": "@jupyter-widgets/base",
            "_view_module_version": "1.2.0",
            "_view_name": "StyleView",
            "description_width": ""
          }
        },
        "d4ef6a26a9244e60b6144c95acc9b74d": {
          "model_module": "@jupyter-widgets/controls",
          "model_name": "HBoxModel",
          "model_module_version": "1.5.0",
          "state": {
            "_dom_classes": [],
            "_model_module": "@jupyter-widgets/controls",
            "_model_module_version": "1.5.0",
            "_model_name": "HBoxModel",
            "_view_count": null,
            "_view_module": "@jupyter-widgets/controls",
            "_view_module_version": "1.5.0",
            "_view_name": "HBoxView",
            "box_style": "",
            "children": [
              "IPY_MODEL_465c077327f6436aa1bb1c736f78a20d",
              "IPY_MODEL_065630925b0148aa8c20ec3c0a1318a6",
              "IPY_MODEL_73edddc04ec946a78b7f31453c6256d5"
            ],
            "layout": "IPY_MODEL_fd19f5c9ff504a9190872c96fd36264d"
          }
        },
        "465c077327f6436aa1bb1c736f78a20d": {
          "model_module": "@jupyter-widgets/controls",
          "model_name": "HTMLModel",
          "model_module_version": "1.5.0",
          "state": {
            "_dom_classes": [],
            "_model_module": "@jupyter-widgets/controls",
            "_model_module_version": "1.5.0",
            "_model_name": "HTMLModel",
            "_view_count": null,
            "_view_module": "@jupyter-widgets/controls",
            "_view_module_version": "1.5.0",
            "_view_name": "HTMLView",
            "description": "",
            "description_tooltip": null,
            "layout": "IPY_MODEL_226136751d314ccebefa4502d1e4cabb",
            "placeholder": "​",
            "style": "IPY_MODEL_3a4ec22794104f368234d1896afdbd69",
            "value": ""
          }
        },
        "065630925b0148aa8c20ec3c0a1318a6": {
          "model_module": "@jupyter-widgets/controls",
          "model_name": "FloatProgressModel",
          "model_module_version": "1.5.0",
          "state": {
            "_dom_classes": [],
            "_model_module": "@jupyter-widgets/controls",
            "_model_module_version": "1.5.0",
            "_model_name": "FloatProgressModel",
            "_view_count": null,
            "_view_module": "@jupyter-widgets/controls",
            "_view_module_version": "1.5.0",
            "_view_name": "ProgressView",
            "bar_style": "success",
            "description": "",
            "description_tooltip": null,
            "layout": "IPY_MODEL_8d74a4d0c8604e2c8a81936e738669c4",
            "max": 1,
            "min": 0,
            "orientation": "horizontal",
            "style": "IPY_MODEL_c91e3a36165e4025bcfb477beb5fe373",
            "value": 1
          }
        },
        "73edddc04ec946a78b7f31453c6256d5": {
          "model_module": "@jupyter-widgets/controls",
          "model_name": "HTMLModel",
          "model_module_version": "1.5.0",
          "state": {
            "_dom_classes": [],
            "_model_module": "@jupyter-widgets/controls",
            "_model_module_version": "1.5.0",
            "_model_name": "HTMLModel",
            "_view_count": null,
            "_view_module": "@jupyter-widgets/controls",
            "_view_module_version": "1.5.0",
            "_view_name": "HTMLView",
            "description": "",
            "description_tooltip": null,
            "layout": "IPY_MODEL_4a650501e6514917ac47b5a82385ea54",
            "placeholder": "​",
            "style": "IPY_MODEL_e8613f876c6449edb610bb3c41261ff5",
            "value": " 1680/? [00:00&lt;00:00, 13123.75ex/s]"
          }
        },
        "fd19f5c9ff504a9190872c96fd36264d": {
          "model_module": "@jupyter-widgets/base",
          "model_name": "LayoutModel",
          "model_module_version": "1.2.0",
          "state": {
            "_model_module": "@jupyter-widgets/base",
            "_model_module_version": "1.2.0",
            "_model_name": "LayoutModel",
            "_view_count": null,
            "_view_module": "@jupyter-widgets/base",
            "_view_module_version": "1.2.0",
            "_view_name": "LayoutView",
            "align_content": null,
            "align_items": null,
            "align_self": null,
            "border": null,
            "bottom": null,
            "display": null,
            "flex": null,
            "flex_flow": null,
            "grid_area": null,
            "grid_auto_columns": null,
            "grid_auto_flow": null,
            "grid_auto_rows": null,
            "grid_column": null,
            "grid_gap": null,
            "grid_row": null,
            "grid_template_areas": null,
            "grid_template_columns": null,
            "grid_template_rows": null,
            "height": null,
            "justify_content": null,
            "justify_items": null,
            "left": null,
            "margin": null,
            "max_height": null,
            "max_width": null,
            "min_height": null,
            "min_width": null,
            "object_fit": null,
            "object_position": null,
            "order": null,
            "overflow": null,
            "overflow_x": null,
            "overflow_y": null,
            "padding": null,
            "right": null,
            "top": null,
            "visibility": null,
            "width": null
          }
        },
        "226136751d314ccebefa4502d1e4cabb": {
          "model_module": "@jupyter-widgets/base",
          "model_name": "LayoutModel",
          "model_module_version": "1.2.0",
          "state": {
            "_model_module": "@jupyter-widgets/base",
            "_model_module_version": "1.2.0",
            "_model_name": "LayoutModel",
            "_view_count": null,
            "_view_module": "@jupyter-widgets/base",
            "_view_module_version": "1.2.0",
            "_view_name": "LayoutView",
            "align_content": null,
            "align_items": null,
            "align_self": null,
            "border": null,
            "bottom": null,
            "display": null,
            "flex": null,
            "flex_flow": null,
            "grid_area": null,
            "grid_auto_columns": null,
            "grid_auto_flow": null,
            "grid_auto_rows": null,
            "grid_column": null,
            "grid_gap": null,
            "grid_row": null,
            "grid_template_areas": null,
            "grid_template_columns": null,
            "grid_template_rows": null,
            "height": null,
            "justify_content": null,
            "justify_items": null,
            "left": null,
            "margin": null,
            "max_height": null,
            "max_width": null,
            "min_height": null,
            "min_width": null,
            "object_fit": null,
            "object_position": null,
            "order": null,
            "overflow": null,
            "overflow_x": null,
            "overflow_y": null,
            "padding": null,
            "right": null,
            "top": null,
            "visibility": null,
            "width": null
          }
        },
        "3a4ec22794104f368234d1896afdbd69": {
          "model_module": "@jupyter-widgets/controls",
          "model_name": "DescriptionStyleModel",
          "model_module_version": "1.5.0",
          "state": {
            "_model_module": "@jupyter-widgets/controls",
            "_model_module_version": "1.5.0",
            "_model_name": "DescriptionStyleModel",
            "_view_count": null,
            "_view_module": "@jupyter-widgets/base",
            "_view_module_version": "1.2.0",
            "_view_name": "StyleView",
            "description_width": ""
          }
        },
        "8d74a4d0c8604e2c8a81936e738669c4": {
          "model_module": "@jupyter-widgets/base",
          "model_name": "LayoutModel",
          "model_module_version": "1.2.0",
          "state": {
            "_model_module": "@jupyter-widgets/base",
            "_model_module_version": "1.2.0",
            "_model_name": "LayoutModel",
            "_view_count": null,
            "_view_module": "@jupyter-widgets/base",
            "_view_module_version": "1.2.0",
            "_view_name": "LayoutView",
            "align_content": null,
            "align_items": null,
            "align_self": null,
            "border": null,
            "bottom": null,
            "display": null,
            "flex": null,
            "flex_flow": null,
            "grid_area": null,
            "grid_auto_columns": null,
            "grid_auto_flow": null,
            "grid_auto_rows": null,
            "grid_column": null,
            "grid_gap": null,
            "grid_row": null,
            "grid_template_areas": null,
            "grid_template_columns": null,
            "grid_template_rows": null,
            "height": null,
            "justify_content": null,
            "justify_items": null,
            "left": null,
            "margin": null,
            "max_height": null,
            "max_width": null,
            "min_height": null,
            "min_width": null,
            "object_fit": null,
            "object_position": null,
            "order": null,
            "overflow": null,
            "overflow_x": null,
            "overflow_y": null,
            "padding": null,
            "right": null,
            "top": null,
            "visibility": null,
            "width": "20px"
          }
        },
        "c91e3a36165e4025bcfb477beb5fe373": {
          "model_module": "@jupyter-widgets/controls",
          "model_name": "ProgressStyleModel",
          "model_module_version": "1.5.0",
          "state": {
            "_model_module": "@jupyter-widgets/controls",
            "_model_module_version": "1.5.0",
            "_model_name": "ProgressStyleModel",
            "_view_count": null,
            "_view_module": "@jupyter-widgets/base",
            "_view_module_version": "1.2.0",
            "_view_name": "StyleView",
            "bar_color": null,
            "description_width": ""
          }
        },
        "4a650501e6514917ac47b5a82385ea54": {
          "model_module": "@jupyter-widgets/base",
          "model_name": "LayoutModel",
          "model_module_version": "1.2.0",
          "state": {
            "_model_module": "@jupyter-widgets/base",
            "_model_module_version": "1.2.0",
            "_model_name": "LayoutModel",
            "_view_count": null,
            "_view_module": "@jupyter-widgets/base",
            "_view_module_version": "1.2.0",
            "_view_name": "LayoutView",
            "align_content": null,
            "align_items": null,
            "align_self": null,
            "border": null,
            "bottom": null,
            "display": null,
            "flex": null,
            "flex_flow": null,
            "grid_area": null,
            "grid_auto_columns": null,
            "grid_auto_flow": null,
            "grid_auto_rows": null,
            "grid_column": null,
            "grid_gap": null,
            "grid_row": null,
            "grid_template_areas": null,
            "grid_template_columns": null,
            "grid_template_rows": null,
            "height": null,
            "justify_content": null,
            "justify_items": null,
            "left": null,
            "margin": null,
            "max_height": null,
            "max_width": null,
            "min_height": null,
            "min_width": null,
            "object_fit": null,
            "object_position": null,
            "order": null,
            "overflow": null,
            "overflow_x": null,
            "overflow_y": null,
            "padding": null,
            "right": null,
            "top": null,
            "visibility": null,
            "width": null
          }
        },
        "e8613f876c6449edb610bb3c41261ff5": {
          "model_module": "@jupyter-widgets/controls",
          "model_name": "DescriptionStyleModel",
          "model_module_version": "1.5.0",
          "state": {
            "_model_module": "@jupyter-widgets/controls",
            "_model_module_version": "1.5.0",
            "_model_name": "DescriptionStyleModel",
            "_view_count": null,
            "_view_module": "@jupyter-widgets/base",
            "_view_module_version": "1.2.0",
            "_view_name": "StyleView",
            "description_width": ""
          }
        },
        "21b52373f09545a8af1cf3092e3e7276": {
          "model_module": "@jupyter-widgets/controls",
          "model_name": "HBoxModel",
          "model_module_version": "1.5.0",
          "state": {
            "_dom_classes": [],
            "_model_module": "@jupyter-widgets/controls",
            "_model_module_version": "1.5.0",
            "_model_name": "HBoxModel",
            "_view_count": null,
            "_view_module": "@jupyter-widgets/controls",
            "_view_module_version": "1.5.0",
            "_view_name": "HBoxView",
            "box_style": "",
            "children": [
              "IPY_MODEL_592e8cd179124af7ae1e2b8624147767",
              "IPY_MODEL_11b8132a78394f68a7a329ad096573f9",
              "IPY_MODEL_6155ddb7cb3e40cf8e42cfffa5f34a7a"
            ],
            "layout": "IPY_MODEL_dacfef9e79984320a2d886cc36c47a13"
          }
        },
        "592e8cd179124af7ae1e2b8624147767": {
          "model_module": "@jupyter-widgets/controls",
          "model_name": "HTMLModel",
          "model_module_version": "1.5.0",
          "state": {
            "_dom_classes": [],
            "_model_module": "@jupyter-widgets/controls",
            "_model_module_version": "1.5.0",
            "_model_name": "HTMLModel",
            "_view_count": null,
            "_view_module": "@jupyter-widgets/controls",
            "_view_module_version": "1.5.0",
            "_view_name": "HTMLView",
            "description": "",
            "description_tooltip": null,
            "layout": "IPY_MODEL_98874d4f387748b4b84072dccdec48de",
            "placeholder": "​",
            "style": "IPY_MODEL_6e4ff25a0e5148b3910cb712dca38acc",
            "value": "100%"
          }
        },
        "11b8132a78394f68a7a329ad096573f9": {
          "model_module": "@jupyter-widgets/controls",
          "model_name": "FloatProgressModel",
          "model_module_version": "1.5.0",
          "state": {
            "_dom_classes": [],
            "_model_module": "@jupyter-widgets/controls",
            "_model_module_version": "1.5.0",
            "_model_name": "FloatProgressModel",
            "_view_count": null,
            "_view_module": "@jupyter-widgets/controls",
            "_view_module_version": "1.5.0",
            "_view_name": "ProgressView",
            "bar_style": "success",
            "description": "",
            "description_tooltip": null,
            "layout": "IPY_MODEL_64432114cd6948a9b384f6dfc970073c",
            "max": 1,
            "min": 0,
            "orientation": "horizontal",
            "style": "IPY_MODEL_a551dc2a79014c509738cbae8e903525",
            "value": 1
          }
        },
        "6155ddb7cb3e40cf8e42cfffa5f34a7a": {
          "model_module": "@jupyter-widgets/controls",
          "model_name": "HTMLModel",
          "model_module_version": "1.5.0",
          "state": {
            "_dom_classes": [],
            "_model_module": "@jupyter-widgets/controls",
            "_model_module_version": "1.5.0",
            "_model_name": "HTMLModel",
            "_view_count": null,
            "_view_module": "@jupyter-widgets/controls",
            "_view_module_version": "1.5.0",
            "_view_name": "HTMLView",
            "description": "",
            "description_tooltip": null,
            "layout": "IPY_MODEL_bbcebf35d8e64b59be8cc2134c057218",
            "placeholder": "​",
            "style": "IPY_MODEL_ef131181d90e4c7fbfc6130b06798385",
            "value": " 1/1 [00:00&lt;00:00, 21.66ba/s]"
          }
        },
        "dacfef9e79984320a2d886cc36c47a13": {
          "model_module": "@jupyter-widgets/base",
          "model_name": "LayoutModel",
          "model_module_version": "1.2.0",
          "state": {
            "_model_module": "@jupyter-widgets/base",
            "_model_module_version": "1.2.0",
            "_model_name": "LayoutModel",
            "_view_count": null,
            "_view_module": "@jupyter-widgets/base",
            "_view_module_version": "1.2.0",
            "_view_name": "LayoutView",
            "align_content": null,
            "align_items": null,
            "align_self": null,
            "border": null,
            "bottom": null,
            "display": null,
            "flex": null,
            "flex_flow": null,
            "grid_area": null,
            "grid_auto_columns": null,
            "grid_auto_flow": null,
            "grid_auto_rows": null,
            "grid_column": null,
            "grid_gap": null,
            "grid_row": null,
            "grid_template_areas": null,
            "grid_template_columns": null,
            "grid_template_rows": null,
            "height": null,
            "justify_content": null,
            "justify_items": null,
            "left": null,
            "margin": null,
            "max_height": null,
            "max_width": null,
            "min_height": null,
            "min_width": null,
            "object_fit": null,
            "object_position": null,
            "order": null,
            "overflow": null,
            "overflow_x": null,
            "overflow_y": null,
            "padding": null,
            "right": null,
            "top": null,
            "visibility": null,
            "width": null
          }
        },
        "98874d4f387748b4b84072dccdec48de": {
          "model_module": "@jupyter-widgets/base",
          "model_name": "LayoutModel",
          "model_module_version": "1.2.0",
          "state": {
            "_model_module": "@jupyter-widgets/base",
            "_model_module_version": "1.2.0",
            "_model_name": "LayoutModel",
            "_view_count": null,
            "_view_module": "@jupyter-widgets/base",
            "_view_module_version": "1.2.0",
            "_view_name": "LayoutView",
            "align_content": null,
            "align_items": null,
            "align_self": null,
            "border": null,
            "bottom": null,
            "display": null,
            "flex": null,
            "flex_flow": null,
            "grid_area": null,
            "grid_auto_columns": null,
            "grid_auto_flow": null,
            "grid_auto_rows": null,
            "grid_column": null,
            "grid_gap": null,
            "grid_row": null,
            "grid_template_areas": null,
            "grid_template_columns": null,
            "grid_template_rows": null,
            "height": null,
            "justify_content": null,
            "justify_items": null,
            "left": null,
            "margin": null,
            "max_height": null,
            "max_width": null,
            "min_height": null,
            "min_width": null,
            "object_fit": null,
            "object_position": null,
            "order": null,
            "overflow": null,
            "overflow_x": null,
            "overflow_y": null,
            "padding": null,
            "right": null,
            "top": null,
            "visibility": null,
            "width": null
          }
        },
        "6e4ff25a0e5148b3910cb712dca38acc": {
          "model_module": "@jupyter-widgets/controls",
          "model_name": "DescriptionStyleModel",
          "model_module_version": "1.5.0",
          "state": {
            "_model_module": "@jupyter-widgets/controls",
            "_model_module_version": "1.5.0",
            "_model_name": "DescriptionStyleModel",
            "_view_count": null,
            "_view_module": "@jupyter-widgets/base",
            "_view_module_version": "1.2.0",
            "_view_name": "StyleView",
            "description_width": ""
          }
        },
        "64432114cd6948a9b384f6dfc970073c": {
          "model_module": "@jupyter-widgets/base",
          "model_name": "LayoutModel",
          "model_module_version": "1.2.0",
          "state": {
            "_model_module": "@jupyter-widgets/base",
            "_model_module_version": "1.2.0",
            "_model_name": "LayoutModel",
            "_view_count": null,
            "_view_module": "@jupyter-widgets/base",
            "_view_module_version": "1.2.0",
            "_view_name": "LayoutView",
            "align_content": null,
            "align_items": null,
            "align_self": null,
            "border": null,
            "bottom": null,
            "display": null,
            "flex": null,
            "flex_flow": null,
            "grid_area": null,
            "grid_auto_columns": null,
            "grid_auto_flow": null,
            "grid_auto_rows": null,
            "grid_column": null,
            "grid_gap": null,
            "grid_row": null,
            "grid_template_areas": null,
            "grid_template_columns": null,
            "grid_template_rows": null,
            "height": null,
            "justify_content": null,
            "justify_items": null,
            "left": null,
            "margin": null,
            "max_height": null,
            "max_width": null,
            "min_height": null,
            "min_width": null,
            "object_fit": null,
            "object_position": null,
            "order": null,
            "overflow": null,
            "overflow_x": null,
            "overflow_y": null,
            "padding": null,
            "right": null,
            "top": null,
            "visibility": null,
            "width": null
          }
        },
        "a551dc2a79014c509738cbae8e903525": {
          "model_module": "@jupyter-widgets/controls",
          "model_name": "ProgressStyleModel",
          "model_module_version": "1.5.0",
          "state": {
            "_model_module": "@jupyter-widgets/controls",
            "_model_module_version": "1.5.0",
            "_model_name": "ProgressStyleModel",
            "_view_count": null,
            "_view_module": "@jupyter-widgets/base",
            "_view_module_version": "1.2.0",
            "_view_name": "StyleView",
            "bar_color": null,
            "description_width": ""
          }
        },
        "bbcebf35d8e64b59be8cc2134c057218": {
          "model_module": "@jupyter-widgets/base",
          "model_name": "LayoutModel",
          "model_module_version": "1.2.0",
          "state": {
            "_model_module": "@jupyter-widgets/base",
            "_model_module_version": "1.2.0",
            "_model_name": "LayoutModel",
            "_view_count": null,
            "_view_module": "@jupyter-widgets/base",
            "_view_module_version": "1.2.0",
            "_view_name": "LayoutView",
            "align_content": null,
            "align_items": null,
            "align_self": null,
            "border": null,
            "bottom": null,
            "display": null,
            "flex": null,
            "flex_flow": null,
            "grid_area": null,
            "grid_auto_columns": null,
            "grid_auto_flow": null,
            "grid_auto_rows": null,
            "grid_column": null,
            "grid_gap": null,
            "grid_row": null,
            "grid_template_areas": null,
            "grid_template_columns": null,
            "grid_template_rows": null,
            "height": null,
            "justify_content": null,
            "justify_items": null,
            "left": null,
            "margin": null,
            "max_height": null,
            "max_width": null,
            "min_height": null,
            "min_width": null,
            "object_fit": null,
            "object_position": null,
            "order": null,
            "overflow": null,
            "overflow_x": null,
            "overflow_y": null,
            "padding": null,
            "right": null,
            "top": null,
            "visibility": null,
            "width": null
          }
        },
        "ef131181d90e4c7fbfc6130b06798385": {
          "model_module": "@jupyter-widgets/controls",
          "model_name": "DescriptionStyleModel",
          "model_module_version": "1.5.0",
          "state": {
            "_model_module": "@jupyter-widgets/controls",
            "_model_module_version": "1.5.0",
            "_model_name": "DescriptionStyleModel",
            "_view_count": null,
            "_view_module": "@jupyter-widgets/base",
            "_view_module_version": "1.2.0",
            "_view_name": "StyleView",
            "description_width": ""
          }
        },
        "11dc55787a404ae4a9844f496c0556bc": {
          "model_module": "@jupyter-widgets/controls",
          "model_name": "HBoxModel",
          "model_module_version": "1.5.0",
          "state": {
            "_dom_classes": [],
            "_model_module": "@jupyter-widgets/controls",
            "_model_module_version": "1.5.0",
            "_model_name": "HBoxModel",
            "_view_count": null,
            "_view_module": "@jupyter-widgets/controls",
            "_view_module_version": "1.5.0",
            "_view_name": "HBoxView",
            "box_style": "",
            "children": [
              "IPY_MODEL_bd3a30462b67477499703a9f4c88a1fe",
              "IPY_MODEL_9bbac7eba02f4d8c8d7e8326c38f7cd1",
              "IPY_MODEL_645c36b78fd34060bbc108c44eb37a96"
            ],
            "layout": "IPY_MODEL_20025a83b9ba40c8b32fb0787e416726"
          }
        },
        "bd3a30462b67477499703a9f4c88a1fe": {
          "model_module": "@jupyter-widgets/controls",
          "model_name": "HTMLModel",
          "model_module_version": "1.5.0",
          "state": {
            "_dom_classes": [],
            "_model_module": "@jupyter-widgets/controls",
            "_model_module_version": "1.5.0",
            "_model_name": "HTMLModel",
            "_view_count": null,
            "_view_module": "@jupyter-widgets/controls",
            "_view_module_version": "1.5.0",
            "_view_name": "HTMLView",
            "description": "",
            "description_tooltip": null,
            "layout": "IPY_MODEL_cc283634919f458bb076d9eecd7b70fe",
            "placeholder": "​",
            "style": "IPY_MODEL_da45d6828e734b0a8d535bdb2728dffe",
            "value": "100%"
          }
        },
        "9bbac7eba02f4d8c8d7e8326c38f7cd1": {
          "model_module": "@jupyter-widgets/controls",
          "model_name": "FloatProgressModel",
          "model_module_version": "1.5.0",
          "state": {
            "_dom_classes": [],
            "_model_module": "@jupyter-widgets/controls",
            "_model_module_version": "1.5.0",
            "_model_name": "FloatProgressModel",
            "_view_count": null,
            "_view_module": "@jupyter-widgets/controls",
            "_view_module_version": "1.5.0",
            "_view_name": "ProgressView",
            "bar_style": "success",
            "description": "",
            "description_tooltip": null,
            "layout": "IPY_MODEL_7cdb686ec1c641f49c3a9a380feacd67",
            "max": 1,
            "min": 0,
            "orientation": "horizontal",
            "style": "IPY_MODEL_4b9bec24089044ee8ec4ee37643ff9aa",
            "value": 1
          }
        },
        "645c36b78fd34060bbc108c44eb37a96": {
          "model_module": "@jupyter-widgets/controls",
          "model_name": "HTMLModel",
          "model_module_version": "1.5.0",
          "state": {
            "_dom_classes": [],
            "_model_module": "@jupyter-widgets/controls",
            "_model_module_version": "1.5.0",
            "_model_name": "HTMLModel",
            "_view_count": null,
            "_view_module": "@jupyter-widgets/controls",
            "_view_module_version": "1.5.0",
            "_view_name": "HTMLView",
            "description": "",
            "description_tooltip": null,
            "layout": "IPY_MODEL_e76e1bc9944e40ca832601f2f57d73e8",
            "placeholder": "​",
            "style": "IPY_MODEL_84aa411fb5844afebfb86094eca77f2b",
            "value": " 1/1 [00:00&lt;00:00, 42.55ba/s]"
          }
        },
        "20025a83b9ba40c8b32fb0787e416726": {
          "model_module": "@jupyter-widgets/base",
          "model_name": "LayoutModel",
          "model_module_version": "1.2.0",
          "state": {
            "_model_module": "@jupyter-widgets/base",
            "_model_module_version": "1.2.0",
            "_model_name": "LayoutModel",
            "_view_count": null,
            "_view_module": "@jupyter-widgets/base",
            "_view_module_version": "1.2.0",
            "_view_name": "LayoutView",
            "align_content": null,
            "align_items": null,
            "align_self": null,
            "border": null,
            "bottom": null,
            "display": null,
            "flex": null,
            "flex_flow": null,
            "grid_area": null,
            "grid_auto_columns": null,
            "grid_auto_flow": null,
            "grid_auto_rows": null,
            "grid_column": null,
            "grid_gap": null,
            "grid_row": null,
            "grid_template_areas": null,
            "grid_template_columns": null,
            "grid_template_rows": null,
            "height": null,
            "justify_content": null,
            "justify_items": null,
            "left": null,
            "margin": null,
            "max_height": null,
            "max_width": null,
            "min_height": null,
            "min_width": null,
            "object_fit": null,
            "object_position": null,
            "order": null,
            "overflow": null,
            "overflow_x": null,
            "overflow_y": null,
            "padding": null,
            "right": null,
            "top": null,
            "visibility": null,
            "width": null
          }
        },
        "cc283634919f458bb076d9eecd7b70fe": {
          "model_module": "@jupyter-widgets/base",
          "model_name": "LayoutModel",
          "model_module_version": "1.2.0",
          "state": {
            "_model_module": "@jupyter-widgets/base",
            "_model_module_version": "1.2.0",
            "_model_name": "LayoutModel",
            "_view_count": null,
            "_view_module": "@jupyter-widgets/base",
            "_view_module_version": "1.2.0",
            "_view_name": "LayoutView",
            "align_content": null,
            "align_items": null,
            "align_self": null,
            "border": null,
            "bottom": null,
            "display": null,
            "flex": null,
            "flex_flow": null,
            "grid_area": null,
            "grid_auto_columns": null,
            "grid_auto_flow": null,
            "grid_auto_rows": null,
            "grid_column": null,
            "grid_gap": null,
            "grid_row": null,
            "grid_template_areas": null,
            "grid_template_columns": null,
            "grid_template_rows": null,
            "height": null,
            "justify_content": null,
            "justify_items": null,
            "left": null,
            "margin": null,
            "max_height": null,
            "max_width": null,
            "min_height": null,
            "min_width": null,
            "object_fit": null,
            "object_position": null,
            "order": null,
            "overflow": null,
            "overflow_x": null,
            "overflow_y": null,
            "padding": null,
            "right": null,
            "top": null,
            "visibility": null,
            "width": null
          }
        },
        "da45d6828e734b0a8d535bdb2728dffe": {
          "model_module": "@jupyter-widgets/controls",
          "model_name": "DescriptionStyleModel",
          "model_module_version": "1.5.0",
          "state": {
            "_model_module": "@jupyter-widgets/controls",
            "_model_module_version": "1.5.0",
            "_model_name": "DescriptionStyleModel",
            "_view_count": null,
            "_view_module": "@jupyter-widgets/base",
            "_view_module_version": "1.2.0",
            "_view_name": "StyleView",
            "description_width": ""
          }
        },
        "7cdb686ec1c641f49c3a9a380feacd67": {
          "model_module": "@jupyter-widgets/base",
          "model_name": "LayoutModel",
          "model_module_version": "1.2.0",
          "state": {
            "_model_module": "@jupyter-widgets/base",
            "_model_module_version": "1.2.0",
            "_model_name": "LayoutModel",
            "_view_count": null,
            "_view_module": "@jupyter-widgets/base",
            "_view_module_version": "1.2.0",
            "_view_name": "LayoutView",
            "align_content": null,
            "align_items": null,
            "align_self": null,
            "border": null,
            "bottom": null,
            "display": null,
            "flex": null,
            "flex_flow": null,
            "grid_area": null,
            "grid_auto_columns": null,
            "grid_auto_flow": null,
            "grid_auto_rows": null,
            "grid_column": null,
            "grid_gap": null,
            "grid_row": null,
            "grid_template_areas": null,
            "grid_template_columns": null,
            "grid_template_rows": null,
            "height": null,
            "justify_content": null,
            "justify_items": null,
            "left": null,
            "margin": null,
            "max_height": null,
            "max_width": null,
            "min_height": null,
            "min_width": null,
            "object_fit": null,
            "object_position": null,
            "order": null,
            "overflow": null,
            "overflow_x": null,
            "overflow_y": null,
            "padding": null,
            "right": null,
            "top": null,
            "visibility": null,
            "width": null
          }
        },
        "4b9bec24089044ee8ec4ee37643ff9aa": {
          "model_module": "@jupyter-widgets/controls",
          "model_name": "ProgressStyleModel",
          "model_module_version": "1.5.0",
          "state": {
            "_model_module": "@jupyter-widgets/controls",
            "_model_module_version": "1.5.0",
            "_model_name": "ProgressStyleModel",
            "_view_count": null,
            "_view_module": "@jupyter-widgets/base",
            "_view_module_version": "1.2.0",
            "_view_name": "StyleView",
            "bar_color": null,
            "description_width": ""
          }
        },
        "e76e1bc9944e40ca832601f2f57d73e8": {
          "model_module": "@jupyter-widgets/base",
          "model_name": "LayoutModel",
          "model_module_version": "1.2.0",
          "state": {
            "_model_module": "@jupyter-widgets/base",
            "_model_module_version": "1.2.0",
            "_model_name": "LayoutModel",
            "_view_count": null,
            "_view_module": "@jupyter-widgets/base",
            "_view_module_version": "1.2.0",
            "_view_name": "LayoutView",
            "align_content": null,
            "align_items": null,
            "align_self": null,
            "border": null,
            "bottom": null,
            "display": null,
            "flex": null,
            "flex_flow": null,
            "grid_area": null,
            "grid_auto_columns": null,
            "grid_auto_flow": null,
            "grid_auto_rows": null,
            "grid_column": null,
            "grid_gap": null,
            "grid_row": null,
            "grid_template_areas": null,
            "grid_template_columns": null,
            "grid_template_rows": null,
            "height": null,
            "justify_content": null,
            "justify_items": null,
            "left": null,
            "margin": null,
            "max_height": null,
            "max_width": null,
            "min_height": null,
            "min_width": null,
            "object_fit": null,
            "object_position": null,
            "order": null,
            "overflow": null,
            "overflow_x": null,
            "overflow_y": null,
            "padding": null,
            "right": null,
            "top": null,
            "visibility": null,
            "width": null
          }
        },
        "84aa411fb5844afebfb86094eca77f2b": {
          "model_module": "@jupyter-widgets/controls",
          "model_name": "DescriptionStyleModel",
          "model_module_version": "1.5.0",
          "state": {
            "_model_module": "@jupyter-widgets/controls",
            "_model_module_version": "1.5.0",
            "_model_name": "DescriptionStyleModel",
            "_view_count": null,
            "_view_module": "@jupyter-widgets/base",
            "_view_module_version": "1.2.0",
            "_view_name": "StyleView",
            "description_width": ""
          }
        },
        "fe9456b422fa4d38b9c381c0d6c7f6e5": {
          "model_module": "@jupyter-widgets/controls",
          "model_name": "HBoxModel",
          "model_module_version": "1.5.0",
          "state": {
            "_dom_classes": [],
            "_model_module": "@jupyter-widgets/controls",
            "_model_module_version": "1.5.0",
            "_model_name": "HBoxModel",
            "_view_count": null,
            "_view_module": "@jupyter-widgets/controls",
            "_view_module_version": "1.5.0",
            "_view_name": "HBoxView",
            "box_style": "",
            "children": [
              "IPY_MODEL_264f65e3461f472f8126eb8e143856e9",
              "IPY_MODEL_f8fa4bc2914440f8b60c3af2b10974b2",
              "IPY_MODEL_6a0167fed24b40c3b8c64ec4770deb90"
            ],
            "layout": "IPY_MODEL_70a37abea9f7445cb3dcf557bbf9d5ef"
          }
        },
        "264f65e3461f472f8126eb8e143856e9": {
          "model_module": "@jupyter-widgets/controls",
          "model_name": "HTMLModel",
          "model_module_version": "1.5.0",
          "state": {
            "_dom_classes": [],
            "_model_module": "@jupyter-widgets/controls",
            "_model_module_version": "1.5.0",
            "_model_name": "HTMLModel",
            "_view_count": null,
            "_view_module": "@jupyter-widgets/controls",
            "_view_module_version": "1.5.0",
            "_view_name": "HTMLView",
            "description": "",
            "description_tooltip": null,
            "layout": "IPY_MODEL_ade519c5664647ca9a212a8bbebe9321",
            "placeholder": "​",
            "style": "IPY_MODEL_3f57e24f82894d999d3a8e9c3aae7f95",
            "value": "100%"
          }
        },
        "f8fa4bc2914440f8b60c3af2b10974b2": {
          "model_module": "@jupyter-widgets/controls",
          "model_name": "FloatProgressModel",
          "model_module_version": "1.5.0",
          "state": {
            "_dom_classes": [],
            "_model_module": "@jupyter-widgets/controls",
            "_model_module_version": "1.5.0",
            "_model_name": "FloatProgressModel",
            "_view_count": null,
            "_view_module": "@jupyter-widgets/controls",
            "_view_module_version": "1.5.0",
            "_view_name": "ProgressView",
            "bar_style": "success",
            "description": "",
            "description_tooltip": null,
            "layout": "IPY_MODEL_64eb5f645dd64406b9d8d0a8b1172649",
            "max": 5,
            "min": 0,
            "orientation": "horizontal",
            "style": "IPY_MODEL_ffa82a5c21d4442ba1d0b42192eb765a",
            "value": 5
          }
        },
        "6a0167fed24b40c3b8c64ec4770deb90": {
          "model_module": "@jupyter-widgets/controls",
          "model_name": "HTMLModel",
          "model_module_version": "1.5.0",
          "state": {
            "_dom_classes": [],
            "_model_module": "@jupyter-widgets/controls",
            "_model_module_version": "1.5.0",
            "_model_name": "HTMLModel",
            "_view_count": null,
            "_view_module": "@jupyter-widgets/controls",
            "_view_module_version": "1.5.0",
            "_view_name": "HTMLView",
            "description": "",
            "description_tooltip": null,
            "layout": "IPY_MODEL_0ff8d627e4b34d3e958625e2296a0a5f",
            "placeholder": "​",
            "style": "IPY_MODEL_df05544f74144fcbabab04a267fc49b6",
            "value": " 5/5 [00:00&lt;00:00, 261.61ba/s]"
          }
        },
        "70a37abea9f7445cb3dcf557bbf9d5ef": {
          "model_module": "@jupyter-widgets/base",
          "model_name": "LayoutModel",
          "model_module_version": "1.2.0",
          "state": {
            "_model_module": "@jupyter-widgets/base",
            "_model_module_version": "1.2.0",
            "_model_name": "LayoutModel",
            "_view_count": null,
            "_view_module": "@jupyter-widgets/base",
            "_view_module_version": "1.2.0",
            "_view_name": "LayoutView",
            "align_content": null,
            "align_items": null,
            "align_self": null,
            "border": null,
            "bottom": null,
            "display": null,
            "flex": null,
            "flex_flow": null,
            "grid_area": null,
            "grid_auto_columns": null,
            "grid_auto_flow": null,
            "grid_auto_rows": null,
            "grid_column": null,
            "grid_gap": null,
            "grid_row": null,
            "grid_template_areas": null,
            "grid_template_columns": null,
            "grid_template_rows": null,
            "height": null,
            "justify_content": null,
            "justify_items": null,
            "left": null,
            "margin": null,
            "max_height": null,
            "max_width": null,
            "min_height": null,
            "min_width": null,
            "object_fit": null,
            "object_position": null,
            "order": null,
            "overflow": null,
            "overflow_x": null,
            "overflow_y": null,
            "padding": null,
            "right": null,
            "top": null,
            "visibility": null,
            "width": null
          }
        },
        "ade519c5664647ca9a212a8bbebe9321": {
          "model_module": "@jupyter-widgets/base",
          "model_name": "LayoutModel",
          "model_module_version": "1.2.0",
          "state": {
            "_model_module": "@jupyter-widgets/base",
            "_model_module_version": "1.2.0",
            "_model_name": "LayoutModel",
            "_view_count": null,
            "_view_module": "@jupyter-widgets/base",
            "_view_module_version": "1.2.0",
            "_view_name": "LayoutView",
            "align_content": null,
            "align_items": null,
            "align_self": null,
            "border": null,
            "bottom": null,
            "display": null,
            "flex": null,
            "flex_flow": null,
            "grid_area": null,
            "grid_auto_columns": null,
            "grid_auto_flow": null,
            "grid_auto_rows": null,
            "grid_column": null,
            "grid_gap": null,
            "grid_row": null,
            "grid_template_areas": null,
            "grid_template_columns": null,
            "grid_template_rows": null,
            "height": null,
            "justify_content": null,
            "justify_items": null,
            "left": null,
            "margin": null,
            "max_height": null,
            "max_width": null,
            "min_height": null,
            "min_width": null,
            "object_fit": null,
            "object_position": null,
            "order": null,
            "overflow": null,
            "overflow_x": null,
            "overflow_y": null,
            "padding": null,
            "right": null,
            "top": null,
            "visibility": null,
            "width": null
          }
        },
        "3f57e24f82894d999d3a8e9c3aae7f95": {
          "model_module": "@jupyter-widgets/controls",
          "model_name": "DescriptionStyleModel",
          "model_module_version": "1.5.0",
          "state": {
            "_model_module": "@jupyter-widgets/controls",
            "_model_module_version": "1.5.0",
            "_model_name": "DescriptionStyleModel",
            "_view_count": null,
            "_view_module": "@jupyter-widgets/base",
            "_view_module_version": "1.2.0",
            "_view_name": "StyleView",
            "description_width": ""
          }
        },
        "64eb5f645dd64406b9d8d0a8b1172649": {
          "model_module": "@jupyter-widgets/base",
          "model_name": "LayoutModel",
          "model_module_version": "1.2.0",
          "state": {
            "_model_module": "@jupyter-widgets/base",
            "_model_module_version": "1.2.0",
            "_model_name": "LayoutModel",
            "_view_count": null,
            "_view_module": "@jupyter-widgets/base",
            "_view_module_version": "1.2.0",
            "_view_name": "LayoutView",
            "align_content": null,
            "align_items": null,
            "align_self": null,
            "border": null,
            "bottom": null,
            "display": null,
            "flex": null,
            "flex_flow": null,
            "grid_area": null,
            "grid_auto_columns": null,
            "grid_auto_flow": null,
            "grid_auto_rows": null,
            "grid_column": null,
            "grid_gap": null,
            "grid_row": null,
            "grid_template_areas": null,
            "grid_template_columns": null,
            "grid_template_rows": null,
            "height": null,
            "justify_content": null,
            "justify_items": null,
            "left": null,
            "margin": null,
            "max_height": null,
            "max_width": null,
            "min_height": null,
            "min_width": null,
            "object_fit": null,
            "object_position": null,
            "order": null,
            "overflow": null,
            "overflow_x": null,
            "overflow_y": null,
            "padding": null,
            "right": null,
            "top": null,
            "visibility": null,
            "width": null
          }
        },
        "ffa82a5c21d4442ba1d0b42192eb765a": {
          "model_module": "@jupyter-widgets/controls",
          "model_name": "ProgressStyleModel",
          "model_module_version": "1.5.0",
          "state": {
            "_model_module": "@jupyter-widgets/controls",
            "_model_module_version": "1.5.0",
            "_model_name": "ProgressStyleModel",
            "_view_count": null,
            "_view_module": "@jupyter-widgets/base",
            "_view_module_version": "1.2.0",
            "_view_name": "StyleView",
            "bar_color": null,
            "description_width": ""
          }
        },
        "0ff8d627e4b34d3e958625e2296a0a5f": {
          "model_module": "@jupyter-widgets/base",
          "model_name": "LayoutModel",
          "model_module_version": "1.2.0",
          "state": {
            "_model_module": "@jupyter-widgets/base",
            "_model_module_version": "1.2.0",
            "_model_name": "LayoutModel",
            "_view_count": null,
            "_view_module": "@jupyter-widgets/base",
            "_view_module_version": "1.2.0",
            "_view_name": "LayoutView",
            "align_content": null,
            "align_items": null,
            "align_self": null,
            "border": null,
            "bottom": null,
            "display": null,
            "flex": null,
            "flex_flow": null,
            "grid_area": null,
            "grid_auto_columns": null,
            "grid_auto_flow": null,
            "grid_auto_rows": null,
            "grid_column": null,
            "grid_gap": null,
            "grid_row": null,
            "grid_template_areas": null,
            "grid_template_columns": null,
            "grid_template_rows": null,
            "height": null,
            "justify_content": null,
            "justify_items": null,
            "left": null,
            "margin": null,
            "max_height": null,
            "max_width": null,
            "min_height": null,
            "min_width": null,
            "object_fit": null,
            "object_position": null,
            "order": null,
            "overflow": null,
            "overflow_x": null,
            "overflow_y": null,
            "padding": null,
            "right": null,
            "top": null,
            "visibility": null,
            "width": null
          }
        },
        "df05544f74144fcbabab04a267fc49b6": {
          "model_module": "@jupyter-widgets/controls",
          "model_name": "DescriptionStyleModel",
          "model_module_version": "1.5.0",
          "state": {
            "_model_module": "@jupyter-widgets/controls",
            "_model_module_version": "1.5.0",
            "_model_name": "DescriptionStyleModel",
            "_view_count": null,
            "_view_module": "@jupyter-widgets/base",
            "_view_module_version": "1.2.0",
            "_view_name": "StyleView",
            "description_width": ""
          }
        },
        "26136312e0a24010b07c3a8d65512abb": {
          "model_module": "@jupyter-widgets/controls",
          "model_name": "HBoxModel",
          "model_module_version": "1.5.0",
          "state": {
            "_dom_classes": [],
            "_model_module": "@jupyter-widgets/controls",
            "_model_module_version": "1.5.0",
            "_model_name": "HBoxModel",
            "_view_count": null,
            "_view_module": "@jupyter-widgets/controls",
            "_view_module_version": "1.5.0",
            "_view_name": "HBoxView",
            "box_style": "",
            "children": [
              "IPY_MODEL_6806d851c81340f2a0a00389747eba62",
              "IPY_MODEL_301ac5695fc0442baf1430503562496f",
              "IPY_MODEL_373ff003f7104680a2993f8ce0f825fb"
            ],
            "layout": "IPY_MODEL_ed61ef0919dd43a49233bfd95f1cf773"
          }
        },
        "6806d851c81340f2a0a00389747eba62": {
          "model_module": "@jupyter-widgets/controls",
          "model_name": "HTMLModel",
          "model_module_version": "1.5.0",
          "state": {
            "_dom_classes": [],
            "_model_module": "@jupyter-widgets/controls",
            "_model_module_version": "1.5.0",
            "_model_name": "HTMLModel",
            "_view_count": null,
            "_view_module": "@jupyter-widgets/controls",
            "_view_module_version": "1.5.0",
            "_view_name": "HTMLView",
            "description": "",
            "description_tooltip": null,
            "layout": "IPY_MODEL_6a1fc47eea21418883d3516882c18d04",
            "placeholder": "​",
            "style": "IPY_MODEL_b25d89f0d44c4d23b7a54b697939d004",
            "value": "config.json: "
          }
        },
        "301ac5695fc0442baf1430503562496f": {
          "model_module": "@jupyter-widgets/controls",
          "model_name": "FloatProgressModel",
          "model_module_version": "1.5.0",
          "state": {
            "_dom_classes": [],
            "_model_module": "@jupyter-widgets/controls",
            "_model_module_version": "1.5.0",
            "_model_name": "FloatProgressModel",
            "_view_count": null,
            "_view_module": "@jupyter-widgets/controls",
            "_view_module_version": "1.5.0",
            "_view_name": "ProgressView",
            "bar_style": "success",
            "description": "",
            "description_tooltip": null,
            "layout": "IPY_MODEL_20461e347c6e4dab927c2757050d858d",
            "max": 1,
            "min": 0,
            "orientation": "horizontal",
            "style": "IPY_MODEL_bdc0ea4b3788421fa99490fd43696089",
            "value": 1
          }
        },
        "373ff003f7104680a2993f8ce0f825fb": {
          "model_module": "@jupyter-widgets/controls",
          "model_name": "HTMLModel",
          "model_module_version": "1.5.0",
          "state": {
            "_dom_classes": [],
            "_model_module": "@jupyter-widgets/controls",
            "_model_module_version": "1.5.0",
            "_model_name": "HTMLModel",
            "_view_count": null,
            "_view_module": "@jupyter-widgets/controls",
            "_view_module_version": "1.5.0",
            "_view_name": "HTMLView",
            "description": "",
            "description_tooltip": null,
            "layout": "IPY_MODEL_37babd06a5fc41b79a4ca317d02c18a8",
            "placeholder": "​",
            "style": "IPY_MODEL_054c45db6c1643f787e435cc91b99c0d",
            "value": " 1.84k/? [00:00&lt;00:00, 189kB/s]"
          }
        },
        "ed61ef0919dd43a49233bfd95f1cf773": {
          "model_module": "@jupyter-widgets/base",
          "model_name": "LayoutModel",
          "model_module_version": "1.2.0",
          "state": {
            "_model_module": "@jupyter-widgets/base",
            "_model_module_version": "1.2.0",
            "_model_name": "LayoutModel",
            "_view_count": null,
            "_view_module": "@jupyter-widgets/base",
            "_view_module_version": "1.2.0",
            "_view_name": "LayoutView",
            "align_content": null,
            "align_items": null,
            "align_self": null,
            "border": null,
            "bottom": null,
            "display": null,
            "flex": null,
            "flex_flow": null,
            "grid_area": null,
            "grid_auto_columns": null,
            "grid_auto_flow": null,
            "grid_auto_rows": null,
            "grid_column": null,
            "grid_gap": null,
            "grid_row": null,
            "grid_template_areas": null,
            "grid_template_columns": null,
            "grid_template_rows": null,
            "height": null,
            "justify_content": null,
            "justify_items": null,
            "left": null,
            "margin": null,
            "max_height": null,
            "max_width": null,
            "min_height": null,
            "min_width": null,
            "object_fit": null,
            "object_position": null,
            "order": null,
            "overflow": null,
            "overflow_x": null,
            "overflow_y": null,
            "padding": null,
            "right": null,
            "top": null,
            "visibility": null,
            "width": null
          }
        },
        "6a1fc47eea21418883d3516882c18d04": {
          "model_module": "@jupyter-widgets/base",
          "model_name": "LayoutModel",
          "model_module_version": "1.2.0",
          "state": {
            "_model_module": "@jupyter-widgets/base",
            "_model_module_version": "1.2.0",
            "_model_name": "LayoutModel",
            "_view_count": null,
            "_view_module": "@jupyter-widgets/base",
            "_view_module_version": "1.2.0",
            "_view_name": "LayoutView",
            "align_content": null,
            "align_items": null,
            "align_self": null,
            "border": null,
            "bottom": null,
            "display": null,
            "flex": null,
            "flex_flow": null,
            "grid_area": null,
            "grid_auto_columns": null,
            "grid_auto_flow": null,
            "grid_auto_rows": null,
            "grid_column": null,
            "grid_gap": null,
            "grid_row": null,
            "grid_template_areas": null,
            "grid_template_columns": null,
            "grid_template_rows": null,
            "height": null,
            "justify_content": null,
            "justify_items": null,
            "left": null,
            "margin": null,
            "max_height": null,
            "max_width": null,
            "min_height": null,
            "min_width": null,
            "object_fit": null,
            "object_position": null,
            "order": null,
            "overflow": null,
            "overflow_x": null,
            "overflow_y": null,
            "padding": null,
            "right": null,
            "top": null,
            "visibility": null,
            "width": null
          }
        },
        "b25d89f0d44c4d23b7a54b697939d004": {
          "model_module": "@jupyter-widgets/controls",
          "model_name": "DescriptionStyleModel",
          "model_module_version": "1.5.0",
          "state": {
            "_model_module": "@jupyter-widgets/controls",
            "_model_module_version": "1.5.0",
            "_model_name": "DescriptionStyleModel",
            "_view_count": null,
            "_view_module": "@jupyter-widgets/base",
            "_view_module_version": "1.2.0",
            "_view_name": "StyleView",
            "description_width": ""
          }
        },
        "20461e347c6e4dab927c2757050d858d": {
          "model_module": "@jupyter-widgets/base",
          "model_name": "LayoutModel",
          "model_module_version": "1.2.0",
          "state": {
            "_model_module": "@jupyter-widgets/base",
            "_model_module_version": "1.2.0",
            "_model_name": "LayoutModel",
            "_view_count": null,
            "_view_module": "@jupyter-widgets/base",
            "_view_module_version": "1.2.0",
            "_view_name": "LayoutView",
            "align_content": null,
            "align_items": null,
            "align_self": null,
            "border": null,
            "bottom": null,
            "display": null,
            "flex": null,
            "flex_flow": null,
            "grid_area": null,
            "grid_auto_columns": null,
            "grid_auto_flow": null,
            "grid_auto_rows": null,
            "grid_column": null,
            "grid_gap": null,
            "grid_row": null,
            "grid_template_areas": null,
            "grid_template_columns": null,
            "grid_template_rows": null,
            "height": null,
            "justify_content": null,
            "justify_items": null,
            "left": null,
            "margin": null,
            "max_height": null,
            "max_width": null,
            "min_height": null,
            "min_width": null,
            "object_fit": null,
            "object_position": null,
            "order": null,
            "overflow": null,
            "overflow_x": null,
            "overflow_y": null,
            "padding": null,
            "right": null,
            "top": null,
            "visibility": null,
            "width": "20px"
          }
        },
        "bdc0ea4b3788421fa99490fd43696089": {
          "model_module": "@jupyter-widgets/controls",
          "model_name": "ProgressStyleModel",
          "model_module_version": "1.5.0",
          "state": {
            "_model_module": "@jupyter-widgets/controls",
            "_model_module_version": "1.5.0",
            "_model_name": "ProgressStyleModel",
            "_view_count": null,
            "_view_module": "@jupyter-widgets/base",
            "_view_module_version": "1.2.0",
            "_view_name": "StyleView",
            "bar_color": null,
            "description_width": ""
          }
        },
        "37babd06a5fc41b79a4ca317d02c18a8": {
          "model_module": "@jupyter-widgets/base",
          "model_name": "LayoutModel",
          "model_module_version": "1.2.0",
          "state": {
            "_model_module": "@jupyter-widgets/base",
            "_model_module_version": "1.2.0",
            "_model_name": "LayoutModel",
            "_view_count": null,
            "_view_module": "@jupyter-widgets/base",
            "_view_module_version": "1.2.0",
            "_view_name": "LayoutView",
            "align_content": null,
            "align_items": null,
            "align_self": null,
            "border": null,
            "bottom": null,
            "display": null,
            "flex": null,
            "flex_flow": null,
            "grid_area": null,
            "grid_auto_columns": null,
            "grid_auto_flow": null,
            "grid_auto_rows": null,
            "grid_column": null,
            "grid_gap": null,
            "grid_row": null,
            "grid_template_areas": null,
            "grid_template_columns": null,
            "grid_template_rows": null,
            "height": null,
            "justify_content": null,
            "justify_items": null,
            "left": null,
            "margin": null,
            "max_height": null,
            "max_width": null,
            "min_height": null,
            "min_width": null,
            "object_fit": null,
            "object_position": null,
            "order": null,
            "overflow": null,
            "overflow_x": null,
            "overflow_y": null,
            "padding": null,
            "right": null,
            "top": null,
            "visibility": null,
            "width": null
          }
        },
        "054c45db6c1643f787e435cc91b99c0d": {
          "model_module": "@jupyter-widgets/controls",
          "model_name": "DescriptionStyleModel",
          "model_module_version": "1.5.0",
          "state": {
            "_model_module": "@jupyter-widgets/controls",
            "_model_module_version": "1.5.0",
            "_model_name": "DescriptionStyleModel",
            "_view_count": null,
            "_view_module": "@jupyter-widgets/base",
            "_view_module_version": "1.2.0",
            "_view_name": "StyleView",
            "description_width": ""
          }
        },
        "5da27d0d6c0944c68777813cfd457017": {
          "model_module": "@jupyter-widgets/controls",
          "model_name": "HBoxModel",
          "model_module_version": "1.5.0",
          "state": {
            "_dom_classes": [],
            "_model_module": "@jupyter-widgets/controls",
            "_model_module_version": "1.5.0",
            "_model_name": "HBoxModel",
            "_view_count": null,
            "_view_module": "@jupyter-widgets/controls",
            "_view_module_version": "1.5.0",
            "_view_name": "HBoxView",
            "box_style": "",
            "children": [
              "IPY_MODEL_ed5abe875d1e4b37902fe69fe0378886",
              "IPY_MODEL_8219349cc830493e9251ea5475477e17",
              "IPY_MODEL_da7cc9798d9940e8876cd54a6df843be"
            ],
            "layout": "IPY_MODEL_8501ebbcf2424a3caecd3a16ac626397"
          }
        },
        "ed5abe875d1e4b37902fe69fe0378886": {
          "model_module": "@jupyter-widgets/controls",
          "model_name": "HTMLModel",
          "model_module_version": "1.5.0",
          "state": {
            "_dom_classes": [],
            "_model_module": "@jupyter-widgets/controls",
            "_model_module_version": "1.5.0",
            "_model_name": "HTMLModel",
            "_view_count": null,
            "_view_module": "@jupyter-widgets/controls",
            "_view_module_version": "1.5.0",
            "_view_name": "HTMLView",
            "description": "",
            "description_tooltip": null,
            "layout": "IPY_MODEL_56aceb595ccc45c08d263f1d7b9bd960",
            "placeholder": "​",
            "style": "IPY_MODEL_e5f99a8c9a0e4bd3bc99e9b8e638890a",
            "value": "pytorch_model.bin: 100%"
          }
        },
        "8219349cc830493e9251ea5475477e17": {
          "model_module": "@jupyter-widgets/controls",
          "model_name": "FloatProgressModel",
          "model_module_version": "1.5.0",
          "state": {
            "_dom_classes": [],
            "_model_module": "@jupyter-widgets/controls",
            "_model_module_version": "1.5.0",
            "_model_name": "FloatProgressModel",
            "_view_count": null,
            "_view_module": "@jupyter-widgets/controls",
            "_view_module_version": "1.5.0",
            "_view_name": "ProgressView",
            "bar_style": "success",
            "description": "",
            "description_tooltip": null,
            "layout": "IPY_MODEL_3c5e705c195d4ad688d583eecdc1d731",
            "max": 380267417,
            "min": 0,
            "orientation": "horizontal",
            "style": "IPY_MODEL_aad515dd4cdc45ad95840c720bc6a4b3",
            "value": 380267417
          }
        },
        "da7cc9798d9940e8876cd54a6df843be": {
          "model_module": "@jupyter-widgets/controls",
          "model_name": "HTMLModel",
          "model_module_version": "1.5.0",
          "state": {
            "_dom_classes": [],
            "_model_module": "@jupyter-widgets/controls",
            "_model_module_version": "1.5.0",
            "_model_name": "HTMLModel",
            "_view_count": null,
            "_view_module": "@jupyter-widgets/controls",
            "_view_module_version": "1.5.0",
            "_view_name": "HTMLView",
            "description": "",
            "description_tooltip": null,
            "layout": "IPY_MODEL_89d33dcc5e35406eaefc311bbb1e1ab3",
            "placeholder": "​",
            "style": "IPY_MODEL_caabf14295da46ac8f53967452e6e5e4",
            "value": " 380M/380M [00:01&lt;00:00, 410MB/s]"
          }
        },
        "8501ebbcf2424a3caecd3a16ac626397": {
          "model_module": "@jupyter-widgets/base",
          "model_name": "LayoutModel",
          "model_module_version": "1.2.0",
          "state": {
            "_model_module": "@jupyter-widgets/base",
            "_model_module_version": "1.2.0",
            "_model_name": "LayoutModel",
            "_view_count": null,
            "_view_module": "@jupyter-widgets/base",
            "_view_module_version": "1.2.0",
            "_view_name": "LayoutView",
            "align_content": null,
            "align_items": null,
            "align_self": null,
            "border": null,
            "bottom": null,
            "display": null,
            "flex": null,
            "flex_flow": null,
            "grid_area": null,
            "grid_auto_columns": null,
            "grid_auto_flow": null,
            "grid_auto_rows": null,
            "grid_column": null,
            "grid_gap": null,
            "grid_row": null,
            "grid_template_areas": null,
            "grid_template_columns": null,
            "grid_template_rows": null,
            "height": null,
            "justify_content": null,
            "justify_items": null,
            "left": null,
            "margin": null,
            "max_height": null,
            "max_width": null,
            "min_height": null,
            "min_width": null,
            "object_fit": null,
            "object_position": null,
            "order": null,
            "overflow": null,
            "overflow_x": null,
            "overflow_y": null,
            "padding": null,
            "right": null,
            "top": null,
            "visibility": null,
            "width": null
          }
        },
        "56aceb595ccc45c08d263f1d7b9bd960": {
          "model_module": "@jupyter-widgets/base",
          "model_name": "LayoutModel",
          "model_module_version": "1.2.0",
          "state": {
            "_model_module": "@jupyter-widgets/base",
            "_model_module_version": "1.2.0",
            "_model_name": "LayoutModel",
            "_view_count": null,
            "_view_module": "@jupyter-widgets/base",
            "_view_module_version": "1.2.0",
            "_view_name": "LayoutView",
            "align_content": null,
            "align_items": null,
            "align_self": null,
            "border": null,
            "bottom": null,
            "display": null,
            "flex": null,
            "flex_flow": null,
            "grid_area": null,
            "grid_auto_columns": null,
            "grid_auto_flow": null,
            "grid_auto_rows": null,
            "grid_column": null,
            "grid_gap": null,
            "grid_row": null,
            "grid_template_areas": null,
            "grid_template_columns": null,
            "grid_template_rows": null,
            "height": null,
            "justify_content": null,
            "justify_items": null,
            "left": null,
            "margin": null,
            "max_height": null,
            "max_width": null,
            "min_height": null,
            "min_width": null,
            "object_fit": null,
            "object_position": null,
            "order": null,
            "overflow": null,
            "overflow_x": null,
            "overflow_y": null,
            "padding": null,
            "right": null,
            "top": null,
            "visibility": null,
            "width": null
          }
        },
        "e5f99a8c9a0e4bd3bc99e9b8e638890a": {
          "model_module": "@jupyter-widgets/controls",
          "model_name": "DescriptionStyleModel",
          "model_module_version": "1.5.0",
          "state": {
            "_model_module": "@jupyter-widgets/controls",
            "_model_module_version": "1.5.0",
            "_model_name": "DescriptionStyleModel",
            "_view_count": null,
            "_view_module": "@jupyter-widgets/base",
            "_view_module_version": "1.2.0",
            "_view_name": "StyleView",
            "description_width": ""
          }
        },
        "3c5e705c195d4ad688d583eecdc1d731": {
          "model_module": "@jupyter-widgets/base",
          "model_name": "LayoutModel",
          "model_module_version": "1.2.0",
          "state": {
            "_model_module": "@jupyter-widgets/base",
            "_model_module_version": "1.2.0",
            "_model_name": "LayoutModel",
            "_view_count": null,
            "_view_module": "@jupyter-widgets/base",
            "_view_module_version": "1.2.0",
            "_view_name": "LayoutView",
            "align_content": null,
            "align_items": null,
            "align_self": null,
            "border": null,
            "bottom": null,
            "display": null,
            "flex": null,
            "flex_flow": null,
            "grid_area": null,
            "grid_auto_columns": null,
            "grid_auto_flow": null,
            "grid_auto_rows": null,
            "grid_column": null,
            "grid_gap": null,
            "grid_row": null,
            "grid_template_areas": null,
            "grid_template_columns": null,
            "grid_template_rows": null,
            "height": null,
            "justify_content": null,
            "justify_items": null,
            "left": null,
            "margin": null,
            "max_height": null,
            "max_width": null,
            "min_height": null,
            "min_width": null,
            "object_fit": null,
            "object_position": null,
            "order": null,
            "overflow": null,
            "overflow_x": null,
            "overflow_y": null,
            "padding": null,
            "right": null,
            "top": null,
            "visibility": null,
            "width": null
          }
        },
        "aad515dd4cdc45ad95840c720bc6a4b3": {
          "model_module": "@jupyter-widgets/controls",
          "model_name": "ProgressStyleModel",
          "model_module_version": "1.5.0",
          "state": {
            "_model_module": "@jupyter-widgets/controls",
            "_model_module_version": "1.5.0",
            "_model_name": "ProgressStyleModel",
            "_view_count": null,
            "_view_module": "@jupyter-widgets/base",
            "_view_module_version": "1.2.0",
            "_view_name": "StyleView",
            "bar_color": null,
            "description_width": ""
          }
        },
        "89d33dcc5e35406eaefc311bbb1e1ab3": {
          "model_module": "@jupyter-widgets/base",
          "model_name": "LayoutModel",
          "model_module_version": "1.2.0",
          "state": {
            "_model_module": "@jupyter-widgets/base",
            "_model_module_version": "1.2.0",
            "_model_name": "LayoutModel",
            "_view_count": null,
            "_view_module": "@jupyter-widgets/base",
            "_view_module_version": "1.2.0",
            "_view_name": "LayoutView",
            "align_content": null,
            "align_items": null,
            "align_self": null,
            "border": null,
            "bottom": null,
            "display": null,
            "flex": null,
            "flex_flow": null,
            "grid_area": null,
            "grid_auto_columns": null,
            "grid_auto_flow": null,
            "grid_auto_rows": null,
            "grid_column": null,
            "grid_gap": null,
            "grid_row": null,
            "grid_template_areas": null,
            "grid_template_columns": null,
            "grid_template_rows": null,
            "height": null,
            "justify_content": null,
            "justify_items": null,
            "left": null,
            "margin": null,
            "max_height": null,
            "max_width": null,
            "min_height": null,
            "min_width": null,
            "object_fit": null,
            "object_position": null,
            "order": null,
            "overflow": null,
            "overflow_x": null,
            "overflow_y": null,
            "padding": null,
            "right": null,
            "top": null,
            "visibility": null,
            "width": null
          }
        },
        "caabf14295da46ac8f53967452e6e5e4": {
          "model_module": "@jupyter-widgets/controls",
          "model_name": "DescriptionStyleModel",
          "model_module_version": "1.5.0",
          "state": {
            "_model_module": "@jupyter-widgets/controls",
            "_model_module_version": "1.5.0",
            "_model_name": "DescriptionStyleModel",
            "_view_count": null,
            "_view_module": "@jupyter-widgets/base",
            "_view_module_version": "1.2.0",
            "_view_name": "StyleView",
            "description_width": ""
          }
        },
        "b7fa3752029443cf9a268c2ddab636c5": {
          "model_module": "@jupyter-widgets/controls",
          "model_name": "HBoxModel",
          "model_module_version": "1.5.0",
          "state": {
            "_dom_classes": [],
            "_model_module": "@jupyter-widgets/controls",
            "_model_module_version": "1.5.0",
            "_model_name": "HBoxModel",
            "_view_count": null,
            "_view_module": "@jupyter-widgets/controls",
            "_view_module_version": "1.5.0",
            "_view_name": "HBoxView",
            "box_style": "",
            "children": [
              "IPY_MODEL_57f73af9c23d4328b396770b6ad3f905",
              "IPY_MODEL_1b0697e6163f4741adbf294ba61f1fe4",
              "IPY_MODEL_b1e08a7e3de34668b1b6cc4949d3722b"
            ],
            "layout": "IPY_MODEL_1569585474124febbf88113b5df40508"
          }
        },
        "57f73af9c23d4328b396770b6ad3f905": {
          "model_module": "@jupyter-widgets/controls",
          "model_name": "HTMLModel",
          "model_module_version": "1.5.0",
          "state": {
            "_dom_classes": [],
            "_model_module": "@jupyter-widgets/controls",
            "_model_module_version": "1.5.0",
            "_model_name": "HTMLModel",
            "_view_count": null,
            "_view_module": "@jupyter-widgets/controls",
            "_view_module_version": "1.5.0",
            "_view_name": "HTMLView",
            "description": "",
            "description_tooltip": null,
            "layout": "IPY_MODEL_5b1dc6049f66443ba424cc6d30abc060",
            "placeholder": "​",
            "style": "IPY_MODEL_44aef4ccd559404d8415084838627206",
            "value": "training_args.bin: 100%"
          }
        },
        "1b0697e6163f4741adbf294ba61f1fe4": {
          "model_module": "@jupyter-widgets/controls",
          "model_name": "FloatProgressModel",
          "model_module_version": "1.5.0",
          "state": {
            "_dom_classes": [],
            "_model_module": "@jupyter-widgets/controls",
            "_model_module_version": "1.5.0",
            "_model_name": "FloatProgressModel",
            "_view_count": null,
            "_view_module": "@jupyter-widgets/controls",
            "_view_module_version": "1.5.0",
            "_view_name": "ProgressView",
            "bar_style": "success",
            "description": "",
            "description_tooltip": null,
            "layout": "IPY_MODEL_e19d4f3f07fd43ba9e86616cb29100c8",
            "max": 5368,
            "min": 0,
            "orientation": "horizontal",
            "style": "IPY_MODEL_b2209e73a5b748219c7b195c7d982125",
            "value": 5368
          }
        },
        "b1e08a7e3de34668b1b6cc4949d3722b": {
          "model_module": "@jupyter-widgets/controls",
          "model_name": "HTMLModel",
          "model_module_version": "1.5.0",
          "state": {
            "_dom_classes": [],
            "_model_module": "@jupyter-widgets/controls",
            "_model_module_version": "1.5.0",
            "_model_name": "HTMLModel",
            "_view_count": null,
            "_view_module": "@jupyter-widgets/controls",
            "_view_module_version": "1.5.0",
            "_view_name": "HTMLView",
            "description": "",
            "description_tooltip": null,
            "layout": "IPY_MODEL_6ff7ab11b20f4987a3d4fcce75a07474",
            "placeholder": "​",
            "style": "IPY_MODEL_7daf6ca32da44d869f328b08b9c95e4d",
            "value": " 5.37k/5.37k [00:00&lt;00:00, 25.3kB/s]"
          }
        },
        "1569585474124febbf88113b5df40508": {
          "model_module": "@jupyter-widgets/base",
          "model_name": "LayoutModel",
          "model_module_version": "1.2.0",
          "state": {
            "_model_module": "@jupyter-widgets/base",
            "_model_module_version": "1.2.0",
            "_model_name": "LayoutModel",
            "_view_count": null,
            "_view_module": "@jupyter-widgets/base",
            "_view_module_version": "1.2.0",
            "_view_name": "LayoutView",
            "align_content": null,
            "align_items": null,
            "align_self": null,
            "border": null,
            "bottom": null,
            "display": null,
            "flex": null,
            "flex_flow": null,
            "grid_area": null,
            "grid_auto_columns": null,
            "grid_auto_flow": null,
            "grid_auto_rows": null,
            "grid_column": null,
            "grid_gap": null,
            "grid_row": null,
            "grid_template_areas": null,
            "grid_template_columns": null,
            "grid_template_rows": null,
            "height": null,
            "justify_content": null,
            "justify_items": null,
            "left": null,
            "margin": null,
            "max_height": null,
            "max_width": null,
            "min_height": null,
            "min_width": null,
            "object_fit": null,
            "object_position": null,
            "order": null,
            "overflow": null,
            "overflow_x": null,
            "overflow_y": null,
            "padding": null,
            "right": null,
            "top": null,
            "visibility": null,
            "width": null
          }
        },
        "5b1dc6049f66443ba424cc6d30abc060": {
          "model_module": "@jupyter-widgets/base",
          "model_name": "LayoutModel",
          "model_module_version": "1.2.0",
          "state": {
            "_model_module": "@jupyter-widgets/base",
            "_model_module_version": "1.2.0",
            "_model_name": "LayoutModel",
            "_view_count": null,
            "_view_module": "@jupyter-widgets/base",
            "_view_module_version": "1.2.0",
            "_view_name": "LayoutView",
            "align_content": null,
            "align_items": null,
            "align_self": null,
            "border": null,
            "bottom": null,
            "display": null,
            "flex": null,
            "flex_flow": null,
            "grid_area": null,
            "grid_auto_columns": null,
            "grid_auto_flow": null,
            "grid_auto_rows": null,
            "grid_column": null,
            "grid_gap": null,
            "grid_row": null,
            "grid_template_areas": null,
            "grid_template_columns": null,
            "grid_template_rows": null,
            "height": null,
            "justify_content": null,
            "justify_items": null,
            "left": null,
            "margin": null,
            "max_height": null,
            "max_width": null,
            "min_height": null,
            "min_width": null,
            "object_fit": null,
            "object_position": null,
            "order": null,
            "overflow": null,
            "overflow_x": null,
            "overflow_y": null,
            "padding": null,
            "right": null,
            "top": null,
            "visibility": null,
            "width": null
          }
        },
        "44aef4ccd559404d8415084838627206": {
          "model_module": "@jupyter-widgets/controls",
          "model_name": "DescriptionStyleModel",
          "model_module_version": "1.5.0",
          "state": {
            "_model_module": "@jupyter-widgets/controls",
            "_model_module_version": "1.5.0",
            "_model_name": "DescriptionStyleModel",
            "_view_count": null,
            "_view_module": "@jupyter-widgets/base",
            "_view_module_version": "1.2.0",
            "_view_name": "StyleView",
            "description_width": ""
          }
        },
        "e19d4f3f07fd43ba9e86616cb29100c8": {
          "model_module": "@jupyter-widgets/base",
          "model_name": "LayoutModel",
          "model_module_version": "1.2.0",
          "state": {
            "_model_module": "@jupyter-widgets/base",
            "_model_module_version": "1.2.0",
            "_model_name": "LayoutModel",
            "_view_count": null,
            "_view_module": "@jupyter-widgets/base",
            "_view_module_version": "1.2.0",
            "_view_name": "LayoutView",
            "align_content": null,
            "align_items": null,
            "align_self": null,
            "border": null,
            "bottom": null,
            "display": null,
            "flex": null,
            "flex_flow": null,
            "grid_area": null,
            "grid_auto_columns": null,
            "grid_auto_flow": null,
            "grid_auto_rows": null,
            "grid_column": null,
            "grid_gap": null,
            "grid_row": null,
            "grid_template_areas": null,
            "grid_template_columns": null,
            "grid_template_rows": null,
            "height": null,
            "justify_content": null,
            "justify_items": null,
            "left": null,
            "margin": null,
            "max_height": null,
            "max_width": null,
            "min_height": null,
            "min_width": null,
            "object_fit": null,
            "object_position": null,
            "order": null,
            "overflow": null,
            "overflow_x": null,
            "overflow_y": null,
            "padding": null,
            "right": null,
            "top": null,
            "visibility": null,
            "width": null
          }
        },
        "b2209e73a5b748219c7b195c7d982125": {
          "model_module": "@jupyter-widgets/controls",
          "model_name": "ProgressStyleModel",
          "model_module_version": "1.5.0",
          "state": {
            "_model_module": "@jupyter-widgets/controls",
            "_model_module_version": "1.5.0",
            "_model_name": "ProgressStyleModel",
            "_view_count": null,
            "_view_module": "@jupyter-widgets/base",
            "_view_module_version": "1.2.0",
            "_view_name": "StyleView",
            "bar_color": null,
            "description_width": ""
          }
        },
        "6ff7ab11b20f4987a3d4fcce75a07474": {
          "model_module": "@jupyter-widgets/base",
          "model_name": "LayoutModel",
          "model_module_version": "1.2.0",
          "state": {
            "_model_module": "@jupyter-widgets/base",
            "_model_module_version": "1.2.0",
            "_model_name": "LayoutModel",
            "_view_count": null,
            "_view_module": "@jupyter-widgets/base",
            "_view_module_version": "1.2.0",
            "_view_name": "LayoutView",
            "align_content": null,
            "align_items": null,
            "align_self": null,
            "border": null,
            "bottom": null,
            "display": null,
            "flex": null,
            "flex_flow": null,
            "grid_area": null,
            "grid_auto_columns": null,
            "grid_auto_flow": null,
            "grid_auto_rows": null,
            "grid_column": null,
            "grid_gap": null,
            "grid_row": null,
            "grid_template_areas": null,
            "grid_template_columns": null,
            "grid_template_rows": null,
            "height": null,
            "justify_content": null,
            "justify_items": null,
            "left": null,
            "margin": null,
            "max_height": null,
            "max_width": null,
            "min_height": null,
            "min_width": null,
            "object_fit": null,
            "object_position": null,
            "order": null,
            "overflow": null,
            "overflow_x": null,
            "overflow_y": null,
            "padding": null,
            "right": null,
            "top": null,
            "visibility": null,
            "width": null
          }
        },
        "7daf6ca32da44d869f328b08b9c95e4d": {
          "model_module": "@jupyter-widgets/controls",
          "model_name": "DescriptionStyleModel",
          "model_module_version": "1.5.0",
          "state": {
            "_model_module": "@jupyter-widgets/controls",
            "_model_module_version": "1.5.0",
            "_model_name": "DescriptionStyleModel",
            "_view_count": null,
            "_view_module": "@jupyter-widgets/base",
            "_view_module_version": "1.2.0",
            "_view_name": "StyleView",
            "description_width": ""
          }
        },
        "ef76882e9a9d499f9ad5cc6ff61b37fd": {
          "model_module": "@jupyter-widgets/controls",
          "model_name": "HBoxModel",
          "model_module_version": "1.5.0",
          "state": {
            "_dom_classes": [],
            "_model_module": "@jupyter-widgets/controls",
            "_model_module_version": "1.5.0",
            "_model_name": "HBoxModel",
            "_view_count": null,
            "_view_module": "@jupyter-widgets/controls",
            "_view_module_version": "1.5.0",
            "_view_name": "HBoxView",
            "box_style": "",
            "children": [
              "IPY_MODEL_e76383544c9945e89a94c00a6ecaee5b",
              "IPY_MODEL_18c95f0b3257410fbeee81da50831dad",
              "IPY_MODEL_0ba13760796b48028f2eb11f429cd161"
            ],
            "layout": "IPY_MODEL_c5f16012d80c48bda01bb3c5fb7ebca5"
          }
        },
        "e76383544c9945e89a94c00a6ecaee5b": {
          "model_module": "@jupyter-widgets/controls",
          "model_name": "HTMLModel",
          "model_module_version": "1.5.0",
          "state": {
            "_dom_classes": [],
            "_model_module": "@jupyter-widgets/controls",
            "_model_module_version": "1.5.0",
            "_model_name": "HTMLModel",
            "_view_count": null,
            "_view_module": "@jupyter-widgets/controls",
            "_view_module_version": "1.5.0",
            "_view_name": "HTMLView",
            "description": "",
            "description_tooltip": null,
            "layout": "IPY_MODEL_ca460cd8e2074bba91f025429bdf1d80",
            "placeholder": "​",
            "style": "IPY_MODEL_250a1941fb6b414fb5f733613cb1ac6a",
            "value": "model.safetensors: 100%"
          }
        },
        "18c95f0b3257410fbeee81da50831dad": {
          "model_module": "@jupyter-widgets/controls",
          "model_name": "FloatProgressModel",
          "model_module_version": "1.5.0",
          "state": {
            "_dom_classes": [],
            "_model_module": "@jupyter-widgets/controls",
            "_model_module_version": "1.5.0",
            "_model_name": "FloatProgressModel",
            "_view_count": null,
            "_view_module": "@jupyter-widgets/controls",
            "_view_module_version": "1.5.0",
            "_view_name": "ProgressView",
            "bar_style": "success",
            "description": "",
            "description_tooltip": null,
            "layout": "IPY_MODEL_5ab0bef7edd94bb9a8b9756c3a40b6f2",
            "max": 377611120,
            "min": 0,
            "orientation": "horizontal",
            "style": "IPY_MODEL_cc5f8e19baac47f4a29a4fd1f56531b0",
            "value": 377611120
          }
        },
        "0ba13760796b48028f2eb11f429cd161": {
          "model_module": "@jupyter-widgets/controls",
          "model_name": "HTMLModel",
          "model_module_version": "1.5.0",
          "state": {
            "_dom_classes": [],
            "_model_module": "@jupyter-widgets/controls",
            "_model_module_version": "1.5.0",
            "_model_name": "HTMLModel",
            "_view_count": null,
            "_view_module": "@jupyter-widgets/controls",
            "_view_module_version": "1.5.0",
            "_view_name": "HTMLView",
            "description": "",
            "description_tooltip": null,
            "layout": "IPY_MODEL_407cc8b24b91426e99bf1ecdf28e12d8",
            "placeholder": "​",
            "style": "IPY_MODEL_ef8e5be8c3d2486684e2ad152f5023ca",
            "value": " 378M/378M [00:12&lt;00:00, 30.5MB/s]"
          }
        },
        "c5f16012d80c48bda01bb3c5fb7ebca5": {
          "model_module": "@jupyter-widgets/base",
          "model_name": "LayoutModel",
          "model_module_version": "1.2.0",
          "state": {
            "_model_module": "@jupyter-widgets/base",
            "_model_module_version": "1.2.0",
            "_model_name": "LayoutModel",
            "_view_count": null,
            "_view_module": "@jupyter-widgets/base",
            "_view_module_version": "1.2.0",
            "_view_name": "LayoutView",
            "align_content": null,
            "align_items": null,
            "align_self": null,
            "border": null,
            "bottom": null,
            "display": null,
            "flex": null,
            "flex_flow": null,
            "grid_area": null,
            "grid_auto_columns": null,
            "grid_auto_flow": null,
            "grid_auto_rows": null,
            "grid_column": null,
            "grid_gap": null,
            "grid_row": null,
            "grid_template_areas": null,
            "grid_template_columns": null,
            "grid_template_rows": null,
            "height": null,
            "justify_content": null,
            "justify_items": null,
            "left": null,
            "margin": null,
            "max_height": null,
            "max_width": null,
            "min_height": null,
            "min_width": null,
            "object_fit": null,
            "object_position": null,
            "order": null,
            "overflow": null,
            "overflow_x": null,
            "overflow_y": null,
            "padding": null,
            "right": null,
            "top": null,
            "visibility": null,
            "width": null
          }
        },
        "ca460cd8e2074bba91f025429bdf1d80": {
          "model_module": "@jupyter-widgets/base",
          "model_name": "LayoutModel",
          "model_module_version": "1.2.0",
          "state": {
            "_model_module": "@jupyter-widgets/base",
            "_model_module_version": "1.2.0",
            "_model_name": "LayoutModel",
            "_view_count": null,
            "_view_module": "@jupyter-widgets/base",
            "_view_module_version": "1.2.0",
            "_view_name": "LayoutView",
            "align_content": null,
            "align_items": null,
            "align_self": null,
            "border": null,
            "bottom": null,
            "display": null,
            "flex": null,
            "flex_flow": null,
            "grid_area": null,
            "grid_auto_columns": null,
            "grid_auto_flow": null,
            "grid_auto_rows": null,
            "grid_column": null,
            "grid_gap": null,
            "grid_row": null,
            "grid_template_areas": null,
            "grid_template_columns": null,
            "grid_template_rows": null,
            "height": null,
            "justify_content": null,
            "justify_items": null,
            "left": null,
            "margin": null,
            "max_height": null,
            "max_width": null,
            "min_height": null,
            "min_width": null,
            "object_fit": null,
            "object_position": null,
            "order": null,
            "overflow": null,
            "overflow_x": null,
            "overflow_y": null,
            "padding": null,
            "right": null,
            "top": null,
            "visibility": null,
            "width": null
          }
        },
        "250a1941fb6b414fb5f733613cb1ac6a": {
          "model_module": "@jupyter-widgets/controls",
          "model_name": "DescriptionStyleModel",
          "model_module_version": "1.5.0",
          "state": {
            "_model_module": "@jupyter-widgets/controls",
            "_model_module_version": "1.5.0",
            "_model_name": "DescriptionStyleModel",
            "_view_count": null,
            "_view_module": "@jupyter-widgets/base",
            "_view_module_version": "1.2.0",
            "_view_name": "StyleView",
            "description_width": ""
          }
        },
        "5ab0bef7edd94bb9a8b9756c3a40b6f2": {
          "model_module": "@jupyter-widgets/base",
          "model_name": "LayoutModel",
          "model_module_version": "1.2.0",
          "state": {
            "_model_module": "@jupyter-widgets/base",
            "_model_module_version": "1.2.0",
            "_model_name": "LayoutModel",
            "_view_count": null,
            "_view_module": "@jupyter-widgets/base",
            "_view_module_version": "1.2.0",
            "_view_name": "LayoutView",
            "align_content": null,
            "align_items": null,
            "align_self": null,
            "border": null,
            "bottom": null,
            "display": null,
            "flex": null,
            "flex_flow": null,
            "grid_area": null,
            "grid_auto_columns": null,
            "grid_auto_flow": null,
            "grid_auto_rows": null,
            "grid_column": null,
            "grid_gap": null,
            "grid_row": null,
            "grid_template_areas": null,
            "grid_template_columns": null,
            "grid_template_rows": null,
            "height": null,
            "justify_content": null,
            "justify_items": null,
            "left": null,
            "margin": null,
            "max_height": null,
            "max_width": null,
            "min_height": null,
            "min_width": null,
            "object_fit": null,
            "object_position": null,
            "order": null,
            "overflow": null,
            "overflow_x": null,
            "overflow_y": null,
            "padding": null,
            "right": null,
            "top": null,
            "visibility": null,
            "width": null
          }
        },
        "cc5f8e19baac47f4a29a4fd1f56531b0": {
          "model_module": "@jupyter-widgets/controls",
          "model_name": "ProgressStyleModel",
          "model_module_version": "1.5.0",
          "state": {
            "_model_module": "@jupyter-widgets/controls",
            "_model_module_version": "1.5.0",
            "_model_name": "ProgressStyleModel",
            "_view_count": null,
            "_view_module": "@jupyter-widgets/base",
            "_view_module_version": "1.2.0",
            "_view_name": "StyleView",
            "bar_color": null,
            "description_width": ""
          }
        },
        "407cc8b24b91426e99bf1ecdf28e12d8": {
          "model_module": "@jupyter-widgets/base",
          "model_name": "LayoutModel",
          "model_module_version": "1.2.0",
          "state": {
            "_model_module": "@jupyter-widgets/base",
            "_model_module_version": "1.2.0",
            "_model_name": "LayoutModel",
            "_view_count": null,
            "_view_module": "@jupyter-widgets/base",
            "_view_module_version": "1.2.0",
            "_view_name": "LayoutView",
            "align_content": null,
            "align_items": null,
            "align_self": null,
            "border": null,
            "bottom": null,
            "display": null,
            "flex": null,
            "flex_flow": null,
            "grid_area": null,
            "grid_auto_columns": null,
            "grid_auto_flow": null,
            "grid_auto_rows": null,
            "grid_column": null,
            "grid_gap": null,
            "grid_row": null,
            "grid_template_areas": null,
            "grid_template_columns": null,
            "grid_template_rows": null,
            "height": null,
            "justify_content": null,
            "justify_items": null,
            "left": null,
            "margin": null,
            "max_height": null,
            "max_width": null,
            "min_height": null,
            "min_width": null,
            "object_fit": null,
            "object_position": null,
            "order": null,
            "overflow": null,
            "overflow_x": null,
            "overflow_y": null,
            "padding": null,
            "right": null,
            "top": null,
            "visibility": null,
            "width": null
          }
        },
        "ef8e5be8c3d2486684e2ad152f5023ca": {
          "model_module": "@jupyter-widgets/controls",
          "model_name": "DescriptionStyleModel",
          "model_module_version": "1.5.0",
          "state": {
            "_model_module": "@jupyter-widgets/controls",
            "_model_module_version": "1.5.0",
            "_model_name": "DescriptionStyleModel",
            "_view_count": null,
            "_view_module": "@jupyter-widgets/base",
            "_view_module_version": "1.2.0",
            "_view_name": "StyleView",
            "description_width": ""
          }
        },
        "3b6f74e02b8f4c6cb1966f8f36b69c5d": {
          "model_module": "@jupyter-widgets/controls",
          "model_name": "HBoxModel",
          "model_module_version": "1.5.0",
          "state": {
            "_dom_classes": [],
            "_model_module": "@jupyter-widgets/controls",
            "_model_module_version": "1.5.0",
            "_model_name": "HBoxModel",
            "_view_count": null,
            "_view_module": "@jupyter-widgets/controls",
            "_view_module_version": "1.5.0",
            "_view_name": "HBoxView",
            "box_style": "",
            "children": [
              "IPY_MODEL_6910fc081bae4a6284b5fd97e59b5178",
              "IPY_MODEL_e376013cc2204ebba6fa34f7d5728974",
              "IPY_MODEL_6c16eb2c8e8e4dc7b91d665b5a4c96d2"
            ],
            "layout": "IPY_MODEL_78fff463d28841aeab0f4431e9822ec3"
          }
        },
        "6910fc081bae4a6284b5fd97e59b5178": {
          "model_module": "@jupyter-widgets/controls",
          "model_name": "HTMLModel",
          "model_module_version": "1.5.0",
          "state": {
            "_dom_classes": [],
            "_model_module": "@jupyter-widgets/controls",
            "_model_module_version": "1.5.0",
            "_model_name": "HTMLModel",
            "_view_count": null,
            "_view_module": "@jupyter-widgets/controls",
            "_view_module_version": "1.5.0",
            "_view_name": "HTMLView",
            "description": "",
            "description_tooltip": null,
            "layout": "IPY_MODEL_d1d53659bf914321bbfdb89c18377e0f",
            "placeholder": "​",
            "style": "IPY_MODEL_9912619a8ed54c7f889a923eba1037be",
            "value": "Upload 4 LFS files: 100%"
          }
        },
        "e376013cc2204ebba6fa34f7d5728974": {
          "model_module": "@jupyter-widgets/controls",
          "model_name": "FloatProgressModel",
          "model_module_version": "1.5.0",
          "state": {
            "_dom_classes": [],
            "_model_module": "@jupyter-widgets/controls",
            "_model_module_version": "1.5.0",
            "_model_name": "FloatProgressModel",
            "_view_count": null,
            "_view_module": "@jupyter-widgets/controls",
            "_view_module_version": "1.5.0",
            "_view_name": "ProgressView",
            "bar_style": "success",
            "description": "",
            "description_tooltip": null,
            "layout": "IPY_MODEL_939f3b5dca044744988645592d19da8d",
            "max": 4,
            "min": 0,
            "orientation": "horizontal",
            "style": "IPY_MODEL_24037fff492d44d58e60547364e9a77a",
            "value": 4
          }
        },
        "6c16eb2c8e8e4dc7b91d665b5a4c96d2": {
          "model_module": "@jupyter-widgets/controls",
          "model_name": "HTMLModel",
          "model_module_version": "1.5.0",
          "state": {
            "_dom_classes": [],
            "_model_module": "@jupyter-widgets/controls",
            "_model_module_version": "1.5.0",
            "_model_name": "HTMLModel",
            "_view_count": null,
            "_view_module": "@jupyter-widgets/controls",
            "_view_module_version": "1.5.0",
            "_view_name": "HTMLView",
            "description": "",
            "description_tooltip": null,
            "layout": "IPY_MODEL_4558f965eaf34b66aff1142fe1b6b22a",
            "placeholder": "​",
            "style": "IPY_MODEL_f554db7d003c4ae9877f075c06a5a622",
            "value": " 4/4 [00:12&lt;00:00, 12.56s/it]"
          }
        },
        "78fff463d28841aeab0f4431e9822ec3": {
          "model_module": "@jupyter-widgets/base",
          "model_name": "LayoutModel",
          "model_module_version": "1.2.0",
          "state": {
            "_model_module": "@jupyter-widgets/base",
            "_model_module_version": "1.2.0",
            "_model_name": "LayoutModel",
            "_view_count": null,
            "_view_module": "@jupyter-widgets/base",
            "_view_module_version": "1.2.0",
            "_view_name": "LayoutView",
            "align_content": null,
            "align_items": null,
            "align_self": null,
            "border": null,
            "bottom": null,
            "display": null,
            "flex": null,
            "flex_flow": null,
            "grid_area": null,
            "grid_auto_columns": null,
            "grid_auto_flow": null,
            "grid_auto_rows": null,
            "grid_column": null,
            "grid_gap": null,
            "grid_row": null,
            "grid_template_areas": null,
            "grid_template_columns": null,
            "grid_template_rows": null,
            "height": null,
            "justify_content": null,
            "justify_items": null,
            "left": null,
            "margin": null,
            "max_height": null,
            "max_width": null,
            "min_height": null,
            "min_width": null,
            "object_fit": null,
            "object_position": null,
            "order": null,
            "overflow": null,
            "overflow_x": null,
            "overflow_y": null,
            "padding": null,
            "right": null,
            "top": null,
            "visibility": null,
            "width": null
          }
        },
        "d1d53659bf914321bbfdb89c18377e0f": {
          "model_module": "@jupyter-widgets/base",
          "model_name": "LayoutModel",
          "model_module_version": "1.2.0",
          "state": {
            "_model_module": "@jupyter-widgets/base",
            "_model_module_version": "1.2.0",
            "_model_name": "LayoutModel",
            "_view_count": null,
            "_view_module": "@jupyter-widgets/base",
            "_view_module_version": "1.2.0",
            "_view_name": "LayoutView",
            "align_content": null,
            "align_items": null,
            "align_self": null,
            "border": null,
            "bottom": null,
            "display": null,
            "flex": null,
            "flex_flow": null,
            "grid_area": null,
            "grid_auto_columns": null,
            "grid_auto_flow": null,
            "grid_auto_rows": null,
            "grid_column": null,
            "grid_gap": null,
            "grid_row": null,
            "grid_template_areas": null,
            "grid_template_columns": null,
            "grid_template_rows": null,
            "height": null,
            "justify_content": null,
            "justify_items": null,
            "left": null,
            "margin": null,
            "max_height": null,
            "max_width": null,
            "min_height": null,
            "min_width": null,
            "object_fit": null,
            "object_position": null,
            "order": null,
            "overflow": null,
            "overflow_x": null,
            "overflow_y": null,
            "padding": null,
            "right": null,
            "top": null,
            "visibility": null,
            "width": null
          }
        },
        "9912619a8ed54c7f889a923eba1037be": {
          "model_module": "@jupyter-widgets/controls",
          "model_name": "DescriptionStyleModel",
          "model_module_version": "1.5.0",
          "state": {
            "_model_module": "@jupyter-widgets/controls",
            "_model_module_version": "1.5.0",
            "_model_name": "DescriptionStyleModel",
            "_view_count": null,
            "_view_module": "@jupyter-widgets/base",
            "_view_module_version": "1.2.0",
            "_view_name": "StyleView",
            "description_width": ""
          }
        },
        "939f3b5dca044744988645592d19da8d": {
          "model_module": "@jupyter-widgets/base",
          "model_name": "LayoutModel",
          "model_module_version": "1.2.0",
          "state": {
            "_model_module": "@jupyter-widgets/base",
            "_model_module_version": "1.2.0",
            "_model_name": "LayoutModel",
            "_view_count": null,
            "_view_module": "@jupyter-widgets/base",
            "_view_module_version": "1.2.0",
            "_view_name": "LayoutView",
            "align_content": null,
            "align_items": null,
            "align_self": null,
            "border": null,
            "bottom": null,
            "display": null,
            "flex": null,
            "flex_flow": null,
            "grid_area": null,
            "grid_auto_columns": null,
            "grid_auto_flow": null,
            "grid_auto_rows": null,
            "grid_column": null,
            "grid_gap": null,
            "grid_row": null,
            "grid_template_areas": null,
            "grid_template_columns": null,
            "grid_template_rows": null,
            "height": null,
            "justify_content": null,
            "justify_items": null,
            "left": null,
            "margin": null,
            "max_height": null,
            "max_width": null,
            "min_height": null,
            "min_width": null,
            "object_fit": null,
            "object_position": null,
            "order": null,
            "overflow": null,
            "overflow_x": null,
            "overflow_y": null,
            "padding": null,
            "right": null,
            "top": null,
            "visibility": null,
            "width": null
          }
        },
        "24037fff492d44d58e60547364e9a77a": {
          "model_module": "@jupyter-widgets/controls",
          "model_name": "ProgressStyleModel",
          "model_module_version": "1.5.0",
          "state": {
            "_model_module": "@jupyter-widgets/controls",
            "_model_module_version": "1.5.0",
            "_model_name": "ProgressStyleModel",
            "_view_count": null,
            "_view_module": "@jupyter-widgets/base",
            "_view_module_version": "1.2.0",
            "_view_name": "StyleView",
            "bar_color": null,
            "description_width": ""
          }
        },
        "4558f965eaf34b66aff1142fe1b6b22a": {
          "model_module": "@jupyter-widgets/base",
          "model_name": "LayoutModel",
          "model_module_version": "1.2.0",
          "state": {
            "_model_module": "@jupyter-widgets/base",
            "_model_module_version": "1.2.0",
            "_model_name": "LayoutModel",
            "_view_count": null,
            "_view_module": "@jupyter-widgets/base",
            "_view_module_version": "1.2.0",
            "_view_name": "LayoutView",
            "align_content": null,
            "align_items": null,
            "align_self": null,
            "border": null,
            "bottom": null,
            "display": null,
            "flex": null,
            "flex_flow": null,
            "grid_area": null,
            "grid_auto_columns": null,
            "grid_auto_flow": null,
            "grid_auto_rows": null,
            "grid_column": null,
            "grid_gap": null,
            "grid_row": null,
            "grid_template_areas": null,
            "grid_template_columns": null,
            "grid_template_rows": null,
            "height": null,
            "justify_content": null,
            "justify_items": null,
            "left": null,
            "margin": null,
            "max_height": null,
            "max_width": null,
            "min_height": null,
            "min_width": null,
            "object_fit": null,
            "object_position": null,
            "order": null,
            "overflow": null,
            "overflow_x": null,
            "overflow_y": null,
            "padding": null,
            "right": null,
            "top": null,
            "visibility": null,
            "width": null
          }
        },
        "f554db7d003c4ae9877f075c06a5a622": {
          "model_module": "@jupyter-widgets/controls",
          "model_name": "DescriptionStyleModel",
          "model_module_version": "1.5.0",
          "state": {
            "_model_module": "@jupyter-widgets/controls",
            "_model_module_version": "1.5.0",
            "_model_name": "DescriptionStyleModel",
            "_view_count": null,
            "_view_module": "@jupyter-widgets/base",
            "_view_module_version": "1.2.0",
            "_view_name": "StyleView",
            "description_width": ""
          }
        },
        "4a5268c689964eebba7bdd63e75a838a": {
          "model_module": "@jupyter-widgets/controls",
          "model_name": "HBoxModel",
          "model_module_version": "1.5.0",
          "state": {
            "_dom_classes": [],
            "_model_module": "@jupyter-widgets/controls",
            "_model_module_version": "1.5.0",
            "_model_name": "HBoxModel",
            "_view_count": null,
            "_view_module": "@jupyter-widgets/controls",
            "_view_module_version": "1.5.0",
            "_view_name": "HBoxView",
            "box_style": "",
            "children": [
              "IPY_MODEL_67176dd170c9418980b2e9249e188774",
              "IPY_MODEL_e4019e34d3424a828a12fc19a277d553",
              "IPY_MODEL_1e38a276ef1f47edba237ea10f49c66b"
            ],
            "layout": "IPY_MODEL_b931b6a541e24d56afbbc0f1219620bb"
          }
        },
        "67176dd170c9418980b2e9249e188774": {
          "model_module": "@jupyter-widgets/controls",
          "model_name": "HTMLModel",
          "model_module_version": "1.5.0",
          "state": {
            "_dom_classes": [],
            "_model_module": "@jupyter-widgets/controls",
            "_model_module_version": "1.5.0",
            "_model_name": "HTMLModel",
            "_view_count": null,
            "_view_module": "@jupyter-widgets/controls",
            "_view_module_version": "1.5.0",
            "_view_name": "HTMLView",
            "description": "",
            "description_tooltip": null,
            "layout": "IPY_MODEL_b07a8f84dabb4505a7dc6f795a5ffe1f",
            "placeholder": "​",
            "style": "IPY_MODEL_6b9265e401614e89abb44c309829c443",
            "value": "events.out.tfevents.1753355642.feddc1943175.56468.0: 100%"
          }
        },
        "e4019e34d3424a828a12fc19a277d553": {
          "model_module": "@jupyter-widgets/controls",
          "model_name": "FloatProgressModel",
          "model_module_version": "1.5.0",
          "state": {
            "_dom_classes": [],
            "_model_module": "@jupyter-widgets/controls",
            "_model_module_version": "1.5.0",
            "_model_name": "FloatProgressModel",
            "_view_count": null,
            "_view_module": "@jupyter-widgets/controls",
            "_view_module_version": "1.5.0",
            "_view_name": "ProgressView",
            "bar_style": "success",
            "description": "",
            "description_tooltip": null,
            "layout": "IPY_MODEL_f02561fd6eed41b29364ffa923d1df62",
            "max": 8320,
            "min": 0,
            "orientation": "horizontal",
            "style": "IPY_MODEL_bdd1b18b0a7449b28bafb5bfe8831a86",
            "value": 8320
          }
        },
        "1e38a276ef1f47edba237ea10f49c66b": {
          "model_module": "@jupyter-widgets/controls",
          "model_name": "HTMLModel",
          "model_module_version": "1.5.0",
          "state": {
            "_dom_classes": [],
            "_model_module": "@jupyter-widgets/controls",
            "_model_module_version": "1.5.0",
            "_model_name": "HTMLModel",
            "_view_count": null,
            "_view_module": "@jupyter-widgets/controls",
            "_view_module_version": "1.5.0",
            "_view_name": "HTMLView",
            "description": "",
            "description_tooltip": null,
            "layout": "IPY_MODEL_cd98dead78a14cbc892bdece386d032f",
            "placeholder": "​",
            "style": "IPY_MODEL_1b8e7ab69b5d46628d27c268a8571d42",
            "value": " 8.32k/8.32k [00:00&lt;00:00, 19.6kB/s]"
          }
        },
        "b931b6a541e24d56afbbc0f1219620bb": {
          "model_module": "@jupyter-widgets/base",
          "model_name": "LayoutModel",
          "model_module_version": "1.2.0",
          "state": {
            "_model_module": "@jupyter-widgets/base",
            "_model_module_version": "1.2.0",
            "_model_name": "LayoutModel",
            "_view_count": null,
            "_view_module": "@jupyter-widgets/base",
            "_view_module_version": "1.2.0",
            "_view_name": "LayoutView",
            "align_content": null,
            "align_items": null,
            "align_self": null,
            "border": null,
            "bottom": null,
            "display": null,
            "flex": null,
            "flex_flow": null,
            "grid_area": null,
            "grid_auto_columns": null,
            "grid_auto_flow": null,
            "grid_auto_rows": null,
            "grid_column": null,
            "grid_gap": null,
            "grid_row": null,
            "grid_template_areas": null,
            "grid_template_columns": null,
            "grid_template_rows": null,
            "height": null,
            "justify_content": null,
            "justify_items": null,
            "left": null,
            "margin": null,
            "max_height": null,
            "max_width": null,
            "min_height": null,
            "min_width": null,
            "object_fit": null,
            "object_position": null,
            "order": null,
            "overflow": null,
            "overflow_x": null,
            "overflow_y": null,
            "padding": null,
            "right": null,
            "top": null,
            "visibility": null,
            "width": null
          }
        },
        "b07a8f84dabb4505a7dc6f795a5ffe1f": {
          "model_module": "@jupyter-widgets/base",
          "model_name": "LayoutModel",
          "model_module_version": "1.2.0",
          "state": {
            "_model_module": "@jupyter-widgets/base",
            "_model_module_version": "1.2.0",
            "_model_name": "LayoutModel",
            "_view_count": null,
            "_view_module": "@jupyter-widgets/base",
            "_view_module_version": "1.2.0",
            "_view_name": "LayoutView",
            "align_content": null,
            "align_items": null,
            "align_self": null,
            "border": null,
            "bottom": null,
            "display": null,
            "flex": null,
            "flex_flow": null,
            "grid_area": null,
            "grid_auto_columns": null,
            "grid_auto_flow": null,
            "grid_auto_rows": null,
            "grid_column": null,
            "grid_gap": null,
            "grid_row": null,
            "grid_template_areas": null,
            "grid_template_columns": null,
            "grid_template_rows": null,
            "height": null,
            "justify_content": null,
            "justify_items": null,
            "left": null,
            "margin": null,
            "max_height": null,
            "max_width": null,
            "min_height": null,
            "min_width": null,
            "object_fit": null,
            "object_position": null,
            "order": null,
            "overflow": null,
            "overflow_x": null,
            "overflow_y": null,
            "padding": null,
            "right": null,
            "top": null,
            "visibility": null,
            "width": null
          }
        },
        "6b9265e401614e89abb44c309829c443": {
          "model_module": "@jupyter-widgets/controls",
          "model_name": "DescriptionStyleModel",
          "model_module_version": "1.5.0",
          "state": {
            "_model_module": "@jupyter-widgets/controls",
            "_model_module_version": "1.5.0",
            "_model_name": "DescriptionStyleModel",
            "_view_count": null,
            "_view_module": "@jupyter-widgets/base",
            "_view_module_version": "1.2.0",
            "_view_name": "StyleView",
            "description_width": ""
          }
        },
        "f02561fd6eed41b29364ffa923d1df62": {
          "model_module": "@jupyter-widgets/base",
          "model_name": "LayoutModel",
          "model_module_version": "1.2.0",
          "state": {
            "_model_module": "@jupyter-widgets/base",
            "_model_module_version": "1.2.0",
            "_model_name": "LayoutModel",
            "_view_count": null,
            "_view_module": "@jupyter-widgets/base",
            "_view_module_version": "1.2.0",
            "_view_name": "LayoutView",
            "align_content": null,
            "align_items": null,
            "align_self": null,
            "border": null,
            "bottom": null,
            "display": null,
            "flex": null,
            "flex_flow": null,
            "grid_area": null,
            "grid_auto_columns": null,
            "grid_auto_flow": null,
            "grid_auto_rows": null,
            "grid_column": null,
            "grid_gap": null,
            "grid_row": null,
            "grid_template_areas": null,
            "grid_template_columns": null,
            "grid_template_rows": null,
            "height": null,
            "justify_content": null,
            "justify_items": null,
            "left": null,
            "margin": null,
            "max_height": null,
            "max_width": null,
            "min_height": null,
            "min_width": null,
            "object_fit": null,
            "object_position": null,
            "order": null,
            "overflow": null,
            "overflow_x": null,
            "overflow_y": null,
            "padding": null,
            "right": null,
            "top": null,
            "visibility": null,
            "width": null
          }
        },
        "bdd1b18b0a7449b28bafb5bfe8831a86": {
          "model_module": "@jupyter-widgets/controls",
          "model_name": "ProgressStyleModel",
          "model_module_version": "1.5.0",
          "state": {
            "_model_module": "@jupyter-widgets/controls",
            "_model_module_version": "1.5.0",
            "_model_name": "ProgressStyleModel",
            "_view_count": null,
            "_view_module": "@jupyter-widgets/base",
            "_view_module_version": "1.2.0",
            "_view_name": "StyleView",
            "bar_color": null,
            "description_width": ""
          }
        },
        "cd98dead78a14cbc892bdece386d032f": {
          "model_module": "@jupyter-widgets/base",
          "model_name": "LayoutModel",
          "model_module_version": "1.2.0",
          "state": {
            "_model_module": "@jupyter-widgets/base",
            "_model_module_version": "1.2.0",
            "_model_name": "LayoutModel",
            "_view_count": null,
            "_view_module": "@jupyter-widgets/base",
            "_view_module_version": "1.2.0",
            "_view_name": "LayoutView",
            "align_content": null,
            "align_items": null,
            "align_self": null,
            "border": null,
            "bottom": null,
            "display": null,
            "flex": null,
            "flex_flow": null,
            "grid_area": null,
            "grid_auto_columns": null,
            "grid_auto_flow": null,
            "grid_auto_rows": null,
            "grid_column": null,
            "grid_gap": null,
            "grid_row": null,
            "grid_template_areas": null,
            "grid_template_columns": null,
            "grid_template_rows": null,
            "height": null,
            "justify_content": null,
            "justify_items": null,
            "left": null,
            "margin": null,
            "max_height": null,
            "max_width": null,
            "min_height": null,
            "min_width": null,
            "object_fit": null,
            "object_position": null,
            "order": null,
            "overflow": null,
            "overflow_x": null,
            "overflow_y": null,
            "padding": null,
            "right": null,
            "top": null,
            "visibility": null,
            "width": null
          }
        },
        "1b8e7ab69b5d46628d27c268a8571d42": {
          "model_module": "@jupyter-widgets/controls",
          "model_name": "DescriptionStyleModel",
          "model_module_version": "1.5.0",
          "state": {
            "_model_module": "@jupyter-widgets/controls",
            "_model_module_version": "1.5.0",
            "_model_name": "DescriptionStyleModel",
            "_view_count": null,
            "_view_module": "@jupyter-widgets/base",
            "_view_module_version": "1.2.0",
            "_view_name": "StyleView",
            "description_width": ""
          }
        },
        "6ba66a06b71d4051b2e6deb30fba5912": {
          "model_module": "@jupyter-widgets/controls",
          "model_name": "HBoxModel",
          "model_module_version": "1.5.0",
          "state": {
            "_dom_classes": [],
            "_model_module": "@jupyter-widgets/controls",
            "_model_module_version": "1.5.0",
            "_model_name": "HBoxModel",
            "_view_count": null,
            "_view_module": "@jupyter-widgets/controls",
            "_view_module_version": "1.5.0",
            "_view_name": "HBoxView",
            "box_style": "",
            "children": [
              "IPY_MODEL_e60f60c736a94103a0b98d321d7045b7",
              "IPY_MODEL_e75ec61977704d5eb1f5dea2e0da22e9",
              "IPY_MODEL_e70f1e09f967425ca04f00ad2a15df64"
            ],
            "layout": "IPY_MODEL_bb944bca1c994cc7ad20ae2d754324e6"
          }
        },
        "e60f60c736a94103a0b98d321d7045b7": {
          "model_module": "@jupyter-widgets/controls",
          "model_name": "HTMLModel",
          "model_module_version": "1.5.0",
          "state": {
            "_dom_classes": [],
            "_model_module": "@jupyter-widgets/controls",
            "_model_module_version": "1.5.0",
            "_model_name": "HTMLModel",
            "_view_count": null,
            "_view_module": "@jupyter-widgets/controls",
            "_view_module_version": "1.5.0",
            "_view_name": "HTMLView",
            "description": "",
            "description_tooltip": null,
            "layout": "IPY_MODEL_6a99030f5ca14446ac602bc54b7e2818",
            "placeholder": "​",
            "style": "IPY_MODEL_a814bf75497f482983861f270d8632ec",
            "value": "events.out.tfevents.1753356539.feddc1943175.56468.1: 100%"
          }
        },
        "e75ec61977704d5eb1f5dea2e0da22e9": {
          "model_module": "@jupyter-widgets/controls",
          "model_name": "FloatProgressModel",
          "model_module_version": "1.5.0",
          "state": {
            "_dom_classes": [],
            "_model_module": "@jupyter-widgets/controls",
            "_model_module_version": "1.5.0",
            "_model_name": "FloatProgressModel",
            "_view_count": null,
            "_view_module": "@jupyter-widgets/controls",
            "_view_module_version": "1.5.0",
            "_view_name": "ProgressView",
            "bar_style": "success",
            "description": "",
            "description_tooltip": null,
            "layout": "IPY_MODEL_65f2da4b94ab4ca6bb109dd34ed6c95c",
            "max": 10783,
            "min": 0,
            "orientation": "horizontal",
            "style": "IPY_MODEL_2cac2b31ca56401bb1b38515ef7325d7",
            "value": 10783
          }
        },
        "e70f1e09f967425ca04f00ad2a15df64": {
          "model_module": "@jupyter-widgets/controls",
          "model_name": "HTMLModel",
          "model_module_version": "1.5.0",
          "state": {
            "_dom_classes": [],
            "_model_module": "@jupyter-widgets/controls",
            "_model_module_version": "1.5.0",
            "_model_name": "HTMLModel",
            "_view_count": null,
            "_view_module": "@jupyter-widgets/controls",
            "_view_module_version": "1.5.0",
            "_view_name": "HTMLView",
            "description": "",
            "description_tooltip": null,
            "layout": "IPY_MODEL_b344c5134747499e951cefbb40376fea",
            "placeholder": "​",
            "style": "IPY_MODEL_113b28d8b2954d8db0c62cf126d41865",
            "value": " 10.8k/10.8k [00:00&lt;00:00, 25.7kB/s]"
          }
        },
        "bb944bca1c994cc7ad20ae2d754324e6": {
          "model_module": "@jupyter-widgets/base",
          "model_name": "LayoutModel",
          "model_module_version": "1.2.0",
          "state": {
            "_model_module": "@jupyter-widgets/base",
            "_model_module_version": "1.2.0",
            "_model_name": "LayoutModel",
            "_view_count": null,
            "_view_module": "@jupyter-widgets/base",
            "_view_module_version": "1.2.0",
            "_view_name": "LayoutView",
            "align_content": null,
            "align_items": null,
            "align_self": null,
            "border": null,
            "bottom": null,
            "display": null,
            "flex": null,
            "flex_flow": null,
            "grid_area": null,
            "grid_auto_columns": null,
            "grid_auto_flow": null,
            "grid_auto_rows": null,
            "grid_column": null,
            "grid_gap": null,
            "grid_row": null,
            "grid_template_areas": null,
            "grid_template_columns": null,
            "grid_template_rows": null,
            "height": null,
            "justify_content": null,
            "justify_items": null,
            "left": null,
            "margin": null,
            "max_height": null,
            "max_width": null,
            "min_height": null,
            "min_width": null,
            "object_fit": null,
            "object_position": null,
            "order": null,
            "overflow": null,
            "overflow_x": null,
            "overflow_y": null,
            "padding": null,
            "right": null,
            "top": null,
            "visibility": null,
            "width": null
          }
        },
        "6a99030f5ca14446ac602bc54b7e2818": {
          "model_module": "@jupyter-widgets/base",
          "model_name": "LayoutModel",
          "model_module_version": "1.2.0",
          "state": {
            "_model_module": "@jupyter-widgets/base",
            "_model_module_version": "1.2.0",
            "_model_name": "LayoutModel",
            "_view_count": null,
            "_view_module": "@jupyter-widgets/base",
            "_view_module_version": "1.2.0",
            "_view_name": "LayoutView",
            "align_content": null,
            "align_items": null,
            "align_self": null,
            "border": null,
            "bottom": null,
            "display": null,
            "flex": null,
            "flex_flow": null,
            "grid_area": null,
            "grid_auto_columns": null,
            "grid_auto_flow": null,
            "grid_auto_rows": null,
            "grid_column": null,
            "grid_gap": null,
            "grid_row": null,
            "grid_template_areas": null,
            "grid_template_columns": null,
            "grid_template_rows": null,
            "height": null,
            "justify_content": null,
            "justify_items": null,
            "left": null,
            "margin": null,
            "max_height": null,
            "max_width": null,
            "min_height": null,
            "min_width": null,
            "object_fit": null,
            "object_position": null,
            "order": null,
            "overflow": null,
            "overflow_x": null,
            "overflow_y": null,
            "padding": null,
            "right": null,
            "top": null,
            "visibility": null,
            "width": null
          }
        },
        "a814bf75497f482983861f270d8632ec": {
          "model_module": "@jupyter-widgets/controls",
          "model_name": "DescriptionStyleModel",
          "model_module_version": "1.5.0",
          "state": {
            "_model_module": "@jupyter-widgets/controls",
            "_model_module_version": "1.5.0",
            "_model_name": "DescriptionStyleModel",
            "_view_count": null,
            "_view_module": "@jupyter-widgets/base",
            "_view_module_version": "1.2.0",
            "_view_name": "StyleView",
            "description_width": ""
          }
        },
        "65f2da4b94ab4ca6bb109dd34ed6c95c": {
          "model_module": "@jupyter-widgets/base",
          "model_name": "LayoutModel",
          "model_module_version": "1.2.0",
          "state": {
            "_model_module": "@jupyter-widgets/base",
            "_model_module_version": "1.2.0",
            "_model_name": "LayoutModel",
            "_view_count": null,
            "_view_module": "@jupyter-widgets/base",
            "_view_module_version": "1.2.0",
            "_view_name": "LayoutView",
            "align_content": null,
            "align_items": null,
            "align_self": null,
            "border": null,
            "bottom": null,
            "display": null,
            "flex": null,
            "flex_flow": null,
            "grid_area": null,
            "grid_auto_columns": null,
            "grid_auto_flow": null,
            "grid_auto_rows": null,
            "grid_column": null,
            "grid_gap": null,
            "grid_row": null,
            "grid_template_areas": null,
            "grid_template_columns": null,
            "grid_template_rows": null,
            "height": null,
            "justify_content": null,
            "justify_items": null,
            "left": null,
            "margin": null,
            "max_height": null,
            "max_width": null,
            "min_height": null,
            "min_width": null,
            "object_fit": null,
            "object_position": null,
            "order": null,
            "overflow": null,
            "overflow_x": null,
            "overflow_y": null,
            "padding": null,
            "right": null,
            "top": null,
            "visibility": null,
            "width": null
          }
        },
        "2cac2b31ca56401bb1b38515ef7325d7": {
          "model_module": "@jupyter-widgets/controls",
          "model_name": "ProgressStyleModel",
          "model_module_version": "1.5.0",
          "state": {
            "_model_module": "@jupyter-widgets/controls",
            "_model_module_version": "1.5.0",
            "_model_name": "ProgressStyleModel",
            "_view_count": null,
            "_view_module": "@jupyter-widgets/base",
            "_view_module_version": "1.2.0",
            "_view_name": "StyleView",
            "bar_color": null,
            "description_width": ""
          }
        },
        "b344c5134747499e951cefbb40376fea": {
          "model_module": "@jupyter-widgets/base",
          "model_name": "LayoutModel",
          "model_module_version": "1.2.0",
          "state": {
            "_model_module": "@jupyter-widgets/base",
            "_model_module_version": "1.2.0",
            "_model_name": "LayoutModel",
            "_view_count": null,
            "_view_module": "@jupyter-widgets/base",
            "_view_module_version": "1.2.0",
            "_view_name": "LayoutView",
            "align_content": null,
            "align_items": null,
            "align_self": null,
            "border": null,
            "bottom": null,
            "display": null,
            "flex": null,
            "flex_flow": null,
            "grid_area": null,
            "grid_auto_columns": null,
            "grid_auto_flow": null,
            "grid_auto_rows": null,
            "grid_column": null,
            "grid_gap": null,
            "grid_row": null,
            "grid_template_areas": null,
            "grid_template_columns": null,
            "grid_template_rows": null,
            "height": null,
            "justify_content": null,
            "justify_items": null,
            "left": null,
            "margin": null,
            "max_height": null,
            "max_width": null,
            "min_height": null,
            "min_width": null,
            "object_fit": null,
            "object_position": null,
            "order": null,
            "overflow": null,
            "overflow_x": null,
            "overflow_y": null,
            "padding": null,
            "right": null,
            "top": null,
            "visibility": null,
            "width": null
          }
        },
        "113b28d8b2954d8db0c62cf126d41865": {
          "model_module": "@jupyter-widgets/controls",
          "model_name": "DescriptionStyleModel",
          "model_module_version": "1.5.0",
          "state": {
            "_model_module": "@jupyter-widgets/controls",
            "_model_module_version": "1.5.0",
            "_model_name": "DescriptionStyleModel",
            "_view_count": null,
            "_view_module": "@jupyter-widgets/base",
            "_view_module_version": "1.2.0",
            "_view_name": "StyleView",
            "description_width": ""
          }
        },
        "2b83b044142c428b85ad5e1676a506e6": {
          "model_module": "@jupyter-widgets/controls",
          "model_name": "HBoxModel",
          "model_module_version": "1.5.0",
          "state": {
            "_dom_classes": [],
            "_model_module": "@jupyter-widgets/controls",
            "_model_module_version": "1.5.0",
            "_model_name": "HBoxModel",
            "_view_count": null,
            "_view_module": "@jupyter-widgets/controls",
            "_view_module_version": "1.5.0",
            "_view_name": "HBoxView",
            "box_style": "",
            "children": [
              "IPY_MODEL_b3fb8d88d1f94936871c86be89a6d6c0",
              "IPY_MODEL_701b5ddd8343435b9653f126b89d247f",
              "IPY_MODEL_75a0128a45a24cb8bf2107ddfe91c11e"
            ],
            "layout": "IPY_MODEL_0118f0f0879c4f2ca5f2f8e9cfc96c2b"
          }
        },
        "b3fb8d88d1f94936871c86be89a6d6c0": {
          "model_module": "@jupyter-widgets/controls",
          "model_name": "HTMLModel",
          "model_module_version": "1.5.0",
          "state": {
            "_dom_classes": [],
            "_model_module": "@jupyter-widgets/controls",
            "_model_module_version": "1.5.0",
            "_model_name": "HTMLModel",
            "_view_count": null,
            "_view_module": "@jupyter-widgets/controls",
            "_view_module_version": "1.5.0",
            "_view_name": "HTMLView",
            "description": "",
            "description_tooltip": null,
            "layout": "IPY_MODEL_f84b616a8751440d9830e109cf8fd7c9",
            "placeholder": "​",
            "style": "IPY_MODEL_4b7e4741ded74ea18ff49ee1b5a93b29",
            "value": "preprocessor_config.json: 100%"
          }
        },
        "701b5ddd8343435b9653f126b89d247f": {
          "model_module": "@jupyter-widgets/controls",
          "model_name": "FloatProgressModel",
          "model_module_version": "1.5.0",
          "state": {
            "_dom_classes": [],
            "_model_module": "@jupyter-widgets/controls",
            "_model_module_version": "1.5.0",
            "_model_name": "FloatProgressModel",
            "_view_count": null,
            "_view_module": "@jupyter-widgets/controls",
            "_view_module_version": "1.5.0",
            "_view_name": "ProgressView",
            "bar_style": "success",
            "description": "",
            "description_tooltip": null,
            "layout": "IPY_MODEL_355a37ee0f5644c2b81f91500675c8b7",
            "max": 215,
            "min": 0,
            "orientation": "horizontal",
            "style": "IPY_MODEL_8aff4c3db5594132878640d2b5c45848",
            "value": 215
          }
        },
        "75a0128a45a24cb8bf2107ddfe91c11e": {
          "model_module": "@jupyter-widgets/controls",
          "model_name": "HTMLModel",
          "model_module_version": "1.5.0",
          "state": {
            "_dom_classes": [],
            "_model_module": "@jupyter-widgets/controls",
            "_model_module_version": "1.5.0",
            "_model_name": "HTMLModel",
            "_view_count": null,
            "_view_module": "@jupyter-widgets/controls",
            "_view_module_version": "1.5.0",
            "_view_name": "HTMLView",
            "description": "",
            "description_tooltip": null,
            "layout": "IPY_MODEL_5e0dfc87f5164b8f864084535c216543",
            "placeholder": "​",
            "style": "IPY_MODEL_3fd8d58f23534ef08f35c9087b57233c",
            "value": " 215/215 [00:00&lt;00:00, 25.7kB/s]"
          }
        },
        "0118f0f0879c4f2ca5f2f8e9cfc96c2b": {
          "model_module": "@jupyter-widgets/base",
          "model_name": "LayoutModel",
          "model_module_version": "1.2.0",
          "state": {
            "_model_module": "@jupyter-widgets/base",
            "_model_module_version": "1.2.0",
            "_model_name": "LayoutModel",
            "_view_count": null,
            "_view_module": "@jupyter-widgets/base",
            "_view_module_version": "1.2.0",
            "_view_name": "LayoutView",
            "align_content": null,
            "align_items": null,
            "align_self": null,
            "border": null,
            "bottom": null,
            "display": null,
            "flex": null,
            "flex_flow": null,
            "grid_area": null,
            "grid_auto_columns": null,
            "grid_auto_flow": null,
            "grid_auto_rows": null,
            "grid_column": null,
            "grid_gap": null,
            "grid_row": null,
            "grid_template_areas": null,
            "grid_template_columns": null,
            "grid_template_rows": null,
            "height": null,
            "justify_content": null,
            "justify_items": null,
            "left": null,
            "margin": null,
            "max_height": null,
            "max_width": null,
            "min_height": null,
            "min_width": null,
            "object_fit": null,
            "object_position": null,
            "order": null,
            "overflow": null,
            "overflow_x": null,
            "overflow_y": null,
            "padding": null,
            "right": null,
            "top": null,
            "visibility": null,
            "width": null
          }
        },
        "f84b616a8751440d9830e109cf8fd7c9": {
          "model_module": "@jupyter-widgets/base",
          "model_name": "LayoutModel",
          "model_module_version": "1.2.0",
          "state": {
            "_model_module": "@jupyter-widgets/base",
            "_model_module_version": "1.2.0",
            "_model_name": "LayoutModel",
            "_view_count": null,
            "_view_module": "@jupyter-widgets/base",
            "_view_module_version": "1.2.0",
            "_view_name": "LayoutView",
            "align_content": null,
            "align_items": null,
            "align_self": null,
            "border": null,
            "bottom": null,
            "display": null,
            "flex": null,
            "flex_flow": null,
            "grid_area": null,
            "grid_auto_columns": null,
            "grid_auto_flow": null,
            "grid_auto_rows": null,
            "grid_column": null,
            "grid_gap": null,
            "grid_row": null,
            "grid_template_areas": null,
            "grid_template_columns": null,
            "grid_template_rows": null,
            "height": null,
            "justify_content": null,
            "justify_items": null,
            "left": null,
            "margin": null,
            "max_height": null,
            "max_width": null,
            "min_height": null,
            "min_width": null,
            "object_fit": null,
            "object_position": null,
            "order": null,
            "overflow": null,
            "overflow_x": null,
            "overflow_y": null,
            "padding": null,
            "right": null,
            "top": null,
            "visibility": null,
            "width": null
          }
        },
        "4b7e4741ded74ea18ff49ee1b5a93b29": {
          "model_module": "@jupyter-widgets/controls",
          "model_name": "DescriptionStyleModel",
          "model_module_version": "1.5.0",
          "state": {
            "_model_module": "@jupyter-widgets/controls",
            "_model_module_version": "1.5.0",
            "_model_name": "DescriptionStyleModel",
            "_view_count": null,
            "_view_module": "@jupyter-widgets/base",
            "_view_module_version": "1.2.0",
            "_view_name": "StyleView",
            "description_width": ""
          }
        },
        "355a37ee0f5644c2b81f91500675c8b7": {
          "model_module": "@jupyter-widgets/base",
          "model_name": "LayoutModel",
          "model_module_version": "1.2.0",
          "state": {
            "_model_module": "@jupyter-widgets/base",
            "_model_module_version": "1.2.0",
            "_model_name": "LayoutModel",
            "_view_count": null,
            "_view_module": "@jupyter-widgets/base",
            "_view_module_version": "1.2.0",
            "_view_name": "LayoutView",
            "align_content": null,
            "align_items": null,
            "align_self": null,
            "border": null,
            "bottom": null,
            "display": null,
            "flex": null,
            "flex_flow": null,
            "grid_area": null,
            "grid_auto_columns": null,
            "grid_auto_flow": null,
            "grid_auto_rows": null,
            "grid_column": null,
            "grid_gap": null,
            "grid_row": null,
            "grid_template_areas": null,
            "grid_template_columns": null,
            "grid_template_rows": null,
            "height": null,
            "justify_content": null,
            "justify_items": null,
            "left": null,
            "margin": null,
            "max_height": null,
            "max_width": null,
            "min_height": null,
            "min_width": null,
            "object_fit": null,
            "object_position": null,
            "order": null,
            "overflow": null,
            "overflow_x": null,
            "overflow_y": null,
            "padding": null,
            "right": null,
            "top": null,
            "visibility": null,
            "width": null
          }
        },
        "8aff4c3db5594132878640d2b5c45848": {
          "model_module": "@jupyter-widgets/controls",
          "model_name": "ProgressStyleModel",
          "model_module_version": "1.5.0",
          "state": {
            "_model_module": "@jupyter-widgets/controls",
            "_model_module_version": "1.5.0",
            "_model_name": "ProgressStyleModel",
            "_view_count": null,
            "_view_module": "@jupyter-widgets/base",
            "_view_module_version": "1.2.0",
            "_view_name": "StyleView",
            "bar_color": null,
            "description_width": ""
          }
        },
        "5e0dfc87f5164b8f864084535c216543": {
          "model_module": "@jupyter-widgets/base",
          "model_name": "LayoutModel",
          "model_module_version": "1.2.0",
          "state": {
            "_model_module": "@jupyter-widgets/base",
            "_model_module_version": "1.2.0",
            "_model_name": "LayoutModel",
            "_view_count": null,
            "_view_module": "@jupyter-widgets/base",
            "_view_module_version": "1.2.0",
            "_view_name": "LayoutView",
            "align_content": null,
            "align_items": null,
            "align_self": null,
            "border": null,
            "bottom": null,
            "display": null,
            "flex": null,
            "flex_flow": null,
            "grid_area": null,
            "grid_auto_columns": null,
            "grid_auto_flow": null,
            "grid_auto_rows": null,
            "grid_column": null,
            "grid_gap": null,
            "grid_row": null,
            "grid_template_areas": null,
            "grid_template_columns": null,
            "grid_template_rows": null,
            "height": null,
            "justify_content": null,
            "justify_items": null,
            "left": null,
            "margin": null,
            "max_height": null,
            "max_width": null,
            "min_height": null,
            "min_width": null,
            "object_fit": null,
            "object_position": null,
            "order": null,
            "overflow": null,
            "overflow_x": null,
            "overflow_y": null,
            "padding": null,
            "right": null,
            "top": null,
            "visibility": null,
            "width": null
          }
        },
        "3fd8d58f23534ef08f35c9087b57233c": {
          "model_module": "@jupyter-widgets/controls",
          "model_name": "DescriptionStyleModel",
          "model_module_version": "1.5.0",
          "state": {
            "_model_module": "@jupyter-widgets/controls",
            "_model_module_version": "1.5.0",
            "_model_name": "DescriptionStyleModel",
            "_view_count": null,
            "_view_module": "@jupyter-widgets/base",
            "_view_module_version": "1.2.0",
            "_view_name": "StyleView",
            "description_width": ""
          }
        },
        "1502044711494ef187b9b33918446bd9": {
          "model_module": "@jupyter-widgets/controls",
          "model_name": "HBoxModel",
          "model_module_version": "1.5.0",
          "state": {
            "_dom_classes": [],
            "_model_module": "@jupyter-widgets/controls",
            "_model_module_version": "1.5.0",
            "_model_name": "HBoxModel",
            "_view_count": null,
            "_view_module": "@jupyter-widgets/controls",
            "_view_module_version": "1.5.0",
            "_view_name": "HBoxView",
            "box_style": "",
            "children": [
              "IPY_MODEL_66c826c682544e67b29fd5d850a86765",
              "IPY_MODEL_56f6c88535dd4bfcaf4ea859067cf70c",
              "IPY_MODEL_1d0f6a5086074a06a07330e58fef0b9d"
            ],
            "layout": "IPY_MODEL_e151ca86c145452ba00d1b7ed6fb699b"
          }
        },
        "66c826c682544e67b29fd5d850a86765": {
          "model_module": "@jupyter-widgets/controls",
          "model_name": "HTMLModel",
          "model_module_version": "1.5.0",
          "state": {
            "_dom_classes": [],
            "_model_module": "@jupyter-widgets/controls",
            "_model_module_version": "1.5.0",
            "_model_name": "HTMLModel",
            "_view_count": null,
            "_view_module": "@jupyter-widgets/controls",
            "_view_module_version": "1.5.0",
            "_view_name": "HTMLView",
            "description": "",
            "description_tooltip": null,
            "layout": "IPY_MODEL_56e11f8db7234b029fdeabeff610c25a",
            "placeholder": "​",
            "style": "IPY_MODEL_2140f9239a334432a462397a34a21135",
            "value": "tokenizer_config.json: "
          }
        },
        "56f6c88535dd4bfcaf4ea859067cf70c": {
          "model_module": "@jupyter-widgets/controls",
          "model_name": "FloatProgressModel",
          "model_module_version": "1.5.0",
          "state": {
            "_dom_classes": [],
            "_model_module": "@jupyter-widgets/controls",
            "_model_module_version": "1.5.0",
            "_model_name": "FloatProgressModel",
            "_view_count": null,
            "_view_module": "@jupyter-widgets/controls",
            "_view_module_version": "1.5.0",
            "_view_name": "ProgressView",
            "bar_style": "success",
            "description": "",
            "description_tooltip": null,
            "layout": "IPY_MODEL_1d1d16639c4b498798de10c6c17ff551",
            "max": 1,
            "min": 0,
            "orientation": "horizontal",
            "style": "IPY_MODEL_981749b431904596a312556557084480",
            "value": 1
          }
        },
        "1d0f6a5086074a06a07330e58fef0b9d": {
          "model_module": "@jupyter-widgets/controls",
          "model_name": "HTMLModel",
          "model_module_version": "1.5.0",
          "state": {
            "_dom_classes": [],
            "_model_module": "@jupyter-widgets/controls",
            "_model_module_version": "1.5.0",
            "_model_name": "HTMLModel",
            "_view_count": null,
            "_view_module": "@jupyter-widgets/controls",
            "_view_module_version": "1.5.0",
            "_view_name": "HTMLView",
            "description": "",
            "description_tooltip": null,
            "layout": "IPY_MODEL_ecd58e5d99004cc8a10e65953452df47",
            "placeholder": "​",
            "style": "IPY_MODEL_d87d72bad2da4c4e9065affbfcce0f4d",
            "value": " 1.08k/? [00:00&lt;00:00, 106kB/s]"
          }
        },
        "e151ca86c145452ba00d1b7ed6fb699b": {
          "model_module": "@jupyter-widgets/base",
          "model_name": "LayoutModel",
          "model_module_version": "1.2.0",
          "state": {
            "_model_module": "@jupyter-widgets/base",
            "_model_module_version": "1.2.0",
            "_model_name": "LayoutModel",
            "_view_count": null,
            "_view_module": "@jupyter-widgets/base",
            "_view_module_version": "1.2.0",
            "_view_name": "LayoutView",
            "align_content": null,
            "align_items": null,
            "align_self": null,
            "border": null,
            "bottom": null,
            "display": null,
            "flex": null,
            "flex_flow": null,
            "grid_area": null,
            "grid_auto_columns": null,
            "grid_auto_flow": null,
            "grid_auto_rows": null,
            "grid_column": null,
            "grid_gap": null,
            "grid_row": null,
            "grid_template_areas": null,
            "grid_template_columns": null,
            "grid_template_rows": null,
            "height": null,
            "justify_content": null,
            "justify_items": null,
            "left": null,
            "margin": null,
            "max_height": null,
            "max_width": null,
            "min_height": null,
            "min_width": null,
            "object_fit": null,
            "object_position": null,
            "order": null,
            "overflow": null,
            "overflow_x": null,
            "overflow_y": null,
            "padding": null,
            "right": null,
            "top": null,
            "visibility": null,
            "width": null
          }
        },
        "56e11f8db7234b029fdeabeff610c25a": {
          "model_module": "@jupyter-widgets/base",
          "model_name": "LayoutModel",
          "model_module_version": "1.2.0",
          "state": {
            "_model_module": "@jupyter-widgets/base",
            "_model_module_version": "1.2.0",
            "_model_name": "LayoutModel",
            "_view_count": null,
            "_view_module": "@jupyter-widgets/base",
            "_view_module_version": "1.2.0",
            "_view_name": "LayoutView",
            "align_content": null,
            "align_items": null,
            "align_self": null,
            "border": null,
            "bottom": null,
            "display": null,
            "flex": null,
            "flex_flow": null,
            "grid_area": null,
            "grid_auto_columns": null,
            "grid_auto_flow": null,
            "grid_auto_rows": null,
            "grid_column": null,
            "grid_gap": null,
            "grid_row": null,
            "grid_template_areas": null,
            "grid_template_columns": null,
            "grid_template_rows": null,
            "height": null,
            "justify_content": null,
            "justify_items": null,
            "left": null,
            "margin": null,
            "max_height": null,
            "max_width": null,
            "min_height": null,
            "min_width": null,
            "object_fit": null,
            "object_position": null,
            "order": null,
            "overflow": null,
            "overflow_x": null,
            "overflow_y": null,
            "padding": null,
            "right": null,
            "top": null,
            "visibility": null,
            "width": null
          }
        },
        "2140f9239a334432a462397a34a21135": {
          "model_module": "@jupyter-widgets/controls",
          "model_name": "DescriptionStyleModel",
          "model_module_version": "1.5.0",
          "state": {
            "_model_module": "@jupyter-widgets/controls",
            "_model_module_version": "1.5.0",
            "_model_name": "DescriptionStyleModel",
            "_view_count": null,
            "_view_module": "@jupyter-widgets/base",
            "_view_module_version": "1.2.0",
            "_view_name": "StyleView",
            "description_width": ""
          }
        },
        "1d1d16639c4b498798de10c6c17ff551": {
          "model_module": "@jupyter-widgets/base",
          "model_name": "LayoutModel",
          "model_module_version": "1.2.0",
          "state": {
            "_model_module": "@jupyter-widgets/base",
            "_model_module_version": "1.2.0",
            "_model_name": "LayoutModel",
            "_view_count": null,
            "_view_module": "@jupyter-widgets/base",
            "_view_module_version": "1.2.0",
            "_view_name": "LayoutView",
            "align_content": null,
            "align_items": null,
            "align_self": null,
            "border": null,
            "bottom": null,
            "display": null,
            "flex": null,
            "flex_flow": null,
            "grid_area": null,
            "grid_auto_columns": null,
            "grid_auto_flow": null,
            "grid_auto_rows": null,
            "grid_column": null,
            "grid_gap": null,
            "grid_row": null,
            "grid_template_areas": null,
            "grid_template_columns": null,
            "grid_template_rows": null,
            "height": null,
            "justify_content": null,
            "justify_items": null,
            "left": null,
            "margin": null,
            "max_height": null,
            "max_width": null,
            "min_height": null,
            "min_width": null,
            "object_fit": null,
            "object_position": null,
            "order": null,
            "overflow": null,
            "overflow_x": null,
            "overflow_y": null,
            "padding": null,
            "right": null,
            "top": null,
            "visibility": null,
            "width": "20px"
          }
        },
        "981749b431904596a312556557084480": {
          "model_module": "@jupyter-widgets/controls",
          "model_name": "ProgressStyleModel",
          "model_module_version": "1.5.0",
          "state": {
            "_model_module": "@jupyter-widgets/controls",
            "_model_module_version": "1.5.0",
            "_model_name": "ProgressStyleModel",
            "_view_count": null,
            "_view_module": "@jupyter-widgets/base",
            "_view_module_version": "1.2.0",
            "_view_name": "StyleView",
            "bar_color": null,
            "description_width": ""
          }
        },
        "ecd58e5d99004cc8a10e65953452df47": {
          "model_module": "@jupyter-widgets/base",
          "model_name": "LayoutModel",
          "model_module_version": "1.2.0",
          "state": {
            "_model_module": "@jupyter-widgets/base",
            "_model_module_version": "1.2.0",
            "_model_name": "LayoutModel",
            "_view_count": null,
            "_view_module": "@jupyter-widgets/base",
            "_view_module_version": "1.2.0",
            "_view_name": "LayoutView",
            "align_content": null,
            "align_items": null,
            "align_self": null,
            "border": null,
            "bottom": null,
            "display": null,
            "flex": null,
            "flex_flow": null,
            "grid_area": null,
            "grid_auto_columns": null,
            "grid_auto_flow": null,
            "grid_auto_rows": null,
            "grid_column": null,
            "grid_gap": null,
            "grid_row": null,
            "grid_template_areas": null,
            "grid_template_columns": null,
            "grid_template_rows": null,
            "height": null,
            "justify_content": null,
            "justify_items": null,
            "left": null,
            "margin": null,
            "max_height": null,
            "max_width": null,
            "min_height": null,
            "min_width": null,
            "object_fit": null,
            "object_position": null,
            "order": null,
            "overflow": null,
            "overflow_x": null,
            "overflow_y": null,
            "padding": null,
            "right": null,
            "top": null,
            "visibility": null,
            "width": null
          }
        },
        "d87d72bad2da4c4e9065affbfcce0f4d": {
          "model_module": "@jupyter-widgets/controls",
          "model_name": "DescriptionStyleModel",
          "model_module_version": "1.5.0",
          "state": {
            "_model_module": "@jupyter-widgets/controls",
            "_model_module_version": "1.5.0",
            "_model_name": "DescriptionStyleModel",
            "_view_count": null,
            "_view_module": "@jupyter-widgets/base",
            "_view_module_version": "1.2.0",
            "_view_name": "StyleView",
            "description_width": ""
          }
        },
        "1f1ed46cdfcf419b87873d002ad79a0c": {
          "model_module": "@jupyter-widgets/controls",
          "model_name": "HBoxModel",
          "model_module_version": "1.5.0",
          "state": {
            "_dom_classes": [],
            "_model_module": "@jupyter-widgets/controls",
            "_model_module_version": "1.5.0",
            "_model_name": "HBoxModel",
            "_view_count": null,
            "_view_module": "@jupyter-widgets/controls",
            "_view_module_version": "1.5.0",
            "_view_name": "HBoxView",
            "box_style": "",
            "children": [
              "IPY_MODEL_b5d245288d1f419f89f5f1fd9f8dc9c0",
              "IPY_MODEL_fb2690784abe43ae84f644a6186f0a46",
              "IPY_MODEL_dbb452e676ef468da641d250406bbf5f"
            ],
            "layout": "IPY_MODEL_14bbb7f42bfe4495b70a206fe0ec0d1a"
          }
        },
        "b5d245288d1f419f89f5f1fd9f8dc9c0": {
          "model_module": "@jupyter-widgets/controls",
          "model_name": "HTMLModel",
          "model_module_version": "1.5.0",
          "state": {
            "_dom_classes": [],
            "_model_module": "@jupyter-widgets/controls",
            "_model_module_version": "1.5.0",
            "_model_name": "HTMLModel",
            "_view_count": null,
            "_view_module": "@jupyter-widgets/controls",
            "_view_module_version": "1.5.0",
            "_view_name": "HTMLView",
            "description": "",
            "description_tooltip": null,
            "layout": "IPY_MODEL_fbb02415958145efbf1444b3e0d51a7e",
            "placeholder": "​",
            "style": "IPY_MODEL_56a817c37ce34bf5a578f3ab74cec0d4",
            "value": "vocab.json: 100%"
          }
        },
        "fb2690784abe43ae84f644a6186f0a46": {
          "model_module": "@jupyter-widgets/controls",
          "model_name": "FloatProgressModel",
          "model_module_version": "1.5.0",
          "state": {
            "_dom_classes": [],
            "_model_module": "@jupyter-widgets/controls",
            "_model_module_version": "1.5.0",
            "_model_name": "FloatProgressModel",
            "_view_count": null,
            "_view_module": "@jupyter-widgets/controls",
            "_view_module_version": "1.5.0",
            "_view_name": "ProgressView",
            "bar_style": "success",
            "description": "",
            "description_tooltip": null,
            "layout": "IPY_MODEL_b25feba6819a4332a23cb50774e7ada0",
            "max": 331,
            "min": 0,
            "orientation": "horizontal",
            "style": "IPY_MODEL_eb9ccfd0dcc94fb38d96f4b5b6c6abaf",
            "value": 331
          }
        },
        "dbb452e676ef468da641d250406bbf5f": {
          "model_module": "@jupyter-widgets/controls",
          "model_name": "HTMLModel",
          "model_module_version": "1.5.0",
          "state": {
            "_dom_classes": [],
            "_model_module": "@jupyter-widgets/controls",
            "_model_module_version": "1.5.0",
            "_model_name": "HTMLModel",
            "_view_count": null,
            "_view_module": "@jupyter-widgets/controls",
            "_view_module_version": "1.5.0",
            "_view_name": "HTMLView",
            "description": "",
            "description_tooltip": null,
            "layout": "IPY_MODEL_22784907a0cd4cafb3beb4afd38b0563",
            "placeholder": "​",
            "style": "IPY_MODEL_9e56511a2b584ed7a81ac1f5c0dccbee",
            "value": " 331/331 [00:00&lt;00:00, 41.2kB/s]"
          }
        },
        "14bbb7f42bfe4495b70a206fe0ec0d1a": {
          "model_module": "@jupyter-widgets/base",
          "model_name": "LayoutModel",
          "model_module_version": "1.2.0",
          "state": {
            "_model_module": "@jupyter-widgets/base",
            "_model_module_version": "1.2.0",
            "_model_name": "LayoutModel",
            "_view_count": null,
            "_view_module": "@jupyter-widgets/base",
            "_view_module_version": "1.2.0",
            "_view_name": "LayoutView",
            "align_content": null,
            "align_items": null,
            "align_self": null,
            "border": null,
            "bottom": null,
            "display": null,
            "flex": null,
            "flex_flow": null,
            "grid_area": null,
            "grid_auto_columns": null,
            "grid_auto_flow": null,
            "grid_auto_rows": null,
            "grid_column": null,
            "grid_gap": null,
            "grid_row": null,
            "grid_template_areas": null,
            "grid_template_columns": null,
            "grid_template_rows": null,
            "height": null,
            "justify_content": null,
            "justify_items": null,
            "left": null,
            "margin": null,
            "max_height": null,
            "max_width": null,
            "min_height": null,
            "min_width": null,
            "object_fit": null,
            "object_position": null,
            "order": null,
            "overflow": null,
            "overflow_x": null,
            "overflow_y": null,
            "padding": null,
            "right": null,
            "top": null,
            "visibility": null,
            "width": null
          }
        },
        "fbb02415958145efbf1444b3e0d51a7e": {
          "model_module": "@jupyter-widgets/base",
          "model_name": "LayoutModel",
          "model_module_version": "1.2.0",
          "state": {
            "_model_module": "@jupyter-widgets/base",
            "_model_module_version": "1.2.0",
            "_model_name": "LayoutModel",
            "_view_count": null,
            "_view_module": "@jupyter-widgets/base",
            "_view_module_version": "1.2.0",
            "_view_name": "LayoutView",
            "align_content": null,
            "align_items": null,
            "align_self": null,
            "border": null,
            "bottom": null,
            "display": null,
            "flex": null,
            "flex_flow": null,
            "grid_area": null,
            "grid_auto_columns": null,
            "grid_auto_flow": null,
            "grid_auto_rows": null,
            "grid_column": null,
            "grid_gap": null,
            "grid_row": null,
            "grid_template_areas": null,
            "grid_template_columns": null,
            "grid_template_rows": null,
            "height": null,
            "justify_content": null,
            "justify_items": null,
            "left": null,
            "margin": null,
            "max_height": null,
            "max_width": null,
            "min_height": null,
            "min_width": null,
            "object_fit": null,
            "object_position": null,
            "order": null,
            "overflow": null,
            "overflow_x": null,
            "overflow_y": null,
            "padding": null,
            "right": null,
            "top": null,
            "visibility": null,
            "width": null
          }
        },
        "56a817c37ce34bf5a578f3ab74cec0d4": {
          "model_module": "@jupyter-widgets/controls",
          "model_name": "DescriptionStyleModel",
          "model_module_version": "1.5.0",
          "state": {
            "_model_module": "@jupyter-widgets/controls",
            "_model_module_version": "1.5.0",
            "_model_name": "DescriptionStyleModel",
            "_view_count": null,
            "_view_module": "@jupyter-widgets/base",
            "_view_module_version": "1.2.0",
            "_view_name": "StyleView",
            "description_width": ""
          }
        },
        "b25feba6819a4332a23cb50774e7ada0": {
          "model_module": "@jupyter-widgets/base",
          "model_name": "LayoutModel",
          "model_module_version": "1.2.0",
          "state": {
            "_model_module": "@jupyter-widgets/base",
            "_model_module_version": "1.2.0",
            "_model_name": "LayoutModel",
            "_view_count": null,
            "_view_module": "@jupyter-widgets/base",
            "_view_module_version": "1.2.0",
            "_view_name": "LayoutView",
            "align_content": null,
            "align_items": null,
            "align_self": null,
            "border": null,
            "bottom": null,
            "display": null,
            "flex": null,
            "flex_flow": null,
            "grid_area": null,
            "grid_auto_columns": null,
            "grid_auto_flow": null,
            "grid_auto_rows": null,
            "grid_column": null,
            "grid_gap": null,
            "grid_row": null,
            "grid_template_areas": null,
            "grid_template_columns": null,
            "grid_template_rows": null,
            "height": null,
            "justify_content": null,
            "justify_items": null,
            "left": null,
            "margin": null,
            "max_height": null,
            "max_width": null,
            "min_height": null,
            "min_width": null,
            "object_fit": null,
            "object_position": null,
            "order": null,
            "overflow": null,
            "overflow_x": null,
            "overflow_y": null,
            "padding": null,
            "right": null,
            "top": null,
            "visibility": null,
            "width": null
          }
        },
        "eb9ccfd0dcc94fb38d96f4b5b6c6abaf": {
          "model_module": "@jupyter-widgets/controls",
          "model_name": "ProgressStyleModel",
          "model_module_version": "1.5.0",
          "state": {
            "_model_module": "@jupyter-widgets/controls",
            "_model_module_version": "1.5.0",
            "_model_name": "ProgressStyleModel",
            "_view_count": null,
            "_view_module": "@jupyter-widgets/base",
            "_view_module_version": "1.2.0",
            "_view_name": "StyleView",
            "bar_color": null,
            "description_width": ""
          }
        },
        "22784907a0cd4cafb3beb4afd38b0563": {
          "model_module": "@jupyter-widgets/base",
          "model_name": "LayoutModel",
          "model_module_version": "1.2.0",
          "state": {
            "_model_module": "@jupyter-widgets/base",
            "_model_module_version": "1.2.0",
            "_model_name": "LayoutModel",
            "_view_count": null,
            "_view_module": "@jupyter-widgets/base",
            "_view_module_version": "1.2.0",
            "_view_name": "LayoutView",
            "align_content": null,
            "align_items": null,
            "align_self": null,
            "border": null,
            "bottom": null,
            "display": null,
            "flex": null,
            "flex_flow": null,
            "grid_area": null,
            "grid_auto_columns": null,
            "grid_auto_flow": null,
            "grid_auto_rows": null,
            "grid_column": null,
            "grid_gap": null,
            "grid_row": null,
            "grid_template_areas": null,
            "grid_template_columns": null,
            "grid_template_rows": null,
            "height": null,
            "justify_content": null,
            "justify_items": null,
            "left": null,
            "margin": null,
            "max_height": null,
            "max_width": null,
            "min_height": null,
            "min_width": null,
            "object_fit": null,
            "object_position": null,
            "order": null,
            "overflow": null,
            "overflow_x": null,
            "overflow_y": null,
            "padding": null,
            "right": null,
            "top": null,
            "visibility": null,
            "width": null
          }
        },
        "9e56511a2b584ed7a81ac1f5c0dccbee": {
          "model_module": "@jupyter-widgets/controls",
          "model_name": "DescriptionStyleModel",
          "model_module_version": "1.5.0",
          "state": {
            "_model_module": "@jupyter-widgets/controls",
            "_model_module_version": "1.5.0",
            "_model_name": "DescriptionStyleModel",
            "_view_count": null,
            "_view_module": "@jupyter-widgets/base",
            "_view_module_version": "1.2.0",
            "_view_name": "StyleView",
            "description_width": ""
          }
        },
        "b6b3e80472864596a0cda5024076a353": {
          "model_module": "@jupyter-widgets/controls",
          "model_name": "HBoxModel",
          "model_module_version": "1.5.0",
          "state": {
            "_dom_classes": [],
            "_model_module": "@jupyter-widgets/controls",
            "_model_module_version": "1.5.0",
            "_model_name": "HBoxModel",
            "_view_count": null,
            "_view_module": "@jupyter-widgets/controls",
            "_view_module_version": "1.5.0",
            "_view_name": "HBoxView",
            "box_style": "",
            "children": [
              "IPY_MODEL_0a6535d7bacd4d55bbc2bee0ec2a6ddf",
              "IPY_MODEL_9fc3aef32fdf480083b85bcc49bccaaa",
              "IPY_MODEL_0dc54e9a6da8403bb947dad3a058d151"
            ],
            "layout": "IPY_MODEL_aaac36fbb71d4f5ba622da3a3e0ddaa7"
          }
        },
        "0a6535d7bacd4d55bbc2bee0ec2a6ddf": {
          "model_module": "@jupyter-widgets/controls",
          "model_name": "HTMLModel",
          "model_module_version": "1.5.0",
          "state": {
            "_dom_classes": [],
            "_model_module": "@jupyter-widgets/controls",
            "_model_module_version": "1.5.0",
            "_model_name": "HTMLModel",
            "_view_count": null,
            "_view_module": "@jupyter-widgets/controls",
            "_view_module_version": "1.5.0",
            "_view_name": "HTMLView",
            "description": "",
            "description_tooltip": null,
            "layout": "IPY_MODEL_c934f2dcd3c04f2d833eefc383a8d340",
            "placeholder": "​",
            "style": "IPY_MODEL_1261d4ac84ba419796772d9216e6645e",
            "value": "added_tokens.json: 100%"
          }
        },
        "9fc3aef32fdf480083b85bcc49bccaaa": {
          "model_module": "@jupyter-widgets/controls",
          "model_name": "FloatProgressModel",
          "model_module_version": "1.5.0",
          "state": {
            "_dom_classes": [],
            "_model_module": "@jupyter-widgets/controls",
            "_model_module_version": "1.5.0",
            "_model_name": "FloatProgressModel",
            "_view_count": null,
            "_view_module": "@jupyter-widgets/controls",
            "_view_module_version": "1.5.0",
            "_view_name": "ProgressView",
            "bar_style": "success",
            "description": "",
            "description_tooltip": null,
            "layout": "IPY_MODEL_1796751053104cb3a63ae87712911c19",
            "max": 30,
            "min": 0,
            "orientation": "horizontal",
            "style": "IPY_MODEL_a09be20768ca4b7fa104b06972dee054",
            "value": 30
          }
        },
        "0dc54e9a6da8403bb947dad3a058d151": {
          "model_module": "@jupyter-widgets/controls",
          "model_name": "HTMLModel",
          "model_module_version": "1.5.0",
          "state": {
            "_dom_classes": [],
            "_model_module": "@jupyter-widgets/controls",
            "_model_module_version": "1.5.0",
            "_model_name": "HTMLModel",
            "_view_count": null,
            "_view_module": "@jupyter-widgets/controls",
            "_view_module_version": "1.5.0",
            "_view_name": "HTMLView",
            "description": "",
            "description_tooltip": null,
            "layout": "IPY_MODEL_bc9c78fe44bd4f3e8571e455eaf61517",
            "placeholder": "​",
            "style": "IPY_MODEL_ca15b005066946338870958260e220f5",
            "value": " 30.0/30.0 [00:00&lt;00:00, 3.58kB/s]"
          }
        },
        "aaac36fbb71d4f5ba622da3a3e0ddaa7": {
          "model_module": "@jupyter-widgets/base",
          "model_name": "LayoutModel",
          "model_module_version": "1.2.0",
          "state": {
            "_model_module": "@jupyter-widgets/base",
            "_model_module_version": "1.2.0",
            "_model_name": "LayoutModel",
            "_view_count": null,
            "_view_module": "@jupyter-widgets/base",
            "_view_module_version": "1.2.0",
            "_view_name": "LayoutView",
            "align_content": null,
            "align_items": null,
            "align_self": null,
            "border": null,
            "bottom": null,
            "display": null,
            "flex": null,
            "flex_flow": null,
            "grid_area": null,
            "grid_auto_columns": null,
            "grid_auto_flow": null,
            "grid_auto_rows": null,
            "grid_column": null,
            "grid_gap": null,
            "grid_row": null,
            "grid_template_areas": null,
            "grid_template_columns": null,
            "grid_template_rows": null,
            "height": null,
            "justify_content": null,
            "justify_items": null,
            "left": null,
            "margin": null,
            "max_height": null,
            "max_width": null,
            "min_height": null,
            "min_width": null,
            "object_fit": null,
            "object_position": null,
            "order": null,
            "overflow": null,
            "overflow_x": null,
            "overflow_y": null,
            "padding": null,
            "right": null,
            "top": null,
            "visibility": null,
            "width": null
          }
        },
        "c934f2dcd3c04f2d833eefc383a8d340": {
          "model_module": "@jupyter-widgets/base",
          "model_name": "LayoutModel",
          "model_module_version": "1.2.0",
          "state": {
            "_model_module": "@jupyter-widgets/base",
            "_model_module_version": "1.2.0",
            "_model_name": "LayoutModel",
            "_view_count": null,
            "_view_module": "@jupyter-widgets/base",
            "_view_module_version": "1.2.0",
            "_view_name": "LayoutView",
            "align_content": null,
            "align_items": null,
            "align_self": null,
            "border": null,
            "bottom": null,
            "display": null,
            "flex": null,
            "flex_flow": null,
            "grid_area": null,
            "grid_auto_columns": null,
            "grid_auto_flow": null,
            "grid_auto_rows": null,
            "grid_column": null,
            "grid_gap": null,
            "grid_row": null,
            "grid_template_areas": null,
            "grid_template_columns": null,
            "grid_template_rows": null,
            "height": null,
            "justify_content": null,
            "justify_items": null,
            "left": null,
            "margin": null,
            "max_height": null,
            "max_width": null,
            "min_height": null,
            "min_width": null,
            "object_fit": null,
            "object_position": null,
            "order": null,
            "overflow": null,
            "overflow_x": null,
            "overflow_y": null,
            "padding": null,
            "right": null,
            "top": null,
            "visibility": null,
            "width": null
          }
        },
        "1261d4ac84ba419796772d9216e6645e": {
          "model_module": "@jupyter-widgets/controls",
          "model_name": "DescriptionStyleModel",
          "model_module_version": "1.5.0",
          "state": {
            "_model_module": "@jupyter-widgets/controls",
            "_model_module_version": "1.5.0",
            "_model_name": "DescriptionStyleModel",
            "_view_count": null,
            "_view_module": "@jupyter-widgets/base",
            "_view_module_version": "1.2.0",
            "_view_name": "StyleView",
            "description_width": ""
          }
        },
        "1796751053104cb3a63ae87712911c19": {
          "model_module": "@jupyter-widgets/base",
          "model_name": "LayoutModel",
          "model_module_version": "1.2.0",
          "state": {
            "_model_module": "@jupyter-widgets/base",
            "_model_module_version": "1.2.0",
            "_model_name": "LayoutModel",
            "_view_count": null,
            "_view_module": "@jupyter-widgets/base",
            "_view_module_version": "1.2.0",
            "_view_name": "LayoutView",
            "align_content": null,
            "align_items": null,
            "align_self": null,
            "border": null,
            "bottom": null,
            "display": null,
            "flex": null,
            "flex_flow": null,
            "grid_area": null,
            "grid_auto_columns": null,
            "grid_auto_flow": null,
            "grid_auto_rows": null,
            "grid_column": null,
            "grid_gap": null,
            "grid_row": null,
            "grid_template_areas": null,
            "grid_template_columns": null,
            "grid_template_rows": null,
            "height": null,
            "justify_content": null,
            "justify_items": null,
            "left": null,
            "margin": null,
            "max_height": null,
            "max_width": null,
            "min_height": null,
            "min_width": null,
            "object_fit": null,
            "object_position": null,
            "order": null,
            "overflow": null,
            "overflow_x": null,
            "overflow_y": null,
            "padding": null,
            "right": null,
            "top": null,
            "visibility": null,
            "width": null
          }
        },
        "a09be20768ca4b7fa104b06972dee054": {
          "model_module": "@jupyter-widgets/controls",
          "model_name": "ProgressStyleModel",
          "model_module_version": "1.5.0",
          "state": {
            "_model_module": "@jupyter-widgets/controls",
            "_model_module_version": "1.5.0",
            "_model_name": "ProgressStyleModel",
            "_view_count": null,
            "_view_module": "@jupyter-widgets/base",
            "_view_module_version": "1.2.0",
            "_view_name": "StyleView",
            "bar_color": null,
            "description_width": ""
          }
        },
        "bc9c78fe44bd4f3e8571e455eaf61517": {
          "model_module": "@jupyter-widgets/base",
          "model_name": "LayoutModel",
          "model_module_version": "1.2.0",
          "state": {
            "_model_module": "@jupyter-widgets/base",
            "_model_module_version": "1.2.0",
            "_model_name": "LayoutModel",
            "_view_count": null,
            "_view_module": "@jupyter-widgets/base",
            "_view_module_version": "1.2.0",
            "_view_name": "LayoutView",
            "align_content": null,
            "align_items": null,
            "align_self": null,
            "border": null,
            "bottom": null,
            "display": null,
            "flex": null,
            "flex_flow": null,
            "grid_area": null,
            "grid_auto_columns": null,
            "grid_auto_flow": null,
            "grid_auto_rows": null,
            "grid_column": null,
            "grid_gap": null,
            "grid_row": null,
            "grid_template_areas": null,
            "grid_template_columns": null,
            "grid_template_rows": null,
            "height": null,
            "justify_content": null,
            "justify_items": null,
            "left": null,
            "margin": null,
            "max_height": null,
            "max_width": null,
            "min_height": null,
            "min_width": null,
            "object_fit": null,
            "object_position": null,
            "order": null,
            "overflow": null,
            "overflow_x": null,
            "overflow_y": null,
            "padding": null,
            "right": null,
            "top": null,
            "visibility": null,
            "width": null
          }
        },
        "ca15b005066946338870958260e220f5": {
          "model_module": "@jupyter-widgets/controls",
          "model_name": "DescriptionStyleModel",
          "model_module_version": "1.5.0",
          "state": {
            "_model_module": "@jupyter-widgets/controls",
            "_model_module_version": "1.5.0",
            "_model_name": "DescriptionStyleModel",
            "_view_count": null,
            "_view_module": "@jupyter-widgets/base",
            "_view_module_version": "1.2.0",
            "_view_name": "StyleView",
            "description_width": ""
          }
        },
        "8cc8975f26fc4a9d8c113954fde51f29": {
          "model_module": "@jupyter-widgets/controls",
          "model_name": "HBoxModel",
          "model_module_version": "1.5.0",
          "state": {
            "_dom_classes": [],
            "_model_module": "@jupyter-widgets/controls",
            "_model_module_version": "1.5.0",
            "_model_name": "HBoxModel",
            "_view_count": null,
            "_view_module": "@jupyter-widgets/controls",
            "_view_module_version": "1.5.0",
            "_view_name": "HBoxView",
            "box_style": "",
            "children": [
              "IPY_MODEL_cd290df8373b4ef4bbb8ba517474ce97",
              "IPY_MODEL_0f7a68b45312458a910443fa7a8577ee",
              "IPY_MODEL_b1897d8c3bf94629ae463369d2862bc6"
            ],
            "layout": "IPY_MODEL_a74d21d16bb84f02b1eea0977b9b73d7"
          }
        },
        "cd290df8373b4ef4bbb8ba517474ce97": {
          "model_module": "@jupyter-widgets/controls",
          "model_name": "HTMLModel",
          "model_module_version": "1.5.0",
          "state": {
            "_dom_classes": [],
            "_model_module": "@jupyter-widgets/controls",
            "_model_module_version": "1.5.0",
            "_model_name": "HTMLModel",
            "_view_count": null,
            "_view_module": "@jupyter-widgets/controls",
            "_view_module_version": "1.5.0",
            "_view_name": "HTMLView",
            "description": "",
            "description_tooltip": null,
            "layout": "IPY_MODEL_1e33f1b9bcb54222b6c61611ebda587c",
            "placeholder": "​",
            "style": "IPY_MODEL_45dbb2464511451193be1a1d14223189",
            "value": "special_tokens_map.json: 100%"
          }
        },
        "0f7a68b45312458a910443fa7a8577ee": {
          "model_module": "@jupyter-widgets/controls",
          "model_name": "FloatProgressModel",
          "model_module_version": "1.5.0",
          "state": {
            "_dom_classes": [],
            "_model_module": "@jupyter-widgets/controls",
            "_model_module_version": "1.5.0",
            "_model_name": "FloatProgressModel",
            "_view_count": null,
            "_view_module": "@jupyter-widgets/controls",
            "_view_module_version": "1.5.0",
            "_view_name": "ProgressView",
            "bar_style": "success",
            "description": "",
            "description_tooltip": null,
            "layout": "IPY_MODEL_184e6b4e8da54f93bb7a4aac9b231279",
            "max": 96,
            "min": 0,
            "orientation": "horizontal",
            "style": "IPY_MODEL_4f51c81ef191458cafdae691eed54203",
            "value": 96
          }
        },
        "b1897d8c3bf94629ae463369d2862bc6": {
          "model_module": "@jupyter-widgets/controls",
          "model_name": "HTMLModel",
          "model_module_version": "1.5.0",
          "state": {
            "_dom_classes": [],
            "_model_module": "@jupyter-widgets/controls",
            "_model_module_version": "1.5.0",
            "_model_name": "HTMLModel",
            "_view_count": null,
            "_view_module": "@jupyter-widgets/controls",
            "_view_module_version": "1.5.0",
            "_view_name": "HTMLView",
            "description": "",
            "description_tooltip": null,
            "layout": "IPY_MODEL_515c54945a4c4b7782a29d1b25b81f37",
            "placeholder": "​",
            "style": "IPY_MODEL_1582acfd0db74347898c871e05fad7fc",
            "value": " 96.0/96.0 [00:00&lt;00:00, 12.8kB/s]"
          }
        },
        "a74d21d16bb84f02b1eea0977b9b73d7": {
          "model_module": "@jupyter-widgets/base",
          "model_name": "LayoutModel",
          "model_module_version": "1.2.0",
          "state": {
            "_model_module": "@jupyter-widgets/base",
            "_model_module_version": "1.2.0",
            "_model_name": "LayoutModel",
            "_view_count": null,
            "_view_module": "@jupyter-widgets/base",
            "_view_module_version": "1.2.0",
            "_view_name": "LayoutView",
            "align_content": null,
            "align_items": null,
            "align_self": null,
            "border": null,
            "bottom": null,
            "display": null,
            "flex": null,
            "flex_flow": null,
            "grid_area": null,
            "grid_auto_columns": null,
            "grid_auto_flow": null,
            "grid_auto_rows": null,
            "grid_column": null,
            "grid_gap": null,
            "grid_row": null,
            "grid_template_areas": null,
            "grid_template_columns": null,
            "grid_template_rows": null,
            "height": null,
            "justify_content": null,
            "justify_items": null,
            "left": null,
            "margin": null,
            "max_height": null,
            "max_width": null,
            "min_height": null,
            "min_width": null,
            "object_fit": null,
            "object_position": null,
            "order": null,
            "overflow": null,
            "overflow_x": null,
            "overflow_y": null,
            "padding": null,
            "right": null,
            "top": null,
            "visibility": null,
            "width": null
          }
        },
        "1e33f1b9bcb54222b6c61611ebda587c": {
          "model_module": "@jupyter-widgets/base",
          "model_name": "LayoutModel",
          "model_module_version": "1.2.0",
          "state": {
            "_model_module": "@jupyter-widgets/base",
            "_model_module_version": "1.2.0",
            "_model_name": "LayoutModel",
            "_view_count": null,
            "_view_module": "@jupyter-widgets/base",
            "_view_module_version": "1.2.0",
            "_view_name": "LayoutView",
            "align_content": null,
            "align_items": null,
            "align_self": null,
            "border": null,
            "bottom": null,
            "display": null,
            "flex": null,
            "flex_flow": null,
            "grid_area": null,
            "grid_auto_columns": null,
            "grid_auto_flow": null,
            "grid_auto_rows": null,
            "grid_column": null,
            "grid_gap": null,
            "grid_row": null,
            "grid_template_areas": null,
            "grid_template_columns": null,
            "grid_template_rows": null,
            "height": null,
            "justify_content": null,
            "justify_items": null,
            "left": null,
            "margin": null,
            "max_height": null,
            "max_width": null,
            "min_height": null,
            "min_width": null,
            "object_fit": null,
            "object_position": null,
            "order": null,
            "overflow": null,
            "overflow_x": null,
            "overflow_y": null,
            "padding": null,
            "right": null,
            "top": null,
            "visibility": null,
            "width": null
          }
        },
        "45dbb2464511451193be1a1d14223189": {
          "model_module": "@jupyter-widgets/controls",
          "model_name": "DescriptionStyleModel",
          "model_module_version": "1.5.0",
          "state": {
            "_model_module": "@jupyter-widgets/controls",
            "_model_module_version": "1.5.0",
            "_model_name": "DescriptionStyleModel",
            "_view_count": null,
            "_view_module": "@jupyter-widgets/base",
            "_view_module_version": "1.2.0",
            "_view_name": "StyleView",
            "description_width": ""
          }
        },
        "184e6b4e8da54f93bb7a4aac9b231279": {
          "model_module": "@jupyter-widgets/base",
          "model_name": "LayoutModel",
          "model_module_version": "1.2.0",
          "state": {
            "_model_module": "@jupyter-widgets/base",
            "_model_module_version": "1.2.0",
            "_model_name": "LayoutModel",
            "_view_count": null,
            "_view_module": "@jupyter-widgets/base",
            "_view_module_version": "1.2.0",
            "_view_name": "LayoutView",
            "align_content": null,
            "align_items": null,
            "align_self": null,
            "border": null,
            "bottom": null,
            "display": null,
            "flex": null,
            "flex_flow": null,
            "grid_area": null,
            "grid_auto_columns": null,
            "grid_auto_flow": null,
            "grid_auto_rows": null,
            "grid_column": null,
            "grid_gap": null,
            "grid_row": null,
            "grid_template_areas": null,
            "grid_template_columns": null,
            "grid_template_rows": null,
            "height": null,
            "justify_content": null,
            "justify_items": null,
            "left": null,
            "margin": null,
            "max_height": null,
            "max_width": null,
            "min_height": null,
            "min_width": null,
            "object_fit": null,
            "object_position": null,
            "order": null,
            "overflow": null,
            "overflow_x": null,
            "overflow_y": null,
            "padding": null,
            "right": null,
            "top": null,
            "visibility": null,
            "width": null
          }
        },
        "4f51c81ef191458cafdae691eed54203": {
          "model_module": "@jupyter-widgets/controls",
          "model_name": "ProgressStyleModel",
          "model_module_version": "1.5.0",
          "state": {
            "_model_module": "@jupyter-widgets/controls",
            "_model_module_version": "1.5.0",
            "_model_name": "ProgressStyleModel",
            "_view_count": null,
            "_view_module": "@jupyter-widgets/base",
            "_view_module_version": "1.2.0",
            "_view_name": "StyleView",
            "bar_color": null,
            "description_width": ""
          }
        },
        "515c54945a4c4b7782a29d1b25b81f37": {
          "model_module": "@jupyter-widgets/base",
          "model_name": "LayoutModel",
          "model_module_version": "1.2.0",
          "state": {
            "_model_module": "@jupyter-widgets/base",
            "_model_module_version": "1.2.0",
            "_model_name": "LayoutModel",
            "_view_count": null,
            "_view_module": "@jupyter-widgets/base",
            "_view_module_version": "1.2.0",
            "_view_name": "LayoutView",
            "align_content": null,
            "align_items": null,
            "align_self": null,
            "border": null,
            "bottom": null,
            "display": null,
            "flex": null,
            "flex_flow": null,
            "grid_area": null,
            "grid_auto_columns": null,
            "grid_auto_flow": null,
            "grid_auto_rows": null,
            "grid_column": null,
            "grid_gap": null,
            "grid_row": null,
            "grid_template_areas": null,
            "grid_template_columns": null,
            "grid_template_rows": null,
            "height": null,
            "justify_content": null,
            "justify_items": null,
            "left": null,
            "margin": null,
            "max_height": null,
            "max_width": null,
            "min_height": null,
            "min_width": null,
            "object_fit": null,
            "object_position": null,
            "order": null,
            "overflow": null,
            "overflow_x": null,
            "overflow_y": null,
            "padding": null,
            "right": null,
            "top": null,
            "visibility": null,
            "width": null
          }
        },
        "1582acfd0db74347898c871e05fad7fc": {
          "model_module": "@jupyter-widgets/controls",
          "model_name": "DescriptionStyleModel",
          "model_module_version": "1.5.0",
          "state": {
            "_model_module": "@jupyter-widgets/controls",
            "_model_module_version": "1.5.0",
            "_model_name": "DescriptionStyleModel",
            "_view_count": null,
            "_view_module": "@jupyter-widgets/base",
            "_view_module_version": "1.2.0",
            "_view_name": "StyleView",
            "description_width": ""
          }
        },
        "7c7908865ca443f08077993c1cc71489": {
          "model_module": "@jupyter-widgets/controls",
          "model_name": "HBoxModel",
          "model_module_version": "1.5.0",
          "state": {
            "_dom_classes": [],
            "_model_module": "@jupyter-widgets/controls",
            "_model_module_version": "1.5.0",
            "_model_name": "HBoxModel",
            "_view_count": null,
            "_view_module": "@jupyter-widgets/controls",
            "_view_module_version": "1.5.0",
            "_view_name": "HBoxView",
            "box_style": "",
            "children": [
              "IPY_MODEL_08eff2e4720f49fe81dd420a535f4045",
              "IPY_MODEL_d7c0317352f243f483d6ed40f108924a",
              "IPY_MODEL_e85d575ebeb44d7486f3cf8e0541d287"
            ],
            "layout": "IPY_MODEL_90972891e9b7400c87237bffda74177b"
          }
        },
        "08eff2e4720f49fe81dd420a535f4045": {
          "model_module": "@jupyter-widgets/controls",
          "model_name": "HTMLModel",
          "model_module_version": "1.5.0",
          "state": {
            "_dom_classes": [],
            "_model_module": "@jupyter-widgets/controls",
            "_model_module_version": "1.5.0",
            "_model_name": "HTMLModel",
            "_view_count": null,
            "_view_module": "@jupyter-widgets/controls",
            "_view_module_version": "1.5.0",
            "_view_name": "HTMLView",
            "description": "",
            "description_tooltip": null,
            "layout": "IPY_MODEL_fd781900832d4024bc795e84c96a4575",
            "placeholder": "​",
            "style": "IPY_MODEL_2b562d5c79fd4a408c49519bf479de3c",
            "value": "config.json: "
          }
        },
        "d7c0317352f243f483d6ed40f108924a": {
          "model_module": "@jupyter-widgets/controls",
          "model_name": "FloatProgressModel",
          "model_module_version": "1.5.0",
          "state": {
            "_dom_classes": [],
            "_model_module": "@jupyter-widgets/controls",
            "_model_module_version": "1.5.0",
            "_model_name": "FloatProgressModel",
            "_view_count": null,
            "_view_module": "@jupyter-widgets/controls",
            "_view_module_version": "1.5.0",
            "_view_name": "ProgressView",
            "bar_style": "success",
            "description": "",
            "description_tooltip": null,
            "layout": "IPY_MODEL_07c156930a694ee7825c73a90d46501d",
            "max": 1,
            "min": 0,
            "orientation": "horizontal",
            "style": "IPY_MODEL_89e3568fb0494d858925582a1c662ec3",
            "value": 1
          }
        },
        "e85d575ebeb44d7486f3cf8e0541d287": {
          "model_module": "@jupyter-widgets/controls",
          "model_name": "HTMLModel",
          "model_module_version": "1.5.0",
          "state": {
            "_dom_classes": [],
            "_model_module": "@jupyter-widgets/controls",
            "_model_module_version": "1.5.0",
            "_model_name": "HTMLModel",
            "_view_count": null,
            "_view_module": "@jupyter-widgets/controls",
            "_view_module_version": "1.5.0",
            "_view_name": "HTMLView",
            "description": "",
            "description_tooltip": null,
            "layout": "IPY_MODEL_b2117f2e4de24e918f5203618daa1d90",
            "placeholder": "​",
            "style": "IPY_MODEL_e4a4e08124bb43128a548c6df1fee207",
            "value": " 2.32k/? [00:00&lt;00:00, 260kB/s]"
          }
        },
        "90972891e9b7400c87237bffda74177b": {
          "model_module": "@jupyter-widgets/base",
          "model_name": "LayoutModel",
          "model_module_version": "1.2.0",
          "state": {
            "_model_module": "@jupyter-widgets/base",
            "_model_module_version": "1.2.0",
            "_model_name": "LayoutModel",
            "_view_count": null,
            "_view_module": "@jupyter-widgets/base",
            "_view_module_version": "1.2.0",
            "_view_name": "LayoutView",
            "align_content": null,
            "align_items": null,
            "align_self": null,
            "border": null,
            "bottom": null,
            "display": null,
            "flex": null,
            "flex_flow": null,
            "grid_area": null,
            "grid_auto_columns": null,
            "grid_auto_flow": null,
            "grid_auto_rows": null,
            "grid_column": null,
            "grid_gap": null,
            "grid_row": null,
            "grid_template_areas": null,
            "grid_template_columns": null,
            "grid_template_rows": null,
            "height": null,
            "justify_content": null,
            "justify_items": null,
            "left": null,
            "margin": null,
            "max_height": null,
            "max_width": null,
            "min_height": null,
            "min_width": null,
            "object_fit": null,
            "object_position": null,
            "order": null,
            "overflow": null,
            "overflow_x": null,
            "overflow_y": null,
            "padding": null,
            "right": null,
            "top": null,
            "visibility": null,
            "width": null
          }
        },
        "fd781900832d4024bc795e84c96a4575": {
          "model_module": "@jupyter-widgets/base",
          "model_name": "LayoutModel",
          "model_module_version": "1.2.0",
          "state": {
            "_model_module": "@jupyter-widgets/base",
            "_model_module_version": "1.2.0",
            "_model_name": "LayoutModel",
            "_view_count": null,
            "_view_module": "@jupyter-widgets/base",
            "_view_module_version": "1.2.0",
            "_view_name": "LayoutView",
            "align_content": null,
            "align_items": null,
            "align_self": null,
            "border": null,
            "bottom": null,
            "display": null,
            "flex": null,
            "flex_flow": null,
            "grid_area": null,
            "grid_auto_columns": null,
            "grid_auto_flow": null,
            "grid_auto_rows": null,
            "grid_column": null,
            "grid_gap": null,
            "grid_row": null,
            "grid_template_areas": null,
            "grid_template_columns": null,
            "grid_template_rows": null,
            "height": null,
            "justify_content": null,
            "justify_items": null,
            "left": null,
            "margin": null,
            "max_height": null,
            "max_width": null,
            "min_height": null,
            "min_width": null,
            "object_fit": null,
            "object_position": null,
            "order": null,
            "overflow": null,
            "overflow_x": null,
            "overflow_y": null,
            "padding": null,
            "right": null,
            "top": null,
            "visibility": null,
            "width": null
          }
        },
        "2b562d5c79fd4a408c49519bf479de3c": {
          "model_module": "@jupyter-widgets/controls",
          "model_name": "DescriptionStyleModel",
          "model_module_version": "1.5.0",
          "state": {
            "_model_module": "@jupyter-widgets/controls",
            "_model_module_version": "1.5.0",
            "_model_name": "DescriptionStyleModel",
            "_view_count": null,
            "_view_module": "@jupyter-widgets/base",
            "_view_module_version": "1.2.0",
            "_view_name": "StyleView",
            "description_width": ""
          }
        },
        "07c156930a694ee7825c73a90d46501d": {
          "model_module": "@jupyter-widgets/base",
          "model_name": "LayoutModel",
          "model_module_version": "1.2.0",
          "state": {
            "_model_module": "@jupyter-widgets/base",
            "_model_module_version": "1.2.0",
            "_model_name": "LayoutModel",
            "_view_count": null,
            "_view_module": "@jupyter-widgets/base",
            "_view_module_version": "1.2.0",
            "_view_name": "LayoutView",
            "align_content": null,
            "align_items": null,
            "align_self": null,
            "border": null,
            "bottom": null,
            "display": null,
            "flex": null,
            "flex_flow": null,
            "grid_area": null,
            "grid_auto_columns": null,
            "grid_auto_flow": null,
            "grid_auto_rows": null,
            "grid_column": null,
            "grid_gap": null,
            "grid_row": null,
            "grid_template_areas": null,
            "grid_template_columns": null,
            "grid_template_rows": null,
            "height": null,
            "justify_content": null,
            "justify_items": null,
            "left": null,
            "margin": null,
            "max_height": null,
            "max_width": null,
            "min_height": null,
            "min_width": null,
            "object_fit": null,
            "object_position": null,
            "order": null,
            "overflow": null,
            "overflow_x": null,
            "overflow_y": null,
            "padding": null,
            "right": null,
            "top": null,
            "visibility": null,
            "width": "20px"
          }
        },
        "89e3568fb0494d858925582a1c662ec3": {
          "model_module": "@jupyter-widgets/controls",
          "model_name": "ProgressStyleModel",
          "model_module_version": "1.5.0",
          "state": {
            "_model_module": "@jupyter-widgets/controls",
            "_model_module_version": "1.5.0",
            "_model_name": "ProgressStyleModel",
            "_view_count": null,
            "_view_module": "@jupyter-widgets/base",
            "_view_module_version": "1.2.0",
            "_view_name": "StyleView",
            "bar_color": null,
            "description_width": ""
          }
        },
        "b2117f2e4de24e918f5203618daa1d90": {
          "model_module": "@jupyter-widgets/base",
          "model_name": "LayoutModel",
          "model_module_version": "1.2.0",
          "state": {
            "_model_module": "@jupyter-widgets/base",
            "_model_module_version": "1.2.0",
            "_model_name": "LayoutModel",
            "_view_count": null,
            "_view_module": "@jupyter-widgets/base",
            "_view_module_version": "1.2.0",
            "_view_name": "LayoutView",
            "align_content": null,
            "align_items": null,
            "align_self": null,
            "border": null,
            "bottom": null,
            "display": null,
            "flex": null,
            "flex_flow": null,
            "grid_area": null,
            "grid_auto_columns": null,
            "grid_auto_flow": null,
            "grid_auto_rows": null,
            "grid_column": null,
            "grid_gap": null,
            "grid_row": null,
            "grid_template_areas": null,
            "grid_template_columns": null,
            "grid_template_rows": null,
            "height": null,
            "justify_content": null,
            "justify_items": null,
            "left": null,
            "margin": null,
            "max_height": null,
            "max_width": null,
            "min_height": null,
            "min_width": null,
            "object_fit": null,
            "object_position": null,
            "order": null,
            "overflow": null,
            "overflow_x": null,
            "overflow_y": null,
            "padding": null,
            "right": null,
            "top": null,
            "visibility": null,
            "width": null
          }
        },
        "e4a4e08124bb43128a548c6df1fee207": {
          "model_module": "@jupyter-widgets/controls",
          "model_name": "DescriptionStyleModel",
          "model_module_version": "1.5.0",
          "state": {
            "_model_module": "@jupyter-widgets/controls",
            "_model_module_version": "1.5.0",
            "_model_name": "DescriptionStyleModel",
            "_view_count": null,
            "_view_module": "@jupyter-widgets/base",
            "_view_module_version": "1.2.0",
            "_view_name": "StyleView",
            "description_width": ""
          }
        },
        "63656809cd494f40b8a1a9a321e5e2e8": {
          "model_module": "@jupyter-widgets/controls",
          "model_name": "HBoxModel",
          "model_module_version": "1.5.0",
          "state": {
            "_dom_classes": [],
            "_model_module": "@jupyter-widgets/controls",
            "_model_module_version": "1.5.0",
            "_model_name": "HBoxModel",
            "_view_count": null,
            "_view_module": "@jupyter-widgets/controls",
            "_view_module_version": "1.5.0",
            "_view_name": "HBoxView",
            "box_style": "",
            "children": [
              "IPY_MODEL_417e047e721b44c7a4ad1add2f61a9c9",
              "IPY_MODEL_ea610bb1617e4661bde3923076efe36b",
              "IPY_MODEL_defe9ea969c84b70a9b4c72070e581ff"
            ],
            "layout": "IPY_MODEL_f856ad095e3145c2840d72bca07d421c"
          }
        },
        "417e047e721b44c7a4ad1add2f61a9c9": {
          "model_module": "@jupyter-widgets/controls",
          "model_name": "HTMLModel",
          "model_module_version": "1.5.0",
          "state": {
            "_dom_classes": [],
            "_model_module": "@jupyter-widgets/controls",
            "_model_module_version": "1.5.0",
            "_model_name": "HTMLModel",
            "_view_count": null,
            "_view_module": "@jupyter-widgets/controls",
            "_view_module_version": "1.5.0",
            "_view_name": "HTMLView",
            "description": "",
            "description_tooltip": null,
            "layout": "IPY_MODEL_d4c77f3063ed4bc48eec5694a155cb17",
            "placeholder": "​",
            "style": "IPY_MODEL_7c020432d27346e7960131ce95d27124",
            "value": "model.safetensors: 100%"
          }
        },
        "ea610bb1617e4661bde3923076efe36b": {
          "model_module": "@jupyter-widgets/controls",
          "model_name": "FloatProgressModel",
          "model_module_version": "1.5.0",
          "state": {
            "_dom_classes": [],
            "_model_module": "@jupyter-widgets/controls",
            "_model_module_version": "1.5.0",
            "_model_name": "FloatProgressModel",
            "_view_count": null,
            "_view_module": "@jupyter-widgets/controls",
            "_view_module_version": "1.5.0",
            "_view_name": "ProgressView",
            "bar_style": "success",
            "description": "",
            "description_tooltip": null,
            "layout": "IPY_MODEL_b0375c1218c44382b2d0df4193b57015",
            "max": 377611120,
            "min": 0,
            "orientation": "horizontal",
            "style": "IPY_MODEL_da32e2c93e784913ac76e08f298379e0",
            "value": 377611120
          }
        },
        "defe9ea969c84b70a9b4c72070e581ff": {
          "model_module": "@jupyter-widgets/controls",
          "model_name": "HTMLModel",
          "model_module_version": "1.5.0",
          "state": {
            "_dom_classes": [],
            "_model_module": "@jupyter-widgets/controls",
            "_model_module_version": "1.5.0",
            "_model_name": "HTMLModel",
            "_view_count": null,
            "_view_module": "@jupyter-widgets/controls",
            "_view_module_version": "1.5.0",
            "_view_name": "HTMLView",
            "description": "",
            "description_tooltip": null,
            "layout": "IPY_MODEL_02ab450734754fb2a5a43634ad75ed7f",
            "placeholder": "​",
            "style": "IPY_MODEL_8a9b68f385a14bfc8ba4159ac8d38494",
            "value": " 378M/378M [00:04&lt;00:00, 82.2MB/s]"
          }
        },
        "f856ad095e3145c2840d72bca07d421c": {
          "model_module": "@jupyter-widgets/base",
          "model_name": "LayoutModel",
          "model_module_version": "1.2.0",
          "state": {
            "_model_module": "@jupyter-widgets/base",
            "_model_module_version": "1.2.0",
            "_model_name": "LayoutModel",
            "_view_count": null,
            "_view_module": "@jupyter-widgets/base",
            "_view_module_version": "1.2.0",
            "_view_name": "LayoutView",
            "align_content": null,
            "align_items": null,
            "align_self": null,
            "border": null,
            "bottom": null,
            "display": null,
            "flex": null,
            "flex_flow": null,
            "grid_area": null,
            "grid_auto_columns": null,
            "grid_auto_flow": null,
            "grid_auto_rows": null,
            "grid_column": null,
            "grid_gap": null,
            "grid_row": null,
            "grid_template_areas": null,
            "grid_template_columns": null,
            "grid_template_rows": null,
            "height": null,
            "justify_content": null,
            "justify_items": null,
            "left": null,
            "margin": null,
            "max_height": null,
            "max_width": null,
            "min_height": null,
            "min_width": null,
            "object_fit": null,
            "object_position": null,
            "order": null,
            "overflow": null,
            "overflow_x": null,
            "overflow_y": null,
            "padding": null,
            "right": null,
            "top": null,
            "visibility": null,
            "width": null
          }
        },
        "d4c77f3063ed4bc48eec5694a155cb17": {
          "model_module": "@jupyter-widgets/base",
          "model_name": "LayoutModel",
          "model_module_version": "1.2.0",
          "state": {
            "_model_module": "@jupyter-widgets/base",
            "_model_module_version": "1.2.0",
            "_model_name": "LayoutModel",
            "_view_count": null,
            "_view_module": "@jupyter-widgets/base",
            "_view_module_version": "1.2.0",
            "_view_name": "LayoutView",
            "align_content": null,
            "align_items": null,
            "align_self": null,
            "border": null,
            "bottom": null,
            "display": null,
            "flex": null,
            "flex_flow": null,
            "grid_area": null,
            "grid_auto_columns": null,
            "grid_auto_flow": null,
            "grid_auto_rows": null,
            "grid_column": null,
            "grid_gap": null,
            "grid_row": null,
            "grid_template_areas": null,
            "grid_template_columns": null,
            "grid_template_rows": null,
            "height": null,
            "justify_content": null,
            "justify_items": null,
            "left": null,
            "margin": null,
            "max_height": null,
            "max_width": null,
            "min_height": null,
            "min_width": null,
            "object_fit": null,
            "object_position": null,
            "order": null,
            "overflow": null,
            "overflow_x": null,
            "overflow_y": null,
            "padding": null,
            "right": null,
            "top": null,
            "visibility": null,
            "width": null
          }
        },
        "7c020432d27346e7960131ce95d27124": {
          "model_module": "@jupyter-widgets/controls",
          "model_name": "DescriptionStyleModel",
          "model_module_version": "1.5.0",
          "state": {
            "_model_module": "@jupyter-widgets/controls",
            "_model_module_version": "1.5.0",
            "_model_name": "DescriptionStyleModel",
            "_view_count": null,
            "_view_module": "@jupyter-widgets/base",
            "_view_module_version": "1.2.0",
            "_view_name": "StyleView",
            "description_width": ""
          }
        },
        "b0375c1218c44382b2d0df4193b57015": {
          "model_module": "@jupyter-widgets/base",
          "model_name": "LayoutModel",
          "model_module_version": "1.2.0",
          "state": {
            "_model_module": "@jupyter-widgets/base",
            "_model_module_version": "1.2.0",
            "_model_name": "LayoutModel",
            "_view_count": null,
            "_view_module": "@jupyter-widgets/base",
            "_view_module_version": "1.2.0",
            "_view_name": "LayoutView",
            "align_content": null,
            "align_items": null,
            "align_self": null,
            "border": null,
            "bottom": null,
            "display": null,
            "flex": null,
            "flex_flow": null,
            "grid_area": null,
            "grid_auto_columns": null,
            "grid_auto_flow": null,
            "grid_auto_rows": null,
            "grid_column": null,
            "grid_gap": null,
            "grid_row": null,
            "grid_template_areas": null,
            "grid_template_columns": null,
            "grid_template_rows": null,
            "height": null,
            "justify_content": null,
            "justify_items": null,
            "left": null,
            "margin": null,
            "max_height": null,
            "max_width": null,
            "min_height": null,
            "min_width": null,
            "object_fit": null,
            "object_position": null,
            "order": null,
            "overflow": null,
            "overflow_x": null,
            "overflow_y": null,
            "padding": null,
            "right": null,
            "top": null,
            "visibility": null,
            "width": null
          }
        },
        "da32e2c93e784913ac76e08f298379e0": {
          "model_module": "@jupyter-widgets/controls",
          "model_name": "ProgressStyleModel",
          "model_module_version": "1.5.0",
          "state": {
            "_model_module": "@jupyter-widgets/controls",
            "_model_module_version": "1.5.0",
            "_model_name": "ProgressStyleModel",
            "_view_count": null,
            "_view_module": "@jupyter-widgets/base",
            "_view_module_version": "1.2.0",
            "_view_name": "StyleView",
            "bar_color": null,
            "description_width": ""
          }
        },
        "02ab450734754fb2a5a43634ad75ed7f": {
          "model_module": "@jupyter-widgets/base",
          "model_name": "LayoutModel",
          "model_module_version": "1.2.0",
          "state": {
            "_model_module": "@jupyter-widgets/base",
            "_model_module_version": "1.2.0",
            "_model_name": "LayoutModel",
            "_view_count": null,
            "_view_module": "@jupyter-widgets/base",
            "_view_module_version": "1.2.0",
            "_view_name": "LayoutView",
            "align_content": null,
            "align_items": null,
            "align_self": null,
            "border": null,
            "bottom": null,
            "display": null,
            "flex": null,
            "flex_flow": null,
            "grid_area": null,
            "grid_auto_columns": null,
            "grid_auto_flow": null,
            "grid_auto_rows": null,
            "grid_column": null,
            "grid_gap": null,
            "grid_row": null,
            "grid_template_areas": null,
            "grid_template_columns": null,
            "grid_template_rows": null,
            "height": null,
            "justify_content": null,
            "justify_items": null,
            "left": null,
            "margin": null,
            "max_height": null,
            "max_width": null,
            "min_height": null,
            "min_width": null,
            "object_fit": null,
            "object_position": null,
            "order": null,
            "overflow": null,
            "overflow_x": null,
            "overflow_y": null,
            "padding": null,
            "right": null,
            "top": null,
            "visibility": null,
            "width": null
          }
        },
        "8a9b68f385a14bfc8ba4159ac8d38494": {
          "model_module": "@jupyter-widgets/controls",
          "model_name": "DescriptionStyleModel",
          "model_module_version": "1.5.0",
          "state": {
            "_model_module": "@jupyter-widgets/controls",
            "_model_module_version": "1.5.0",
            "_model_name": "DescriptionStyleModel",
            "_view_count": null,
            "_view_module": "@jupyter-widgets/base",
            "_view_module_version": "1.2.0",
            "_view_name": "StyleView",
            "description_width": ""
          }
        },
        "47848401043c4ae3913489e1536dd5ca": {
          "model_module": "@jupyter-widgets/controls",
          "model_name": "HBoxModel",
          "model_module_version": "1.5.0",
          "state": {
            "_dom_classes": [],
            "_model_module": "@jupyter-widgets/controls",
            "_model_module_version": "1.5.0",
            "_model_name": "HBoxModel",
            "_view_count": null,
            "_view_module": "@jupyter-widgets/controls",
            "_view_module_version": "1.5.0",
            "_view_name": "HBoxView",
            "box_style": "",
            "children": [
              "IPY_MODEL_4fa171fea1de4607be9b481b51af4364",
              "IPY_MODEL_56c8b237678f460a80f27438d0871cab",
              "IPY_MODEL_b6ff5d973aef46c8a507327678133d9a"
            ],
            "layout": "IPY_MODEL_0f35adc757ca4c39842f27cad8986713"
          }
        },
        "4fa171fea1de4607be9b481b51af4364": {
          "model_module": "@jupyter-widgets/controls",
          "model_name": "HTMLModel",
          "model_module_version": "1.5.0",
          "state": {
            "_dom_classes": [],
            "_model_module": "@jupyter-widgets/controls",
            "_model_module_version": "1.5.0",
            "_model_name": "HTMLModel",
            "_view_count": null,
            "_view_module": "@jupyter-widgets/controls",
            "_view_module_version": "1.5.0",
            "_view_name": "HTMLView",
            "description": "",
            "description_tooltip": null,
            "layout": "IPY_MODEL_eba7aa937ab34df7b1d4f3d7e7791bb3",
            "placeholder": "​",
            "style": "IPY_MODEL_b6ffa5cf1cc5453384ab5bdf4265bbe2",
            "value": ""
          }
        },
        "56c8b237678f460a80f27438d0871cab": {
          "model_module": "@jupyter-widgets/controls",
          "model_name": "FloatProgressModel",
          "model_module_version": "1.5.0",
          "state": {
            "_dom_classes": [],
            "_model_module": "@jupyter-widgets/controls",
            "_model_module_version": "1.5.0",
            "_model_name": "FloatProgressModel",
            "_view_count": null,
            "_view_module": "@jupyter-widgets/controls",
            "_view_module_version": "1.5.0",
            "_view_name": "ProgressView",
            "bar_style": "success",
            "description": "",
            "description_tooltip": null,
            "layout": "IPY_MODEL_b953a04f1cd74c4eac6af902a6fbfb61",
            "max": 1,
            "min": 0,
            "orientation": "horizontal",
            "style": "IPY_MODEL_c6d607939afe452e8e6f87417e547cd7",
            "value": 1
          }
        },
        "b6ff5d973aef46c8a507327678133d9a": {
          "model_module": "@jupyter-widgets/controls",
          "model_name": "HTMLModel",
          "model_module_version": "1.5.0",
          "state": {
            "_dom_classes": [],
            "_model_module": "@jupyter-widgets/controls",
            "_model_module_version": "1.5.0",
            "_model_name": "HTMLModel",
            "_view_count": null,
            "_view_module": "@jupyter-widgets/controls",
            "_view_module_version": "1.5.0",
            "_view_name": "HTMLView",
            "description": "",
            "description_tooltip": null,
            "layout": "IPY_MODEL_a58198ceeda44d29bcea570b3d31eaf5",
            "placeholder": "​",
            "style": "IPY_MODEL_315808258e634d7bbf8d57877c5cbd3b",
            "value": " 1680/? [01:14&lt;00:00, 25.22ex/s]"
          }
        },
        "0f35adc757ca4c39842f27cad8986713": {
          "model_module": "@jupyter-widgets/base",
          "model_name": "LayoutModel",
          "model_module_version": "1.2.0",
          "state": {
            "_model_module": "@jupyter-widgets/base",
            "_model_module_version": "1.2.0",
            "_model_name": "LayoutModel",
            "_view_count": null,
            "_view_module": "@jupyter-widgets/base",
            "_view_module_version": "1.2.0",
            "_view_name": "LayoutView",
            "align_content": null,
            "align_items": null,
            "align_self": null,
            "border": null,
            "bottom": null,
            "display": null,
            "flex": null,
            "flex_flow": null,
            "grid_area": null,
            "grid_auto_columns": null,
            "grid_auto_flow": null,
            "grid_auto_rows": null,
            "grid_column": null,
            "grid_gap": null,
            "grid_row": null,
            "grid_template_areas": null,
            "grid_template_columns": null,
            "grid_template_rows": null,
            "height": null,
            "justify_content": null,
            "justify_items": null,
            "left": null,
            "margin": null,
            "max_height": null,
            "max_width": null,
            "min_height": null,
            "min_width": null,
            "object_fit": null,
            "object_position": null,
            "order": null,
            "overflow": null,
            "overflow_x": null,
            "overflow_y": null,
            "padding": null,
            "right": null,
            "top": null,
            "visibility": null,
            "width": null
          }
        },
        "eba7aa937ab34df7b1d4f3d7e7791bb3": {
          "model_module": "@jupyter-widgets/base",
          "model_name": "LayoutModel",
          "model_module_version": "1.2.0",
          "state": {
            "_model_module": "@jupyter-widgets/base",
            "_model_module_version": "1.2.0",
            "_model_name": "LayoutModel",
            "_view_count": null,
            "_view_module": "@jupyter-widgets/base",
            "_view_module_version": "1.2.0",
            "_view_name": "LayoutView",
            "align_content": null,
            "align_items": null,
            "align_self": null,
            "border": null,
            "bottom": null,
            "display": null,
            "flex": null,
            "flex_flow": null,
            "grid_area": null,
            "grid_auto_columns": null,
            "grid_auto_flow": null,
            "grid_auto_rows": null,
            "grid_column": null,
            "grid_gap": null,
            "grid_row": null,
            "grid_template_areas": null,
            "grid_template_columns": null,
            "grid_template_rows": null,
            "height": null,
            "justify_content": null,
            "justify_items": null,
            "left": null,
            "margin": null,
            "max_height": null,
            "max_width": null,
            "min_height": null,
            "min_width": null,
            "object_fit": null,
            "object_position": null,
            "order": null,
            "overflow": null,
            "overflow_x": null,
            "overflow_y": null,
            "padding": null,
            "right": null,
            "top": null,
            "visibility": null,
            "width": null
          }
        },
        "b6ffa5cf1cc5453384ab5bdf4265bbe2": {
          "model_module": "@jupyter-widgets/controls",
          "model_name": "DescriptionStyleModel",
          "model_module_version": "1.5.0",
          "state": {
            "_model_module": "@jupyter-widgets/controls",
            "_model_module_version": "1.5.0",
            "_model_name": "DescriptionStyleModel",
            "_view_count": null,
            "_view_module": "@jupyter-widgets/base",
            "_view_module_version": "1.2.0",
            "_view_name": "StyleView",
            "description_width": ""
          }
        },
        "b953a04f1cd74c4eac6af902a6fbfb61": {
          "model_module": "@jupyter-widgets/base",
          "model_name": "LayoutModel",
          "model_module_version": "1.2.0",
          "state": {
            "_model_module": "@jupyter-widgets/base",
            "_model_module_version": "1.2.0",
            "_model_name": "LayoutModel",
            "_view_count": null,
            "_view_module": "@jupyter-widgets/base",
            "_view_module_version": "1.2.0",
            "_view_name": "LayoutView",
            "align_content": null,
            "align_items": null,
            "align_self": null,
            "border": null,
            "bottom": null,
            "display": null,
            "flex": null,
            "flex_flow": null,
            "grid_area": null,
            "grid_auto_columns": null,
            "grid_auto_flow": null,
            "grid_auto_rows": null,
            "grid_column": null,
            "grid_gap": null,
            "grid_row": null,
            "grid_template_areas": null,
            "grid_template_columns": null,
            "grid_template_rows": null,
            "height": null,
            "justify_content": null,
            "justify_items": null,
            "left": null,
            "margin": null,
            "max_height": null,
            "max_width": null,
            "min_height": null,
            "min_width": null,
            "object_fit": null,
            "object_position": null,
            "order": null,
            "overflow": null,
            "overflow_x": null,
            "overflow_y": null,
            "padding": null,
            "right": null,
            "top": null,
            "visibility": null,
            "width": "20px"
          }
        },
        "c6d607939afe452e8e6f87417e547cd7": {
          "model_module": "@jupyter-widgets/controls",
          "model_name": "ProgressStyleModel",
          "model_module_version": "1.5.0",
          "state": {
            "_model_module": "@jupyter-widgets/controls",
            "_model_module_version": "1.5.0",
            "_model_name": "ProgressStyleModel",
            "_view_count": null,
            "_view_module": "@jupyter-widgets/base",
            "_view_module_version": "1.2.0",
            "_view_name": "StyleView",
            "bar_color": null,
            "description_width": ""
          }
        },
        "a58198ceeda44d29bcea570b3d31eaf5": {
          "model_module": "@jupyter-widgets/base",
          "model_name": "LayoutModel",
          "model_module_version": "1.2.0",
          "state": {
            "_model_module": "@jupyter-widgets/base",
            "_model_module_version": "1.2.0",
            "_model_name": "LayoutModel",
            "_view_count": null,
            "_view_module": "@jupyter-widgets/base",
            "_view_module_version": "1.2.0",
            "_view_name": "LayoutView",
            "align_content": null,
            "align_items": null,
            "align_self": null,
            "border": null,
            "bottom": null,
            "display": null,
            "flex": null,
            "flex_flow": null,
            "grid_area": null,
            "grid_auto_columns": null,
            "grid_auto_flow": null,
            "grid_auto_rows": null,
            "grid_column": null,
            "grid_gap": null,
            "grid_row": null,
            "grid_template_areas": null,
            "grid_template_columns": null,
            "grid_template_rows": null,
            "height": null,
            "justify_content": null,
            "justify_items": null,
            "left": null,
            "margin": null,
            "max_height": null,
            "max_width": null,
            "min_height": null,
            "min_width": null,
            "object_fit": null,
            "object_position": null,
            "order": null,
            "overflow": null,
            "overflow_x": null,
            "overflow_y": null,
            "padding": null,
            "right": null,
            "top": null,
            "visibility": null,
            "width": null
          }
        },
        "315808258e634d7bbf8d57877c5cbd3b": {
          "model_module": "@jupyter-widgets/controls",
          "model_name": "DescriptionStyleModel",
          "model_module_version": "1.5.0",
          "state": {
            "_model_module": "@jupyter-widgets/controls",
            "_model_module_version": "1.5.0",
            "_model_name": "DescriptionStyleModel",
            "_view_count": null,
            "_view_module": "@jupyter-widgets/base",
            "_view_module_version": "1.2.0",
            "_view_name": "StyleView",
            "description_width": ""
          }
        }
      }
    }
  },
  "cells": [
    {
      "cell_type": "markdown",
      "metadata": {
        "id": "view-in-github",
        "colab_type": "text"
      },
      "source": [
        "<a href=\"https://colab.research.google.com/github/weedge/doraemon-nb/blob/main/Fine_tuning_Wav2Vec2_for_English_ASR.ipynb\" target=\"_parent\"><img src=\"https://colab.research.google.com/assets/colab-badge.svg\" alt=\"Open In Colab\"/></a>"
      ]
    },
    {
      "cell_type": "markdown",
      "metadata": {
        "id": "LBSYoWbi-45k"
      },
      "source": [
        "# **Fine-tuning Wav2Vec2 for English ASR with 🤗 Transformers**"
      ]
    },
    {
      "cell_type": "markdown",
      "metadata": {
        "id": "V7YOT2mnUiea"
      },
      "source": [
        "Wav2Vec2 是一种用于自动语音识别（ASR）的预训练模型，由 Alexei Baevski、Michael Auli 和 Alex Conneau 于 [2020年9月](https://ai.facebook.com/blog/wav2vec-20-learning-the-structure-of-speech-from-raw-audio/) 发布。\n",
        "\n",
        "通过一种新颖的对比预训练目标，Wav2Vec2 从超过50,000小时的未标记语音数据中学习到强大的语音表示。类似于 [BERT的掩码语言建模](http://jalammar.github.io/illustrated-bert/)，该模型通过在将特征向量传递给变换器网络之前随机掩码特征向量来学习上下文化的语音表示。\n",
        "\n",
        "![wav2vec2_structure](https://raw.githubusercontent.com/patrickvonplaten/scientific_images/master/wav2vec2.png)\n",
        "\n",
        "首次证明，预训练后仅需极少量的标记语音数据进行微调，就能达到与最先进的ASR系统相竞争的结果。使用仅10分钟的标记数据，Wav2Vec2 在 [LibriSpeech](https://huggingface.co/datasets/librispeech_asr) 的干净测试集上实现了低于5%的词错误率（WER）——参见 [论文](https://arxiv.org/pdf/2006.11477.pdf) 的表9。"
      ]
    },
    {
      "cell_type": "markdown",
      "metadata": {
        "id": "nT_QrfWtsxIz"
      },
      "source": [
        "在本笔记本中，我们将详细解释如何在任何英语自动语音识别（ASR）数据集上对 Wav2Vec2 的预训练检查点进行微调。请注意，在本笔记本中，我们将不使用语言模型对 Wav2Vec2 进行微调。将 Wav2Vec2 用作端到端 ASR 系统而不使用语言模型要简单得多，并且已证明独立的 Wav2Vec2 声学模型能够取得令人印象深刻的结果。为了演示目的，我们将在仅包含5小时训练数据的较小 [Timit](https://huggingface.co/datasets/timit_asr) 数据集上对“基础”大小的 [预训练检查点](https://huggingface.co/facebook/wav2vec2-base) 进行微调。"
      ]
    },
    {
      "cell_type": "markdown",
      "metadata": {
        "id": "Gx9OdDYrCtQ1"
      },
      "source": [
        "Wav2Vec2 使用连接时序分类（CTC）进行微调，这是一种用于训练神经网络解决序列到序列问题的算法，主要应用于自动语音识别和手写识别。\n",
        "\n",
        "我强烈推荐阅读 Awni Hannun 撰写的非常出色的博客文章 [使用 CTC 进行序列建模（2017）](https://distill.pub/2017/ctc/)。"
      ]
    },
    {
      "cell_type": "markdown",
      "metadata": {
        "id": "qW3J3rBizeds"
      },
      "source": [
        "请使用GPU L4/A100"
      ]
    },
    {
      "cell_type": "code",
      "metadata": {
        "id": "SLAufgh_xxj7",
        "colab": {
          "base_uri": "https://localhost:8080/"
        },
        "outputId": "38611c61-4c6b-4e82-93aa-2c4cbfdb010b"
      },
      "source": [
        "gpu_info = !nvidia-smi\n",
        "gpu_info = '\\n'.join(gpu_info)\n",
        "if gpu_info.find('failed') >= 0:\n",
        "  print('Not connected to a GPU')\n",
        "else:\n",
        "  print(gpu_info)"
      ],
      "execution_count": null,
      "outputs": [
        {
          "output_type": "stream",
          "name": "stdout",
          "text": [
            "Thu Jul 24 07:49:40 2025       \n",
            "+-----------------------------------------------------------------------------------------+\n",
            "| NVIDIA-SMI 550.54.15              Driver Version: 550.54.15      CUDA Version: 12.4     |\n",
            "|-----------------------------------------+------------------------+----------------------+\n",
            "| GPU  Name                 Persistence-M | Bus-Id          Disp.A | Volatile Uncorr. ECC |\n",
            "| Fan  Temp   Perf          Pwr:Usage/Cap |           Memory-Usage | GPU-Util  Compute M. |\n",
            "|                                         |                        |               MIG M. |\n",
            "|=========================================+========================+======================|\n",
            "|   0  NVIDIA L4                      Off |   00000000:00:03.0 Off |                    0 |\n",
            "| N/A   39C    P8             11W /   72W |       0MiB /  23034MiB |      0%      Default |\n",
            "|                                         |                        |                  N/A |\n",
            "+-----------------------------------------+------------------------+----------------------+\n",
            "                                                                                         \n",
            "+-----------------------------------------------------------------------------------------+\n",
            "| Processes:                                                                              |\n",
            "|  GPU   GI   CI        PID   Type   Process name                              GPU Memory |\n",
            "|        ID   ID                                                               Usage      |\n",
            "|=========================================================================================|\n",
            "|  No running processes found                                                             |\n",
            "+-----------------------------------------------------------------------------------------+\n"
          ]
        }
      ]
    },
    {
      "cell_type": "markdown",
      "metadata": {
        "id": "e335hPmdtASZ"
      },
      "source": [
        "在开始之前，我们需要从主分支安装 `datasets` 和 `transformers`。此外，我们还需要 `librosa` 包来加载音频文件，以及 `jiwer` 包来使用 [词错误率（WER）](https://huggingface.co/metrics/wer) 指标评估我们的微调模型 ${}^1$。"
      ]
    },
    {
      "cell_type": "code",
      "metadata": {
        "id": "c8eh87Hoee5d"
      },
      "source": [
        "!pip install datasets==1.18.3 numpy==1.25.2\n",
        "!pip install jiwer==3.1.0"
      ],
      "execution_count": null,
      "outputs": []
    },
    {
      "cell_type": "code",
      "source": [
        "!pip list | grep -E \"datasets|numpy|evaluate|transformers|librosa|torch|jiwer\""
      ],
      "metadata": {
        "colab": {
          "base_uri": "https://localhost:8080/"
        },
        "id": "ySVyhr4kuI67",
        "outputId": "0f6a3a55-8a01-4421-9e9a-dd51c1814a60"
      },
      "execution_count": 2,
      "outputs": [
        {
          "output_type": "stream",
          "name": "stdout",
          "text": [
            "datasets                              1.18.3\n",
            "evaluate                              0.2.0\n",
            "jiwer                                 3.1.0\n",
            "librosa                               0.11.0\n",
            "numpy                                 1.25.2\n",
            "sentence-transformers                 4.1.0\n",
            "tensorflow-datasets                   4.9.9\n",
            "torch                                 2.6.0+cu124\n",
            "torchao                               0.10.0\n",
            "torchaudio                            2.6.0+cu124\n",
            "torchdata                             0.11.0\n",
            "torchsummary                          1.5.1\n",
            "torchtune                             0.6.1\n",
            "torchvision                           0.21.0+cu124\n",
            "transformers                          4.53.2\n",
            "vega-datasets                         0.9.0\n"
          ]
        }
      ]
    },
    {
      "cell_type": "markdown",
      "metadata": {
        "id": "8_6kYmDMH9lR"
      },
      "source": [
        "我们强烈建议在训练过程中直接将你的训练检查点上传到 [🤗 Hub](https://huggingface.co/)。Hugging Face Hub 集成了版本控制功能，可以确保训练过程中不会丢失任何模型检查点。\n",
        "\n",
        "为此，你需要保存来自 Hugging Face 网站的认证令牌（如果你还没有账户，请在 [这里](https://huggingface.co/join) 注册！）。"
      ]
    },
    {
      "cell_type": "code",
      "source": [
        "from google.colab import userdata\n",
        "HF_TOKEN=userdata.get('HF_TOKEN')\n"
      ],
      "metadata": {
        "id": "RHUSRCV-bSV0"
      },
      "execution_count": 3,
      "outputs": []
    },
    {
      "cell_type": "code",
      "source": [
        "from huggingface_hub import login\n",
        "\n",
        "login(token=HF_TOKEN)"
      ],
      "metadata": {
        "id": "wJSSlAolbKbr"
      },
      "execution_count": 4,
      "outputs": []
    },
    {
      "cell_type": "markdown",
      "metadata": {
        "id": "zCyw5D23IQ1F"
      },
      "source": [
        "然后，你需要安装 Git-LFS 以上传你的模型检查点："
      ]
    },
    {
      "cell_type": "code",
      "metadata": {
        "id": "Q9BnQDhOITBC",
        "colab": {
          "base_uri": "https://localhost:8080/"
        },
        "outputId": "b4e69dee-726a-4b28-f350-2b367621bcc1"
      },
      "source": [
        "!apt install git-lfs"
      ],
      "execution_count": 5,
      "outputs": [
        {
          "output_type": "stream",
          "name": "stdout",
          "text": [
            "Reading package lists... Done\n",
            "Building dependency tree... Done\n",
            "Reading state information... Done\n",
            "git-lfs is already the newest version (3.0.2-1ubuntu0.3).\n",
            "0 upgraded, 0 newly installed, 0 to remove and 35 not upgraded.\n"
          ]
        }
      ]
    },
    {
      "cell_type": "markdown",
      "metadata": {
        "id": "Mn9swf6EQ9Vd"
      },
      "source": [
        "\n",
        "\n",
        "\n",
        "---\n",
        "\n",
        "${}^1$ Timit 通常使用音素错误率（PER）进行评估，但在自动语音识别（ASR）中，最常用的指标是词错误率（WER）。为了使本笔记本尽可能通用，我们决定使用 WER 来评估模型。"
      ]
    },
    {
      "cell_type": "markdown",
      "metadata": {
        "id": "0mW-C1Nt-j7k"
      },
      "source": [
        "## Prepare Data, Tokenizer, Feature Extractor"
      ]
    },
    {
      "cell_type": "markdown",
      "metadata": {
        "id": "BeBosnY9BH3e"
      },
      "source": [
        "自动语音识别（ASR）模型将语音转录为文本，这意味着我们需要一个特征提取器来将语音信号处理为模型的输入格式，例如特征向量，以及一个分词器来将模型的输出格式处理为文本。\n",
        "\n",
        "在 🤗 Transformers 中，Wav2Vec2 模型因此配备了一个分词器，称为 [Wav2Vec2CTCTokenizer](https://huggingface.co/transformers/master/model_doc/wav2vec2.html#wav2vec2ctctokenizer)，以及一个特征提取器，称为 [Wav2Vec2FeatureExtractor](https://huggingface.co/transformers/master/model_doc/wav2vec2.html#wav2vec2featureextractor)。\n",
        "\n",
        "让我们首先创建负责解码模型预测的分词器。"
      ]
    },
    {
      "cell_type": "markdown",
      "metadata": {
        "id": "sEXEWEJGQPqD"
      },
      "source": [
        "### Create Wav2Vec2CTCTokenizer"
      ]
    },
    {
      "cell_type": "markdown",
      "metadata": {
        "id": "tWmMikuNEKl_"
      },
      "source": [
        "[预训练的 Wav2Vec2 检查点](https://huggingface.co/facebook/wav2vec2-base) 将语音信号映射到一系列上下文表示，如上图所示。微调后的 Wav2Vec2 检查点需要将这些上下文表示序列映射到相应的转录文本，因此需要在transformer模块之上添加一个线性层（以黄色显示）。这个线性层用于将每个上下文表示分类为一个标记类别，类似于 *例如*，在 BERT 预训练后，在其嵌入上添加一个线性层进行进一步分类——参见 [博客文章](https://huggingface.co/blog/warm-starting-encoder-decoder) 的 *“BERT”* 部分。\n",
        "\n",
        "该线性层的输出大小对应于词汇表中的标记数量，这 **不** 依赖于 Wav2Vec2 的预训练任务，而仅取决于用于微调的标记数据集。因此，在第一步中，我们将查看 Timit 数据集，并根据数据集的转录文本定义一个词汇表。"
      ]
    },
    {
      "cell_type": "markdown",
      "metadata": {
        "id": "bee4g9rpLxll"
      },
      "source": [
        "我们开始加载数据集并查看其结构。"
      ]
    },
    {
      "cell_type": "code",
      "source": [
        "!mkdir -p datasets"
      ],
      "metadata": {
        "id": "C2Vd1JTXyuYi"
      },
      "execution_count": 6,
      "outputs": []
    },
    {
      "cell_type": "code",
      "metadata": {
        "id": "2MMXcWFFgCXU",
        "colab": {
          "base_uri": "https://localhost:8080/",
          "height": 86,
          "referenced_widgets": [
            "9d604040d2f24842933e6e7d8efbf2b7",
            "d077000272254f638ab85a8fe26d7bbb",
            "41d9b8e825304beea4cc65f4312901bf",
            "6b7f783b600045ec851ba9c9377e569a",
            "0cfa2f4681af4f9f9d52a23f0b51e8bb",
            "cce6f6c131214b2cadc2a123277f1dcc",
            "b6c8a91173fc4c9cbd7c246b2f0097df",
            "e9ae07bdb1454d41afd7ea538da0249c",
            "fdd339c226794fc89a11a72db6eb5450",
            "70c2d2ac7a5d40d28645ad1e88e97989",
            "2400ddb40e294d93bc88a709d4417dc0"
          ]
        },
        "outputId": "3d69d91b-d720-463d-ed26-870176858522"
      },
      "source": [
        "from datasets import load_dataset\n",
        "\n",
        "timit = load_dataset(\"timit_asr\")"
      ],
      "execution_count": 6,
      "outputs": [
        {
          "output_type": "stream",
          "name": "stderr",
          "text": [
            "WARNING:datasets.builder:Reusing dataset timit_asr (/root/.cache/huggingface/datasets/timit_asr/clean/2.0.1/b11b576ddcccbcefa7c9f0c4e6c2a43756f3033adffe0fb686aa61043d0450ad)\n"
          ]
        },
        {
          "output_type": "display_data",
          "data": {
            "text/plain": [
              "  0%|          | 0/2 [00:00<?, ?it/s]"
            ],
            "application/vnd.jupyter.widget-view+json": {
              "version_major": 2,
              "version_minor": 0,
              "model_id": "9d604040d2f24842933e6e7d8efbf2b7"
            }
          },
          "metadata": {}
        }
      ]
    },
    {
      "cell_type": "code",
      "metadata": {
        "colab": {
          "base_uri": "https://localhost:8080/"
        },
        "id": "QbIM-L0xdvf4",
        "outputId": "4eccf6ae-62c4-43bf-f05b-a575fab08df6"
      },
      "source": [
        "timit"
      ],
      "execution_count": 7,
      "outputs": [
        {
          "output_type": "execute_result",
          "data": {
            "text/plain": [
              "DatasetDict({\n",
              "    train: Dataset({\n",
              "        features: ['file', 'audio', 'text', 'phonetic_detail', 'word_detail', 'dialect_region', 'sentence_type', 'speaker_id', 'id'],\n",
              "        num_rows: 4620\n",
              "    })\n",
              "    test: Dataset({\n",
              "        features: ['file', 'audio', 'text', 'phonetic_detail', 'word_detail', 'dialect_region', 'sentence_type', 'speaker_id', 'id'],\n",
              "        num_rows: 1680\n",
              "    })\n",
              "})"
            ]
          },
          "metadata": {},
          "execution_count": 7
        }
      ]
    },
    {
      "cell_type": "code",
      "source": [
        "timit.save_to_disk(\"datasets\")"
      ],
      "metadata": {
        "id": "71biXUIk3mZQ"
      },
      "execution_count": 8,
      "outputs": []
    },
    {
      "cell_type": "code",
      "source": [
        "from datasets import load_dataset\n",
        "\n",
        "timit = load_dataset(\"timit_asr\")"
      ],
      "metadata": {
        "colab": {
          "base_uri": "https://localhost:8080/",
          "height": 86,
          "referenced_widgets": [
            "6b7e0029812641738df44bd600b65398",
            "82598dd9241741629c29b8d9365ca685",
            "ff4de2db6ca44b40b4781a7c3bb1d8e9",
            "475503df924a4afc89907daad4f452f8",
            "696a507d32534354a6bba6e984e16616",
            "dccacb766c69433ea71e2a85c3102848",
            "307d77026c6a4f5aaeb9e39cf91fc7f3",
            "d216f60dc130410c8354f0e4f74d2452",
            "3be90fb9694947f89942cca04008df7e",
            "8217e29167984eadb82353a295617ae8",
            "64ad1fc1443247db88360bef565f45c1"
          ]
        },
        "id": "lF5qQS_C4BxA",
        "outputId": "3ea1ca1b-4694-46e4-fa8c-389be2fe83ce"
      },
      "execution_count": 9,
      "outputs": [
        {
          "output_type": "stream",
          "name": "stderr",
          "text": [
            "WARNING:datasets.builder:Reusing dataset timit_asr (/root/.cache/huggingface/datasets/timit_asr/clean/2.0.1/b11b576ddcccbcefa7c9f0c4e6c2a43756f3033adffe0fb686aa61043d0450ad)\n"
          ]
        },
        {
          "output_type": "display_data",
          "data": {
            "text/plain": [
              "  0%|          | 0/2 [00:00<?, ?it/s]"
            ],
            "application/vnd.jupyter.widget-view+json": {
              "version_major": 2,
              "version_minor": 0,
              "model_id": "6b7e0029812641738df44bd600b65398"
            }
          },
          "metadata": {}
        }
      ]
    },
    {
      "cell_type": "markdown",
      "metadata": {
        "id": "ri5y5N_HMANq"
      },
      "source": [
        "许多自动语音识别（ASR）数据集仅为每个音频 `'audio'` 和文件 `'file'` 提供目标文本 `'text'`。Timit 实际上为每个音频文件提供了更多信息，例如 `'phonetic_detail'` 等，这也是为什么许多研究人员在处理 Timit 时选择在音素分类上评估他们的模型，而不是语音识别。然而，为了使本笔记本尽可能通用，我们在微调时将仅考虑转录的文本。"
      ]
    },
    {
      "cell_type": "code",
      "metadata": {
        "id": "kbyq6lDgQc2a"
      },
      "source": [
        "timit = timit.remove_columns([\"phonetic_detail\", \"word_detail\", \"dialect_region\", \"id\", \"sentence_type\", \"speaker_id\"])"
      ],
      "execution_count": 10,
      "outputs": []
    },
    {
      "cell_type": "code",
      "source": [
        "timit"
      ],
      "metadata": {
        "colab": {
          "base_uri": "https://localhost:8080/"
        },
        "id": "UPJXo47jfHay",
        "outputId": "ca05e58c-7b5c-40dc-d682-db12b39e6b46"
      },
      "execution_count": 11,
      "outputs": [
        {
          "output_type": "execute_result",
          "data": {
            "text/plain": [
              "DatasetDict({\n",
              "    train: Dataset({\n",
              "        features: ['file', 'audio', 'text'],\n",
              "        num_rows: 4620\n",
              "    })\n",
              "    test: Dataset({\n",
              "        features: ['file', 'audio', 'text'],\n",
              "        num_rows: 1680\n",
              "    })\n",
              "})"
            ]
          },
          "metadata": {},
          "execution_count": 11
        }
      ]
    },
    {
      "cell_type": "markdown",
      "metadata": {
        "id": "Go9Hq4e4NDT9"
      },
      "source": [
        "让我们编写一个简短的函数来显示数据集中的一些随机样本，并运行几次以感受转录文本。"
      ]
    },
    {
      "cell_type": "code",
      "metadata": {
        "id": "72737oog2F6U"
      },
      "source": [
        "from datasets import ClassLabel\n",
        "import random\n",
        "import pandas as pd\n",
        "from IPython.display import display, HTML\n",
        "\n",
        "def show_random_elements(dataset, num_examples=10):\n",
        "    assert num_examples <= len(dataset), \"Can't pick more elements than there are in the dataset.\"\n",
        "    picks = []\n",
        "    for _ in range(num_examples):\n",
        "        pick = random.randint(0, len(dataset)-1)\n",
        "        while pick in picks:\n",
        "            pick = random.randint(0, len(dataset)-1)\n",
        "        picks.append(pick)\n",
        "\n",
        "    df = pd.DataFrame(dataset[picks])\n",
        "    display(HTML(df.to_html()))"
      ],
      "execution_count": 12,
      "outputs": []
    },
    {
      "cell_type": "code",
      "metadata": {
        "colab": {
          "base_uri": "https://localhost:8080/",
          "height": 1000
        },
        "id": "K_JUmf3G3b9S",
        "outputId": "f491b4e6-2b31-43a2-c604-36925e8aa472"
      },
      "source": [
        "show_random_elements(timit[\"train\"], num_examples=10)"
      ],
      "execution_count": 13,
      "outputs": [
        {
          "output_type": "display_data",
          "data": {
            "text/plain": [
              "<IPython.core.display.HTML object>"
            ],
            "text/html": [
              "<table border=\"1\" class=\"dataframe\">\n",
              "  <thead>\n",
              "    <tr style=\"text-align: right;\">\n",
              "      <th></th>\n",
              "      <th>file</th>\n",
              "      <th>audio</th>\n",
              "      <th>text</th>\n",
              "    </tr>\n",
              "  </thead>\n",
              "  <tbody>\n",
              "    <tr>\n",
              "      <th>0</th>\n",
              "      <td>/root/.cache/huggingface/datasets/downloads/extracted/404950a46da14eac65eb4e2a8317b1372fb3971d980d91d5d5b221275b1fd7e0/data/TRAIN/DR2/MJEB0/SX26.WAV</td>\n",
              "      <td>{'path': '/root/.cache/huggingface/datasets/downloads/extracted/404950a46da14eac65eb4e2a8317b1372fb3971d980d91d5d5b221275b1fd7e0/data/TRAIN/DR2/MJEB0/SX26.WAV', 'array': [0.00015258789, -3.0517578e-05, 0.00012207031, 3.0517578e-05, 9.1552734e-05, -3.0517578e-05, 6.1035156e-05, 3.0517578e-05, 0.0, 6.1035156e-05, -3.0517578e-05, 9.1552734e-05, 6.1035156e-05, 0.0, -3.0517578e-05, 9.1552734e-05, 9.1552734e-05, 9.1552734e-05, 0.00012207031, 9.1552734e-05, 0.0, 0.0, 0.0, -6.1035156e-05, 0.0, 6.1035156e-05, 0.0, 0.0, 3.0517578e-05, 6.1035156e-05, 0.0, -3.0517578e-05, -3.0517578e-05, 3.0517578e-05, 6.1035156e-05, 6.1035156e-05, 3.0517578e-05, -3.0517578e-05, 6.1035156e-05, 3.0517578e-05, 6.1035156e-05, 0.0, 0.0, 6.1035156e-05, 9.1552734e-05, 0.0, 3.0517578e-05, -6.1035156e-05, 0.0, 9.1552734e-05, 9.1552734e-05, 3.0517578e-05, 6.1035156e-05, 3.0517578e-05, 9.1552734e-05, -3.0517578e-05, 9.1552734e-05, 6.1035156e-05, 3.0517578e-05, 9.1552734e-05, 9.1552734e-05, 0.00012207031, 9.1552734e-05, 6.1035156e-05, 9.1552734e-05, 9.1552734e-05, 0.0, -3.0517578e-05, 9.1552734e-05, -3.0517578e-05, -3.0517578e-05, 0.0, 6.1035156e-05, 0.0, 0.0, 9.1552734e-05, 0.0, 3.0517578e-05, 9.1552734e-05, 6.1035156e-05, 0.0, 0.0, 0.0, 9.1552734e-05, 0.0, 3.0517578e-05, 6.1035156e-05, -6.1035156e-05, 0.0, 0.0, 0.00012207031, 0.0, 6.1035156e-05, 3.0517578e-05, 6.1035156e-05, -3.0517578e-05, 0.0, 6.1035156e-05, 3.0517578e-05, 0.00012207031, ...], 'sampling_rate': 16000}</td>\n",
              "      <td>Most young rise early every morning.</td>\n",
              "    </tr>\n",
              "    <tr>\n",
              "      <th>1</th>\n",
              "      <td>/root/.cache/huggingface/datasets/downloads/extracted/404950a46da14eac65eb4e2a8317b1372fb3971d980d91d5d5b221275b1fd7e0/data/TRAIN/DR7/MSES0/SI2216.WAV</td>\n",
              "      <td>{'path': '/root/.cache/huggingface/datasets/downloads/extracted/404950a46da14eac65eb4e2a8317b1372fb3971d980d91d5d5b221275b1fd7e0/data/TRAIN/DR7/MSES0/SI2216.WAV', 'array': [0.0, 0.0, 0.0, 3.0517578e-05, 0.00012207031, 0.0, 3.0517578e-05, 3.0517578e-05, 3.0517578e-05, 0.00012207031, 3.0517578e-05, 6.1035156e-05, 0.00012207031, 9.1552734e-05, 0.00012207031, 0.0, 0.00015258789, 0.0, 0.00012207031, 3.0517578e-05, 0.00012207031, 0.0, 0.00012207031, 9.1552734e-05, 3.0517578e-05, 9.1552734e-05, 9.1552734e-05, 9.1552734e-05, 6.1035156e-05, 0.00015258789, 0.0, 3.0517578e-05, 0.00015258789, 6.1035156e-05, 0.00018310547, 3.0517578e-05, 0.00015258789, 0.00012207031, 0.00012207031, 6.1035156e-05, 3.0517578e-05, 0.0, 0.00012207031, 0.0, 9.1552734e-05, 6.1035156e-05, 0.00018310547, 6.1035156e-05, 0.00015258789, 6.1035156e-05, 0.00015258789, 9.1552734e-05, 6.1035156e-05, 3.0517578e-05, 9.1552734e-05, 9.1552734e-05, 0.00015258789, 9.1552734e-05, 3.0517578e-05, 0.00018310547, 6.1035156e-05, 0.00015258789, 6.1035156e-05, 0.00018310547, 6.1035156e-05, 0.00018310547, 3.0517578e-05, 9.1552734e-05, 3.0517578e-05, 0.00015258789, 9.1552734e-05, 0.0, 6.1035156e-05, 0.0, 0.0, 3.0517578e-05, 3.0517578e-05, 3.0517578e-05, 0.0, 0.00015258789, 0.00012207031, 9.1552734e-05, 0.00012207031, 9.1552734e-05, 6.1035156e-05, 9.1552734e-05, 6.1035156e-05, 0.00012207031, 9.1552734e-05, 6.1035156e-05, 9.1552734e-05, 6.1035156e-05, 0.00018310547, 9.1552734e-05, 6.1035156e-05, 0.00018310547, 3.0517578e-05, -3.0517578e-05, 6.1035156e-05, 3.0517578e-05, ...], 'sampling_rate': 16000}</td>\n",
              "      <td>It's never wrong if love is real.</td>\n",
              "    </tr>\n",
              "    <tr>\n",
              "      <th>2</th>\n",
              "      <td>/root/.cache/huggingface/datasets/downloads/extracted/404950a46da14eac65eb4e2a8317b1372fb3971d980d91d5d5b221275b1fd7e0/data/TRAIN/DR3/MJRH1/SX64.WAV</td>\n",
              "      <td>{'path': '/root/.cache/huggingface/datasets/downloads/extracted/404950a46da14eac65eb4e2a8317b1372fb3971d980d91d5d5b221275b1fd7e0/data/TRAIN/DR3/MJRH1/SX64.WAV', 'array': [0.0004272461, -3.0517578e-05, 0.00012207031, -3.0517578e-05, 0.0, -3.0517578e-05, -3.0517578e-05, 0.0, -3.0517578e-05, 0.0, -3.0517578e-05, 0.0, -3.0517578e-05, 3.0517578e-05, 0.0, -3.0517578e-05, -9.1552734e-05, 0.0, -9.1552734e-05, -3.0517578e-05, 0.0, -3.0517578e-05, 0.0, 3.0517578e-05, 0.0, 9.1552734e-05, -3.0517578e-05, 0.0, -9.1552734e-05, 3.0517578e-05, 0.0, 0.0, 3.0517578e-05, 0.0, -3.0517578e-05, 6.1035156e-05, 3.0517578e-05, 0.0, 3.0517578e-05, 6.1035156e-05, 9.1552734e-05, 0.0, -3.0517578e-05, 0.0, 0.0, 9.1552734e-05, 9.1552734e-05, 0.0, 0.0, 3.0517578e-05, 6.1035156e-05, 0.0, 3.0517578e-05, 0.0, -3.0517578e-05, 0.0, 3.0517578e-05, 3.0517578e-05, 0.0, 9.1552734e-05, 3.0517578e-05, -3.0517578e-05, 3.0517578e-05, -3.0517578e-05, -6.1035156e-05, 3.0517578e-05, 6.1035156e-05, 3.0517578e-05, 3.0517578e-05, 0.0, 3.0517578e-05, -3.0517578e-05, 9.1552734e-05, 3.0517578e-05, 3.0517578e-05, 3.0517578e-05, 9.1552734e-05, 6.1035156e-05, -3.0517578e-05, -3.0517578e-05, 3.0517578e-05, -9.1552734e-05, -3.0517578e-05, 6.1035156e-05, -3.0517578e-05, -6.1035156e-05, -6.1035156e-05, 0.0, 3.0517578e-05, 6.1035156e-05, 0.0, -3.0517578e-05, 0.0, 6.1035156e-05, 3.0517578e-05, 0.0, 6.1035156e-05, 3.0517578e-05, -6.1035156e-05, 3.0517578e-05, ...], 'sampling_rate': 16000}</td>\n",
              "      <td>Regular attendance is seldom required.</td>\n",
              "    </tr>\n",
              "    <tr>\n",
              "      <th>3</th>\n",
              "      <td>/root/.cache/huggingface/datasets/downloads/extracted/404950a46da14eac65eb4e2a8317b1372fb3971d980d91d5d5b221275b1fd7e0/data/TRAIN/DR1/MRCG0/SX258.WAV</td>\n",
              "      <td>{'path': '/root/.cache/huggingface/datasets/downloads/extracted/404950a46da14eac65eb4e2a8317b1372fb3971d980d91d5d5b221275b1fd7e0/data/TRAIN/DR1/MRCG0/SX258.WAV', 'array': [-0.00012207031, 0.0, -0.00018310547, -6.1035156e-05, -6.1035156e-05, 0.0, 3.0517578e-05, 0.0002746582, 0.00033569336, 0.00036621094, 0.00021362305, 0.00024414062, 0.00036621094, 0.00033569336, 0.00024414062, 6.1035156e-05, 9.1552734e-05, 6.1035156e-05, -3.0517578e-05, -6.1035156e-05, -3.0517578e-05, -0.00012207031, -0.00018310547, -0.00018310547, -0.00012207031, -0.00015258789, -0.00012207031, -3.0517578e-05, 0.00033569336, 0.00033569336, 0.00033569336, 0.00024414062, 0.0002746582, 0.00024414062, 0.0002746582, 0.0, 6.1035156e-05, -3.0517578e-05, -9.1552734e-05, -0.00015258789, -0.00015258789, -0.00015258789, -0.00015258789, -0.00015258789, -0.00012207031, -9.1552734e-05, -6.1035156e-05, 6.1035156e-05, 0.00012207031, 0.00012207031, 0.00030517578, 0.00021362305, 0.00030517578, 9.1552734e-05, 0.00012207031, 3.0517578e-05, 6.1035156e-05, -9.1552734e-05, -0.00012207031, -0.00018310547, -0.00012207031, -0.00018310547, -3.0517578e-05, 3.0517578e-05, 0.00036621094, 0.00024414062, 0.00024414062, 0.00018310547, 0.00030517578, 0.00030517578, 0.00024414062, 0.0002746582, 0.00024414062, 3.0517578e-05, 3.0517578e-05, 0.00012207031, 0.00012207031, 6.1035156e-05, 0.0, -3.0517578e-05, -3.0517578e-05, 3.0517578e-05, 3.0517578e-05, 0.0, 0.0, 0.0, 0.00021362305, 0.0002746582, 0.00036621094, 0.0002746582, 0.00012207031, -0.00012207031, -0.00018310547, -0.0002746582, -0.00018310547, -0.00012207031, -0.00015258789, -9.1552734e-05, -3.0517578e-05, -0.00012207031, ...], 'sampling_rate': 16000}</td>\n",
              "      <td>The essay undeniably reflects our view ably.</td>\n",
              "    </tr>\n",
              "    <tr>\n",
              "      <th>4</th>\n",
              "      <td>/root/.cache/huggingface/datasets/downloads/extracted/404950a46da14eac65eb4e2a8317b1372fb3971d980d91d5d5b221275b1fd7e0/data/TRAIN/DR7/MWRP0/SA1.WAV</td>\n",
              "      <td>{'path': '/root/.cache/huggingface/datasets/downloads/extracted/404950a46da14eac65eb4e2a8317b1372fb3971d980d91d5d5b221275b1fd7e0/data/TRAIN/DR7/MWRP0/SA1.WAV', 'array': [6.1035156e-05, 3.0517578e-05, 3.0517578e-05, 3.0517578e-05, 6.1035156e-05, 3.0517578e-05, 0.0, -3.0517578e-05, 3.0517578e-05, 0.0, -3.0517578e-05, 6.1035156e-05, 3.0517578e-05, -6.1035156e-05, 3.0517578e-05, 0.00012207031, 0.0, -6.1035156e-05, 6.1035156e-05, 3.0517578e-05, 3.0517578e-05, 9.1552734e-05, -3.0517578e-05, 9.1552734e-05, -3.0517578e-05, 3.0517578e-05, 6.1035156e-05, 3.0517578e-05, 9.1552734e-05, -3.0517578e-05, 6.1035156e-05, 0.0, 0.0, -3.0517578e-05, -6.1035156e-05, 9.1552734e-05, 0.0, 6.1035156e-05, -3.0517578e-05, 3.0517578e-05, 0.0, 3.0517578e-05, 6.1035156e-05, 6.1035156e-05, 3.0517578e-05, 6.1035156e-05, 9.1552734e-05, 3.0517578e-05, 6.1035156e-05, 0.0, 3.0517578e-05, 6.1035156e-05, 3.0517578e-05, 6.1035156e-05, 3.0517578e-05, -3.0517578e-05, 0.0, 9.1552734e-05, -3.0517578e-05, 9.1552734e-05, 3.0517578e-05, 6.1035156e-05, 6.1035156e-05, 6.1035156e-05, 0.0, 6.1035156e-05, 6.1035156e-05, 0.0, 6.1035156e-05, 3.0517578e-05, 6.1035156e-05, -3.0517578e-05, 9.1552734e-05, 6.1035156e-05, 0.00012207031, 9.1552734e-05, 3.0517578e-05, 0.0, 3.0517578e-05, 0.00012207031, 9.1552734e-05, 0.0, 3.0517578e-05, 3.0517578e-05, 0.00012207031, 6.1035156e-05, -3.0517578e-05, 0.0, 0.0, 3.0517578e-05, 9.1552734e-05, 0.0, 9.1552734e-05, 3.0517578e-05, 0.0, 3.0517578e-05, 6.1035156e-05, 9.1552734e-05, 6.1035156e-05, 0.0, ...], 'sampling_rate': 16000}</td>\n",
              "      <td>She had your dark suit in greasy wash water all year.</td>\n",
              "    </tr>\n",
              "    <tr>\n",
              "      <th>5</th>\n",
              "      <td>/root/.cache/huggingface/datasets/downloads/extracted/404950a46da14eac65eb4e2a8317b1372fb3971d980d91d5d5b221275b1fd7e0/data/TRAIN/DR5/MJRG0/SI1366.WAV</td>\n",
              "      <td>{'path': '/root/.cache/huggingface/datasets/downloads/extracted/404950a46da14eac65eb4e2a8317b1372fb3971d980d91d5d5b221275b1fd7e0/data/TRAIN/DR5/MJRG0/SI1366.WAV', 'array': [0.00012207031, 6.1035156e-05, 0.00012207031, 0.00018310547, 0.00012207031, 0.00012207031, 0.00015258789, 3.0517578e-05, 0.0, 0.0, 3.0517578e-05, 0.0, -3.0517578e-05, -3.0517578e-05, -6.1035156e-05, -3.0517578e-05, -0.00012207031, -0.00012207031, -3.0517578e-05, 6.1035156e-05, 3.0517578e-05, -6.1035156e-05, -9.1552734e-05, -3.0517578e-05, -3.0517578e-05, 6.1035156e-05, 6.1035156e-05, 3.0517578e-05, 3.0517578e-05, 6.1035156e-05, -3.0517578e-05, -0.00012207031, -6.1035156e-05, -6.1035156e-05, -3.0517578e-05, -3.0517578e-05, 3.0517578e-05, 3.0517578e-05, 3.0517578e-05, 0.00012207031, 6.1035156e-05, 0.0, 0.0, -3.0517578e-05, -6.1035156e-05, -6.1035156e-05, -3.0517578e-05, -6.1035156e-05, 6.1035156e-05, 6.1035156e-05, 6.1035156e-05, 3.0517578e-05, 6.1035156e-05, 0.0, 0.0, 0.0, -6.1035156e-05, 0.0, -3.0517578e-05, 3.0517578e-05, 3.0517578e-05, 6.1035156e-05, 0.0, 3.0517578e-05, 0.0, 0.00012207031, 6.1035156e-05, 6.1035156e-05, 3.0517578e-05, 6.1035156e-05, 0.0, 9.1552734e-05, 3.0517578e-05, 0.0, 3.0517578e-05, 0.00012207031, 9.1552734e-05, 0.00012207031, 3.0517578e-05, 6.1035156e-05, 3.0517578e-05, -3.0517578e-05, -6.1035156e-05, -3.0517578e-05, 0.0, 9.1552734e-05, -6.1035156e-05, -3.0517578e-05, 9.1552734e-05, 6.1035156e-05, -3.0517578e-05, -3.0517578e-05, -6.1035156e-05, -3.0517578e-05, 0.0, 0.0, 3.0517578e-05, 0.0, 6.1035156e-05, 0.00012207031, ...], 'sampling_rate': 16000}</td>\n",
              "      <td>Our campus, unfortunately, owns no films.</td>\n",
              "    </tr>\n",
              "    <tr>\n",
              "      <th>6</th>\n",
              "      <td>/root/.cache/huggingface/datasets/downloads/extracted/404950a46da14eac65eb4e2a8317b1372fb3971d980d91d5d5b221275b1fd7e0/data/TRAIN/DR5/FGMB0/SX425.WAV</td>\n",
              "      <td>{'path': '/root/.cache/huggingface/datasets/downloads/extracted/404950a46da14eac65eb4e2a8317b1372fb3971d980d91d5d5b221275b1fd7e0/data/TRAIN/DR5/FGMB0/SX425.WAV', 'array': [0.0014343262, 0.0002746582, 0.0009765625, 0.00033569336, 0.00018310547, -0.00015258789, -6.1035156e-05, -0.00015258789, -0.00012207031, -9.1552734e-05, 6.1035156e-05, 6.1035156e-05, 0.0, 0.00012207031, 9.1552734e-05, 0.00033569336, 0.00015258789, -0.00021362305, 3.0517578e-05, 6.1035156e-05, 0.00012207031, 0.00033569336, 3.0517578e-05, 9.1552734e-05, 0.0002746582, 0.0002746582, -0.00024414062, -0.00036621094, -0.00033569336, 0.00018310547, 0.00036621094, 0.00039672852, 3.0517578e-05, 0.00021362305, 0.00039672852, 0.00039672852, -0.00012207031, -0.00030517578, -3.0517578e-05, 0.00033569336, 0.00064086914, 0.0002746582, -0.00024414062, -0.00036621094, -0.0002746582, -0.00024414062, -9.1552734e-05, -9.1552734e-05, 9.1552734e-05, 0.00039672852, 0.00036621094, 0.00030517578, -3.0517578e-05, -0.00012207031, -0.00012207031, 9.1552734e-05, 0.00012207031, 3.0517578e-05, 0.00018310547, 0.00033569336, 0.00036621094, 0.00033569336, -3.0517578e-05, -0.00018310547, -0.00045776367, -0.0005493164, -0.00015258789, 0.00036621094, 0.00033569336, 0.00021362305, 0.00036621094, 0.0, -0.00021362305, -0.00021362305, -0.00018310547, -3.0517578e-05, 9.1552734e-05, 0.00021362305, 0.00039672852, 0.00036621094, -3.0517578e-05, -0.00012207031, 0.00030517578, 0.0002746582, 0.00030517578, 0.00024414062, 0.00039672852, 0.00036621094, 0.00036621094, -6.1035156e-05, -9.1552734e-05, -3.0517578e-05, 6.1035156e-05, -6.1035156e-05, -3.0517578e-05, -6.1035156e-05, -6.1035156e-05, -6.1035156e-05, 0.00012207031, 0.00015258789, ...], 'sampling_rate': 16000}</td>\n",
              "      <td>Movies never have enough villains.</td>\n",
              "    </tr>\n",
              "    <tr>\n",
              "      <th>7</th>\n",
              "      <td>/root/.cache/huggingface/datasets/downloads/extracted/404950a46da14eac65eb4e2a8317b1372fb3971d980d91d5d5b221275b1fd7e0/data/TRAIN/DR5/FKKH0/SX30.WAV</td>\n",
              "      <td>{'path': '/root/.cache/huggingface/datasets/downloads/extracted/404950a46da14eac65eb4e2a8317b1372fb3971d980d91d5d5b221275b1fd7e0/data/TRAIN/DR5/FKKH0/SX30.WAV', 'array': [0.0, 3.0517578e-05, -3.0517578e-05, 0.0, 0.0, -3.0517578e-05, 0.0, -3.0517578e-05, 9.1552734e-05, 9.1552734e-05, 3.0517578e-05, 0.00012207031, 3.0517578e-05, 3.0517578e-05, 9.1552734e-05, 6.1035156e-05, 9.1552734e-05, 3.0517578e-05, 0.0, 0.0, 0.0, 9.1552734e-05, 3.0517578e-05, 0.0, -3.0517578e-05, -6.1035156e-05, 3.0517578e-05, -3.0517578e-05, 0.0, 0.0, 0.0, 0.0, 0.0, 0.0, 6.1035156e-05, 3.0517578e-05, 6.1035156e-05, 0.0, -3.0517578e-05, 3.0517578e-05, -3.0517578e-05, 3.0517578e-05, 6.1035156e-05, 0.0, -6.1035156e-05, 0.0, 0.0, 3.0517578e-05, -3.0517578e-05, 0.0, 3.0517578e-05, -6.1035156e-05, 6.1035156e-05, 6.1035156e-05, -3.0517578e-05, -6.1035156e-05, -3.0517578e-05, 0.0, -6.1035156e-05, 3.0517578e-05, -0.00012207031, 3.0517578e-05, 3.0517578e-05, -3.0517578e-05, 9.1552734e-05, 0.0, -3.0517578e-05, 9.1552734e-05, 3.0517578e-05, 3.0517578e-05, -3.0517578e-05, -3.0517578e-05, 0.0, -3.0517578e-05, 0.0, -6.1035156e-05, -3.0517578e-05, 6.1035156e-05, 3.0517578e-05, -3.0517578e-05, 3.0517578e-05, -6.1035156e-05, 0.0, -6.1035156e-05, 3.0517578e-05, 0.0, 6.1035156e-05, 0.00012207031, 3.0517578e-05, 0.0, 9.1552734e-05, 0.0, 0.0, 9.1552734e-05, -3.0517578e-05, 0.0, 0.0, 0.0, 0.0, 6.1035156e-05, ...], 'sampling_rate': 16000}</td>\n",
              "      <td>Get a calico cat to keep.</td>\n",
              "    </tr>\n",
              "    <tr>\n",
              "      <th>8</th>\n",
              "      <td>/root/.cache/huggingface/datasets/downloads/extracted/404950a46da14eac65eb4e2a8317b1372fb3971d980d91d5d5b221275b1fd7e0/data/TRAIN/DR3/MHMR0/SI1692.WAV</td>\n",
              "      <td>{'path': '/root/.cache/huggingface/datasets/downloads/extracted/404950a46da14eac65eb4e2a8317b1372fb3971d980d91d5d5b221275b1fd7e0/data/TRAIN/DR3/MHMR0/SI1692.WAV', 'array': [-9.1552734e-05, -0.00039672852, -0.0005493164, -0.00064086914, -0.00061035156, -0.00045776367, -0.00012207031, 0.00012207031, 0.00033569336, 0.00036621094, 0.00036621094, 0.0004272461, 0.00039672852, 0.00036621094, 0.00036621094, 0.0004272461, 0.0004272461, 0.00024414062, -0.00012207031, -0.0002746582, -0.00045776367, -0.0005187988, -0.00030517578, -0.00018310547, 3.0517578e-05, 0.00012207031, 0.00015258789, 9.1552734e-05, 0.00015258789, 0.00012207031, 0.0002746582, 0.00036621094, 0.00036621094, 0.00030517578, 6.1035156e-05, -0.00015258789, -0.0002746582, -0.00030517578, -0.00048828125, -0.0004272461, -0.00039672852, -0.00030517578, -0.00021362305, 0.00015258789, 0.00036621094, 0.00048828125, 0.00036621094, 0.0002746582, 0.0, 0.00024414062, 0.00030517578, 0.00033569336, 0.00018310547, 0.0, 0.0, -0.00012207031, -0.00012207031, -9.1552734e-05, 9.1552734e-05, 6.1035156e-05, -3.0517578e-05, -0.00012207031, -9.1552734e-05, -9.1552734e-05, 3.0517578e-05, 0.00015258789, 0.00018310547, 6.1035156e-05, -6.1035156e-05, 0.0, 0.00012207031, 0.00015258789, 0.00015258789, 0.00024414062, 9.1552734e-05, 3.0517578e-05, -9.1552734e-05, -0.00012207031, -6.1035156e-05, -6.1035156e-05, -0.00021362305, -0.00021362305, -0.00018310547, -9.1552734e-05, -0.00012207031, 0.00012207031, 0.00039672852, 0.00036621094, 0.00039672852, 0.00015258789, 0.0002746582, 0.00030517578, 0.00018310547, 0.00018310547, 9.1552734e-05, -3.0517578e-05, -0.00012207031, -0.00012207031, -3.0517578e-05, 0.00030517578, ...], 'sampling_rate': 16000}</td>\n",
              "      <td>Except for those minutes in her room, he had lost touch with her as a reality.</td>\n",
              "    </tr>\n",
              "    <tr>\n",
              "      <th>9</th>\n",
              "      <td>/root/.cache/huggingface/datasets/downloads/extracted/404950a46da14eac65eb4e2a8317b1372fb3971d980d91d5d5b221275b1fd7e0/data/TRAIN/DR4/MRSP0/SA1.WAV</td>\n",
              "      <td>{'path': '/root/.cache/huggingface/datasets/downloads/extracted/404950a46da14eac65eb4e2a8317b1372fb3971d980d91d5d5b221275b1fd7e0/data/TRAIN/DR4/MRSP0/SA1.WAV', 'array': [0.00039672852, 0.00030517578, 0.00036621094, 0.00018310547, 9.1552734e-05, 0.0, 3.0517578e-05, -0.00012207031, 0.0, 3.0517578e-05, -0.00018310547, -6.1035156e-05, -0.00012207031, 6.1035156e-05, 6.1035156e-05, 9.1552734e-05, 0.00012207031, 0.00036621094, 0.00024414062, 3.0517578e-05, -9.1552734e-05, 3.0517578e-05, 6.1035156e-05, -3.0517578e-05, 0.0, 6.1035156e-05, 0.00012207031, 0.0, -0.00015258789, -0.00021362305, -0.00021362305, -6.1035156e-05, 0.00012207031, 0.00036621094, 0.00030517578, 0.00036621094, 0.0002746582, 0.0002746582, 0.00024414062, 0.0002746582, 0.00015258789, 0.00012207031, 9.1552734e-05, -0.00012207031, -0.00021362305, -0.00036621094, -0.0005187988, -0.00030517578, -6.1035156e-05, 0.00015258789, 0.00036621094, 0.00030517578, 0.00036621094, 0.0002746582, 6.1035156e-05, -0.00012207031, -0.00015258789, -9.1552734e-05, 3.0517578e-05, 0.00012207031, 0.0, -0.00015258789, -0.00033569336, -0.0004272461, -0.00021362305, -9.1552734e-05, 6.1035156e-05, 0.00012207031, 0.00030517578, 0.00033569336, 0.00033569336, 0.00033569336, 0.00021362305, 0.00033569336, 6.1035156e-05, 0.0, -3.0517578e-05, 0.00021362305, 0.00030517578, 0.00015258789, -9.1552734e-05, -0.00015258789, -0.00021362305, -0.00012207031, 0.00033569336, 0.00033569336, 0.00036621094, 0.00033569336, 0.00036621094, 0.00024414062, -0.00012207031, -0.00012207031, -0.00018310547, -3.0517578e-05, 6.1035156e-05, 3.0517578e-05, 0.00015258789, 6.1035156e-05, 9.1552734e-05, 0.0, ...], 'sampling_rate': 16000}</td>\n",
              "      <td>She had your dark suit in greasy wash water all year.</td>\n",
              "    </tr>\n",
              "  </tbody>\n",
              "</table>"
            ]
          },
          "metadata": {}
        }
      ]
    },
    {
      "cell_type": "markdown",
      "metadata": {
        "id": "fowcOllGNNju"
      },
      "source": [
        "好的！转录文本看起来非常干净，语言更像是书面文本而不是对话。这可以理解，因为 [Timit](https://huggingface.co/datasets/timit_asr) 是一个朗读语音语料库。"
      ]
    },
    {
      "cell_type": "markdown",
      "metadata": {
        "id": "vq7OR50LN49m"
      },
      "source": [
        "我们可以看到，转录文本中包含一些特殊字符，例如 `,.?!;:`。在没有语言模型的情况下，将语音片段分类为这些特殊字符要困难得多，因为它们并不真正对应于一个特定的声音单元。例如，字母 `\"s\"` 有一个较为清晰的声音，而特殊字符 `\".\"` 则没有。此外，为了理解语音信号的含义，通常不需要在转录中包含特殊字符。\n",
        "\n",
        "因此，我们将文本标准化，只保留小写字母，并在末尾添加一个单词分隔符标记。"
      ]
    },
    {
      "cell_type": "code",
      "metadata": {
        "id": "svKzVJ_hQGK6"
      },
      "source": [
        "import re\n",
        "chars_to_ignore_regex = '[\\,\\?\\.\\!\\-\\;\\:\\\"]'\n",
        "\n",
        "def remove_special_characters(batch):\n",
        "    batch[\"text\"] = re.sub(chars_to_ignore_regex, '', batch[\"text\"]).lower() + \" \"\n",
        "    return batch"
      ],
      "execution_count": 14,
      "outputs": []
    },
    {
      "cell_type": "code",
      "metadata": {
        "colab": {
          "base_uri": "https://localhost:8080/",
          "height": 118,
          "referenced_widgets": [
            "0af72fd2c2af4375b9acfa4b274d3a7e",
            "521b59573ec94fcea8bed721ea97d810",
            "aa1697b762dd4c879b1dc41a86eeecc5",
            "e47fe91de4134c9593e18294666cd6d1",
            "09e2488cf58a4e9f8909bfc5ffb375da",
            "6919a676594a4a86afe2f878b7da6e9a",
            "6d7c820b12b14070abd2e6f31f6f533a",
            "82433eb631fe424f849fa33f2ca2c871",
            "7d5108792dd94ba886629eba8b3715f8",
            "422eaa200a74466c826799d3e1af9574",
            "2483c89fb6484c65940f185abd48c786",
            "d4ef6a26a9244e60b6144c95acc9b74d",
            "465c077327f6436aa1bb1c736f78a20d",
            "065630925b0148aa8c20ec3c0a1318a6",
            "73edddc04ec946a78b7f31453c6256d5",
            "fd19f5c9ff504a9190872c96fd36264d",
            "226136751d314ccebefa4502d1e4cabb",
            "3a4ec22794104f368234d1896afdbd69",
            "8d74a4d0c8604e2c8a81936e738669c4",
            "c91e3a36165e4025bcfb477beb5fe373",
            "4a650501e6514917ac47b5a82385ea54",
            "e8613f876c6449edb610bb3c41261ff5"
          ]
        },
        "id": "XIHocAuTQbBR",
        "outputId": "6aa7824d-ee00-41d9-b607-53c2bf2c2e16"
      },
      "source": [
        "timit = timit.map(remove_special_characters)"
      ],
      "execution_count": 15,
      "outputs": [
        {
          "output_type": "stream",
          "name": "stderr",
          "text": [
            "WARNING:datasets.fingerprint:Parameter 'function'=<function remove_special_characters at 0x7917a5b29bc0> of the transform datasets.arrow_dataset.Dataset._map_single couldn't be hashed properly, a random hash was used instead. Make sure your transforms and parameters are serializable with pickle or dill for the dataset fingerprinting and caching to work. If you reuse this transform, the caching mechanism will consider it to be different from the previous calls and recompute everything. This warning is only showed once. Subsequent hashing failures won't be showed.\n"
          ]
        },
        {
          "output_type": "display_data",
          "data": {
            "text/plain": [
              "0ex [00:00, ?ex/s]"
            ],
            "application/vnd.jupyter.widget-view+json": {
              "version_major": 2,
              "version_minor": 0,
              "model_id": "0af72fd2c2af4375b9acfa4b274d3a7e"
            }
          },
          "metadata": {}
        },
        {
          "output_type": "display_data",
          "data": {
            "text/plain": [
              "0ex [00:00, ?ex/s]"
            ],
            "application/vnd.jupyter.widget-view+json": {
              "version_major": 2,
              "version_minor": 0,
              "model_id": "d4ef6a26a9244e60b6144c95acc9b74d"
            }
          },
          "metadata": {}
        }
      ]
    },
    {
      "cell_type": "code",
      "metadata": {
        "colab": {
          "base_uri": "https://localhost:8080/",
          "height": 362
        },
        "id": "RBDRAAYxRE6n",
        "outputId": "910f75d3-964a-45d3-9f0d-6a76fdf9762f"
      },
      "source": [
        "show_random_elements(timit[\"train\"].remove_columns([\"audio\", \"file\"]))"
      ],
      "execution_count": 16,
      "outputs": [
        {
          "output_type": "display_data",
          "data": {
            "text/plain": [
              "<IPython.core.display.HTML object>"
            ],
            "text/html": [
              "<table border=\"1\" class=\"dataframe\">\n",
              "  <thead>\n",
              "    <tr style=\"text-align: right;\">\n",
              "      <th></th>\n",
              "      <th>text</th>\n",
              "    </tr>\n",
              "  </thead>\n",
              "  <tbody>\n",
              "    <tr>\n",
              "      <th>0</th>\n",
              "      <td>a huge tapestry hung in her hallway</td>\n",
              "    </tr>\n",
              "    <tr>\n",
              "      <th>1</th>\n",
              "      <td>the sermon emphasized the need for affirmative action</td>\n",
              "    </tr>\n",
              "    <tr>\n",
              "      <th>2</th>\n",
              "      <td>don't ask me to carry an oily rag like that</td>\n",
              "    </tr>\n",
              "    <tr>\n",
              "      <th>3</th>\n",
              "      <td>flying standby can be practical if you want to save money</td>\n",
              "    </tr>\n",
              "    <tr>\n",
              "      <th>4</th>\n",
              "      <td>success for many turnpikes has come hard</td>\n",
              "    </tr>\n",
              "    <tr>\n",
              "      <th>5</th>\n",
              "      <td>it's hard to tell an original from a forgery</td>\n",
              "    </tr>\n",
              "    <tr>\n",
              "      <th>6</th>\n",
              "      <td>don't ask me to carry an oily rag like that</td>\n",
              "    </tr>\n",
              "    <tr>\n",
              "      <th>7</th>\n",
              "      <td>let's take 'em home</td>\n",
              "    </tr>\n",
              "    <tr>\n",
              "      <th>8</th>\n",
              "      <td>meanwhile spring had passed well into summer</td>\n",
              "    </tr>\n",
              "    <tr>\n",
              "      <th>9</th>\n",
              "      <td>carl lives in a lively home</td>\n",
              "    </tr>\n",
              "  </tbody>\n",
              "</table>"
            ]
          },
          "metadata": {}
        }
      ]
    },
    {
      "cell_type": "markdown",
      "metadata": {
        "id": "jwfaptH5RJwA"
      },
      "source": [
        "很好！这样看起来更好了。我们已经从转录文本中移除了大部分特殊字符，并将其标准化为仅小写字母。\n",
        "\n",
        "在连接时序分类（CTC）中，通常将语音片段分类为字母，因此我们在这里也将这样做。让我们提取训练和测试数据中的所有不同字母，并从这个字母集合中构建我们的词汇表。\n",
        "\n",
        "我们编写一个映射函数，将所有转录文本连接成一个长转录文本，然后将该字符串转换为一组字符。重要的是，在 `map(...)` 函数中传递参数 `batched=True`，以便映射函数可以一次性访问所有转录文本。"
      ]
    },
    {
      "cell_type": "code",
      "metadata": {
        "id": "LwCshNbbeRZR"
      },
      "source": [
        "def extract_all_chars(batch):\n",
        "  all_text = \" \".join(batch[\"text\"])\n",
        "  vocab = list(set(all_text))\n",
        "  return {\"vocab\": [vocab], \"all_text\": [all_text]}"
      ],
      "execution_count": 17,
      "outputs": []
    },
    {
      "cell_type": "code",
      "metadata": {
        "colab": {
          "base_uri": "https://localhost:8080/",
          "height": 81,
          "referenced_widgets": [
            "21b52373f09545a8af1cf3092e3e7276",
            "592e8cd179124af7ae1e2b8624147767",
            "11b8132a78394f68a7a329ad096573f9",
            "6155ddb7cb3e40cf8e42cfffa5f34a7a",
            "dacfef9e79984320a2d886cc36c47a13",
            "98874d4f387748b4b84072dccdec48de",
            "6e4ff25a0e5148b3910cb712dca38acc",
            "64432114cd6948a9b384f6dfc970073c",
            "a551dc2a79014c509738cbae8e903525",
            "bbcebf35d8e64b59be8cc2134c057218",
            "ef131181d90e4c7fbfc6130b06798385",
            "11dc55787a404ae4a9844f496c0556bc",
            "bd3a30462b67477499703a9f4c88a1fe",
            "9bbac7eba02f4d8c8d7e8326c38f7cd1",
            "645c36b78fd34060bbc108c44eb37a96",
            "20025a83b9ba40c8b32fb0787e416726",
            "cc283634919f458bb076d9eecd7b70fe",
            "da45d6828e734b0a8d535bdb2728dffe",
            "7cdb686ec1c641f49c3a9a380feacd67",
            "4b9bec24089044ee8ec4ee37643ff9aa",
            "e76e1bc9944e40ca832601f2f57d73e8",
            "84aa411fb5844afebfb86094eca77f2b"
          ]
        },
        "id": "_m6uUjjcfbjH",
        "outputId": "2936b840-5cc4-48e3-a170-1eb942d9c0c4"
      },
      "source": [
        "vocabs = timit.map(extract_all_chars, batched=True, batch_size=-1, keep_in_memory=True, remove_columns=timit.column_names[\"train\"])"
      ],
      "execution_count": 19,
      "outputs": [
        {
          "output_type": "display_data",
          "data": {
            "text/plain": [
              "  0%|          | 0/1 [00:00<?, ?ba/s]"
            ],
            "application/vnd.jupyter.widget-view+json": {
              "version_major": 2,
              "version_minor": 0,
              "model_id": "21b52373f09545a8af1cf3092e3e7276"
            }
          },
          "metadata": {}
        },
        {
          "output_type": "display_data",
          "data": {
            "text/plain": [
              "  0%|          | 0/1 [00:00<?, ?ba/s]"
            ],
            "application/vnd.jupyter.widget-view+json": {
              "version_major": 2,
              "version_minor": 0,
              "model_id": "11dc55787a404ae4a9844f496c0556bc"
            }
          },
          "metadata": {}
        }
      ]
    },
    {
      "cell_type": "code",
      "source": [
        "vocabs"
      ],
      "metadata": {
        "colab": {
          "base_uri": "https://localhost:8080/"
        },
        "id": "1phu3pXxgygj",
        "outputId": "ddc224f0-4094-49ef-f163-b99af06ad7e0"
      },
      "execution_count": 20,
      "outputs": [
        {
          "output_type": "execute_result",
          "data": {
            "text/plain": [
              "DatasetDict({\n",
              "    train: Dataset({\n",
              "        features: ['vocab', 'all_text'],\n",
              "        num_rows: 1\n",
              "    })\n",
              "    test: Dataset({\n",
              "        features: ['vocab', 'all_text'],\n",
              "        num_rows: 1\n",
              "    })\n",
              "})"
            ]
          },
          "metadata": {},
          "execution_count": 20
        }
      ]
    },
    {
      "cell_type": "markdown",
      "metadata": {
        "id": "7oVgE8RZSJNP"
      },
      "source": [
        "现在，我们创建训练数据集和测试数据集中所有不同字母的并集，并将结果列表转换为一个枚举字典。"
      ]
    },
    {
      "cell_type": "code",
      "metadata": {
        "id": "aQfneNsmlJI0"
      },
      "source": [
        "vocab_list = list(set(vocabs[\"train\"][\"vocab\"][0]) | set(vocabs[\"test\"][\"vocab\"][0]))"
      ],
      "execution_count": 21,
      "outputs": []
    },
    {
      "cell_type": "code",
      "metadata": {
        "colab": {
          "base_uri": "https://localhost:8080/"
        },
        "id": "_0kRndSvqaKk",
        "outputId": "f2caad08-1345-4b3a-9ef6-808e80c6da1a"
      },
      "source": [
        "vocab_dict = {v: k for k, v in enumerate(vocab_list)}\n",
        "vocab_dict"
      ],
      "execution_count": 22,
      "outputs": [
        {
          "output_type": "execute_result",
          "data": {
            "text/plain": [
              "{'q': 0,\n",
              " 'k': 1,\n",
              " 'o': 2,\n",
              " 'y': 3,\n",
              " 'n': 4,\n",
              " 'i': 5,\n",
              " 'a': 6,\n",
              " 'f': 7,\n",
              " 'v': 8,\n",
              " 'u': 9,\n",
              " 'h': 10,\n",
              " 's': 11,\n",
              " 'b': 12,\n",
              " 'd': 13,\n",
              " 'c': 14,\n",
              " \"'\": 15,\n",
              " 't': 16,\n",
              " 'm': 17,\n",
              " ' ': 18,\n",
              " 'w': 19,\n",
              " 'z': 20,\n",
              " 'p': 21,\n",
              " 'l': 22,\n",
              " 'r': 23,\n",
              " 'x': 24,\n",
              " 'j': 25,\n",
              " 'e': 26,\n",
              " 'g': 27}"
            ]
          },
          "metadata": {},
          "execution_count": 22
        }
      ]
    },
    {
      "cell_type": "markdown",
      "metadata": {
        "id": "JOSzbvs9SXT1"
      },
      "source": [
        "很棒，我们看到数据集中包含了字母表中的所有字母（这并不令人惊讶），并且我们还提取了特殊字符 `\" \"` 和 `'`。需要注意的是，我们没有排除这些特殊字符，原因如下：\n",
        "\n",
        "- 模型需要学习预测单词何时结束，否则模型预测的将始终是一串字符序列，这将使单词之间无法分隔。\n",
        "- 在英语中，我们需要保留 `'` 字符来区分不同单词，例如 `\"it's\"` 和 `\"its\"`，它们有着截然不同的含义。"
      ]
    },
    {
      "cell_type": "markdown",
      "metadata": {
        "id": "b1fBRCn-TRaO"
      },
      "source": [
        "为了更清楚地表明 `\" \"` 拥有自己的标记类别，我们将其替换为更显眼的字符 `|`。此外，我们还添加了一个“未知”标记，以便模型能够处理在 Timit 训练集中未遇到的字符。\n",
        "\n",
        "最后，我们还添加了一个填充标记，对应于 CTC 算法中的“*空白标记*”。“空白标记”是 CTC 算法的核心组成部分。有关更多信息，请查看[此处](https://distill.pub/2017/ctc/)的“对齐”部分。"
      ]
    },
    {
      "cell_type": "code",
      "metadata": {
        "id": "npbIbBoLgaFX"
      },
      "source": [
        "vocab_dict[\"|\"] = vocab_dict[\" \"]\n",
        "del vocab_dict[\" \"]"
      ],
      "execution_count": 23,
      "outputs": []
    },
    {
      "cell_type": "code",
      "metadata": {
        "id": "znF0bNunsjbl",
        "colab": {
          "base_uri": "https://localhost:8080/"
        },
        "outputId": "b2350192-b82f-4ef2-9256-ca49490284d9"
      },
      "source": [
        "vocab_dict[\"[UNK]\"] = len(vocab_dict)\n",
        "vocab_dict[\"[PAD]\"] = len(vocab_dict)\n",
        "len(vocab_dict)"
      ],
      "execution_count": 24,
      "outputs": [
        {
          "output_type": "execute_result",
          "data": {
            "text/plain": [
              "30"
            ]
          },
          "metadata": {},
          "execution_count": 24
        }
      ]
    },
    {
      "cell_type": "code",
      "source": [
        "vocab_dict"
      ],
      "metadata": {
        "colab": {
          "base_uri": "https://localhost:8080/"
        },
        "id": "wGnJoXV2iUvM",
        "outputId": "57ec5142-2793-45dd-f682-a9b20ecd6b55"
      },
      "execution_count": 25,
      "outputs": [
        {
          "output_type": "execute_result",
          "data": {
            "text/plain": [
              "{'q': 0,\n",
              " 'k': 1,\n",
              " 'o': 2,\n",
              " 'y': 3,\n",
              " 'n': 4,\n",
              " 'i': 5,\n",
              " 'a': 6,\n",
              " 'f': 7,\n",
              " 'v': 8,\n",
              " 'u': 9,\n",
              " 'h': 10,\n",
              " 's': 11,\n",
              " 'b': 12,\n",
              " 'd': 13,\n",
              " 'c': 14,\n",
              " \"'\": 15,\n",
              " 't': 16,\n",
              " 'm': 17,\n",
              " 'w': 19,\n",
              " 'z': 20,\n",
              " 'p': 21,\n",
              " 'l': 22,\n",
              " 'r': 23,\n",
              " 'x': 24,\n",
              " 'j': 25,\n",
              " 'e': 26,\n",
              " 'g': 27,\n",
              " '|': 18,\n",
              " '[UNK]': 28,\n",
              " '[PAD]': 29}"
            ]
          },
          "metadata": {},
          "execution_count": 25
        }
      ]
    },
    {
      "cell_type": "markdown",
      "metadata": {
        "id": "SFPGfet8U5sL"
      },
      "source": [
        "好的，现在我们的词汇表已经完整，包含30个标记，这意味着我们将在预训练的 Wav2Vec2 检查点之上添加的线性层将具有30个输出维度。"
      ]
    },
    {
      "cell_type": "markdown",
      "metadata": {
        "id": "1CujRgBNVRaD"
      },
      "source": [
        "好的，我们现在将词汇表保存为 JSON 文件。"
      ]
    },
    {
      "cell_type": "code",
      "metadata": {
        "id": "ehyUoh9vk191"
      },
      "source": [
        "import json\n",
        "with open('vocab.json', 'w') as vocab_file:\n",
        "    json.dump(vocab_dict, vocab_file)"
      ],
      "execution_count": 26,
      "outputs": []
    },
    {
      "cell_type": "markdown",
      "metadata": {
        "id": "SHJDaKlIVVim"
      },
      "source": [
        "最后一步，我们使用 JSON 文件实例化一个 `Wav2Vec2CTCTokenizer` 类的对象。"
      ]
    },
    {
      "cell_type": "code",
      "metadata": {
        "id": "xriFGEWQkO4M"
      },
      "source": [
        "from transformers import Wav2Vec2CTCTokenizer\n",
        "\n",
        "tokenizer = Wav2Vec2CTCTokenizer(\"./vocab.json\", unk_token=\"[UNK]\", pad_token=\"[PAD]\", word_delimiter_token=\"|\")"
      ],
      "execution_count": 18,
      "outputs": []
    },
    {
      "cell_type": "markdown",
      "metadata": {
        "id": "P6L2EVWwIazG"
      },
      "source": [
        "如果想在本notebook中使用刚刚创建的tokenizer和微调模型，强烈建议将`tokenizer`上传到[🤗 Hub](https://huggingface.co/)。我们将上传文件的仓库命名为`\"wav2vec2-base-timit-demo-colab\"`："
      ]
    },
    {
      "cell_type": "code",
      "metadata": {
        "id": "1mbffBdxIl0M"
      },
      "source": [
        "repo_name = \"wav2vec2-base-timit-demo-google-colab\""
      ],
      "execution_count": 19,
      "outputs": []
    },
    {
      "cell_type": "markdown",
      "metadata": {
        "id": "pmpG2ftFIu3B"
      },
      "source": [
        "好的，现在我们将Tokenizer上传到[🤗 Hub](https://huggingface.co/)。\n"
      ]
    },
    {
      "cell_type": "code",
      "metadata": {
        "colab": {
          "base_uri": "https://localhost:8080/",
          "height": 86
        },
        "id": "ScBMUz8jIxJi",
        "outputId": "b4e13d08-6ce5-47da-9caa-b5b72cc7e2c3"
      },
      "source": [
        "tokenizer.push_to_hub(repo_name)"
      ],
      "execution_count": 34,
      "outputs": [
        {
          "output_type": "execute_result",
          "data": {
            "text/plain": [
              "CommitInfo(commit_url='https://huggingface.co/weege007/wav2vec2-base-timit-demo-google-colab/commit/f426c023a2324254f41fc4c781b9a37a62daa5fd', commit_message='Upload tokenizer', commit_description='', oid='f426c023a2324254f41fc4c781b9a37a62daa5fd', pr_url=None, repo_url=RepoUrl('https://huggingface.co/weege007/wav2vec2-base-timit-demo-google-colab', endpoint='https://huggingface.co', repo_type='model', repo_id='weege007/wav2vec2-base-timit-demo-google-colab'), pr_revision=None, pr_num=None)"
            ],
            "application/vnd.google.colaboratory.intrinsic+json": {
              "type": "string"
            }
          },
          "metadata": {},
          "execution_count": 34
        }
      ]
    },
    {
      "cell_type": "markdown",
      "metadata": {
        "id": "mYcIiR2FQ96i"
      },
      "source": [
        "### Create Wav2Vec2 Feature Extractor"
      ]
    },
    {
      "cell_type": "markdown",
      "metadata": {
        "id": "Y6mDEyW719rx"
      },
      "source": [
        "语音是一种连续信号，为了让计算机处理，它首先必须被离散化，这通常被称为**采样**。采样率在此起着重要作用，因为它定义了每秒测量多少个语音信号数据点。因此，更高的采样率采样会更好地近似*真实*的语音信号，但每秒也需要更多的数据值。\n",
        "\n",
        "预训练的检查点期望其输入数据或多或少地从与其训练数据相同的分布中采样。以两种不同速率采样的相同语音信号具有非常不同的分布，例如，采样率加倍会导致数据点长度增加一倍。因此，在微调ASR模型的预训练检查点之前，验证用于预训练模型的数据采样率与用于微调模型的数据集的采样率是否匹配至关重要。\n",
        "\n",
        "Wav2Vec2是在[LibriSpeech](https://huggingface.co/datasets/librispeech_asr)和LibriVox的音频数据上预训练的，两者都以16kHz采样。我们的微调数据集[Timit](https://www.google.com/search?q=https://huggingface.co/datasets/timit_asr)也很幸运地以16kHz采样。如果微调数据集的采样率低于或高于16kHz，我们首先必须对语音信号进行上采样或下采样，以匹配用于预训练数据集的采样率。"
      ]
    },
    {
      "cell_type": "markdown",
      "metadata": {
        "id": "KuUbPW7oV-B5"
      },
      "source": [
        "Wav2Vec2 特征提取器对象在实例化时需要以下参数：\n",
        "\n",
        "* `feature_size`：语音模型以特征向量序列作为输入。虽然此序列的长度显然会有所不同，但特征大小不应改变。对于 Wav2Vec2，特征大小为 1，因为该模型是在原始语音信号上训练的。\n",
        "* `sampling_rate`：模型训练时使用的采样率。\n",
        "* `padding_value`：对于批量推理，较短的输入需要用特定值进行填充。\n",
        "* `do_normalize`：输入是否应该进行*零均值单位方差*归一化。通常，归一化输入后，语音模型的性能会更好。\n",
        "* `return_attention_mask`：模型在批量推理时是否应使用 `attention_mask`。通常，模型应**始终**使用 `attention_mask` 来掩盖填充的标记。然而，由于 `Wav2Vec2` “base”检查点的一个非常特殊的设计选择，在使用不带 `attention_mask` 的情况下能获得更好的结果。这不建议用于其他语音模型。有关更多信息，可以查看[此](https://github.com/pytorch/fairseq/issues/3227)问题。**重要提示**：如果想使用此 notebook 微调 [large-lv60](https://huggingface.co/facebook/wav2vec2-large-lv60)，则应将此参数设置为 `True`。"
      ]
    },
    {
      "cell_type": "code",
      "metadata": {
        "id": "kAR0-2KLkopp"
      },
      "source": [
        "from transformers import Wav2Vec2FeatureExtractor\n",
        "\n",
        "feature_extractor = Wav2Vec2FeatureExtractor(feature_size=1, sampling_rate=16000, padding_value=0.0, do_normalize=True, return_attention_mask=False)"
      ],
      "execution_count": 20,
      "outputs": []
    },
    {
      "cell_type": "code",
      "source": [
        "feature_extractor"
      ],
      "metadata": {
        "colab": {
          "base_uri": "https://localhost:8080/"
        },
        "id": "ckGnCzsmm8Ns",
        "outputId": "a5284beb-8fa0-48eb-83c4-151d38b84a4d"
      },
      "execution_count": 21,
      "outputs": [
        {
          "output_type": "execute_result",
          "data": {
            "text/plain": [
              "Wav2Vec2FeatureExtractor {\n",
              "  \"do_normalize\": true,\n",
              "  \"feature_extractor_type\": \"Wav2Vec2FeatureExtractor\",\n",
              "  \"feature_size\": 1,\n",
              "  \"padding_side\": \"right\",\n",
              "  \"padding_value\": 0.0,\n",
              "  \"return_attention_mask\": false,\n",
              "  \"sampling_rate\": 16000\n",
              "}"
            ]
          },
          "metadata": {},
          "execution_count": 21
        }
      ]
    },
    {
      "cell_type": "markdown",
      "metadata": {
        "id": "qUETetgqYC3W"
      },
      "source": [
        "很棒，Wav2Vec2 的特征提取管道由此完全定义！\n",
        "\n",
        "为了尽可能方便用户使用 Wav2Vec2，特征提取器和分词器被**封装**到单个 `Wav2Vec2Processor` 类中，这样用户只需一个 `model` 和一个 `processor` 对象即可。"
      ]
    },
    {
      "cell_type": "code",
      "metadata": {
        "id": "KYZtoW-tlZgl"
      },
      "source": [
        "from transformers import Wav2Vec2Processor\n",
        "\n",
        "processor = Wav2Vec2Processor(feature_extractor=feature_extractor, tokenizer=tokenizer)"
      ],
      "execution_count": 22,
      "outputs": []
    },
    {
      "cell_type": "code",
      "source": [
        "processor"
      ],
      "metadata": {
        "colab": {
          "base_uri": "https://localhost:8080/"
        },
        "id": "fYTc0RUFm-Hu",
        "outputId": "5c788e66-bb56-472c-903c-af03ff2c31a6"
      },
      "execution_count": 23,
      "outputs": [
        {
          "output_type": "execute_result",
          "data": {
            "text/plain": [
              "Wav2Vec2Processor:\n",
              "- feature_extractor: Wav2Vec2FeatureExtractor {\n",
              "  \"do_normalize\": true,\n",
              "  \"feature_extractor_type\": \"Wav2Vec2FeatureExtractor\",\n",
              "  \"feature_size\": 1,\n",
              "  \"padding_side\": \"right\",\n",
              "  \"padding_value\": 0.0,\n",
              "  \"return_attention_mask\": false,\n",
              "  \"sampling_rate\": 16000\n",
              "}\n",
              "\n",
              "- tokenizer: Wav2Vec2CTCTokenizer(name_or_path='', vocab_size=30, model_max_length=1000000000000000019884624838656, is_fast=False, padding_side='right', truncation_side='right', special_tokens={'bos_token': '<s>', 'eos_token': '</s>', 'unk_token': '[UNK]', 'pad_token': '[PAD]'}, clean_up_tokenization_spaces=False, added_tokens_decoder={\n",
              "\t28: AddedToken(\"[UNK]\", rstrip=True, lstrip=True, single_word=False, normalized=False, special=False),\n",
              "\t29: AddedToken(\"[PAD]\", rstrip=True, lstrip=True, single_word=False, normalized=False, special=False),\n",
              "\t30: AddedToken(\"<s>\", rstrip=False, lstrip=False, single_word=False, normalized=False, special=True),\n",
              "\t31: AddedToken(\"</s>\", rstrip=False, lstrip=False, single_word=False, normalized=False, special=True),\n",
              "}\n",
              ")\n",
              "\n",
              "{\n",
              "  \"processor_class\": \"Wav2Vec2Processor\"\n",
              "}"
            ]
          },
          "metadata": {},
          "execution_count": 23
        }
      ]
    },
    {
      "cell_type": "markdown",
      "metadata": {
        "id": "DrKnYuvDIoOO"
      },
      "source": [
        "好的，接下来我们可以准备数据集。"
      ]
    },
    {
      "cell_type": "markdown",
      "metadata": {
        "id": "YFmShnl7RE35"
      },
      "source": [
        "\n",
        "### 数据预处理\n",
        "\n",
        "到目前为止，我们还没有查看语音信号的实际值，而只是查看了转录文本。除了`'text'`，我们的数据集中还包含另外两个列名`'file'`和`'audio'`。`'file'`表示音频文件的绝对路径。我们来看一下。"
      ]
    },
    {
      "cell_type": "code",
      "metadata": {
        "colab": {
          "base_uri": "https://localhost:8080/",
          "height": 35
        },
        "id": "TTCS7W6XJ9BG",
        "outputId": "5d0b8d50-1c64-4a1c-f069-bd9a0887c2bf"
      },
      "source": [
        "timit[\"train\"][0][\"file\"]"
      ],
      "execution_count": 24,
      "outputs": [
        {
          "output_type": "execute_result",
          "data": {
            "text/plain": [
              "'/root/.cache/huggingface/datasets/downloads/extracted/404950a46da14eac65eb4e2a8317b1372fb3971d980d91d5d5b221275b1fd7e0/data/TRAIN/DR4/MMDM0/SI681.WAV'"
            ],
            "application/vnd.google.colaboratory.intrinsic+json": {
              "type": "string"
            }
          },
          "metadata": {},
          "execution_count": 24
        }
      ]
    },
    {
      "cell_type": "markdown",
      "metadata": {
        "id": "BwxprOw4Nzrl"
      },
      "source": [
        "`Wav2Vec2` 要求输入是 16 kHz 的一维数组格式。这意味着必须加载并重新采样音频文件。\n",
        "\n",
        "幸运的是，在调用 `audio` 列时，`datasets` 会自动完成此操作。我们来试一下。"
      ]
    },
    {
      "cell_type": "code",
      "metadata": {
        "colab": {
          "base_uri": "https://localhost:8080/"
        },
        "id": "mk9QHuSsN7lf",
        "outputId": "04f47c55-027c-42ea-a8f7-61b4acb3bf72"
      },
      "source": [
        "timit[\"train\"][0][\"audio\"]"
      ],
      "execution_count": 25,
      "outputs": [
        {
          "output_type": "execute_result",
          "data": {
            "text/plain": [
              "{'path': '/root/.cache/huggingface/datasets/downloads/extracted/404950a46da14eac65eb4e2a8317b1372fb3971d980d91d5d5b221275b1fd7e0/data/TRAIN/DR4/MMDM0/SI681.WAV',\n",
              " 'array': array([-2.1362305e-04,  6.1035156e-05,  3.0517578e-05, ...,\n",
              "        -3.0517578e-05, -9.1552734e-05, -6.1035156e-05], dtype=float32),\n",
              " 'sampling_rate': 16000}"
            ]
          },
          "metadata": {},
          "execution_count": 25
        }
      ]
    },
    {
      "cell_type": "markdown",
      "metadata": {
        "id": "wSBIGEiaKHMn"
      },
      "source": [
        "我们可以看到音频文件已经自动加载了。这要归功于 `datasets == 4.13.3` 中引入的新 [`\"Audio\"` 特性](https://www.google.com/search?q=%5Bhttps://huggingface.co/docs/datasets/package_reference/main_classes.html%3Fhighlight%3Daudio%23datasets.Audio%5D\\(https://huggingface.co/docs/datasets/package_reference/main_classes.html%3Fhighlight%3Daudio%23datasets.Audio\\))，它在调用时会即时加载和重新采样音频文件。\n",
        "\n",
        "采样率被设置为 16kHz，这正是 `Wav2Vec2` 所期望的输入。"
      ]
    },
    {
      "cell_type": "markdown",
      "metadata": {
        "id": "SOckzFd4Mbzq"
      },
      "source": [
        "很好，我们来听几个音频文件，以便更好地了解数据集并验证音频是否已正确加载。\n",
        "\n",
        "**请注意**：*您可以多次点击以下单元格以收听不同的语音样本。*"
      ]
    },
    {
      "cell_type": "code",
      "metadata": {
        "colab": {
          "base_uri": "https://localhost:8080/",
          "height": 110
        },
        "id": "dueM6U7Ev0OA",
        "outputId": "13b329c6-abc0-498b-bcfa-b671c6168734"
      },
      "source": [
        "import IPython.display as ipd\n",
        "import numpy as np\n",
        "import random\n",
        "\n",
        "rand_int = random.randint(0, len(timit[\"train\"]))\n",
        "\n",
        "print(timit[\"train\"][rand_int][\"text\"])\n",
        "print(len(timit[\"train\"][rand_int][\"audio\"][\"array\"])/16000)\n",
        "ipd.Audio(data=np.asarray(timit[\"train\"][rand_int][\"audio\"][\"array\"]), autoplay=True, rate=16000)"
      ],
      "execution_count": 26,
      "outputs": [
        {
          "output_type": "stream",
          "name": "stdout",
          "text": [
            "move the garbage nearer to the large window \n",
            "2.72\n"
          ]
        },
        {
          "output_type": "execute_result",
          "data": {
            "text/plain": [
              "<IPython.lib.display.Audio object>"
            ],
            "text/html": [
              "\n",
              "                <audio  controls=\"controls\" autoplay=\"autoplay\">\n",
              "                    <source src=\"data:audio/wav;base64,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\" type=\"audio/wav\" />\n",
              "                    Your browser does not support the audio element.\n",
              "                </audio>\n",
              "              "
            ]
          },
          "metadata": {},
          "execution_count": 26
        }
      ]
    },
    {
      "cell_type": "markdown",
      "metadata": {
        "id": "1MaL9J2dNVtG"
      },
      "source": [
        "好的，这是您内容的中文翻译：\n",
        "\n",
        "可以听到，说话者的声音会随着语速、口音等的变化而改变。不过，总的来说，录音听起来相对清晰，这与朗读语音语料库的预期一致。\n",
        "\n",
        "我们来做最后一次检查，通过打印语音输入的形状、其转录文本以及相应的采样率，以确保数据已正确准备。\n",
        "\n",
        "**注意**：*您可以多次点击以下单元格以验证多个样本。*"
      ]
    },
    {
      "cell_type": "code",
      "metadata": {
        "colab": {
          "base_uri": "https://localhost:8080/"
        },
        "id": "1Po2g7YPuRTx",
        "outputId": "dc2fd619-fe33-4093-b993-cfd2be62caf6"
      },
      "source": [
        "rand_int = random.randint(0, len(timit[\"train\"]))\n",
        "\n",
        "print(\"Target text:\", timit[\"train\"][rand_int][\"text\"])\n",
        "print(\"Input array shape:\", np.asarray(timit[\"train\"][rand_int][\"audio\"][\"array\"]).shape)\n",
        "print(\"Sampling rate:\", timit[\"train\"][rand_int][\"audio\"][\"sampling_rate\"])"
      ],
      "execution_count": 27,
      "outputs": [
        {
          "output_type": "stream",
          "name": "stdout",
          "text": [
            "Target text: fortyseven states assign or provide vehicles for employees on state business \n",
            "Input array shape: (82944,)\n",
            "Sampling rate: 16000\n"
          ]
        }
      ]
    },
    {
      "cell_type": "markdown",
      "metadata": {
        "id": "M9teZcSwOBJ4"
      },
      "source": [
        "很好！一切看起来都很正常——数据是**一维数组**，**采样率始终对应 16kHz**，并且**目标文本也已标准化**。"
      ]
    },
    {
      "cell_type": "markdown",
      "metadata": {
        "id": "k3Pbn5WvOYZF"
      },
      "source": [
        "最后，我们可以将数据集处理成模型训练所需的格式。我们将使用 `map(...)` 函数。\n",
        "\n",
        "首先，我们通过简单地调用 `batch[\"audio\"]` 来加载和重采样音频数据。\n",
        "其次，我们从加载的音频文件中提取 `input_values`。在我们的例子中，`Wav2Vec2Processor` 仅对数据进行归一化。然而，对于其他语音模型，此步骤可能包括更复杂的特征提取，例如 [Log-Mel 特征提取](https://en.wikipedia.org/wiki/Mel-frequency_cepstrum)。\n",
        "第三，我们将转录文本编码为标签 ID。\n",
        "\n",
        "**注意**：这个映射函数很好地展示了 `Wav2Vec2Processor` 类应该如何使用。在“正常”情况下，调用 `processor(...)` 会重定向到 `Wav2Vec2FeatureExtractor` 的调用方法。然而，当将处理器封装到 `as_target_processor` 上下文时，相同的方法会重定向到 `Wav2Vec2CTCTokenizer` 的调用方法。\n",
        "欲了解更多信息，请查阅[文档](https://huggingface.co/docs/transformers/main/model_doc/wav2vec2#transformers.Wav2Vec2Processor.__call__)。"
      ]
    },
    {
      "cell_type": "code",
      "metadata": {
        "id": "eJY7I0XAwe9p"
      },
      "source": [
        "def prepare_dataset(batch):\n",
        "    audio = batch[\"audio\"]\n",
        "\n",
        "    # batched output is \"un-batched\" to ensure mapping is correct\n",
        "    batch[\"input_values\"] = processor(audio[\"array\"], sampling_rate=audio[\"sampling_rate\"]).input_values[0]\n",
        "    batch[\"input_length\"] = len(batch[\"input_values\"])\n",
        "\n",
        "    with processor.as_target_processor():\n",
        "        batch[\"labels\"] = processor(batch[\"text\"]).input_ids\n",
        "    return batch"
      ],
      "execution_count": 28,
      "outputs": []
    },
    {
      "cell_type": "markdown",
      "metadata": {
        "id": "hVMZhH4-nP8-"
      },
      "source": [
        "Let's apply the data preparation function to all examples."
      ]
    },
    {
      "cell_type": "code",
      "metadata": {
        "id": "-np9xYK-wl8q",
        "colab": {
          "base_uri": "https://localhost:8080/",
          "height": 384
        },
        "outputId": "0831be86-edd9-4794-ab22-b833e36207e1"
      },
      "source": [
        "import numpy as np\n",
        "# fuck numpy\n",
        "np.object = object\n",
        "\n",
        "timit = timit.map(prepare_dataset, remove_columns=timit.column_names[\"train\"], num_proc=4)"
      ],
      "execution_count": 29,
      "outputs": [
        {
          "output_type": "stream",
          "name": "stderr",
          "text": [
            "/usr/local/lib/python3.11/dist-packages/transformers/models/wav2vec2/processing_wav2vec2.py:170: UserWarning: `as_target_processor` is deprecated and will be removed in v5 of Transformers. You can process your labels by using the argument `text` of the regular `__call__` method (either in the same call as your audio inputs, or in a separate call.\n",
            "  warnings.warn(\n",
            "/usr/local/lib/python3.11/dist-packages/transformers/models/wav2vec2/processing_wav2vec2.py:170: UserWarning: `as_target_processor` is deprecated and will be removed in v5 of Transformers. You can process your labels by using the argument `text` of the regular `__call__` method (either in the same call as your audio inputs, or in a separate call.\n",
            "  warnings.warn(\n",
            "/usr/local/lib/python3.11/dist-packages/transformers/models/wav2vec2/processing_wav2vec2.py:170: UserWarning: `as_target_processor` is deprecated and will be removed in v5 of Transformers. You can process your labels by using the argument `text` of the regular `__call__` method (either in the same call as your audio inputs, or in a separate call.\n",
            "  warnings.warn(\n",
            "/usr/local/lib/python3.11/dist-packages/transformers/models/wav2vec2/processing_wav2vec2.py:170: UserWarning: `as_target_processor` is deprecated and will be removed in v5 of Transformers. You can process your labels by using the argument `text` of the regular `__call__` method (either in the same call as your audio inputs, or in a separate call.\n",
            "  warnings.warn(\n",
            "/usr/local/lib/python3.11/dist-packages/datasets/table.py:690: FutureWarning: promote has been superseded by promote_options='default'.\n",
            "  table = cls._concat_blocks(blocks, axis=0)\n",
            "/usr/local/lib/python3.11/dist-packages/transformers/models/wav2vec2/processing_wav2vec2.py:170: UserWarning: `as_target_processor` is deprecated and will be removed in v5 of Transformers. You can process your labels by using the argument `text` of the regular `__call__` method (either in the same call as your audio inputs, or in a separate call.\n",
            "  warnings.warn(\n",
            "/usr/local/lib/python3.11/dist-packages/transformers/models/wav2vec2/processing_wav2vec2.py:170: UserWarning: `as_target_processor` is deprecated and will be removed in v5 of Transformers. You can process your labels by using the argument `text` of the regular `__call__` method (either in the same call as your audio inputs, or in a separate call.\n",
            "  warnings.warn(\n",
            "/usr/local/lib/python3.11/dist-packages/transformers/models/wav2vec2/processing_wav2vec2.py:170: UserWarning: `as_target_processor` is deprecated and will be removed in v5 of Transformers. You can process your labels by using the argument `text` of the regular `__call__` method (either in the same call as your audio inputs, or in a separate call.\n",
            "  warnings.warn(\n",
            "/usr/local/lib/python3.11/dist-packages/transformers/models/wav2vec2/processing_wav2vec2.py:170: UserWarning: `as_target_processor` is deprecated and will be removed in v5 of Transformers. You can process your labels by using the argument `text` of the regular `__call__` method (either in the same call as your audio inputs, or in a separate call.\n",
            "  warnings.warn(\n",
            "/usr/local/lib/python3.11/dist-packages/datasets/table.py:690: FutureWarning: promote has been superseded by promote_options='default'.\n",
            "  table = cls._concat_blocks(blocks, axis=0)\n"
          ]
        }
      ]
    },
    {
      "cell_type": "markdown",
      "metadata": {
        "id": "p_MuJSH8nTuQ"
      },
      "source": [
        "**请注意**：目前 `datasets` 库使用 [`torchaudio`](https://www.google.com/search?q=%5Bhttps://pytorch.org/audio/stable/index.html%5D\\(https://pytorch.org/audio/stable/index.html\\)) 和 [`librosa`](https://www.google.com/search?q=%5Bhttps://librosa.org/doc/latest/index.html%5D\\(https://librosa.org/doc/latest/index.html\\)) 进行音频加载和重采样。如果您希望实现自己的自定义数据加载/采样方式，可以随意使用 `\"path\"` 列而忽略 `\"audio\"` 列。"
      ]
    },
    {
      "cell_type": "markdown",
      "metadata": {
        "id": "M4J0bU1WsvAg"
      },
      "source": [
        "由于长时间输入序列需要大量内存，并且 `Wav2Vec2` 基于 `self-attention` 机制，对于长输入序列，内存需求与输入长度呈平方级增长（*参见* [这篇 Reddit 帖子](https://www.reddit.com/r/MachineLearning/comments/genjvb/d_why_is_the_maximum_input_sequence_length_of/)）。为了本次演示，我们从训练数据集中过滤掉所有超过 4 秒的序列。"
      ]
    },
    {
      "cell_type": "code",
      "metadata": {
        "colab": {
          "base_uri": "https://localhost:8080/",
          "height": 49,
          "referenced_widgets": [
            "fe9456b422fa4d38b9c381c0d6c7f6e5",
            "264f65e3461f472f8126eb8e143856e9",
            "f8fa4bc2914440f8b60c3af2b10974b2",
            "6a0167fed24b40c3b8c64ec4770deb90",
            "70a37abea9f7445cb3dcf557bbf9d5ef",
            "ade519c5664647ca9a212a8bbebe9321",
            "3f57e24f82894d999d3a8e9c3aae7f95",
            "64eb5f645dd64406b9d8d0a8b1172649",
            "ffa82a5c21d4442ba1d0b42192eb765a",
            "0ff8d627e4b34d3e958625e2296a0a5f",
            "df05544f74144fcbabab04a267fc49b6"
          ]
        },
        "id": "nqGobEPUvG3v",
        "outputId": "c02ad693-6f0f-4847-ae9d-c7d4ee7e8e8e"
      },
      "source": [
        "max_input_length_in_sec = 4.0\n",
        "timit[\"train\"] = timit[\"train\"].filter(lambda x: x < max_input_length_in_sec * processor.feature_extractor.sampling_rate, input_columns=[\"input_length\"])"
      ],
      "execution_count": 30,
      "outputs": [
        {
          "output_type": "display_data",
          "data": {
            "text/plain": [
              "  0%|          | 0/5 [00:00<?, ?ba/s]"
            ],
            "application/vnd.jupyter.widget-view+json": {
              "version_major": 2,
              "version_minor": 0,
              "model_id": "fe9456b422fa4d38b9c381c0d6c7f6e5"
            }
          },
          "metadata": {}
        }
      ]
    },
    {
      "cell_type": "markdown",
      "metadata": {
        "id": "25Genil2v_Br"
      },
      "source": [
        "太棒了，现在我们准备好开始训练了！"
      ]
    },
    {
      "cell_type": "markdown",
      "metadata": {
        "id": "gYlQkKVoRUos"
      },
      "source": [
        "## 训练与评估\n",
        "\n",
        "数据已经处理完毕，我们准备开始设置训练流程。我们将利用 🤗 的 [Trainer](https://huggingface.co/transformers/master/main_classes/trainer.html?highlight=trainer) 类，为此我们基本上需要完成以下工作：\n",
        "\n",
        "* **定义一个数据收集器（Data Collator）**。与大多数自然语言处理模型不同，Wav2Vec2 的输入长度远大于输出长度。例如，一个输入长度为 50000 的样本，其输出长度不会超过 100。考虑到巨大的输入尺寸，动态填充训练批次效率更高，这意味着所有训练样本都应该只填充到其批次中最长的样本，而不是整个数据集中最长的样本。因此，微调 Wav2Vec2 需要一个特殊的填充数据收集器，我们将在下面定义。\n",
        "\n",
        "* **评估指标**。在训练过程中，模型应该以词错误率（Word Error Rate, WER）进行评估。我们应该相应地定义一个 `compute_metrics` 函数。\n",
        "\n",
        "* **加载预训练检查点**。我们需要加载一个预训练检查点并为其正确配置训练。\n",
        "\n",
        "* **定义训练配置**。\n",
        "\n",
        "在模型微调完成后，我们将对测试数据进行正确评估，并验证它是否确实学会了正确转录语音。"
      ]
    },
    {
      "cell_type": "markdown",
      "metadata": {
        "id": "Slk403unUS91"
      },
      "source": [
        "### 设置 Trainer\n",
        "\n",
        "让我们从定义数据收集器开始。数据收集器的代码复制自[这个例子](https://github.com/huggingface/transformers/blob/9a06b6b11bdfc42eea08fa91d0c737d1863c99e3/examples/research_projects/wav2vec2/run_asr.py#L81)。\n",
        "\n",
        "不深入过多细节，与常见的数据收集器不同，这个数据收集器对 `input_values` 和 `labels` 进行不同的处理，并因此对它们应用独立的填充函数（同样利用了 Wav2Vec2 的上下文管理器）。这是必要的，因为语音输入和输出是不同的模态，这意味着它们不应该由相同的填充函数处理。\n",
        "与常见的数据收集器类似，它会用 `-100` 填充标签中的 token，这样在计算损失时就**不会**考虑这些 token。"
      ]
    },
    {
      "cell_type": "code",
      "metadata": {
        "id": "tborvC9hx88e"
      },
      "source": [
        "import torch\n",
        "\n",
        "from dataclasses import dataclass, field\n",
        "from typing import Any, Dict, List, Optional, Union\n",
        "\n",
        "@dataclass\n",
        "class DataCollatorCTCWithPadding:\n",
        "    \"\"\"\n",
        "    Data collator that will dynamically pad the inputs received.\n",
        "    Args:\n",
        "        processor (:class:`~transformers.Wav2Vec2Processor`)\n",
        "            The processor used for proccessing the data.\n",
        "        padding (:obj:`bool`, :obj:`str` or :class:`~transformers.tokenization_utils_base.PaddingStrategy`, `optional`, defaults to :obj:`True`):\n",
        "            Select a strategy to pad the returned sequences (according to the model's padding side and padding index)\n",
        "            among:\n",
        "            * :obj:`True` or :obj:`'longest'`: Pad to the longest sequence in the batch (or no padding if only a single\n",
        "              sequence if provided).\n",
        "            * :obj:`'max_length'`: Pad to a maximum length specified with the argument :obj:`max_length` or to the\n",
        "              maximum acceptable input length for the model if that argument is not provided.\n",
        "            * :obj:`False` or :obj:`'do_not_pad'` (default): No padding (i.e., can output a batch with sequences of\n",
        "              different lengths).\n",
        "    \"\"\"\n",
        "\n",
        "    processor: Wav2Vec2Processor\n",
        "    padding: Union[bool, str] = True\n",
        "\n",
        "    def __call__(self, features: List[Dict[str, Union[List[int], torch.Tensor]]]) -> Dict[str, torch.Tensor]:\n",
        "        # split inputs and labels since they have to be of different lenghts and need\n",
        "        # different padding methods\n",
        "        input_features = [{\"input_values\": feature[\"input_values\"]} for feature in features]\n",
        "        label_features = [{\"input_ids\": feature[\"labels\"]} for feature in features]\n",
        "\n",
        "        batch = self.processor.pad(\n",
        "            input_features,\n",
        "            padding=self.padding,\n",
        "            return_tensors=\"pt\",\n",
        "        )\n",
        "        with self.processor.as_target_processor():\n",
        "            labels_batch = self.processor.pad(\n",
        "                label_features,\n",
        "                padding=self.padding,\n",
        "                return_tensors=\"pt\",\n",
        "            )\n",
        "\n",
        "        # replace padding with -100 to ignore loss correctly\n",
        "        labels = labels_batch[\"input_ids\"].masked_fill(labels_batch.attention_mask.ne(1), -100)\n",
        "\n",
        "        batch[\"labels\"] = labels\n",
        "\n",
        "        return batch"
      ],
      "execution_count": 31,
      "outputs": []
    },
    {
      "cell_type": "code",
      "metadata": {
        "id": "lbQf5GuZyQ4_"
      },
      "source": [
        "data_collator = DataCollatorCTCWithPadding(processor=processor, padding=True)"
      ],
      "execution_count": 32,
      "outputs": []
    },
    {
      "cell_type": "code",
      "source": [
        "data_collator"
      ],
      "metadata": {
        "colab": {
          "base_uri": "https://localhost:8080/"
        },
        "id": "wFhEDrSgA6uy",
        "outputId": "47be9709-175e-4d66-923e-9b9e67721acf"
      },
      "execution_count": 33,
      "outputs": [
        {
          "output_type": "execute_result",
          "data": {
            "text/plain": [
              "DataCollatorCTCWithPadding(processor=Wav2Vec2Processor:\n",
              "- feature_extractor: Wav2Vec2FeatureExtractor {\n",
              "  \"do_normalize\": true,\n",
              "  \"feature_extractor_type\": \"Wav2Vec2FeatureExtractor\",\n",
              "  \"feature_size\": 1,\n",
              "  \"padding_side\": \"right\",\n",
              "  \"padding_value\": 0.0,\n",
              "  \"return_attention_mask\": false,\n",
              "  \"sampling_rate\": 16000\n",
              "}\n",
              "\n",
              "- tokenizer: Wav2Vec2CTCTokenizer(name_or_path='', vocab_size=30, model_max_length=1000000000000000019884624838656, is_fast=False, padding_side='right', truncation_side='right', special_tokens={'bos_token': '<s>', 'eos_token': '</s>', 'unk_token': '[UNK]', 'pad_token': '[PAD]'}, clean_up_tokenization_spaces=False, added_tokens_decoder={\n",
              "\t28: AddedToken(\"[UNK]\", rstrip=True, lstrip=True, single_word=False, normalized=False, special=False),\n",
              "\t29: AddedToken(\"[PAD]\", rstrip=True, lstrip=True, single_word=False, normalized=False, special=False),\n",
              "\t30: AddedToken(\"<s>\", rstrip=False, lstrip=False, single_word=False, normalized=False, special=True),\n",
              "\t31: AddedToken(\"</s>\", rstrip=False, lstrip=False, single_word=False, normalized=False, special=True),\n",
              "}\n",
              ")\n",
              "\n",
              "{\n",
              "  \"processor_class\": \"Wav2Vec2Processor\"\n",
              "}\n",
              ", padding=True)"
            ]
          },
          "metadata": {},
          "execution_count": 33
        }
      ]
    },
    {
      "cell_type": "markdown",
      "metadata": {
        "id": "xO-Zdj-5cxXp"
      },
      "source": [
        "接下来，定义评估指标。如前所述，ASR 中的主要指标是词错误率 (WER)，因此我们也将在本笔记中使用它。"
      ]
    },
    {
      "cell_type": "code",
      "source": [
        "# https://discuss.huggingface.co/t/cant-import-load-metric-from-datasets/107524/4\n",
        "from datasets import load_metric\n",
        "\n",
        "#import evaluate\n",
        "#load_wer = evaluate.load(\"wer\")\n"
      ],
      "metadata": {
        "id": "wYOyligABTTv"
      },
      "execution_count": 34,
      "outputs": []
    },
    {
      "cell_type": "code",
      "metadata": {
        "id": "9Xsux2gmyXso"
      },
      "source": [
        "wer_metric = load_metric(\"wer\")\n",
        "#wer_metric = load_wer"
      ],
      "execution_count": 35,
      "outputs": []
    },
    {
      "cell_type": "markdown",
      "metadata": {
        "id": "E1qZU5p-deqB"
      },
      "source": [
        "模型将返回一个logit向量序列：\n",
        "$\\mathbf{y}_1, \\ldots, \\mathbf{y}_m$，其中 $\\mathbf{y}_1 = f_{\\theta}(x_1, \\ldots, x_n)[0]$ 且 $n >> m$。\n",
        "\n",
        "一个logit向量 $\\mathbf{y}_1$ 包含我们之前定义的词汇表中每个词的对数几率，因此 $\\text{len}(\\mathbf{y}_i) =$ `config.vocab_size`。我们对模型最可能的预测感兴趣，因此取logits的 `argmax(...)`。此外，我们通过将 `-100` 替换为 `pad_token_id` 并解码ID，同时确保连续的token在CTC风格${}^1$中**不**被分组为相同的token，将编码后的标签转换回原始字符串。"
      ]
    },
    {
      "cell_type": "code",
      "metadata": {
        "id": "1XZ-kjweyTy_"
      },
      "source": [
        "def compute_metrics(pred):\n",
        "    pred_logits = pred.predictions\n",
        "    pred_ids = np.argmax(pred_logits, axis=-1)\n",
        "\n",
        "    pred.label_ids[pred.label_ids == -100] = processor.tokenizer.pad_token_id\n",
        "\n",
        "    pred_str = processor.batch_decode(pred_ids)\n",
        "    # we do not want to group tokens when computing the metrics\n",
        "    label_str = processor.batch_decode(pred.label_ids, group_tokens=False)\n",
        "\n",
        "    wer = wer_metric.compute(predictions=pred_str, references=label_str)\n",
        "\n",
        "    return {\"wer\": wer}"
      ],
      "execution_count": 36,
      "outputs": []
    },
    {
      "cell_type": "markdown",
      "metadata": {
        "id": "Xmgrx4bRwLIH"
      },
      "source": [
        "现在，我们可以加载预训练的 `Wav2Vec2` 检查点。必须使用分词器的 `pad_token_id` 来定义模型的 `pad_token_id`，或者在 `Wav2Vec2ForCTC` 的情况下，也定义 CTC 的 *空白符 token* ${}^2$。为了节省 GPU 内存，我们启用 PyTorch 的[梯度检查点](https://pytorch.org/docs/stable/checkpoint.html)功能，并将损失削减方式设置为“*mean*”。"
      ]
    },
    {
      "cell_type": "code",
      "metadata": {
        "colab": {
          "base_uri": "https://localhost:8080/",
          "height": 170,
          "referenced_widgets": [
            "26136312e0a24010b07c3a8d65512abb",
            "6806d851c81340f2a0a00389747eba62",
            "301ac5695fc0442baf1430503562496f",
            "373ff003f7104680a2993f8ce0f825fb",
            "ed61ef0919dd43a49233bfd95f1cf773",
            "6a1fc47eea21418883d3516882c18d04",
            "b25d89f0d44c4d23b7a54b697939d004",
            "20461e347c6e4dab927c2757050d858d",
            "bdc0ea4b3788421fa99490fd43696089",
            "37babd06a5fc41b79a4ca317d02c18a8",
            "054c45db6c1643f787e435cc91b99c0d",
            "5da27d0d6c0944c68777813cfd457017",
            "ed5abe875d1e4b37902fe69fe0378886",
            "8219349cc830493e9251ea5475477e17",
            "da7cc9798d9940e8876cd54a6df843be",
            "8501ebbcf2424a3caecd3a16ac626397",
            "56aceb595ccc45c08d263f1d7b9bd960",
            "e5f99a8c9a0e4bd3bc99e9b8e638890a",
            "3c5e705c195d4ad688d583eecdc1d731",
            "aad515dd4cdc45ad95840c720bc6a4b3",
            "89d33dcc5e35406eaefc311bbb1e1ab3",
            "caabf14295da46ac8f53967452e6e5e4"
          ]
        },
        "id": "e7cqAWIayn6w",
        "outputId": "11038ed6-c6d6-4923-e758-bd95266e87be"
      },
      "source": [
        "from transformers import Wav2Vec2ForCTC\n",
        "\n",
        "model = Wav2Vec2ForCTC.from_pretrained(\n",
        "    \"facebook/wav2vec2-base\",\n",
        "    ctc_loss_reduction=\"mean\",\n",
        "    pad_token_id=processor.tokenizer.pad_token_id,\n",
        ")"
      ],
      "execution_count": 37,
      "outputs": [
        {
          "output_type": "display_data",
          "data": {
            "text/plain": [
              "config.json: 0.00B [00:00, ?B/s]"
            ],
            "application/vnd.jupyter.widget-view+json": {
              "version_major": 2,
              "version_minor": 0,
              "model_id": "26136312e0a24010b07c3a8d65512abb"
            }
          },
          "metadata": {}
        },
        {
          "output_type": "stream",
          "name": "stderr",
          "text": [
            "/usr/local/lib/python3.11/dist-packages/transformers/configuration_utils.py:309: UserWarning: Passing `gradient_checkpointing` to a config initialization is deprecated and will be removed in v5 Transformers. Using `model.gradient_checkpointing_enable()` instead, or if you are using the `Trainer` API, pass `gradient_checkpointing=True` in your `TrainingArguments`.\n",
            "  warnings.warn(\n"
          ]
        },
        {
          "output_type": "display_data",
          "data": {
            "text/plain": [
              "pytorch_model.bin:   0%|          | 0.00/380M [00:00<?, ?B/s]"
            ],
            "application/vnd.jupyter.widget-view+json": {
              "version_major": 2,
              "version_minor": 0,
              "model_id": "5da27d0d6c0944c68777813cfd457017"
            }
          },
          "metadata": {}
        },
        {
          "output_type": "stream",
          "name": "stderr",
          "text": [
            "Some weights of Wav2Vec2ForCTC were not initialized from the model checkpoint at facebook/wav2vec2-base and are newly initialized: ['lm_head.bias', 'lm_head.weight']\n",
            "You should probably TRAIN this model on a down-stream task to be able to use it for predictions and inference.\n"
          ]
        }
      ]
    },
    {
      "cell_type": "code",
      "source": [
        "model"
      ],
      "metadata": {
        "colab": {
          "base_uri": "https://localhost:8080/"
        },
        "id": "AJhKAKy1EVf8",
        "outputId": "464b8652-befb-44fc-d260-868445973b1a"
      },
      "execution_count": 38,
      "outputs": [
        {
          "output_type": "execute_result",
          "data": {
            "text/plain": [
              "Wav2Vec2ForCTC(\n",
              "  (wav2vec2): Wav2Vec2Model(\n",
              "    (feature_extractor): Wav2Vec2FeatureEncoder(\n",
              "      (conv_layers): ModuleList(\n",
              "        (0): Wav2Vec2GroupNormConvLayer(\n",
              "          (conv): Conv1d(1, 512, kernel_size=(10,), stride=(5,), bias=False)\n",
              "          (activation): GELUActivation()\n",
              "          (layer_norm): GroupNorm(512, 512, eps=1e-05, affine=True)\n",
              "        )\n",
              "        (1-4): 4 x Wav2Vec2NoLayerNormConvLayer(\n",
              "          (conv): Conv1d(512, 512, kernel_size=(3,), stride=(2,), bias=False)\n",
              "          (activation): GELUActivation()\n",
              "        )\n",
              "        (5-6): 2 x Wav2Vec2NoLayerNormConvLayer(\n",
              "          (conv): Conv1d(512, 512, kernel_size=(2,), stride=(2,), bias=False)\n",
              "          (activation): GELUActivation()\n",
              "        )\n",
              "      )\n",
              "    )\n",
              "    (feature_projection): Wav2Vec2FeatureProjection(\n",
              "      (layer_norm): LayerNorm((512,), eps=1e-05, elementwise_affine=True)\n",
              "      (projection): Linear(in_features=512, out_features=768, bias=True)\n",
              "      (dropout): Dropout(p=0.1, inplace=False)\n",
              "    )\n",
              "    (encoder): Wav2Vec2Encoder(\n",
              "      (pos_conv_embed): Wav2Vec2PositionalConvEmbedding(\n",
              "        (conv): ParametrizedConv1d(\n",
              "          768, 768, kernel_size=(128,), stride=(1,), padding=(64,), groups=16\n",
              "          (parametrizations): ModuleDict(\n",
              "            (weight): ParametrizationList(\n",
              "              (0): _WeightNorm()\n",
              "            )\n",
              "          )\n",
              "        )\n",
              "        (padding): Wav2Vec2SamePadLayer()\n",
              "        (activation): GELUActivation()\n",
              "      )\n",
              "      (layer_norm): LayerNorm((768,), eps=1e-05, elementwise_affine=True)\n",
              "      (dropout): Dropout(p=0.1, inplace=False)\n",
              "      (layers): ModuleList(\n",
              "        (0-11): 12 x Wav2Vec2EncoderLayer(\n",
              "          (attention): Wav2Vec2Attention(\n",
              "            (k_proj): Linear(in_features=768, out_features=768, bias=True)\n",
              "            (v_proj): Linear(in_features=768, out_features=768, bias=True)\n",
              "            (q_proj): Linear(in_features=768, out_features=768, bias=True)\n",
              "            (out_proj): Linear(in_features=768, out_features=768, bias=True)\n",
              "          )\n",
              "          (dropout): Dropout(p=0.1, inplace=False)\n",
              "          (layer_norm): LayerNorm((768,), eps=1e-05, elementwise_affine=True)\n",
              "          (feed_forward): Wav2Vec2FeedForward(\n",
              "            (intermediate_dropout): Dropout(p=0.0, inplace=False)\n",
              "            (intermediate_dense): Linear(in_features=768, out_features=3072, bias=True)\n",
              "            (intermediate_act_fn): GELUActivation()\n",
              "            (output_dense): Linear(in_features=3072, out_features=768, bias=True)\n",
              "            (output_dropout): Dropout(p=0.1, inplace=False)\n",
              "          )\n",
              "          (final_layer_norm): LayerNorm((768,), eps=1e-05, elementwise_affine=True)\n",
              "        )\n",
              "      )\n",
              "    )\n",
              "  )\n",
              "  (dropout): Dropout(p=0.0, inplace=False)\n",
              "  (lm_head): Linear(in_features=768, out_features=32, bias=True)\n",
              ")"
            ]
          },
          "metadata": {},
          "execution_count": 38
        }
      ]
    },
    {
      "cell_type": "code",
      "source": [
        "total_params = sum(p.numel() for p in model.parameters())\n",
        "trainable_params = sum(p.numel() for p in model.parameters() if p.requires_grad)\n",
        "print(f\"Total parameters: {total_params:,}\")\n",
        "print(f\"Trainable parameters: {trainable_params:,}\")"
      ],
      "metadata": {
        "colab": {
          "base_uri": "https://localhost:8080/"
        },
        "id": "SG3i2Tc3EY8e",
        "outputId": "dd306ce3-c973-43dd-b19e-ea7e0d054f76"
      },
      "execution_count": 40,
      "outputs": [
        {
          "output_type": "stream",
          "name": "stdout",
          "text": [
            "Total parameters: 94,396,320\n",
            "Trainable parameters: 94,396,320\n"
          ]
        }
      ]
    },
    {
      "cell_type": "markdown",
      "metadata": {
        "id": "1DwR3XLSzGDD"
      },
      "source": [
        "Wav2Vec2 的第一个组成部分由一堆 CNN 层组成，这些层用于从原始语音信号中提取具有声学意义但上下文独立的特征。模型的这一部分在预训练期间已经得到了充分的训练，并且正如[论文](https://arxiv.org/abs/2006.11477)中所述，不再需要进行微调。\n",
        "因此，我们可以将*特征提取*部分的所有参数的 `requires_grad` 设置为 `False`。"
      ]
    },
    {
      "cell_type": "code",
      "source": [
        "model.freeze_feature_encoder()"
      ],
      "metadata": {
        "id": "Et_NUAZjWppc"
      },
      "execution_count": 41,
      "outputs": []
    },
    {
      "cell_type": "markdown",
      "metadata": {
        "id": "lD4aGhQM0K-D"
      },
      "source": [
        "最后一步，我们定义所有与训练相关的参数。\n",
        "对其中一些参数进行更多解释：\n",
        "* `group_by_length` 通过将输入长度相似的训练样本分批处理，使训练更高效。这可以显著加快训练时间，因为它大大减少了通过模型传递的无用填充 token 的总数。\n",
        "* `learning_rate` 和 `weight_decay` 经过启发式调整，直到微调变得稳定。请注意，这些参数强烈依赖于 Timit 数据集，并且可能对其他语音数据集来说不是最优的。\n",
        "\n",
        "有关其他参数的更多解释，可以查看[文档](https://huggingface.co/transformers/master/main_classes/trainer.html?highlight=trainer#trainingarguments)。\n",
        "\n",
        "在训练期间，每 400 个训练步骤会异步上传一个检查点到 Hugging Face Hub。这使得您即使在模型仍在训练时，也可以使用演示小部件进行尝试。\n",
        "\n",
        "**注意**：如果不想将模型检查点上传到 Hub，只需将 `push_to_hub=False`。"
      ]
    },
    {
      "cell_type": "code",
      "metadata": {
        "id": "KbeKSV7uzGPP"
      },
      "source": [
        "from transformers import TrainingArguments\n",
        "from transformers.trainer_utils import IntervalStrategy\n",
        "\n",
        "training_args = TrainingArguments(\n",
        "  output_dir=repo_name,\n",
        "  group_by_length=True,\n",
        "  per_device_train_batch_size=64,\n",
        "  #evaluation_strategy=\"steps\",\n",
        "  eval_strategy=IntervalStrategy.STEPS,\n",
        "  num_train_epochs=30,\n",
        "  fp16=True,\n",
        "  gradient_checkpointing=True,\n",
        "  save_steps=500,\n",
        "  eval_steps=500,\n",
        "  logging_steps=500,\n",
        "  learning_rate=1e-4,\n",
        "  weight_decay=0.005,\n",
        "  warmup_steps=1000,\n",
        "  save_total_limit=2,\n",
        ")"
      ],
      "execution_count": 49,
      "outputs": []
    },
    {
      "cell_type": "code",
      "source": [
        "training_args"
      ],
      "metadata": {
        "colab": {
          "base_uri": "https://localhost:8080/"
        },
        "id": "VqszlKRqIPHp",
        "outputId": "e32a1557-2e5b-4a35-eada-d3c650f8e558"
      },
      "execution_count": 50,
      "outputs": [
        {
          "output_type": "execute_result",
          "data": {
            "text/plain": [
              "TrainingArguments(\n",
              "_n_gpu=1,\n",
              "accelerator_config={'split_batches': False, 'dispatch_batches': None, 'even_batches': True, 'use_seedable_sampler': True, 'non_blocking': False, 'gradient_accumulation_kwargs': None, 'use_configured_state': False},\n",
              "adafactor=False,\n",
              "adam_beta1=0.9,\n",
              "adam_beta2=0.999,\n",
              "adam_epsilon=1e-08,\n",
              "auto_find_batch_size=False,\n",
              "average_tokens_across_devices=False,\n",
              "batch_eval_metrics=False,\n",
              "bf16=False,\n",
              "bf16_full_eval=False,\n",
              "data_seed=None,\n",
              "dataloader_drop_last=False,\n",
              "dataloader_num_workers=0,\n",
              "dataloader_persistent_workers=False,\n",
              "dataloader_pin_memory=True,\n",
              "dataloader_prefetch_factor=None,\n",
              "ddp_backend=None,\n",
              "ddp_broadcast_buffers=None,\n",
              "ddp_bucket_cap_mb=None,\n",
              "ddp_find_unused_parameters=None,\n",
              "ddp_timeout=1800,\n",
              "debug=[],\n",
              "deepspeed=None,\n",
              "disable_tqdm=False,\n",
              "do_eval=True,\n",
              "do_predict=False,\n",
              "do_train=False,\n",
              "eval_accumulation_steps=None,\n",
              "eval_delay=0,\n",
              "eval_do_concat_batches=True,\n",
              "eval_on_start=False,\n",
              "eval_steps=500,\n",
              "eval_strategy=IntervalStrategy.STEPS,\n",
              "eval_use_gather_object=False,\n",
              "fp16=True,\n",
              "fp16_backend=auto,\n",
              "fp16_full_eval=False,\n",
              "fp16_opt_level=O1,\n",
              "fsdp=[],\n",
              "fsdp_config={'min_num_params': 0, 'xla': False, 'xla_fsdp_v2': False, 'xla_fsdp_grad_ckpt': False},\n",
              "fsdp_min_num_params=0,\n",
              "fsdp_transformer_layer_cls_to_wrap=None,\n",
              "full_determinism=False,\n",
              "gradient_accumulation_steps=1,\n",
              "gradient_checkpointing=True,\n",
              "gradient_checkpointing_kwargs=None,\n",
              "greater_is_better=None,\n",
              "group_by_length=True,\n",
              "half_precision_backend=auto,\n",
              "hub_always_push=False,\n",
              "hub_model_id=None,\n",
              "hub_private_repo=None,\n",
              "hub_revision=None,\n",
              "hub_strategy=HubStrategy.EVERY_SAVE,\n",
              "hub_token=<HUB_TOKEN>,\n",
              "ignore_data_skip=False,\n",
              "include_for_metrics=[],\n",
              "include_inputs_for_metrics=False,\n",
              "include_num_input_tokens_seen=False,\n",
              "include_tokens_per_second=False,\n",
              "jit_mode_eval=False,\n",
              "label_names=None,\n",
              "label_smoothing_factor=0.0,\n",
              "learning_rate=0.0001,\n",
              "length_column_name=length,\n",
              "liger_kernel_config=None,\n",
              "load_best_model_at_end=False,\n",
              "local_rank=0,\n",
              "log_level=passive,\n",
              "log_level_replica=warning,\n",
              "log_on_each_node=True,\n",
              "logging_dir=wav2vec2-base-timit-demo-google-colab/runs/Jul24_11-27-14_feddc1943175,\n",
              "logging_first_step=False,\n",
              "logging_nan_inf_filter=True,\n",
              "logging_steps=500,\n",
              "logging_strategy=IntervalStrategy.STEPS,\n",
              "lr_scheduler_kwargs={},\n",
              "lr_scheduler_type=SchedulerType.LINEAR,\n",
              "max_grad_norm=1.0,\n",
              "max_steps=-1,\n",
              "metric_for_best_model=None,\n",
              "mp_parameters=,\n",
              "neftune_noise_alpha=None,\n",
              "no_cuda=False,\n",
              "num_train_epochs=30,\n",
              "optim=OptimizerNames.ADAMW_TORCH,\n",
              "optim_args=None,\n",
              "optim_target_modules=None,\n",
              "output_dir=wav2vec2-base-timit-demo-google-colab,\n",
              "overwrite_output_dir=False,\n",
              "past_index=-1,\n",
              "per_device_eval_batch_size=8,\n",
              "per_device_train_batch_size=32,\n",
              "prediction_loss_only=False,\n",
              "push_to_hub=False,\n",
              "push_to_hub_model_id=None,\n",
              "push_to_hub_organization=None,\n",
              "push_to_hub_token=<PUSH_TO_HUB_TOKEN>,\n",
              "ray_scope=last,\n",
              "remove_unused_columns=True,\n",
              "report_to=['tensorboard', 'wandb'],\n",
              "restore_callback_states_from_checkpoint=False,\n",
              "resume_from_checkpoint=None,\n",
              "run_name=wav2vec2-base-timit-demo-google-colab,\n",
              "save_on_each_node=False,\n",
              "save_only_model=False,\n",
              "save_safetensors=True,\n",
              "save_steps=500,\n",
              "save_strategy=SaveStrategy.STEPS,\n",
              "save_total_limit=2,\n",
              "seed=42,\n",
              "skip_memory_metrics=True,\n",
              "tf32=None,\n",
              "torch_compile=False,\n",
              "torch_compile_backend=None,\n",
              "torch_compile_mode=None,\n",
              "torch_empty_cache_steps=None,\n",
              "torchdynamo=None,\n",
              "tpu_metrics_debug=False,\n",
              "tpu_num_cores=None,\n",
              "use_cpu=False,\n",
              "use_ipex=False,\n",
              "use_legacy_prediction_loop=False,\n",
              "use_liger_kernel=False,\n",
              "use_mps_device=False,\n",
              "warmup_ratio=0.0,\n",
              "warmup_steps=1000,\n",
              "weight_decay=0.005,\n",
              ")"
            ]
          },
          "metadata": {},
          "execution_count": 50
        }
      ]
    },
    {
      "cell_type": "markdown",
      "metadata": {
        "id": "OsW-WZcL1ZtN"
      },
      "source": [
        "现在，所有实例都可以传递给 `Trainer`，我们准备好开始训练了！"
      ]
    },
    {
      "cell_type": "code",
      "metadata": {
        "id": "rY7vBmFCPFgC",
        "colab": {
          "base_uri": "https://localhost:8080/"
        },
        "outputId": "d43ba7e3-081c-459f-aba3-d979401569bc"
      },
      "source": [
        "from transformers import Trainer\n",
        "\n",
        "trainer = Trainer(\n",
        "    model=model,\n",
        "    data_collator=data_collator,\n",
        "    args=training_args,\n",
        "    compute_metrics=compute_metrics,\n",
        "    train_dataset=timit[\"train\"],\n",
        "    eval_dataset=timit[\"test\"],\n",
        "    tokenizer=processor.feature_extractor,\n",
        ")"
      ],
      "execution_count": 51,
      "outputs": [
        {
          "output_type": "stream",
          "name": "stderr",
          "text": [
            "/tmp/ipython-input-51-3784996474.py:3: FutureWarning: `tokenizer` is deprecated and will be removed in version 5.0.0 for `Trainer.__init__`. Use `processing_class` instead.\n",
            "  trainer = Trainer(\n"
          ]
        }
      ]
    },
    {
      "cell_type": "code",
      "source": [
        "trainer"
      ],
      "metadata": {
        "colab": {
          "base_uri": "https://localhost:8080/"
        },
        "id": "nX3XQek4IKqZ",
        "outputId": "0a324d0d-8935-4b53-b779-b4eb97e14bb2"
      },
      "execution_count": 52,
      "outputs": [
        {
          "output_type": "execute_result",
          "data": {
            "text/plain": [
              "<transformers.trainer.Trainer at 0x791613f46b50>"
            ]
          },
          "metadata": {},
          "execution_count": 52
        }
      ]
    },
    {
      "cell_type": "markdown",
      "metadata": {
        "id": "UoXBx1JAA0DX"
      },
      "source": [
        "---\n",
        "\n",
        "${}^1$ 为了使模型能够独立于说话者的语速，在 CTC 中，连续相同的标记会被简单地归为一个单一标记。然而，在解码时，编码后的标签不应该被分组，因为它们不对应于模型的预测标记，这就是为什么必须传递 `group_tokens=False` 参数。如果我们不传递这个参数，像“hello”这样的词将被错误地编码并解码为“helo”。\n",
        "\n",
        "${}^2$ 空白标记允许模型通过强制在两个“l”之间插入空白标记来预测一个词，例如“hello”。我们的模型对“hello”的 CTC 一致性预测将是 `[PAD] [PAD] \"h\" \"e\" \"e\" \"l\" \"l\" [PAD] \"l\" \"o\" \"o\" [PAD]`。"
      ]
    },
    {
      "cell_type": "markdown",
      "metadata": {
        "id": "rpvZHM1xReIW"
      },
      "source": [
        "### Training"
      ]
    },
    {
      "cell_type": "markdown",
      "metadata": {
        "id": "j-3oKSzZ1hGq"
      },
      "source": [
        "训练将花费 90 到 270 分钟，具体取决于分配给此 notebook 的 GPU。虽然训练后的模型在 *Timit* 的测试数据上取得了令人满意的结果，但它绝不是一个经过最佳微调的模型。本 notebook 的目的是演示如何对 Wav2Vec2 的 [base](https://huggingface.co/facebook/wav2vec2-base)、[large](https://huggingface.co/facebook/wav2vec2-large) 和 [large-lv60](https://huggingface.co/facebook/wav2vec2-large-lv60) 检查点在任何英语数据集上进行微调。\n",
        "\n",
        "如果您想使用此 Google Colab 来微调您的模型，您应该确保您的训练不会因不活动而停止。一个简单的防止方法是将以下代码粘贴到此标签的控制台（*右键点击 -> 检查 -> 控制台标签并插入代码*）。"
      ]
    },
    {
      "cell_type": "markdown",
      "metadata": {
        "id": "VYYAvgkW4P0m"
      },
      "source": [
        "```javascript\n",
        "function ConnectButton(){\n",
        "    console.log(\"Connect pushed\");\n",
        "    document.querySelector(\"#top-toolbar > colab-connect-button\").shadowRoot.querySelector(\"#connect\").click()\n",
        "}\n",
        "setInterval(ConnectButton,60000);\n",
        "```"
      ]
    },
    {
      "cell_type": "markdown",
      "metadata": {
        "id": "PmY6yqd1zvzU"
      },
      "source": [
        "根据分配给您 Google Colab 的 GPU，您可能会在这里看到一个“out-of-memory”错误。在这种情况下，最好的办法可能是将 `per_device_train_batch_size` 减少到 16 甚至更小，并最终使用 [`gradient_accumulation`](https://huggingface.co/transformers/master/main_classes/trainer.html#trainingarguments)。"
      ]
    },
    {
      "cell_type": "code",
      "metadata": {
        "colab": {
          "base_uri": "https://localhost:8080/",
          "height": 905
        },
        "id": "_UEjJqGsQw24",
        "outputId": "df4b43b4-9d91-437a-f4bf-616c1ca48659"
      },
      "source": [
        "trainer.train()"
      ],
      "execution_count": 53,
      "outputs": [
        {
          "output_type": "stream",
          "name": "stderr",
          "text": [
            "/usr/local/lib/python3.11/dist-packages/transformers/models/wav2vec2/processing_wav2vec2.py:170: UserWarning: `as_target_processor` is deprecated and will be removed in v5 of Transformers. You can process your labels by using the argument `text` of the regular `__call__` method (either in the same call as your audio inputs, or in a separate call.\n",
            "  warnings.warn(\n",
            "/usr/local/lib/python3.11/dist-packages/torch/utils/checkpoint.py:87: UserWarning: None of the inputs have requires_grad=True. Gradients will be None\n",
            "  warnings.warn(\n"
          ]
        },
        {
          "output_type": "display_data",
          "data": {
            "text/plain": [
              "<IPython.core.display.HTML object>"
            ],
            "text/html": [
              "\n",
              "    <div>\n",
              "      \n",
              "      <progress value='3750' max='3750' style='width:300px; height:20px; vertical-align: middle;'></progress>\n",
              "      [3750/3750 1:06:52, Epoch 30/30]\n",
              "    </div>\n",
              "    <table border=\"1\" class=\"dataframe\">\n",
              "  <thead>\n",
              " <tr style=\"text-align: left;\">\n",
              "      <th>Step</th>\n",
              "      <th>Training Loss</th>\n",
              "      <th>Validation Loss</th>\n",
              "      <th>Wer</th>\n",
              "    </tr>\n",
              "  </thead>\n",
              "  <tbody>\n",
              "    <tr>\n",
              "      <td>500</td>\n",
              "      <td>0.218200</td>\n",
              "      <td>0.372721</td>\n",
              "      <td>0.382055</td>\n",
              "    </tr>\n",
              "    <tr>\n",
              "      <td>1000</td>\n",
              "      <td>0.135200</td>\n",
              "      <td>0.407869</td>\n",
              "      <td>0.381779</td>\n",
              "    </tr>\n",
              "    <tr>\n",
              "      <td>1500</td>\n",
              "      <td>0.099200</td>\n",
              "      <td>0.438048</td>\n",
              "      <td>0.357866</td>\n",
              "    </tr>\n",
              "    <tr>\n",
              "      <td>2000</td>\n",
              "      <td>0.070000</td>\n",
              "      <td>0.460096</td>\n",
              "      <td>0.346565</td>\n",
              "    </tr>\n",
              "    <tr>\n",
              "      <td>2500</td>\n",
              "      <td>0.051400</td>\n",
              "      <td>0.437691</td>\n",
              "      <td>0.340845</td>\n",
              "    </tr>\n",
              "    <tr>\n",
              "      <td>3000</td>\n",
              "      <td>0.036300</td>\n",
              "      <td>0.446382</td>\n",
              "      <td>0.336848</td>\n",
              "    </tr>\n",
              "    <tr>\n",
              "      <td>3500</td>\n",
              "      <td>0.029500</td>\n",
              "      <td>0.457242</td>\n",
              "      <td>0.331955</td>\n",
              "    </tr>\n",
              "  </tbody>\n",
              "</table><p>"
            ]
          },
          "metadata": {}
        },
        {
          "output_type": "stream",
          "name": "stderr",
          "text": [
            "/usr/local/lib/python3.11/dist-packages/transformers/models/wav2vec2/processing_wav2vec2.py:170: UserWarning: `as_target_processor` is deprecated and will be removed in v5 of Transformers. You can process your labels by using the argument `text` of the regular `__call__` method (either in the same call as your audio inputs, or in a separate call.\n",
            "  warnings.warn(\n",
            "/usr/local/lib/python3.11/dist-packages/torch/utils/checkpoint.py:87: UserWarning: None of the inputs have requires_grad=True. Gradients will be None\n",
            "  warnings.warn(\n",
            "/usr/local/lib/python3.11/dist-packages/transformers/models/wav2vec2/processing_wav2vec2.py:170: UserWarning: `as_target_processor` is deprecated and will be removed in v5 of Transformers. You can process your labels by using the argument `text` of the regular `__call__` method (either in the same call as your audio inputs, or in a separate call.\n",
            "  warnings.warn(\n",
            "/usr/local/lib/python3.11/dist-packages/torch/utils/checkpoint.py:87: UserWarning: None of the inputs have requires_grad=True. Gradients will be None\n",
            "  warnings.warn(\n",
            "/usr/local/lib/python3.11/dist-packages/transformers/models/wav2vec2/processing_wav2vec2.py:170: UserWarning: `as_target_processor` is deprecated and will be removed in v5 of Transformers. You can process your labels by using the argument `text` of the regular `__call__` method (either in the same call as your audio inputs, or in a separate call.\n",
            "  warnings.warn(\n",
            "/usr/local/lib/python3.11/dist-packages/torch/utils/checkpoint.py:87: UserWarning: None of the inputs have requires_grad=True. Gradients will be None\n",
            "  warnings.warn(\n",
            "/usr/local/lib/python3.11/dist-packages/transformers/models/wav2vec2/processing_wav2vec2.py:170: UserWarning: `as_target_processor` is deprecated and will be removed in v5 of Transformers. You can process your labels by using the argument `text` of the regular `__call__` method (either in the same call as your audio inputs, or in a separate call.\n",
            "  warnings.warn(\n",
            "/usr/local/lib/python3.11/dist-packages/torch/utils/checkpoint.py:87: UserWarning: None of the inputs have requires_grad=True. Gradients will be None\n",
            "  warnings.warn(\n",
            "/usr/local/lib/python3.11/dist-packages/transformers/models/wav2vec2/processing_wav2vec2.py:170: UserWarning: `as_target_processor` is deprecated and will be removed in v5 of Transformers. You can process your labels by using the argument `text` of the regular `__call__` method (either in the same call as your audio inputs, or in a separate call.\n",
            "  warnings.warn(\n",
            "/usr/local/lib/python3.11/dist-packages/torch/utils/checkpoint.py:87: UserWarning: None of the inputs have requires_grad=True. Gradients will be None\n",
            "  warnings.warn(\n",
            "/usr/local/lib/python3.11/dist-packages/transformers/models/wav2vec2/processing_wav2vec2.py:170: UserWarning: `as_target_processor` is deprecated and will be removed in v5 of Transformers. You can process your labels by using the argument `text` of the regular `__call__` method (either in the same call as your audio inputs, or in a separate call.\n",
            "  warnings.warn(\n",
            "/usr/local/lib/python3.11/dist-packages/torch/utils/checkpoint.py:87: UserWarning: None of the inputs have requires_grad=True. Gradients will be None\n",
            "  warnings.warn(\n",
            "/usr/local/lib/python3.11/dist-packages/transformers/models/wav2vec2/processing_wav2vec2.py:170: UserWarning: `as_target_processor` is deprecated and will be removed in v5 of Transformers. You can process your labels by using the argument `text` of the regular `__call__` method (either in the same call as your audio inputs, or in a separate call.\n",
            "  warnings.warn(\n",
            "/usr/local/lib/python3.11/dist-packages/torch/utils/checkpoint.py:87: UserWarning: None of the inputs have requires_grad=True. Gradients will be None\n",
            "  warnings.warn(\n"
          ]
        },
        {
          "output_type": "execute_result",
          "data": {
            "text/plain": [
              "TrainOutput(global_step=3750, training_loss=0.08702826194763183, metrics={'train_runtime': 4015.0043, 'train_samples_per_second': 29.724, 'train_steps_per_second': 0.934, 'total_flos': 3.0988662117946327e+18, 'train_loss': 0.08702826194763183, 'epoch': 30.0})"
            ]
          },
          "metadata": {},
          "execution_count": 53
        }
      ]
    },
    {
      "cell_type": "markdown",
      "metadata": {
        "id": "UCyp-v3n4Zlt"
      },
      "source": [
        "最终的词错误率 (WER) 应该在 0.3 左右，这是一个合理的数值，因为目前最先进的音素错误率 (PER) 略低于 0.1（参见[排行榜](https://paperswithcode.com/sota/speech-recognition-on-timit)），而且 WER 通常比 PER 更差。\n",
        "\n",
        "您现在可以将训练结果上传到 Hub，只需执行以下指令："
      ]
    },
    {
      "cell_type": "code",
      "metadata": {
        "colab": {
          "base_uri": "https://localhost:8080/",
          "height": 246,
          "referenced_widgets": [
            "b7fa3752029443cf9a268c2ddab636c5",
            "57f73af9c23d4328b396770b6ad3f905",
            "1b0697e6163f4741adbf294ba61f1fe4",
            "b1e08a7e3de34668b1b6cc4949d3722b",
            "1569585474124febbf88113b5df40508",
            "5b1dc6049f66443ba424cc6d30abc060",
            "44aef4ccd559404d8415084838627206",
            "e19d4f3f07fd43ba9e86616cb29100c8",
            "b2209e73a5b748219c7b195c7d982125",
            "6ff7ab11b20f4987a3d4fcce75a07474",
            "7daf6ca32da44d869f328b08b9c95e4d",
            "ef76882e9a9d499f9ad5cc6ff61b37fd",
            "e76383544c9945e89a94c00a6ecaee5b",
            "18c95f0b3257410fbeee81da50831dad",
            "0ba13760796b48028f2eb11f429cd161",
            "c5f16012d80c48bda01bb3c5fb7ebca5",
            "ca460cd8e2074bba91f025429bdf1d80",
            "250a1941fb6b414fb5f733613cb1ac6a",
            "5ab0bef7edd94bb9a8b9756c3a40b6f2",
            "cc5f8e19baac47f4a29a4fd1f56531b0",
            "407cc8b24b91426e99bf1ecdf28e12d8",
            "ef8e5be8c3d2486684e2ad152f5023ca",
            "3b6f74e02b8f4c6cb1966f8f36b69c5d",
            "6910fc081bae4a6284b5fd97e59b5178",
            "e376013cc2204ebba6fa34f7d5728974",
            "6c16eb2c8e8e4dc7b91d665b5a4c96d2",
            "78fff463d28841aeab0f4431e9822ec3",
            "d1d53659bf914321bbfdb89c18377e0f",
            "9912619a8ed54c7f889a923eba1037be",
            "939f3b5dca044744988645592d19da8d",
            "24037fff492d44d58e60547364e9a77a",
            "4558f965eaf34b66aff1142fe1b6b22a",
            "f554db7d003c4ae9877f075c06a5a622",
            "4a5268c689964eebba7bdd63e75a838a",
            "67176dd170c9418980b2e9249e188774",
            "e4019e34d3424a828a12fc19a277d553",
            "1e38a276ef1f47edba237ea10f49c66b",
            "b931b6a541e24d56afbbc0f1219620bb",
            "b07a8f84dabb4505a7dc6f795a5ffe1f",
            "6b9265e401614e89abb44c309829c443",
            "f02561fd6eed41b29364ffa923d1df62",
            "bdd1b18b0a7449b28bafb5bfe8831a86",
            "cd98dead78a14cbc892bdece386d032f",
            "1b8e7ab69b5d46628d27c268a8571d42",
            "6ba66a06b71d4051b2e6deb30fba5912",
            "e60f60c736a94103a0b98d321d7045b7",
            "e75ec61977704d5eb1f5dea2e0da22e9",
            "e70f1e09f967425ca04f00ad2a15df64",
            "bb944bca1c994cc7ad20ae2d754324e6",
            "6a99030f5ca14446ac602bc54b7e2818",
            "a814bf75497f482983861f270d8632ec",
            "65f2da4b94ab4ca6bb109dd34ed6c95c",
            "2cac2b31ca56401bb1b38515ef7325d7",
            "b344c5134747499e951cefbb40376fea",
            "113b28d8b2954d8db0c62cf126d41865"
          ]
        },
        "id": "JYGQYBhHNsvj",
        "outputId": "64474b62-25ec-4517-b544-610d8ecf273e"
      },
      "source": [
        "trainer.push_to_hub()"
      ],
      "execution_count": 54,
      "outputs": [
        {
          "output_type": "display_data",
          "data": {
            "text/plain": [
              "training_args.bin:   0%|          | 0.00/5.37k [00:00<?, ?B/s]"
            ],
            "application/vnd.jupyter.widget-view+json": {
              "version_major": 2,
              "version_minor": 0,
              "model_id": "b7fa3752029443cf9a268c2ddab636c5"
            }
          },
          "metadata": {}
        },
        {
          "output_type": "display_data",
          "data": {
            "text/plain": [
              "model.safetensors:   0%|          | 0.00/378M [00:00<?, ?B/s]"
            ],
            "application/vnd.jupyter.widget-view+json": {
              "version_major": 2,
              "version_minor": 0,
              "model_id": "ef76882e9a9d499f9ad5cc6ff61b37fd"
            }
          },
          "metadata": {}
        },
        {
          "output_type": "display_data",
          "data": {
            "text/plain": [
              "Upload 4 LFS files:   0%|          | 0/4 [00:00<?, ?it/s]"
            ],
            "application/vnd.jupyter.widget-view+json": {
              "version_major": 2,
              "version_minor": 0,
              "model_id": "3b6f74e02b8f4c6cb1966f8f36b69c5d"
            }
          },
          "metadata": {}
        },
        {
          "output_type": "display_data",
          "data": {
            "text/plain": [
              "events.out.tfevents.1753355642.feddc1943175.56468.0:   0%|          | 0.00/8.32k [00:00<?, ?B/s]"
            ],
            "application/vnd.jupyter.widget-view+json": {
              "version_major": 2,
              "version_minor": 0,
              "model_id": "4a5268c689964eebba7bdd63e75a838a"
            }
          },
          "metadata": {}
        },
        {
          "output_type": "display_data",
          "data": {
            "text/plain": [
              "events.out.tfevents.1753356539.feddc1943175.56468.1:   0%|          | 0.00/10.8k [00:00<?, ?B/s]"
            ],
            "application/vnd.jupyter.widget-view+json": {
              "version_major": 2,
              "version_minor": 0,
              "model_id": "6ba66a06b71d4051b2e6deb30fba5912"
            }
          },
          "metadata": {}
        },
        {
          "output_type": "execute_result",
          "data": {
            "text/plain": [
              "CommitInfo(commit_url='https://huggingface.co/weege007/wav2vec2-base-timit-demo-google-colab/commit/c2dbb8bdf910a7aeb39b558cfb5d3c7f33c3535d', commit_message='End of training', commit_description='', oid='c2dbb8bdf910a7aeb39b558cfb5d3c7f33c3535d', pr_url=None, repo_url=RepoUrl('https://huggingface.co/weege007/wav2vec2-base-timit-demo-google-colab', endpoint='https://huggingface.co', repo_type='model', repo_id='weege007/wav2vec2-base-timit-demo-google-colab'), pr_revision=None, pr_num=None)"
            ],
            "application/vnd.google.colaboratory.intrinsic+json": {
              "type": "string"
            }
          },
          "metadata": {},
          "execution_count": 54
        }
      ]
    },
    {
      "cell_type": "markdown",
      "metadata": {
        "id": "djzwS5WeNu16"
      },
      "source": [
        "\n",
        "现在，您可以与所有的朋友、家人、心爱的宠物分享这个模型了：他们都可以使用标识符“your-username/the-name-you-picked”来加载它，例如："
      ]
    },
    {
      "cell_type": "markdown",
      "metadata": {
        "id": "Adm0LngNNxq7"
      },
      "source": [
        "```python\n",
        "from transformers import AutoModelForCTC, Wav2Vec2Processor\n",
        "\n",
        "model = AutoModelForCTC.from_pretrained(\"weege007/wav2vec2-base-timit-demo-google-colab\")\n",
        "processor = Wav2Vec2Processor.from_pretrained(\"weege007/wav2vec2-base-timit-demo-google-colab\")\n",
        "```"
      ]
    },
    {
      "cell_type": "markdown",
      "metadata": {
        "id": "nD4XP5IHncsY"
      },
      "source": [
        "### 评估\n",
        "\n",
        "在最后一部分，我们将在一些验证数据上运行我们的模型，以了解其效果如何。\n",
        "\n",
        "让我们加载 `processor` 和 `model`。"
      ]
    },
    {
      "cell_type": "code",
      "metadata": {
        "id": "-rg0USDCnbo6",
        "colab": {
          "base_uri": "https://localhost:8080/",
          "height": 177,
          "referenced_widgets": [
            "2b83b044142c428b85ad5e1676a506e6",
            "b3fb8d88d1f94936871c86be89a6d6c0",
            "701b5ddd8343435b9653f126b89d247f",
            "75a0128a45a24cb8bf2107ddfe91c11e",
            "0118f0f0879c4f2ca5f2f8e9cfc96c2b",
            "f84b616a8751440d9830e109cf8fd7c9",
            "4b7e4741ded74ea18ff49ee1b5a93b29",
            "355a37ee0f5644c2b81f91500675c8b7",
            "8aff4c3db5594132878640d2b5c45848",
            "5e0dfc87f5164b8f864084535c216543",
            "3fd8d58f23534ef08f35c9087b57233c",
            "1502044711494ef187b9b33918446bd9",
            "66c826c682544e67b29fd5d850a86765",
            "56f6c88535dd4bfcaf4ea859067cf70c",
            "1d0f6a5086074a06a07330e58fef0b9d",
            "e151ca86c145452ba00d1b7ed6fb699b",
            "56e11f8db7234b029fdeabeff610c25a",
            "2140f9239a334432a462397a34a21135",
            "1d1d16639c4b498798de10c6c17ff551",
            "981749b431904596a312556557084480",
            "ecd58e5d99004cc8a10e65953452df47",
            "d87d72bad2da4c4e9065affbfcce0f4d",
            "1f1ed46cdfcf419b87873d002ad79a0c",
            "b5d245288d1f419f89f5f1fd9f8dc9c0",
            "fb2690784abe43ae84f644a6186f0a46",
            "dbb452e676ef468da641d250406bbf5f",
            "14bbb7f42bfe4495b70a206fe0ec0d1a",
            "fbb02415958145efbf1444b3e0d51a7e",
            "56a817c37ce34bf5a578f3ab74cec0d4",
            "b25feba6819a4332a23cb50774e7ada0",
            "eb9ccfd0dcc94fb38d96f4b5b6c6abaf",
            "22784907a0cd4cafb3beb4afd38b0563",
            "9e56511a2b584ed7a81ac1f5c0dccbee",
            "b6b3e80472864596a0cda5024076a353",
            "0a6535d7bacd4d55bbc2bee0ec2a6ddf",
            "9fc3aef32fdf480083b85bcc49bccaaa",
            "0dc54e9a6da8403bb947dad3a058d151",
            "aaac36fbb71d4f5ba622da3a3e0ddaa7",
            "c934f2dcd3c04f2d833eefc383a8d340",
            "1261d4ac84ba419796772d9216e6645e",
            "1796751053104cb3a63ae87712911c19",
            "a09be20768ca4b7fa104b06972dee054",
            "bc9c78fe44bd4f3e8571e455eaf61517",
            "ca15b005066946338870958260e220f5",
            "8cc8975f26fc4a9d8c113954fde51f29",
            "cd290df8373b4ef4bbb8ba517474ce97",
            "0f7a68b45312458a910443fa7a8577ee",
            "b1897d8c3bf94629ae463369d2862bc6",
            "a74d21d16bb84f02b1eea0977b9b73d7",
            "1e33f1b9bcb54222b6c61611ebda587c",
            "45dbb2464511451193be1a1d14223189",
            "184e6b4e8da54f93bb7a4aac9b231279",
            "4f51c81ef191458cafdae691eed54203",
            "515c54945a4c4b7782a29d1b25b81f37",
            "1582acfd0db74347898c871e05fad7fc"
          ]
        },
        "outputId": "d67b669e-28c5-4eb5-be15-6d85e6c8907b"
      },
      "source": [
        "processor = Wav2Vec2Processor.from_pretrained(\"weege007/wav2vec2-base-timit-demo-google-colab\")"
      ],
      "execution_count": 56,
      "outputs": [
        {
          "output_type": "display_data",
          "data": {
            "text/plain": [
              "preprocessor_config.json:   0%|          | 0.00/215 [00:00<?, ?B/s]"
            ],
            "application/vnd.jupyter.widget-view+json": {
              "version_major": 2,
              "version_minor": 0,
              "model_id": "2b83b044142c428b85ad5e1676a506e6"
            }
          },
          "metadata": {}
        },
        {
          "output_type": "display_data",
          "data": {
            "text/plain": [
              "tokenizer_config.json: 0.00B [00:00, ?B/s]"
            ],
            "application/vnd.jupyter.widget-view+json": {
              "version_major": 2,
              "version_minor": 0,
              "model_id": "1502044711494ef187b9b33918446bd9"
            }
          },
          "metadata": {}
        },
        {
          "output_type": "display_data",
          "data": {
            "text/plain": [
              "vocab.json:   0%|          | 0.00/331 [00:00<?, ?B/s]"
            ],
            "application/vnd.jupyter.widget-view+json": {
              "version_major": 2,
              "version_minor": 0,
              "model_id": "1f1ed46cdfcf419b87873d002ad79a0c"
            }
          },
          "metadata": {}
        },
        {
          "output_type": "display_data",
          "data": {
            "text/plain": [
              "added_tokens.json:   0%|          | 0.00/30.0 [00:00<?, ?B/s]"
            ],
            "application/vnd.jupyter.widget-view+json": {
              "version_major": 2,
              "version_minor": 0,
              "model_id": "b6b3e80472864596a0cda5024076a353"
            }
          },
          "metadata": {}
        },
        {
          "output_type": "display_data",
          "data": {
            "text/plain": [
              "special_tokens_map.json:   0%|          | 0.00/96.0 [00:00<?, ?B/s]"
            ],
            "application/vnd.jupyter.widget-view+json": {
              "version_major": 2,
              "version_minor": 0,
              "model_id": "8cc8975f26fc4a9d8c113954fde51f29"
            }
          },
          "metadata": {}
        }
      ]
    },
    {
      "cell_type": "code",
      "metadata": {
        "id": "sSpFW3pDn23P",
        "colab": {
          "base_uri": "https://localhost:8080/",
          "height": 81,
          "referenced_widgets": [
            "7c7908865ca443f08077993c1cc71489",
            "08eff2e4720f49fe81dd420a535f4045",
            "d7c0317352f243f483d6ed40f108924a",
            "e85d575ebeb44d7486f3cf8e0541d287",
            "90972891e9b7400c87237bffda74177b",
            "fd781900832d4024bc795e84c96a4575",
            "2b562d5c79fd4a408c49519bf479de3c",
            "07c156930a694ee7825c73a90d46501d",
            "89e3568fb0494d858925582a1c662ec3",
            "b2117f2e4de24e918f5203618daa1d90",
            "e4a4e08124bb43128a548c6df1fee207",
            "63656809cd494f40b8a1a9a321e5e2e8",
            "417e047e721b44c7a4ad1add2f61a9c9",
            "ea610bb1617e4661bde3923076efe36b",
            "defe9ea969c84b70a9b4c72070e581ff",
            "f856ad095e3145c2840d72bca07d421c",
            "d4c77f3063ed4bc48eec5694a155cb17",
            "7c020432d27346e7960131ce95d27124",
            "b0375c1218c44382b2d0df4193b57015",
            "da32e2c93e784913ac76e08f298379e0",
            "02ab450734754fb2a5a43634ad75ed7f",
            "8a9b68f385a14bfc8ba4159ac8d38494"
          ]
        },
        "outputId": "34e7bd61-faa0-45d0-e578-412597806a80"
      },
      "source": [
        "model = Wav2Vec2ForCTC.from_pretrained(\"weege007/wav2vec2-base-timit-demo-google-colab\").cuda()"
      ],
      "execution_count": 57,
      "outputs": [
        {
          "output_type": "display_data",
          "data": {
            "text/plain": [
              "config.json: 0.00B [00:00, ?B/s]"
            ],
            "application/vnd.jupyter.widget-view+json": {
              "version_major": 2,
              "version_minor": 0,
              "model_id": "7c7908865ca443f08077993c1cc71489"
            }
          },
          "metadata": {}
        },
        {
          "output_type": "display_data",
          "data": {
            "text/plain": [
              "model.safetensors:   0%|          | 0.00/378M [00:00<?, ?B/s]"
            ],
            "application/vnd.jupyter.widget-view+json": {
              "version_major": 2,
              "version_minor": 0,
              "model_id": "63656809cd494f40b8a1a9a321e5e2e8"
            }
          },
          "metadata": {}
        }
      ]
    },
    {
      "cell_type": "markdown",
      "metadata": {
        "id": "TUuZpB0v5jn_"
      },
      "source": [
        "现在，我们将利用 `map(...)` 函数来预测每个测试样本的转录，并将预测结果保存在数据集本身中。我们将结果字典命名为 `\"results\"`。\n",
        "\n",
        "**注意**：由于存在[此问题](https://github.com/pytorch/fairseq/issues/3227)，我们特意使用 `batch_size=1` 来评估测试数据集。由于填充的输入不会产生与未填充输入完全相同的输出，因此完全不填充输入可以获得更好的 WER。"
      ]
    },
    {
      "cell_type": "code",
      "metadata": {
        "id": "40naJl53n7jT"
      },
      "source": [
        "def map_to_result(batch):\n",
        "  with torch.no_grad():\n",
        "    input_values = torch.tensor(batch[\"input_values\"], device=\"cuda\").unsqueeze(0)\n",
        "    logits = model(input_values).logits\n",
        "\n",
        "  pred_ids = torch.argmax(logits, dim=-1)\n",
        "  batch[\"pred_str\"] = processor.batch_decode(pred_ids)[0]\n",
        "  batch[\"text\"] = processor.decode(batch[\"labels\"], group_tokens=False)\n",
        "\n",
        "  return batch"
      ],
      "execution_count": 58,
      "outputs": []
    },
    {
      "cell_type": "code",
      "metadata": {
        "id": "uPqH7gZqrGPi",
        "colab": {
          "base_uri": "https://localhost:8080/",
          "height": 49,
          "referenced_widgets": [
            "47848401043c4ae3913489e1536dd5ca",
            "4fa171fea1de4607be9b481b51af4364",
            "56c8b237678f460a80f27438d0871cab",
            "b6ff5d973aef46c8a507327678133d9a",
            "0f35adc757ca4c39842f27cad8986713",
            "eba7aa937ab34df7b1d4f3d7e7791bb3",
            "b6ffa5cf1cc5453384ab5bdf4265bbe2",
            "b953a04f1cd74c4eac6af902a6fbfb61",
            "c6d607939afe452e8e6f87417e547cd7",
            "a58198ceeda44d29bcea570b3d31eaf5",
            "315808258e634d7bbf8d57877c5cbd3b"
          ]
        },
        "outputId": "89524ab6-9c44-4b0e-cbf9-efa14f976a9a"
      },
      "source": [
        "results = timit[\"test\"].map(map_to_result, remove_columns=timit[\"test\"].column_names)"
      ],
      "execution_count": 59,
      "outputs": [
        {
          "output_type": "display_data",
          "data": {
            "text/plain": [
              "0ex [00:00, ?ex/s]"
            ],
            "application/vnd.jupyter.widget-view+json": {
              "version_major": 2,
              "version_minor": 0,
              "model_id": "47848401043c4ae3913489e1536dd5ca"
            }
          },
          "metadata": {}
        }
      ]
    },
    {
      "cell_type": "code",
      "source": [
        "results"
      ],
      "metadata": {
        "colab": {
          "base_uri": "https://localhost:8080/"
        },
        "id": "GwN-cb0Fcx_J",
        "outputId": "e0418fa2-8c80-4e08-b3cb-11950d37181b"
      },
      "execution_count": 60,
      "outputs": [
        {
          "output_type": "execute_result",
          "data": {
            "text/plain": [
              "Dataset({\n",
              "    features: ['pred_str', 'text'],\n",
              "    num_rows: 1680\n",
              "})"
            ]
          },
          "metadata": {},
          "execution_count": 60
        }
      ]
    },
    {
      "cell_type": "markdown",
      "metadata": {
        "id": "-mqpdB8R6rty"
      },
      "source": [
        "现在让我们计算一下整体的 WER。"
      ]
    },
    {
      "cell_type": "code",
      "metadata": {
        "id": "PmqAb4Isx8OK",
        "colab": {
          "base_uri": "https://localhost:8080/"
        },
        "outputId": "0ee0b654-1456-4df9-e2e9-7fa929148abb"
      },
      "source": [
        "print(\"Test WER: {:.3f}\".format(wer_metric.compute(predictions=results[\"pred_str\"], references=results[\"text\"])))"
      ],
      "execution_count": 61,
      "outputs": [
        {
          "output_type": "stream",
          "name": "stdout",
          "text": [
            "Test WER: 0.375\n"
          ]
        }
      ]
    },
    {
      "cell_type": "markdown",
      "metadata": {
        "id": "6Va94d8Y7Q98"
      },
      "source": [
        "官方[排行榜](https://paperswithcode.com/sota/speech-recognition-on-timit)。\n",
        "\n",
        "让我们来看看一些预测，看看模型都犯了哪些错误。"
      ]
    },
    {
      "cell_type": "code",
      "metadata": {
        "id": "odNDiFVRy53w",
        "colab": {
          "base_uri": "https://localhost:8080/",
          "height": 362
        },
        "outputId": "2a98f5cf-83f2-4e40-d0d5-3d15f7ee25d9"
      },
      "source": [
        "show_random_elements(results)"
      ],
      "execution_count": 67,
      "outputs": [
        {
          "output_type": "display_data",
          "data": {
            "text/plain": [
              "<IPython.core.display.HTML object>"
            ],
            "text/html": [
              "<table border=\"1\" class=\"dataframe\">\n",
              "  <thead>\n",
              "    <tr style=\"text-align: right;\">\n",
              "      <th></th>\n",
              "      <th>pred_str</th>\n",
              "      <th>text</th>\n",
              "    </tr>\n",
              "  </thead>\n",
              "  <tbody>\n",
              "    <tr>\n",
              "      <th>0</th>\n",
              "      <td>fvbqmpahspz pmvpxaggwpabpvyrwpgaeprys pmkamp</td>\n",
              "      <td>fvbqmpahspz pmvpxaggwpabpvyrwpgaeprys pmkamp</td>\n",
              "    </tr>\n",
              "    <tr>\n",
              "      <th>1</th>\n",
              "      <td>zas pr mpjvgphkdevgtvrpmk phaz pahpcagr ahpvpz mybepf hyb fpfyhp</td>\n",
              "      <td>zas pryfpjvgphdeagptvurpmk phaz pahpcagpryfhpvzymmybepf hyebpfyhsp</td>\n",
              "    </tr>\n",
              "    <tr>\n",
              "      <th>2</th>\n",
              "      <td>nr ah pfyepzwpnamamvhpdnpt jvg pjgvhmp</td>\n",
              "      <td>nr ah pfyepzwpnvmamv hpdnpt jvg pjgvhmp</td>\n",
              "    </tr>\n",
              "    <tr>\n",
              "      <th>3</th>\n",
              "      <td>fvbqmpahspz pmvpxaggwpabpvyrwpgaeprys pmkamp</td>\n",
              "      <td>fvbqmpahspz pmvpxaggwpabpvyrwpgaeprys pmkamp</td>\n",
              "    </tr>\n",
              "    <tr>\n",
              "      <th>4</th>\n",
              "      <td>mk phzarrptvwpndmpmk puvgzpvbpmk pkvvsp</td>\n",
              "      <td>mk phzarrptvwpndmpmk puvgzpvbpmk pkvvsp</td>\n",
              "    </tr>\n",
              "    <tr>\n",
              "      <th>5</th>\n",
              "      <td>mvpjdvgmk gpkyhpnt ghm e pk pvxxahyvbarrwpg af hpmk puarrhmgwpcvdgbarp</td>\n",
              "      <td>mvpjdgmk gpkyhpng hmye pk pvxxahyvbarrwpg afhpmk puarrphmg  mpcvdgbarp</td>\n",
              "    </tr>\n",
              "    <tr>\n",
              "      <th>6</th>\n",
              "      <td>hk pkafpwvdgpfagsphdympybpeg ahwpuahkpuam gparrpw agp</td>\n",
              "      <td>hk pkafpwvdgpfagsphdympybpeg ahwpuahkpuam gparrpw agp</td>\n",
              "    </tr>\n",
              "    <tr>\n",
              "      <th>7</th>\n",
              "      <td>fgvnpjyo pjvgzhpybpmk ptvlpt jvg pwvdpevpvdmp</td>\n",
              "      <td>fgvnpjyo pjvgzhpybpmk ptvlpt jvg pwvdpevpvdmp</td>\n",
              "    </tr>\n",
              "    <tr>\n",
              "      <th>8</th>\n",
              "      <td>n mdg yahpag pxvboy byabmpjvgpap'dyxsprdbxkp</td>\n",
              "      <td>nyii gyahpag pxvbo by bmpjvgpap'dyxsprdbxkp</td>\n",
              "    </tr>\n",
              "    <tr>\n",
              "      <th>9</th>\n",
              "      <td>ukwpe rrpvgpuvggwpvo gphxyrypymdzhp</td>\n",
              "      <td>ukwpw rrpvgpuvggwpvo gphyrrwpym zhp</td>\n",
              "    </tr>\n",
              "  </tbody>\n",
              "</table>"
            ]
          },
          "metadata": {}
        }
      ]
    },
    {
      "cell_type": "markdown",
      "metadata": {
        "id": "5HFCujhd9n4N"
      },
      "source": [
        "很明显，预测的转录文本在声学上与目标转录文本非常相似，但经常包含拼写或语法错误。然而，考虑到我们纯粹依赖 Wav2Vec2 而没有使用语言模型，这不应该令人感到非常惊讶。"
      ]
    },
    {
      "cell_type": "markdown",
      "metadata": {
        "id": "a3ydKvUl9FTK"
      },
      "source": [
        "好的，最后，为了更好地理解 CTC 的工作原理，值得深入研究模型的精确输出。让我们将第一个测试样本通过模型运行，获取预测的 ID，并将其转换为相应的标记。"
      ]
    },
    {
      "cell_type": "code",
      "metadata": {
        "id": "AqaM45t87uM4",
        "colab": {
          "base_uri": "https://localhost:8080/",
          "height": 73
        },
        "outputId": "2d181121-2184-48dc-a337-bb33194fd68b"
      },
      "source": [
        "model.to(\"cuda\")\n",
        "\n",
        "with torch.no_grad():\n",
        "  logits = model(torch.tensor(timit[\"test\"][:1][\"input_values\"], device=\"cuda\")).logits\n",
        "\n",
        "pred_ids = torch.argmax(logits, dim=-1)\n",
        "\n",
        "# convert ids to tokens\n",
        "\" \".join(processor.tokenizer.convert_ids_to_tokens(pred_ids[0].tolist()))"
      ],
      "execution_count": null,
      "outputs": [
        {
          "output_type": "execute_result",
          "data": {
            "text/plain": [
              "'[PAD] [PAD] [PAD] [PAD] [PAD] t t h h e | | | b [PAD] [PAD] [PAD] u u n n g g [PAD] [PAD] l l l l [PAD] o o o | | w w a a s s | | [PAD] [PAD] [PAD] p l l [PAD] e s s s s [PAD] n n t t [PAD] l l l y y | | [PAD] s s s i i t t t [PAD] u u u u u [PAD] [PAD] [PAD] [PAD] a a t t [PAD] e e d d | | [PAD] n n e e a a r | | t t h e e | | s s h h [PAD] [PAD] [PAD] [PAD] o o r r r r | [PAD] [PAD] [PAD] [PAD] [PAD] [PAD] [PAD] [PAD] [PAD]'"
            ],
            "application/vnd.google.colaboratory.intrinsic+json": {
              "type": "string"
            }
          },
          "metadata": {},
          "execution_count": 98
        }
      ]
    },
    {
      "cell_type": "markdown",
      "metadata": {
        "id": "tdO8E28g-n5C"
      },
      "source": [
        "输出结果应该能更清楚地说明 CTC 在实践中是如何工作的。模型在某种程度上对语速是不变的，因为它已经学会了在需要分类的语音片段仍对应相同标记的情况下，要么简单地重复相同的标记。这使得 CTC 成为语音识别中一个非常强大的算法，因为语音文件的转录通常与它的长度非常无关。\n",
        "\n",
        "我再次建议读者查看[这篇](https://distill.pub/2017/ctc)非常棒的博客文章，以便更好地理解 CTC。"
      ]
    }
  ]
}