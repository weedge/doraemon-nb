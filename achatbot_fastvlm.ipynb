{
  "cells": [
    {
      "cell_type": "markdown",
      "metadata": {
        "id": "view-in-github",
        "colab_type": "text"
      },
      "source": [
        "<a href=\"https://colab.research.google.com/github/weedge/doraemon-nb/blob/main/achatbot_fastvlm.ipynb\" target=\"_parent\"><img src=\"https://colab.research.google.com/assets/colab-badge.svg\" alt=\"Open In Colab\"/></a>"
      ]
    },
    {
      "cell_type": "markdown",
      "metadata": {
        "id": "-DSxG0KC86f9"
      },
      "source": [
        "# install"
      ]
    },
    {
      "cell_type": "code",
      "execution_count": null,
      "metadata": {
        "id": "CepHVoTB7OCO"
      },
      "outputs": [],
      "source": [
        "!cd /content && rm -rf achatbot && git clone --recursive https://github.com/ai-bot-pro/achatbot.git -b feat/vision_img"
      ]
    },
    {
      "cell_type": "code",
      "execution_count": null,
      "metadata": {
        "id": "P1i4Vmbr712c"
      },
      "outputs": [],
      "source": [
        "%cd /content/achatbot"
      ]
    },
    {
      "cell_type": "code",
      "execution_count": null,
      "metadata": {
        "id": "K5zg_Mi278Aj"
      },
      "outputs": [],
      "source": [
        "!bash scripts/pypi_achatbot.sh dev\n"
      ]
    },
    {
      "cell_type": "code",
      "execution_count": null,
      "metadata": {
        "id": "1R-SA5Ci78xD"
      },
      "outputs": [],
      "source": [
        "!pip install -q \"dist/achatbot-0.0.12-py3-none-any.whl[llm_transformers_manual_vision_fastvlm,daily_room_audio_stream,livekit,livekit-api,sense_voice_asr,deepgram_asr_processor,tts_edge,openai,queue]\""
      ]
    },
    {
      "cell_type": "code",
      "source": [
        "!pip install -q flash-attn --no-build-isolation\n"
      ],
      "metadata": {
        "id": "2OPO7HNhtR1w"
      },
      "execution_count": null,
      "outputs": []
    },
    {
      "cell_type": "code",
      "execution_count": null,
      "metadata": {
        "id": "f9GjsMVl1Y5V"
      },
      "outputs": [],
      "source": [
        "!pip list | grep -E \"transformers|accelerate|torch|tiktoken|blobfile|torchvision|numpy|flash_attn\"\n"
      ]
    },
    {
      "cell_type": "markdown",
      "metadata": {
        "id": "CK8tWbDguJck"
      },
      "source": [
        "# download"
      ]
    },
    {
      "cell_type": "code",
      "source": [
        "!huggingface-cli download FunAudioLLM/SenseVoiceSmall --quiet --local-dir /content/models/FunAudioLLM/SenseVoiceSmall"
      ],
      "metadata": {
        "id": "BFQG0YHo4meR"
      },
      "execution_count": null,
      "outputs": []
    },
    {
      "cell_type": "code",
      "execution_count": null,
      "metadata": {
        "id": "kxjfrizyuLjX"
      },
      "outputs": [],
      "source": [
        "%%bash\n",
        "mkdir -p checkpoints\n",
        "wget https://ml-site.cdn-apple.com/datasets/fastvlm/llava-fastvithd_0.5b_stage3.zip -P checkpoints\n",
        "wget https://ml-site.cdn-apple.com/datasets/fastvlm/llava-fastvithd_1.5b_stage3.zip -P checkpoints\n",
        "wget https://ml-site.cdn-apple.com/datasets/fastvlm/llava-fastvithd_7b_stage3.zip -P checkpoints\n",
        "\n",
        "# Extract models\n",
        "cd checkpoints\n",
        "unzip -qq llava-fastvithd_0.5b_stage3.zip\n",
        "unzip -qq llava-fastvithd_1.5b_stage3.zip\n",
        "unzip -qq llava-fastvithd_7b_stage3.zip\n",
        "\n",
        "# Clean up\n",
        "rm llava-fastvithd_0.5b_stage3.zip\n",
        "rm llava-fastvithd_1.5b_stage3.zip\n",
        "rm llava-fastvithd_7b_stage3.zip"
      ]
    },
    {
      "cell_type": "markdown",
      "metadata": {
        "id": "Uy6qViW9cKl7"
      },
      "source": [
        "# run vision bot with webrtc"
      ]
    },
    {
      "cell_type": "code",
      "execution_count": null,
      "metadata": {
        "id": "Fg2ApmcbZ3Vc"
      },
      "outputs": [],
      "source": [
        "from google.colab import userdata\n",
        "DAILY_API_KEY=userdata.get('DAILY_API_KEY')\n",
        "\n",
        "LIVEKIT_URL=userdata.get('LIVEKIT_URL')\n",
        "LIVEKIT_API_KEY=userdata.get('LIVEKIT_API_KEY')\n",
        "LIVEKIT_API_SECRET=userdata.get('LIVEKIT_API_SECRET')\n"
      ]
    },
    {
      "cell_type": "markdown",
      "metadata": {
        "id": "DhPOa8RBb0dS"
      },
      "source": [
        "run bot task woker with bot.json, e.g.: dummy_bot.json\n",
        "\n",
        "- use daily/livekit room stream, u can click bot joined the room url, to start chat with bot with audio and camera stream,\n",
        "  - [daily](https://www.daily.co/) need DAILY_API_KEY\n",
        "  - [livekit](https://livekit.io/) need project url LIVEKIT_URL, LIVEKIT_API_KEY, LIVEKIT_API_SECRET\n",
        "\n"
      ]
    },
    {
      "cell_type": "markdown",
      "metadata": {
        "id": "Bn5fYec8iDnL"
      },
      "source": [
        "## qwen2-fastvithd_0.5b_stage3"
      ]
    },
    {
      "cell_type": "code",
      "execution_count": null,
      "metadata": {
        "id": "NKB146E-b9s_"
      },
      "outputs": [],
      "source": [
        "!DAILY_API_KEY=$DAILY_API_KEY \\\n",
        "  python -m src.cmd.bots.main -f /content/daily_describe_transformers_vision_bot.json"
      ]
    },
    {
      "cell_type": "markdown",
      "metadata": {
        "id": "D_9rDA3rfvlQ"
      },
      "source": [
        "## qwen2-fastvithd_1.5b_stage3"
      ]
    },
    {
      "cell_type": "code",
      "execution_count": null,
      "metadata": {
        "id": "9ruNHr7dfvlR"
      },
      "outputs": [],
      "source": [
        "!DAILY_API_KEY=$DAILY_API_KEY \\\n",
        "  python -m src.cmd.bots.main -f /content/daily_describe_transformers_vision_bot.json"
      ]
    },
    {
      "cell_type": "markdown",
      "metadata": {
        "id": "meEc3PYHh8vX"
      },
      "source": [
        "## qwen2-fastvithd_7b_stage3"
      ]
    },
    {
      "cell_type": "code",
      "execution_count": null,
      "metadata": {
        "id": "5cv08LDJh9-3"
      },
      "outputs": [],
      "source": [
        "!PYTORCH_CUDA_ALLOC_CONF=expandable_segments:True DAILY_API_KEY=$DAILY_API_KEY \\\n",
        "  python -m src.cmd.bots.main -f /content/daily_describe_transformers_vision_bot.json"
      ]
    },
    {
      "cell_type": "markdown",
      "metadata": {
        "id": "dmu5oJ50Czp8"
      },
      "source": [
        "# 总结"
      ]
    },
    {
      "cell_type": "markdown",
      "metadata": {
        "id": "MEMNf6YWC1qU"
      },
      "source": [
        "- fastvlm 主要是针对苹果设备上的推理优化，使用fastViTHD 混合卷积(covd)和自注意力（vit）在尽量不影响推理性能，减少深度网络的计算，降低推理延迟"
      ]
    }
  ],
  "metadata": {
    "accelerator": "GPU",
    "colab": {
      "gpuType": "L4",
      "machine_shape": "hm",
      "provenance": [],
      "authorship_tag": "ABX9TyMCsRpeL8H9KKtvU4RoiWB/",
      "include_colab_link": true
    },
    "kernelspec": {
      "display_name": "Python 3",
      "name": "python3"
    },
    "language_info": {
      "name": "python"
    }
  },
  "nbformat": 4,
  "nbformat_minor": 0
}